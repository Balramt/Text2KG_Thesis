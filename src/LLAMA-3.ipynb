{
 "cells": [
  {
   "cell_type": "code",
   "execution_count": 1,
   "id": "c574689e-67af-453d-82b3-3ed0c4a63784",
   "metadata": {},
   "outputs": [
    {
     "name": "stdout",
     "output_type": "stream",
     "text": [
      "True\n",
      "0\n"
     ]
    }
   ],
   "source": [
    "import torch\n",
    "print(torch.cuda.is_available())  # Should print True if CUDA is available\n",
    "print(torch.cuda.current_device())  # Should print the current GPU device index"
   ]
  },
  {
   "cell_type": "code",
   "execution_count": 2,
   "id": "0fc4c66d-2174-4f54-b522-429ed5c0b08e",
   "metadata": {},
   "outputs": [],
   "source": [
    "torch.cuda.empty_cache()"
   ]
  },
  {
   "cell_type": "code",
   "execution_count": 3,
   "id": "b3cf3885-6d10-4466-8955-3075aedb1864",
   "metadata": {},
   "outputs": [
    {
     "name": "stdout",
     "output_type": "stream",
     "text": [
      "Mon Sep 23 14:53:04 2024       \n",
      "+-----------------------------------------------------------------------------------------+\n",
      "| NVIDIA-SMI 560.35.03              Driver Version: 560.35.03      CUDA Version: 12.6     |\n",
      "|-----------------------------------------+------------------------+----------------------+\n",
      "| GPU  Name                 Persistence-M | Bus-Id          Disp.A | Volatile Uncorr. ECC |\n",
      "| Fan  Temp   Perf          Pwr:Usage/Cap |           Memory-Usage | GPU-Util  Compute M. |\n",
      "|                                         |                        |               MIG M. |\n",
      "|=========================================+========================+======================|\n",
      "|   0  NVIDIA GeForce GTX 1080 Ti     On  |   00000000:81:00.0 Off |                  N/A |\n",
      "| 20%   43C    P5             22W /  250W |       3MiB /  11264MiB |      0%      Default |\n",
      "|                                         |                        |                  N/A |\n",
      "+-----------------------------------------+------------------------+----------------------+\n",
      "                                                                                         \n",
      "+-----------------------------------------------------------------------------------------+\n",
      "| Processes:                                                                              |\n",
      "|  GPU   GI   CI        PID   Type   Process name                              GPU Memory |\n",
      "|        ID   ID                                                               Usage      |\n",
      "|=========================================================================================|\n",
      "|  No running processes found                                                             |\n",
      "+-----------------------------------------------------------------------------------------+\n"
     ]
    }
   ],
   "source": [
    "!nvidia-smi"
   ]
  },
  {
   "cell_type": "code",
   "execution_count": null,
   "id": "44b68d3b-ce49-4074-a313-cb7c462b12ae",
   "metadata": {},
   "outputs": [],
   "source": [
    "!kill -9 1851510"
   ]
  },
  {
   "cell_type": "markdown",
   "id": "f8e2b46a-60ef-4f2f-9d9b-ff942a6d64de",
   "metadata": {},
   "source": [
    "# FOR QUANTATIZED MODEL"
   ]
  },
  {
   "cell_type": "code",
   "execution_count": null,
   "id": "5c626893-a4b8-4673-bd87-084a63a257d4",
   "metadata": {},
   "outputs": [],
   "source": [
    "#!pip install transformers bitsandbytes accelerate"
   ]
  },
  {
   "cell_type": "code",
   "execution_count": 4,
   "id": "1d296279-79cf-456e-80eb-4d285c8198b8",
   "metadata": {},
   "outputs": [],
   "source": [
    "import torch"
   ]
  },
  {
   "cell_type": "code",
   "execution_count": 5,
   "id": "dc453bc3-8807-4adf-bb81-37c02fd9c598",
   "metadata": {},
   "outputs": [],
   "source": [
    "from transformers import AutoModelForCausalLM, AutoTokenizer\n"
   ]
  },
  {
   "cell_type": "code",
   "execution_count": 6,
   "id": "ac32aa6e-8837-4467-a6e0-37d121ba7350",
   "metadata": {},
   "outputs": [
    {
     "name": "stderr",
     "output_type": "stream",
     "text": [
      "2024-09-23 14:53:09.869262: E external/local_xla/xla/stream_executor/cuda/cuda_fft.cc:485] Unable to register cuFFT factory: Attempting to register factory for plugin cuFFT when one has already been registered\n",
      "2024-09-23 14:53:09.888580: E external/local_xla/xla/stream_executor/cuda/cuda_dnn.cc:8454] Unable to register cuDNN factory: Attempting to register factory for plugin cuDNN when one has already been registered\n",
      "2024-09-23 14:53:09.894483: E external/local_xla/xla/stream_executor/cuda/cuda_blas.cc:1452] Unable to register cuBLAS factory: Attempting to register factory for plugin cuBLAS when one has already been registered\n",
      "2024-09-23 14:53:09.911115: I tensorflow/core/platform/cpu_feature_guard.cc:210] This TensorFlow binary is optimized to use available CPU instructions in performance-critical operations.\n",
      "To enable the following instructions: AVX2 FMA, in other operations, rebuild TensorFlow with the appropriate compiler flags.\n",
      "2024-09-23 14:53:10.938744: W tensorflow/compiler/tf2tensorrt/utils/py_utils.cc:38] TF-TRT Warning: Could not find TensorRT\n"
     ]
    }
   ],
   "source": [
    "from transformers import pipeline"
   ]
  },
  {
   "cell_type": "code",
   "execution_count": 7,
   "id": "783f489c-78a7-460a-8048-2527295aed17",
   "metadata": {},
   "outputs": [],
   "source": [
    "import bitsandbytes as bnb"
   ]
  },
  {
   "cell_type": "code",
   "execution_count": 8,
   "id": "b2c3e151-a51f-4550-a5f2-3a28b7171923",
   "metadata": {},
   "outputs": [],
   "source": [
    "model_id = \"meta-llama/Meta-Llama-3-8B\""
   ]
  },
  {
   "cell_type": "code",
   "execution_count": 9,
   "id": "518fb1e2-e165-4302-b702-98b53a8a74a1",
   "metadata": {},
   "outputs": [],
   "source": [
    "# Load the tokenizer\n",
    "tokenizer = AutoTokenizer.from_pretrained(model_id)"
   ]
  },
  {
   "cell_type": "code",
   "execution_count": 10,
   "id": "78e83694-82dd-4526-a17e-bc4b3343673e",
   "metadata": {},
   "outputs": [
    {
     "name": "stderr",
     "output_type": "stream",
     "text": [
      "The `load_in_4bit` and `load_in_8bit` arguments are deprecated and will be removed in the future versions. Please, pass a `BitsAndBytesConfig` object in `quantization_config` argument instead.\n"
     ]
    },
    {
     "data": {
      "application/vnd.jupyter.widget-view+json": {
       "model_id": "a7c63d32e1ed4c68a45beb2a04cbea2c",
       "version_major": 2,
       "version_minor": 0
      },
      "text/plain": [
       "Loading checkpoint shards:   0%|          | 0/4 [00:00<?, ?it/s]"
      ]
     },
     "metadata": {},
     "output_type": "display_data"
    }
   ],
   "source": [
    "# Load the model with 4-bit quantization\n",
    "model = AutoModelForCausalLM.from_pretrained(\n",
    "    model_id,\n",
    "    load_in_4bit=True,  # Enable 4-bit quantization\n",
    "    device_map=\"auto\",  # Automatically place model layers on GPU\n",
    "    torch_dtype=torch.float16\n",
    "    #quantization_config=bnb.BnbQuantizationConfig(load_in_4bit=True)\n",
    ")"
   ]
  },
  {
   "cell_type": "code",
   "execution_count": 11,
   "id": "425a5e20-8589-406e-9ad1-b7cb57a9da43",
   "metadata": {},
   "outputs": [],
   "source": [
    "# Initialize the text-generation pipeline\n",
    "text_generator = pipeline(\n",
    "    \"text-generation\", \n",
    "    model=model, \n",
    "    tokenizer=tokenizer\n",
    "    #device=0  # Use GPU 0\n",
    ")"
   ]
  },
  {
   "cell_type": "code",
   "execution_count": 12,
   "id": "824978fe-fadb-47f7-b38f-405838fd955e",
   "metadata": {},
   "outputs": [
    {
     "name": "stdout",
     "output_type": "stream",
     "text": [
      "Model is on: cuda:0\n"
     ]
    }
   ],
   "source": [
    "# Check if the model is on GPU or CPU\n",
    "for param in model.parameters():\n",
    "    print(f\"Model is on: {param.device}\")\n",
    "    break  # Check one parameter"
   ]
  },
  {
   "cell_type": "code",
   "execution_count": null,
   "id": "34123428-f2e7-4ec0-88b7-ed1cd384dc37",
   "metadata": {},
   "outputs": [],
   "source": []
  },
  {
   "cell_type": "code",
   "execution_count": 13,
   "id": "cf7b5c8d-2a11-400a-b0aa-3512541e1de9",
   "metadata": {},
   "outputs": [],
   "source": [
    "import json"
   ]
  },
  {
   "cell_type": "code",
   "execution_count": 14,
   "id": "227c407f-7514-48a1-b84d-232421073bde",
   "metadata": {},
   "outputs": [],
   "source": [
    "import jsonlines\n"
   ]
  },
  {
   "cell_type": "code",
   "execution_count": 15,
   "id": "cae869ff-baac-43f7-96c8-df5a511a3a12",
   "metadata": {},
   "outputs": [],
   "source": [
    "import re"
   ]
  },
  {
   "cell_type": "code",
   "execution_count": 16,
   "id": "358a836a-3f93-4311-af33-965fad62c303",
   "metadata": {},
   "outputs": [],
   "source": [
    "def load_prompts_data(filepath):\n",
    "    with jsonlines.open(filepath) as reader:\n",
    "        return list(reader)"
   ]
  },
  {
   "cell_type": "code",
   "execution_count": 17,
   "id": "b9a25431-c008-43c5-b426-64acef98d19d",
   "metadata": {},
   "outputs": [],
   "source": [
    "def extract_prompt_info(item):\n",
    "    prompt_id = item.get('id')\n",
    "    prompt_text = item.get('prompt')\n",
    "   #print(\"prompt_text\",prompt_text)\n",
    "    return prompt_id, prompt_text"
   ]
  },
  {
   "cell_type": "code",
   "execution_count": 18,
   "id": "a70f15d0-6e8f-472a-aeca-9b1b39d5b2ec",
   "metadata": {},
   "outputs": [],
   "source": [
    "# Assuming 'text_generator' is already defined somewhere in your environment\n",
    "def generate_text(prompt_text, max_length=950, num_return_sequences=1):\n",
    "    response = text_generator(prompt_text, max_length=max_length, num_return_sequences=num_return_sequences)\n",
    "    return response"
   ]
  },
  {
   "cell_type": "code",
   "execution_count": 19,
   "id": "4edbefb9-a8b9-4b67-8dd7-3f0a913bf3f8",
   "metadata": {},
   "outputs": [],
   "source": [
    "def extract_test_output(response):\n",
    "    #print(\"response\",response)\n",
    "    if response and len(response) > 0:\n",
    "        generated_text = response[0].get('generated_text', '')\n",
    "        match = re.search(r'Test Output:\\s*(.*?)\\s*(?:\\n|$)', generated_text, re.DOTALL)\n",
    "        if match:\n",
    "            return match.group(1).strip()\n",
    "    return 'Output not found'"
   ]
  },
  {
   "cell_type": "code",
   "execution_count": null,
   "id": "35befec8-b3e5-4e9b-8b83-886c5c714409",
   "metadata": {},
   "outputs": [],
   "source": []
  },
  {
   "cell_type": "code",
   "execution_count": 20,
   "id": "18baec05-7db9-4644-a808-f8fd461de7c3",
   "metadata": {},
   "outputs": [],
   "source": [
    "def parse_model_output(model_output):\n",
    "    # Initialize an empty list to store triples\n",
    "    triples = []\n",
    "    \n",
    "    # Remove leading/trailing whitespace and split the input data into lines\n",
    "    lines = [line.strip() for line in model_output.strip().split('\\n')]\n",
    "    \n",
    "    # Define the regex pattern to match triples in the format: relation(subject, object)\n",
    "    pattern = re.compile(r'(.+?)\\s*\\(([^,]+),\\s*([^)]+)\\)')\n",
    "    \n",
    "    for line in lines:\n",
    "        # Find all matches for the pattern in the line\n",
    "        matches = pattern.findall(line)\n",
    "        \n",
    "        for match in matches:\n",
    "            relation, subject, obj = match\n",
    "            # Clean up subject and object values\n",
    "            subject = subject.strip()\n",
    "            obj = obj.strip()\n",
    "            \n",
    "            # Append the extracted triple to the list\n",
    "            triples.append({\"sub\": subject, \"rel\": relation, \"obj\": obj})\n",
    "    \n",
    "    # Return the list of triples\n",
    "    return triples"
   ]
  },
  {
   "cell_type": "code",
   "execution_count": 21,
   "id": "ee29d69c-06d0-436d-a1bc-ddf10f853353",
   "metadata": {},
   "outputs": [],
   "source": [
    "#JSONL_FILEPATH = 'ont_1_movie_prompts.jsonl'\n",
    "#output_filepath='LLM_Response.jsonl'\n",
    "\n",
    "JSONL_FILEPATH = 'Wikidata/Input_Prompts/ont_4_book_prompts.jsonl'\n",
    "output_filepath='Wikidata/Response/ont_4_book_llm_response.jsonl'\n",
    "\n",
    "#'Wikidata/Evaluation_Statistics/ont_6_computer_llm_stats.jsonl'"
   ]
  },
  {
   "cell_type": "code",
   "execution_count": 22,
   "id": "1178bced-3921-4dfc-baaf-04419f00e188",
   "metadata": {},
   "outputs": [],
   "source": [
    "import json\n",
    "\n",
    "def save_triples_to_jsonl(processed_data, output_filepath):\n",
    "    \"\"\"\n",
    "    Save the processed triples into a JSONL file format.\n",
    "\n",
    "    Args:\n",
    "        processed_data (list): A list of dictionaries containing the 'id' and 'triples'.\n",
    "        output_filepath (str): The output file path where the JSONL data should be saved.\n",
    "    \"\"\"\n",
    "    with open(output_filepath, 'w', encoding='utf-8') as outfile:\n",
    "        for entry in processed_data:\n",
    "            jsonl_entry = {\n",
    "                \"id\": entry[\"id\"],\n",
    "                \"triples\": entry[\"triples\"]\n",
    "            }\n",
    "            # Convert dictionary to a JSON string and write it to the file\n",
    "            outfile.write(json.dumps(jsonl_entry, ensure_ascii=False) + \"\\n\")"
   ]
  },
  {
   "cell_type": "code",
   "execution_count": 23,
   "id": "33ec600e-0195-41c0-abe1-358b4d71a021",
   "metadata": {},
   "outputs": [],
   "source": [
    "def main(filepath, output_filepath, num_prompts=4):\n",
    "    prompts_data = load_prompts_data(filepath)\n",
    "    processed_data = []\n",
    "    for i in range(min(num_prompts, len(prompts_data))):\n",
    "        item = prompts_data[i]\n",
    "        prompt_id, prompt_text = extract_prompt_info(item)\n",
    "        response = generate_text(prompt_text)\n",
    "        test_output = extract_test_output(response)\n",
    "        \n",
    "        # Debugging: Print the test output to ensure it's correctly extracted\n",
    "        print(f\"Test Output for ID {prompt_id}: {test_output}\")\n",
    "        \n",
    "        # Parse the test output into triples\n",
    "        triples = parse_model_output(test_output)\n",
    "        \n",
    "        # Debugging: Print the parsed triples to ensure they're correct\n",
    "        print(f\"Parsed Triples for ID {prompt_id}: {triples}\")\n",
    "        \n",
    "        processed_entry = {\n",
    "            \"id\": prompt_id,\n",
    "            \"triples\": triples\n",
    "        }\n",
    "        \n",
    "        processed_data.append(processed_entry)\n",
    "    \n",
    "    # Save the processed data into a new jsonl file\n",
    "    save_triples_to_jsonl(processed_data, output_filepath)\n",
    "    print(f\"Processed triples saved to {output_filepath}\")"
   ]
  },
  {
   "cell_type": "code",
   "execution_count": null,
   "id": "36530dea-531f-4f62-bd18-39d8e57b11c1",
   "metadata": {},
   "outputs": [
    {
     "name": "stderr",
     "output_type": "stream",
     "text": [
      "Truncation was not explicitly activated but `max_length` is provided a specific value, please use `truncation=True` to explicitly truncate examples to max length. Defaulting to 'longest_first' truncation strategy. If you encode pairs of sequences (GLUE-style) with the tokenizer you can select this strategy more precisely by providing a specific strategy to `truncation`.\n",
      "Setting `pad_token_id` to `eos_token_id`:128001 for open-end generation.\n",
      "/upb/users/b/balram/profiles/unix/cs/.local/lib/python3.12/site-packages/bitsandbytes/nn/modules.py:435: UserWarning: Input type into Linear4bit is torch.float16, but bnb_4bit_compute_dtype=torch.float32 (default). This will lead to slow inference or training speed.\n",
      "  warnings.warn(\n",
      "Setting `pad_token_id` to `eos_token_id`:128001 for open-end generation.\n"
     ]
    },
    {
     "name": "stdout",
     "output_type": "stream",
     "text": [
      "Test Output for ID ont_4_book_test_1: illustrator(Peter and the Piskies: Cornish Folk and Fairy Tales,Raymond Briggs)\n",
      "Parsed Triples for ID ont_4_book_test_1: [{'sub': 'Peter and the Piskies: Cornish Folk and Fairy Tales', 'rel': 'illustrator', 'obj': 'Raymond Briggs'}]\n"
     ]
    },
    {
     "name": "stderr",
     "output_type": "stream",
     "text": [
      "Setting `pad_token_id` to `eos_token_id`:128001 for open-end generation.\n"
     ]
    },
    {
     "name": "stdout",
     "output_type": "stream",
     "text": [
      "Test Output for ID ont_4_book_test_2: 1. illustrator(Queen Zixi of Ix, or The Story of the Magic Cloak,Frederick Richardson)\n",
      "Parsed Triples for ID ont_4_book_test_2: [{'sub': 'Queen Zixi of Ix', 'rel': '1. illustrator', 'obj': 'or The Story of the Magic Cloak,Frederick Richardson'}]\n"
     ]
    },
    {
     "name": "stderr",
     "output_type": "stream",
     "text": [
      "Setting `pad_token_id` to `eos_token_id`:128001 for open-end generation.\n"
     ]
    },
    {
     "name": "stdout",
     "output_type": "stream",
     "text": [
      "Test Output for ID ont_4_book_test_3: illustrator(Peter and the Secret of Rundoon,Greg Call)\n",
      "Parsed Triples for ID ont_4_book_test_3: [{'sub': 'Peter and the Secret of Rundoon', 'rel': 'illustrator', 'obj': 'Greg Call'}]\n"
     ]
    },
    {
     "name": "stderr",
     "output_type": "stream",
     "text": [
      "Setting `pad_token_id` to `eos_token_id`:128001 for open-end generation.\n"
     ]
    },
    {
     "name": "stdout",
     "output_type": "stream",
     "text": [
      "Test Output for ID ont_4_book_test_4: illustrator(The Number Devil,Hans Magnus Enzensberger),illustrator(The Number Devil,Rotraut Susanne Berner)\n",
      "Parsed Triples for ID ont_4_book_test_4: [{'sub': 'The Number Devil', 'rel': 'illustrator', 'obj': 'Hans Magnus Enzensberger'}, {'sub': 'The Number Devil', 'rel': ',illustrator', 'obj': 'Rotraut Susanne Berner'}]\n"
     ]
    },
    {
     "name": "stderr",
     "output_type": "stream",
     "text": [
      "Setting `pad_token_id` to `eos_token_id`:128001 for open-end generation.\n"
     ]
    },
    {
     "name": "stdout",
     "output_type": "stream",
     "text": [
      "Test Output for ID ont_4_book_test_5: author(series,Trudy Cooper)\n",
      "Parsed Triples for ID ont_4_book_test_5: [{'sub': 'series', 'rel': 'author', 'obj': 'Trudy Cooper'}]\n"
     ]
    },
    {
     "name": "stderr",
     "output_type": "stream",
     "text": [
      "Setting `pad_token_id` to `eos_token_id`:128001 for open-end generation.\n"
     ]
    },
    {
     "name": "stdout",
     "output_type": "stream",
     "text": [
      "Test Output for ID ont_4_book_test_6: illustrator(Always Room for One More,Nonny Hogrogian)\n",
      "Parsed Triples for ID ont_4_book_test_6: [{'sub': 'Always Room for One More', 'rel': 'illustrator', 'obj': 'Nonny Hogrogian'}]\n"
     ]
    },
    {
     "name": "stderr",
     "output_type": "stream",
     "text": [
      "Setting `pad_token_id` to `eos_token_id`:128001 for open-end generation.\n"
     ]
    },
    {
     "name": "stdout",
     "output_type": "stream",
     "text": [
      "Test Output for ID ont_4_book_test_7: illustrator(The Narrative Corpse,Howard Pyle), followed_by(The Narrative Corpse,The Narrative Corpse graphic novel), publication_date(The Narrative Corpse,01 January 1995), author(The Narrative Corpse,Howard Pyle), publisher(The Narrative Corpse,Gates of Heck), publisher(The Narrative Corpse,Raw Books), characters(The Narrative Corpse,Howard Pyle), editor(The Narrative Corpse,Howard Pyle), place_of_publication(The Narrative Corpse,United States), narrative_location(The Narrative Corpse,United States), genre(The Narrative Corpse,graphic novel), language_of_work_or_name(The Narrative Corpse,English), depicts(The Narrative Corpse,Howard Pyle)\n",
      "Parsed Triples for ID ont_4_book_test_7: [{'sub': 'The Narrative Corpse', 'rel': 'illustrator', 'obj': 'Howard Pyle'}, {'sub': 'The Narrative Corpse', 'rel': ', followed_by', 'obj': 'The Narrative Corpse graphic novel'}, {'sub': 'The Narrative Corpse', 'rel': ', publication_date', 'obj': '01 January 1995'}, {'sub': 'The Narrative Corpse', 'rel': ', author', 'obj': 'Howard Pyle'}, {'sub': 'The Narrative Corpse', 'rel': ', publisher', 'obj': 'Gates of Heck'}, {'sub': 'The Narrative Corpse', 'rel': ', publisher', 'obj': 'Raw Books'}, {'sub': 'The Narrative Corpse', 'rel': ', characters', 'obj': 'Howard Pyle'}, {'sub': 'The Narrative Corpse', 'rel': ', editor', 'obj': 'Howard Pyle'}, {'sub': 'The Narrative Corpse', 'rel': ', place_of_publication', 'obj': 'United States'}, {'sub': 'The Narrative Corpse', 'rel': ', narrative_location', 'obj': 'United States'}, {'sub': 'The Narrative Corpse', 'rel': ', genre', 'obj': 'graphic novel'}, {'sub': 'The Narrative Corpse', 'rel': ', language_of_work_or_name', 'obj': 'English'}, {'sub': 'The Narrative Corpse', 'rel': ', depicts', 'obj': 'Howard Pyle'}]\n"
     ]
    },
    {
     "name": "stderr",
     "output_type": "stream",
     "text": [
      "Setting `pad_token_id` to `eos_token_id`:128001 for open-end generation.\n"
     ]
    },
    {
     "name": "stdout",
     "output_type": "stream",
     "text": [
      "Test Output for ID ont_4_book_test_8: illustrator(Nine Days to Christmas,Marie Hall Ets), followed_by(,), publication_date(Nine Days to Christmas,), author(Nine Days to Christmas,Marie Hall Ets), publisher(Nine Days to Christmas,), characters(Nine Days to Christmas,)\n",
      "Parsed Triples for ID ont_4_book_test_8: [{'sub': 'Nine Days to Christmas', 'rel': 'illustrator', 'obj': 'Marie Hall Ets'}, {'sub': 'Nine Days to Christmas', 'rel': ', followed_by(,), publication_date(Nine Days to Christmas,), author', 'obj': 'Marie Hall Ets'}]\n"
     ]
    },
    {
     "name": "stderr",
     "output_type": "stream",
     "text": [
      "Setting `pad_token_id` to `eos_token_id`:128001 for open-end generation.\n"
     ]
    },
    {
     "name": "stdout",
     "output_type": "stream",
     "text": [
      "Test Output for ID ont_4_book_test_9: illustrator(Panda Bear, Panda Bear, What Do You See?,Eric Carle), illustrator(Panda Bear, Panda Bear, What Do You See?,Bill Martin, Jr.), author(Panda Bear, Panda Bear, What Do You See?,Bill Martin, Jr.), author(Panda Bear, Panda Bear, What Do You See?,Eric Carle), characters(Panda Bear, Panda Bear, What Do You See?,Panda Bear), characters(Panda Bear, Panda Bear, What Do You See?,Tiger), characters(Panda Bear, Panda Bear, What Do You See?,Kangaroo), characters(Panda Bear, Panda Bear, What Do You See?,Snake), characters(Panda Bear, Panda Bear, What Do You See?,Mouse), characters(Panda Bear, Panda Bear, What Do You See?,Alligator), characters(Panda Bear, Panda Bear, What Do You See?,Zebra), characters(Panda Bear, Panda Bear, What Do You See?,Bear), characters(Panda Bear, Panda Bear, What Do You See?,Ostrich), characters(Panda Bear, Panda Bear, What Do You See?,Owl), characters(Panda Bear, Panda Bear, What Do You See?,Monkey), characters(Panda Bear, Panda Bear, What Do You See?,Elephant), characters(Panda Bear, Panda Bear, What Do You See?,Hippo), characters(Panda Bear, Panda Bear, What Do You See?,Pig), characters(Panda Bear, Panda Bear, What Do You See?,Lion), characters(Panda Bear, Panda Bear, What Do You See?,Cat), characters(Panda Bear, Panda Bear, What Do You See?,Bat), characters(Panda Bear, Panda Bear, What Do You See?,Rat), characters(Panda Bear, Panda Bear, What Do You See?,Dog), characters(Panda Bear, Panda Bear, What Do You See?,Fox), characters(Panda Bear, Panda Bear, What Do You See?,Deer), characters(Panda Bear, Panda Bear, What Do You See?,Rabbit), characters(Panda Bear, Panda Bear, What Do You See?,Hare), characters(Panda Bear, Panda Bear, What Do You See?,Wolf), characters(Panda Bear, Panda Bear, What Do You See?,Giraffe), characters(Panda Bear, Panda Bear, What Do You See?,Rhinoceros), characters(Panda Bear, Panda Bear, What Do You See?,Koala), characters(Panda Bear, Panda Bear, What Do You See?,Kookaburra), characters(Panda Bear, Panda Bear, What Do You See?,Kookaburra), characters(Panda Bear, Panda Bear, What Do You See?,Kookaburra), characters(Panda Bear, Panda Bear, What Do You See?,Kookaburra), characters(Panda Bear, Panda Bear, What Do You See?,Kookaburra), characters(Panda Bear, Panda Bear, What Do You See?,Kookaburra), characters(Panda Bear, Panda Bear, What Do You See?,Kookaburra), characters(Panda Bear, Panda Bear, What Do You See?,Kookaburra), characters(Panda Bear, Panda Bear, What Do You See?,Kookaburra), characters(Panda Bear, Panda Bear, What Do You See?,Kookaburra), characters(P\n",
      "Parsed Triples for ID ont_4_book_test_9: [{'sub': 'Panda Bear', 'rel': 'illustrator', 'obj': 'Panda Bear, What Do You See?,Eric Carle'}, {'sub': 'Panda Bear', 'rel': ', illustrator', 'obj': 'Panda Bear, What Do You See?,Bill Martin, Jr.'}, {'sub': 'Panda Bear', 'rel': ', author', 'obj': 'Panda Bear, What Do You See?,Bill Martin, Jr.'}, {'sub': 'Panda Bear', 'rel': ', author', 'obj': 'Panda Bear, What Do You See?,Eric Carle'}, {'sub': 'Panda Bear', 'rel': ', characters', 'obj': 'Panda Bear, What Do You See?,Panda Bear'}, {'sub': 'Panda Bear', 'rel': ', characters', 'obj': 'Panda Bear, What Do You See?,Tiger'}, {'sub': 'Panda Bear', 'rel': ', characters', 'obj': 'Panda Bear, What Do You See?,Kangaroo'}, {'sub': 'Panda Bear', 'rel': ', characters', 'obj': 'Panda Bear, What Do You See?,Snake'}, {'sub': 'Panda Bear', 'rel': ', characters', 'obj': 'Panda Bear, What Do You See?,Mouse'}, {'sub': 'Panda Bear', 'rel': ', characters', 'obj': 'Panda Bear, What Do You See?,Alligator'}, {'sub': 'Panda Bear', 'rel': ', characters', 'obj': 'Panda Bear, What Do You See?,Zebra'}, {'sub': 'Panda Bear', 'rel': ', characters', 'obj': 'Panda Bear, What Do You See?,Bear'}, {'sub': 'Panda Bear', 'rel': ', characters', 'obj': 'Panda Bear, What Do You See?,Ostrich'}, {'sub': 'Panda Bear', 'rel': ', characters', 'obj': 'Panda Bear, What Do You See?,Owl'}, {'sub': 'Panda Bear', 'rel': ', characters', 'obj': 'Panda Bear, What Do You See?,Monkey'}, {'sub': 'Panda Bear', 'rel': ', characters', 'obj': 'Panda Bear, What Do You See?,Elephant'}, {'sub': 'Panda Bear', 'rel': ', characters', 'obj': 'Panda Bear, What Do You See?,Hippo'}, {'sub': 'Panda Bear', 'rel': ', characters', 'obj': 'Panda Bear, What Do You See?,Pig'}, {'sub': 'Panda Bear', 'rel': ', characters', 'obj': 'Panda Bear, What Do You See?,Lion'}, {'sub': 'Panda Bear', 'rel': ', characters', 'obj': 'Panda Bear, What Do You See?,Cat'}, {'sub': 'Panda Bear', 'rel': ', characters', 'obj': 'Panda Bear, What Do You See?,Bat'}, {'sub': 'Panda Bear', 'rel': ', characters', 'obj': 'Panda Bear, What Do You See?,Rat'}, {'sub': 'Panda Bear', 'rel': ', characters', 'obj': 'Panda Bear, What Do You See?,Dog'}, {'sub': 'Panda Bear', 'rel': ', characters', 'obj': 'Panda Bear, What Do You See?,Fox'}, {'sub': 'Panda Bear', 'rel': ', characters', 'obj': 'Panda Bear, What Do You See?,Deer'}, {'sub': 'Panda Bear', 'rel': ', characters', 'obj': 'Panda Bear, What Do You See?,Rabbit'}, {'sub': 'Panda Bear', 'rel': ', characters', 'obj': 'Panda Bear, What Do You See?,Hare'}, {'sub': 'Panda Bear', 'rel': ', characters', 'obj': 'Panda Bear, What Do You See?,Wolf'}, {'sub': 'Panda Bear', 'rel': ', characters', 'obj': 'Panda Bear, What Do You See?,Giraffe'}, {'sub': 'Panda Bear', 'rel': ', characters', 'obj': 'Panda Bear, What Do You See?,Rhinoceros'}, {'sub': 'Panda Bear', 'rel': ', characters', 'obj': 'Panda Bear, What Do You See?,Koala'}, {'sub': 'Panda Bear', 'rel': ', characters', 'obj': 'Panda Bear, What Do You See?,Kookaburra'}, {'sub': 'Panda Bear', 'rel': ', characters', 'obj': 'Panda Bear, What Do You See?,Kookaburra'}, {'sub': 'Panda Bear', 'rel': ', characters', 'obj': 'Panda Bear, What Do You See?,Kookaburra'}, {'sub': 'Panda Bear', 'rel': ', characters', 'obj': 'Panda Bear, What Do You See?,Kookaburra'}, {'sub': 'Panda Bear', 'rel': ', characters', 'obj': 'Panda Bear, What Do You See?,Kookaburra'}, {'sub': 'Panda Bear', 'rel': ', characters', 'obj': 'Panda Bear, What Do You See?,Kookaburra'}, {'sub': 'Panda Bear', 'rel': ', characters', 'obj': 'Panda Bear, What Do You See?,Kookaburra'}, {'sub': 'Panda Bear', 'rel': ', characters', 'obj': 'Panda Bear, What Do You See?,Kookaburra'}, {'sub': 'Panda Bear', 'rel': ', characters', 'obj': 'Panda Bear, What Do You See?,Kookaburra'}, {'sub': 'Panda Bear', 'rel': ', characters', 'obj': 'Panda Bear, What Do You See?,Kookaburra'}]\n"
     ]
    },
    {
     "name": "stderr",
     "output_type": "stream",
     "text": [
      "You seem to be using the pipelines sequentially on GPU. In order to maximize efficiency please use a dataset\n",
      "Setting `pad_token_id` to `eos_token_id`:128001 for open-end generation.\n"
     ]
    },
    {
     "name": "stdout",
     "output_type": "stream",
     "text": [
      "Test Output for ID ont_4_book_test_10: illustrator(Doctor Dolittle's Post Office,Hugh Lofting), publication_date(Doctor Dolittle's Post Office,1939-07-01), characters(Doctor Dolittle's Post Office,Doctor Dolittle), author(Doctor Dolittle's Post Office,Hugh Lofting), publisher(Doctor Dolittle's Post Office,St. Martin's Press), place_of_publication(Doctor Dolittle's Post Office,United States), genre(Doctor Dolittle's Post Office,fiction), language_of_work_or_name(Doctor Dolittle's Post Office,English)\n",
      "Parsed Triples for ID ont_4_book_test_10: [{'sub': \"Doctor Dolittle's Post Office\", 'rel': 'illustrator', 'obj': 'Hugh Lofting'}, {'sub': \"Doctor Dolittle's Post Office\", 'rel': ', publication_date', 'obj': '1939-07-01'}, {'sub': \"Doctor Dolittle's Post Office\", 'rel': ', characters', 'obj': 'Doctor Dolittle'}, {'sub': \"Doctor Dolittle's Post Office\", 'rel': ', author', 'obj': 'Hugh Lofting'}, {'sub': \"Doctor Dolittle's Post Office\", 'rel': ', publisher', 'obj': \"St. Martin's Press\"}, {'sub': \"Doctor Dolittle's Post Office\", 'rel': ', place_of_publication', 'obj': 'United States'}, {'sub': \"Doctor Dolittle's Post Office\", 'rel': ', genre', 'obj': 'fiction'}, {'sub': \"Doctor Dolittle's Post Office\", 'rel': ', language_of_work_or_name', 'obj': 'English'}]\n"
     ]
    },
    {
     "name": "stderr",
     "output_type": "stream",
     "text": [
      "Setting `pad_token_id` to `eos_token_id`:128001 for open-end generation.\n"
     ]
    },
    {
     "name": "stdout",
     "output_type": "stream",
     "text": [
      "Test Output for ID ont_4_book_test_11: illustrator( Busybody Nora, Susan Jeschke)\n",
      "Parsed Triples for ID ont_4_book_test_11: [{'sub': 'Busybody Nora', 'rel': 'illustrator', 'obj': 'Susan Jeschke'}]\n"
     ]
    },
    {
     "name": "stderr",
     "output_type": "stream",
     "text": [
      "Setting `pad_token_id` to `eos_token_id`:128001 for open-end generation.\n"
     ]
    },
    {
     "name": "stdout",
     "output_type": "stream",
     "text": [
      "Test Output for ID ont_4_book_test_12: illustrator(The Giving Tree,Shel Silverstein)\n",
      "Parsed Triples for ID ont_4_book_test_12: [{'sub': 'The Giving Tree', 'rel': 'illustrator', 'obj': 'Shel Silverstein'}]\n"
     ]
    },
    {
     "name": "stderr",
     "output_type": "stream",
     "text": [
      "Setting `pad_token_id` to `eos_token_id`:128001 for open-end generation.\n"
     ]
    },
    {
     "name": "stdout",
     "output_type": "stream",
     "text": [
      "Test Output for ID ont_4_book_test_13: illustrator(A Series of Unfortunate Events, Brett Helquist)\n",
      "Parsed Triples for ID ont_4_book_test_13: [{'sub': 'A Series of Unfortunate Events', 'rel': 'illustrator', 'obj': 'Brett Helquist'}]\n"
     ]
    },
    {
     "name": "stderr",
     "output_type": "stream",
     "text": [
      "Setting `pad_token_id` to `eos_token_id`:128001 for open-end generation.\n"
     ]
    },
    {
     "name": "stdout",
     "output_type": "stream",
     "text": [
      "Test Output for ID ont_4_book_test_14: author(Duffy and the Devil,Margot Zemach),  illustrator(Duffy and the Devil,Harve Zemach)\n",
      "Parsed Triples for ID ont_4_book_test_14: [{'sub': 'Duffy and the Devil', 'rel': 'author', 'obj': 'Margot Zemach'}, {'sub': 'Duffy and the Devil', 'rel': ',  illustrator', 'obj': 'Harve Zemach'}]\n"
     ]
    },
    {
     "name": "stderr",
     "output_type": "stream",
     "text": [
      "Setting `pad_token_id` to `eos_token_id`:128001 for open-end generation.\n"
     ]
    },
    {
     "name": "stdout",
     "output_type": "stream",
     "text": [
      "Test Output for ID ont_4_book_test_15: illustrator(Little Fur Family,Garth Williams)\n",
      "Parsed Triples for ID ont_4_book_test_15: [{'sub': 'Little Fur Family', 'rel': 'illustrator', 'obj': 'Garth Williams'}]\n"
     ]
    },
    {
     "name": "stderr",
     "output_type": "stream",
     "text": [
      "Setting `pad_token_id` to `eos_token_id`:128001 for open-end generation.\n"
     ]
    },
    {
     "name": "stdout",
     "output_type": "stream",
     "text": [
      "Test Output for ID ont_4_book_test_16: author(All You Need Is Kill,Hiroshi Sakurazaka), illustrator(All You Need Is Kill,Yoshitoshi ABe)\n",
      "Parsed Triples for ID ont_4_book_test_16: [{'sub': 'All You Need Is Kill', 'rel': 'author', 'obj': 'Hiroshi Sakurazaka'}, {'sub': 'All You Need Is Kill', 'rel': ', illustrator', 'obj': 'Yoshitoshi ABe'}]\n"
     ]
    },
    {
     "name": "stderr",
     "output_type": "stream",
     "text": [
      "Setting `pad_token_id` to `eos_token_id`:128001 for open-end generation.\n"
     ]
    },
    {
     "name": "stdout",
     "output_type": "stream",
     "text": [
      "Test Output for ID ont_4_book_test_17: author(My Friend Rabbit,Eric Rohmann)\n",
      "Parsed Triples for ID ont_4_book_test_17: [{'sub': 'My Friend Rabbit', 'rel': 'author', 'obj': 'Eric Rohmann'}]\n"
     ]
    },
    {
     "name": "stderr",
     "output_type": "stream",
     "text": [
      "Setting `pad_token_id` to `eos_token_id`:128001 for open-end generation.\n"
     ]
    },
    {
     "name": "stdout",
     "output_type": "stream",
     "text": [
      "Test Output for ID ont_4_book_test_18: illustrator(Inkdeath,Cornelia Funke)\n",
      "Parsed Triples for ID ont_4_book_test_18: [{'sub': 'Inkdeath', 'rel': 'illustrator', 'obj': 'Cornelia Funke'}]\n"
     ]
    },
    {
     "name": "stderr",
     "output_type": "stream",
     "text": [
      "Setting `pad_token_id` to `eos_token_id`:128001 for open-end generation.\n"
     ]
    },
    {
     "name": "stdout",
     "output_type": "stream",
     "text": [
      "Test Output for ID ont_4_book_test_19: illustrator(Diary of a Spider,Harry Bliss),author(Diary of a Spider,Doreen Cronin),illustrator(Diary of a Spider,Harry Bliss),author(Diary of a Spider,Doreen Cronin),illustrator(Diary of a Spider,Harry Bliss),author(Diary of a Spider,Doreen Cronin),illustrator(Diary of a Spider,Harry Bliss),author(Diary of a Spider,Doreen Cronin)\n",
      "Parsed Triples for ID ont_4_book_test_19: [{'sub': 'Diary of a Spider', 'rel': 'illustrator', 'obj': 'Harry Bliss'}, {'sub': 'Diary of a Spider', 'rel': ',author', 'obj': 'Doreen Cronin'}, {'sub': 'Diary of a Spider', 'rel': ',illustrator', 'obj': 'Harry Bliss'}, {'sub': 'Diary of a Spider', 'rel': ',author', 'obj': 'Doreen Cronin'}, {'sub': 'Diary of a Spider', 'rel': ',illustrator', 'obj': 'Harry Bliss'}, {'sub': 'Diary of a Spider', 'rel': ',author', 'obj': 'Doreen Cronin'}, {'sub': 'Diary of a Spider', 'rel': ',illustrator', 'obj': 'Harry Bliss'}, {'sub': 'Diary of a Spider', 'rel': ',author', 'obj': 'Doreen Cronin'}]\n"
     ]
    },
    {
     "name": "stderr",
     "output_type": "stream",
     "text": [
      "Setting `pad_token_id` to `eos_token_id`:128001 for open-end generation.\n"
     ]
    },
    {
     "name": "stdout",
     "output_type": "stream",
     "text": [
      "Test Output for ID ont_4_book_test_20: illustrator(Kermit the Hermit,Bill Peet), characters(Kermit the Hermit,Kermit the Frog)\n",
      "Parsed Triples for ID ont_4_book_test_20: [{'sub': 'Kermit the Hermit', 'rel': 'illustrator', 'obj': 'Bill Peet'}, {'sub': 'Kermit the Hermit', 'rel': ', characters', 'obj': 'Kermit the Frog'}]\n"
     ]
    },
    {
     "name": "stderr",
     "output_type": "stream",
     "text": [
      "Setting `pad_token_id` to `eos_token_id`:128001 for open-end generation.\n"
     ]
    },
    {
     "name": "stdout",
     "output_type": "stream",
     "text": [
      "Test Output for ID ont_4_book_test_21: illustrator(Bannertail: The Story of a Gray Squirrel,Ernest Thompson Seton)\n",
      "Parsed Triples for ID ont_4_book_test_21: [{'sub': 'Bannertail: The Story of a Gray Squirrel', 'rel': 'illustrator', 'obj': 'Ernest Thompson Seton'}]\n"
     ]
    },
    {
     "name": "stderr",
     "output_type": "stream",
     "text": [
      "Setting `pad_token_id` to `eos_token_id`:128001 for open-end generation.\n"
     ]
    },
    {
     "name": "stdout",
     "output_type": "stream",
     "text": [
      "Test Output for ID ont_4_book_test_22: illustrator(Baboushka and The Three Kings,Nicholas Sidjakov), publication_date(Baboushka and The Three Kings,1960), author(Baboushka and The Three Kings,Ruth Robbins), publisher(Baboushka and The Three Kings,Parnassus Press)\n",
      "Parsed Triples for ID ont_4_book_test_22: [{'sub': 'Baboushka and The Three Kings', 'rel': 'illustrator', 'obj': 'Nicholas Sidjakov'}, {'sub': 'Baboushka and The Three Kings', 'rel': ', publication_date', 'obj': '1960'}, {'sub': 'Baboushka and The Three Kings', 'rel': ', author', 'obj': 'Ruth Robbins'}, {'sub': 'Baboushka and The Three Kings', 'rel': ', publisher', 'obj': 'Parnassus Press'}]\n"
     ]
    },
    {
     "name": "stderr",
     "output_type": "stream",
     "text": [
      "Setting `pad_token_id` to `eos_token_id`:128001 for open-end generation.\n"
     ]
    },
    {
     "name": "stdout",
     "output_type": "stream",
     "text": [
      "Test Output for ID ont_4_book_test_23: illustrator(Victorian Fairy Tales,Lord Leighton), illustrator(Victorian Fairy Tales,Philip Burne-Jones), illustrator(Victorian Fairy Tales,Edward Burne-Jones)\n",
      "Parsed Triples for ID ont_4_book_test_23: [{'sub': 'Victorian Fairy Tales', 'rel': 'illustrator', 'obj': 'Lord Leighton'}, {'sub': 'Victorian Fairy Tales', 'rel': ', illustrator', 'obj': 'Philip Burne-Jones'}, {'sub': 'Victorian Fairy Tales', 'rel': ', illustrator', 'obj': 'Edward Burne-Jones'}]\n"
     ]
    },
    {
     "name": "stderr",
     "output_type": "stream",
     "text": [
      "Setting `pad_token_id` to `eos_token_id`:128001 for open-end generation.\n"
     ]
    },
    {
     "name": "stdout",
     "output_type": "stream",
     "text": [
      "Test Output for ID ont_4_book_test_24: illustrator(book,John Picacio), illustrator(book,Dave Dorman)\n",
      "Parsed Triples for ID ont_4_book_test_24: [{'sub': 'book', 'rel': 'illustrator', 'obj': 'John Picacio'}, {'sub': 'book', 'rel': ', illustrator', 'obj': 'Dave Dorman'}]\n"
     ]
    },
    {
     "name": "stderr",
     "output_type": "stream",
     "text": [
      "Setting `pad_token_id` to `eos_token_id`:128001 for open-end generation.\n"
     ]
    },
    {
     "name": "stdout",
     "output_type": "stream",
     "text": [
      "Test Output for ID ont_4_book_test_25: author(Mordicai Gerstein),illustrator(Mordicai Gerstein),publication_date(Mordicai Gerstein,1971-07-01),genre(Mordicai Gerstein,children's picture book),language_of_work_or_name(Mordicai Gerstein,English),characters(Mordicai Gerstein,Philippe Petit)\n",
      "Parsed Triples for ID ont_4_book_test_25: [{'sub': 'Mordicai Gerstein)', 'rel': 'author', 'obj': 'illustrator(Mordicai Gerstein'}, {'sub': 'Mordicai Gerstein', 'rel': ',publication_date', 'obj': '1971-07-01'}, {'sub': 'Mordicai Gerstein', 'rel': ',genre', 'obj': \"children's picture book\"}, {'sub': 'Mordicai Gerstein', 'rel': ',language_of_work_or_name', 'obj': 'English'}, {'sub': 'Mordicai Gerstein', 'rel': ',characters', 'obj': 'Philippe Petit'}]\n"
     ]
    },
    {
     "name": "stderr",
     "output_type": "stream",
     "text": [
      "Setting `pad_token_id` to `eos_token_id`:128001 for open-end generation.\n"
     ]
    },
    {
     "name": "stdout",
     "output_type": "stream",
     "text": [
      "Test Output for ID ont_4_book_test_26: illustrator(Cautionary Tales for Children,Basil Temple Blackwood),  illustrator(The Bad Child's Book of Beasts,Basil Temple Blackwood),  illustrator(Cautionary Tales for Children,Basil Temple Blackwood)\n",
      "Parsed Triples for ID ont_4_book_test_26: [{'sub': 'Cautionary Tales for Children', 'rel': 'illustrator', 'obj': 'Basil Temple Blackwood'}, {'sub': \"The Bad Child's Book of Beasts\", 'rel': ',  illustrator', 'obj': 'Basil Temple Blackwood'}, {'sub': 'Cautionary Tales for Children', 'rel': ',  illustrator', 'obj': 'Basil Temple Blackwood'}]\n"
     ]
    },
    {
     "name": "stderr",
     "output_type": "stream",
     "text": [
      "Setting `pad_token_id` to `eos_token_id`:128001 for open-end generation.\n"
     ]
    },
    {
     "name": "stdout",
     "output_type": "stream",
     "text": [
      "Test Output for ID ont_4_book_test_27: author(Flatland: A Romance of Many Dimensions,Edwin Abbott Abbott), publication_date(Flatland: A Romance of Many Dimensions,1884), publisher(Flatland: A Romance of Many Dimensions,Seeley & Co.), characters(Flatland: A Romance of Many Dimensions,)\n",
      "Parsed Triples for ID ont_4_book_test_27: [{'sub': 'Flatland: A Romance of Many Dimensions', 'rel': 'author', 'obj': 'Edwin Abbott Abbott'}, {'sub': 'Flatland: A Romance of Many Dimensions', 'rel': ', publication_date', 'obj': '1884'}, {'sub': 'Flatland: A Romance of Many Dimensions', 'rel': ', publisher', 'obj': 'Seeley & Co.'}]\n"
     ]
    },
    {
     "name": "stderr",
     "output_type": "stream",
     "text": [
      "Setting `pad_token_id` to `eos_token_id`:128001 for open-end generation.\n"
     ]
    },
    {
     "name": "stdout",
     "output_type": "stream",
     "text": [
      "Test Output for ID ont_4_book_test_28: illustrator(Doctor Dolittle in the Moon,Hugh Lofting) publication_date(Doctor Dolittle in the Moon,1928)\n",
      "Parsed Triples for ID ont_4_book_test_28: [{'sub': 'Doctor Dolittle in the Moon', 'rel': 'illustrator', 'obj': 'Hugh Lofting'}, {'sub': 'Doctor Dolittle in the Moon', 'rel': ' publication_date', 'obj': '1928'}]\n"
     ]
    },
    {
     "name": "stderr",
     "output_type": "stream",
     "text": [
      "Setting `pad_token_id` to `eos_token_id`:128001 for open-end generation.\n"
     ]
    },
    {
     "name": "stdout",
     "output_type": "stream",
     "text": [
      "Test Output for ID ont_4_book_test_29: illustrator(Ginger Pye,Eleanor Estes), author(Ginger Pye,Eleanor Estes), characters(Ginger Pye,Dog)\n",
      "Parsed Triples for ID ont_4_book_test_29: [{'sub': 'Ginger Pye', 'rel': 'illustrator', 'obj': 'Eleanor Estes'}, {'sub': 'Ginger Pye', 'rel': ', author', 'obj': 'Eleanor Estes'}, {'sub': 'Ginger Pye', 'rel': ', characters', 'obj': 'Dog'}]\n"
     ]
    },
    {
     "name": "stderr",
     "output_type": "stream",
     "text": [
      "Setting `pad_token_id` to `eos_token_id`:128001 for open-end generation.\n"
     ]
    },
    {
     "name": "stdout",
     "output_type": "stream",
     "text": [
      "Test Output for ID ont_4_book_test_30: author(Horrid Henry Tricks the Tooth Fairy,Francesca Simon), illustrator(Horrid Henry Tricks the Tooth Fairy,Tony Ross), publication_date(Horrid Henry Tricks the Tooth Fairy,1996)\n",
      "Parsed Triples for ID ont_4_book_test_30: [{'sub': 'Horrid Henry Tricks the Tooth Fairy', 'rel': 'author', 'obj': 'Francesca Simon'}, {'sub': 'Horrid Henry Tricks the Tooth Fairy', 'rel': ', illustrator', 'obj': 'Tony Ross'}, {'sub': 'Horrid Henry Tricks the Tooth Fairy', 'rel': ', publication_date', 'obj': '1996'}]\n"
     ]
    },
    {
     "name": "stderr",
     "output_type": "stream",
     "text": [
      "Setting `pad_token_id` to `eos_token_id`:128001 for open-end generation.\n"
     ]
    },
    {
     "name": "stdout",
     "output_type": "stream",
     "text": [
      "Test Output for ID ont_4_book_test_31: illustrator(The book,Frank Francis)\n",
      "Parsed Triples for ID ont_4_book_test_31: [{'sub': 'The book', 'rel': 'illustrator', 'obj': 'Frank Francis'}]\n"
     ]
    },
    {
     "name": "stderr",
     "output_type": "stream",
     "text": [
      "Setting `pad_token_id` to `eos_token_id`:128001 for open-end generation.\n"
     ]
    },
    {
     "name": "stdout",
     "output_type": "stream",
     "text": [
      "Test Output for ID ont_4_book_test_32: illustrator(Doctor Dolittle's Garden,Hugh Lofting)\n",
      "Parsed Triples for ID ont_4_book_test_32: [{'sub': \"Doctor Dolittle's Garden\", 'rel': 'illustrator', 'obj': 'Hugh Lofting'}]\n"
     ]
    },
    {
     "name": "stderr",
     "output_type": "stream",
     "text": [
      "Setting `pad_token_id` to `eos_token_id`:128001 for open-end generation.\n"
     ]
    },
    {
     "name": "stdout",
     "output_type": "stream",
     "text": [
      "Test Output for ID ont_4_book_test_33: 1. author(King Arthur and His Knights of the Round Table,David Almond) 2. language_of_work_or_name(King Arthur and His Knights of the Round Table,English) 3. characters(King Arthur and His Knights of the Round Table,King Arthur) 4. publication_date(King Arthur and His Knights of the Round Table,2008) 5. publication_date(King Arthur and His Knights of the Round Table,2008) 6. illustrator(King Arthur and His Knights of the Round Table,Lotte Reiniger) 7. characters(King Arthur and His Knights of the Round Table,King Arthur) 8. author(King Arthur and His Knights of the Round Table,Chretien de Troyes) 9. author(King Arthur and His Knights of the Round Table,Mark Twain) 10. characters(King Arthur and His Knights of the Round Table,King Arthur) 11. characters(King Arthur and His Knights of the Round Table,Sir Galahad) 12. characters(King Arthur and His Knights of the Round Table,Sir Percival) 13. characters(King Arthur and His Knights of the Round Table,Sir Lancelot) 14. characters(King Arthur and His Knights of the Round Table,Sir Gawain) 15. characters(King Arthur and His Knights of the Round Table,Sir Gareth) 16. characters(King Arthur and His Knights of the Round Table,Sir Bors) 17. characters(King Arthur and His Knights of the Round Table,Sir Torre) 18. characters(King Arthur and His Knights of the Round Table,Sir Torre) 19. characters(King Arthur and His Knights of the Round Table,Sir Torre) 20. characters(King Arthur and His Knights of the Round Table,Sir Torre) 21. characters(King Arthur and His Knights of the Round Table,Sir Torre) 22. characters(King Arthur and His Knights of the Round Table,Sir Torre) 23. characters(King Arthur and His Knights of the Round Table,Sir Torre) 24. characters(King Arthur and His Knights of the Round Table,Sir Torre) 25. characters(King Arthur and His Knights of the Round Table,Sir Torre) 26. characters(King Arthur and His Knights of the Round Table,Sir Torre) 27. characters(King Arthur and His Knights of the Round Table,Sir Torre) 28. characters(King Arthur and His Knights of the Round Table,Sir Torre) 29. characters(King Arthur and His Knights of the Round Table,Sir Torre) 30. characters(King Arthur and His Knights of the Round Table,Sir Torre) 31. characters(King Arthur and His Knights of the Round Table,Sir Torre) 32. characters(King Arthur and His Knights of the Round Table,Sir Torre) 33. characters(King Arthur and His Knights of the Round Table,Sir Torre) 34. characters(King Arthur and His Knights of the Round Table,Sir Torre) 35. characters(King Arthur and His Knights of the Round\n",
      "Parsed Triples for ID ont_4_book_test_33: [{'sub': 'King Arthur and His Knights of the Round Table', 'rel': '1. author', 'obj': 'David Almond'}, {'sub': 'King Arthur and His Knights of the Round Table', 'rel': ' 2. language_of_work_or_name', 'obj': 'English'}, {'sub': 'King Arthur and His Knights of the Round Table', 'rel': ' 3. characters', 'obj': 'King Arthur'}, {'sub': 'King Arthur and His Knights of the Round Table', 'rel': ' 4. publication_date', 'obj': '2008'}, {'sub': 'King Arthur and His Knights of the Round Table', 'rel': ' 5. publication_date', 'obj': '2008'}, {'sub': 'King Arthur and His Knights of the Round Table', 'rel': ' 6. illustrator', 'obj': 'Lotte Reiniger'}, {'sub': 'King Arthur and His Knights of the Round Table', 'rel': ' 7. characters', 'obj': 'King Arthur'}, {'sub': 'King Arthur and His Knights of the Round Table', 'rel': ' 8. author', 'obj': 'Chretien de Troyes'}, {'sub': 'King Arthur and His Knights of the Round Table', 'rel': ' 9. author', 'obj': 'Mark Twain'}, {'sub': 'King Arthur and His Knights of the Round Table', 'rel': ' 10. characters', 'obj': 'King Arthur'}, {'sub': 'King Arthur and His Knights of the Round Table', 'rel': ' 11. characters', 'obj': 'Sir Galahad'}, {'sub': 'King Arthur and His Knights of the Round Table', 'rel': ' 12. characters', 'obj': 'Sir Percival'}, {'sub': 'King Arthur and His Knights of the Round Table', 'rel': ' 13. characters', 'obj': 'Sir Lancelot'}, {'sub': 'King Arthur and His Knights of the Round Table', 'rel': ' 14. characters', 'obj': 'Sir Gawain'}, {'sub': 'King Arthur and His Knights of the Round Table', 'rel': ' 15. characters', 'obj': 'Sir Gareth'}, {'sub': 'King Arthur and His Knights of the Round Table', 'rel': ' 16. characters', 'obj': 'Sir Bors'}, {'sub': 'King Arthur and His Knights of the Round Table', 'rel': ' 17. characters', 'obj': 'Sir Torre'}, {'sub': 'King Arthur and His Knights of the Round Table', 'rel': ' 18. characters', 'obj': 'Sir Torre'}, {'sub': 'King Arthur and His Knights of the Round Table', 'rel': ' 19. characters', 'obj': 'Sir Torre'}, {'sub': 'King Arthur and His Knights of the Round Table', 'rel': ' 20. characters', 'obj': 'Sir Torre'}, {'sub': 'King Arthur and His Knights of the Round Table', 'rel': ' 21. characters', 'obj': 'Sir Torre'}, {'sub': 'King Arthur and His Knights of the Round Table', 'rel': ' 22. characters', 'obj': 'Sir Torre'}, {'sub': 'King Arthur and His Knights of the Round Table', 'rel': ' 23. characters', 'obj': 'Sir Torre'}, {'sub': 'King Arthur and His Knights of the Round Table', 'rel': ' 24. characters', 'obj': 'Sir Torre'}, {'sub': 'King Arthur and His Knights of the Round Table', 'rel': ' 25. characters', 'obj': 'Sir Torre'}, {'sub': 'King Arthur and His Knights of the Round Table', 'rel': ' 26. characters', 'obj': 'Sir Torre'}, {'sub': 'King Arthur and His Knights of the Round Table', 'rel': ' 27. characters', 'obj': 'Sir Torre'}, {'sub': 'King Arthur and His Knights of the Round Table', 'rel': ' 28. characters', 'obj': 'Sir Torre'}, {'sub': 'King Arthur and His Knights of the Round Table', 'rel': ' 29. characters', 'obj': 'Sir Torre'}, {'sub': 'King Arthur and His Knights of the Round Table', 'rel': ' 30. characters', 'obj': 'Sir Torre'}, {'sub': 'King Arthur and His Knights of the Round Table', 'rel': ' 31. characters', 'obj': 'Sir Torre'}, {'sub': 'King Arthur and His Knights of the Round Table', 'rel': ' 32. characters', 'obj': 'Sir Torre'}, {'sub': 'King Arthur and His Knights of the Round Table', 'rel': ' 33. characters', 'obj': 'Sir Torre'}, {'sub': 'King Arthur and His Knights of the Round Table', 'rel': ' 34. characters', 'obj': 'Sir Torre'}]\n"
     ]
    },
    {
     "name": "stderr",
     "output_type": "stream",
     "text": [
      "Setting `pad_token_id` to `eos_token_id`:128001 for open-end generation.\n"
     ]
    },
    {
     "name": "stdout",
     "output_type": "stream",
     "text": [
      "Test Output for ID ont_4_book_test_34: 1) author(A Scandal in Bohemia,Sherlock Holmes) 2) illustrator(A Scandal in Bohemia,Sidney Paget)\n",
      "Parsed Triples for ID ont_4_book_test_34: [{'sub': 'A Scandal in Bohemia', 'rel': '1) author', 'obj': 'Sherlock Holmes'}, {'sub': 'A Scandal in Bohemia', 'rel': ' 2) illustrator', 'obj': 'Sidney Paget'}]\n"
     ]
    },
    {
     "name": "stderr",
     "output_type": "stream",
     "text": [
      "Setting `pad_token_id` to `eos_token_id`:128001 for open-end generation.\n"
     ]
    },
    {
     "name": "stdout",
     "output_type": "stream",
     "text": [
      "Test Output for ID ont_4_book_test_35: 1. author(The Little House,Virginia Lee Burton) 2. illustrator(The Little House,Virginia Lee Burton) 3. publication_date(The Little House,1942)\n",
      "Parsed Triples for ID ont_4_book_test_35: [{'sub': 'The Little House', 'rel': '1. author', 'obj': 'Virginia Lee Burton'}, {'sub': 'The Little House', 'rel': ' 2. illustrator', 'obj': 'Virginia Lee Burton'}, {'sub': 'The Little House', 'rel': ' 3. publication_date', 'obj': '1942'}]\n"
     ]
    },
    {
     "name": "stderr",
     "output_type": "stream",
     "text": [
      "Setting `pad_token_id` to `eos_token_id`:128001 for open-end generation.\n"
     ]
    },
    {
     "name": "stdout",
     "output_type": "stream",
     "text": [
      "Test Output for ID ont_4_book_test_36: author(The City of Dreaming Books,Walter Moers), illustrator(The City of Dreaming Books,Walter Moers),  author(The City of Dreaming Books,Walter Moers), author(The City of Dreaming Books,Walter Moers),  author(The City of Dreaming Books,Walter Moers),  author(The City of Dreaming Books,Walter Moers),  author(The City of Dreaming Books,Walter Moers),  author(The City of Dreaming Books,Walter Moers),  author(The City of Dreaming Books,Walter Moers),  author(The City of Dreaming Books,Walter Moers),  author(The City of Dreaming Books,Walter Moers),  author(The City of Dreaming Books,Walter Moers),  author(The City of Dreaming Books,Walter Moers),  author(The City of Dreaming Books,Walter Moers),  author(The City of Dreaming Books,Walter Moers),  author(The City of Dreaming Books,Walter Moers),  author(The City of Dreaming Books,Walter Moers),  author(The City of Dreaming Books,Walter Moers),  author(The City of Dreaming Books,Walter Moers),  author(The City of Dreaming Books,Walter Moers),  author(The City of Dreaming Books,Walter Moers),  author(The City of Dreaming Books,Walter Moers),  author(The City of Dreaming Books,Walter Moers),  author(The City of Dreaming Books,Walter Moers),  author(The City of Dreaming Books,Walter Moers),  author(The City of Dreaming Books,Walter Moers),  author(The City of Dreaming Books,Walter Moers),  author(The City of Dreaming Books,Walter Moers),  author(The City of Dreaming Books,Walter Moers),  author(The City of Dreaming Books,Walter Moers),  author(The City of Dreaming Books,Walter Moers),  author(The City of Dreaming Books,Walter Moers),  author(The City of Dreaming Books,Walter Moers),  author(The City of Dreaming Books,Walter Moers),  author(The City of Dreaming Books,Walter Moers),  author(The City of Dreaming Books,Walter Moers),  author(The City of Dreaming Books,Walter Moers),  author(The City of Dreaming Books,Walter Moers),  author(The City of Dreaming Books,Walter Moers),  author(The City of Dreaming Books,Walter Moers),  author(The City of Dreaming Books,Walter Moers),  author(The City of Dreaming Books,Walter Moers),  author(The City of Dreaming Books,Walter Moers),  author(The City of Dreaming Books,Walter Moers),  author(The City of Dreaming Books,Walter Moers),  author(The City of Dreaming Books,Walter Moers),  author(The City of Dreaming Books,Walter Moers),\n",
      "Parsed Triples for ID ont_4_book_test_36: [{'sub': 'The City of Dreaming Books', 'rel': 'author', 'obj': 'Walter Moers'}, {'sub': 'The City of Dreaming Books', 'rel': ', illustrator', 'obj': 'Walter Moers'}, {'sub': 'The City of Dreaming Books', 'rel': ',  author', 'obj': 'Walter Moers'}, {'sub': 'The City of Dreaming Books', 'rel': ', author', 'obj': 'Walter Moers'}, {'sub': 'The City of Dreaming Books', 'rel': ',  author', 'obj': 'Walter Moers'}, {'sub': 'The City of Dreaming Books', 'rel': ',  author', 'obj': 'Walter Moers'}, {'sub': 'The City of Dreaming Books', 'rel': ',  author', 'obj': 'Walter Moers'}, {'sub': 'The City of Dreaming Books', 'rel': ',  author', 'obj': 'Walter Moers'}, {'sub': 'The City of Dreaming Books', 'rel': ',  author', 'obj': 'Walter Moers'}, {'sub': 'The City of Dreaming Books', 'rel': ',  author', 'obj': 'Walter Moers'}, {'sub': 'The City of Dreaming Books', 'rel': ',  author', 'obj': 'Walter Moers'}, {'sub': 'The City of Dreaming Books', 'rel': ',  author', 'obj': 'Walter Moers'}, {'sub': 'The City of Dreaming Books', 'rel': ',  author', 'obj': 'Walter Moers'}, {'sub': 'The City of Dreaming Books', 'rel': ',  author', 'obj': 'Walter Moers'}, {'sub': 'The City of Dreaming Books', 'rel': ',  author', 'obj': 'Walter Moers'}, {'sub': 'The City of Dreaming Books', 'rel': ',  author', 'obj': 'Walter Moers'}, {'sub': 'The City of Dreaming Books', 'rel': ',  author', 'obj': 'Walter Moers'}, {'sub': 'The City of Dreaming Books', 'rel': ',  author', 'obj': 'Walter Moers'}, {'sub': 'The City of Dreaming Books', 'rel': ',  author', 'obj': 'Walter Moers'}, {'sub': 'The City of Dreaming Books', 'rel': ',  author', 'obj': 'Walter Moers'}, {'sub': 'The City of Dreaming Books', 'rel': ',  author', 'obj': 'Walter Moers'}, {'sub': 'The City of Dreaming Books', 'rel': ',  author', 'obj': 'Walter Moers'}, {'sub': 'The City of Dreaming Books', 'rel': ',  author', 'obj': 'Walter Moers'}, {'sub': 'The City of Dreaming Books', 'rel': ',  author', 'obj': 'Walter Moers'}, {'sub': 'The City of Dreaming Books', 'rel': ',  author', 'obj': 'Walter Moers'}, {'sub': 'The City of Dreaming Books', 'rel': ',  author', 'obj': 'Walter Moers'}, {'sub': 'The City of Dreaming Books', 'rel': ',  author', 'obj': 'Walter Moers'}, {'sub': 'The City of Dreaming Books', 'rel': ',  author', 'obj': 'Walter Moers'}, {'sub': 'The City of Dreaming Books', 'rel': ',  author', 'obj': 'Walter Moers'}, {'sub': 'The City of Dreaming Books', 'rel': ',  author', 'obj': 'Walter Moers'}, {'sub': 'The City of Dreaming Books', 'rel': ',  author', 'obj': 'Walter Moers'}, {'sub': 'The City of Dreaming Books', 'rel': ',  author', 'obj': 'Walter Moers'}, {'sub': 'The City of Dreaming Books', 'rel': ',  author', 'obj': 'Walter Moers'}, {'sub': 'The City of Dreaming Books', 'rel': ',  author', 'obj': 'Walter Moers'}, {'sub': 'The City of Dreaming Books', 'rel': ',  author', 'obj': 'Walter Moers'}, {'sub': 'The City of Dreaming Books', 'rel': ',  author', 'obj': 'Walter Moers'}, {'sub': 'The City of Dreaming Books', 'rel': ',  author', 'obj': 'Walter Moers'}, {'sub': 'The City of Dreaming Books', 'rel': ',  author', 'obj': 'Walter Moers'}, {'sub': 'The City of Dreaming Books', 'rel': ',  author', 'obj': 'Walter Moers'}, {'sub': 'The City of Dreaming Books', 'rel': ',  author', 'obj': 'Walter Moers'}, {'sub': 'The City of Dreaming Books', 'rel': ',  author', 'obj': 'Walter Moers'}, {'sub': 'The City of Dreaming Books', 'rel': ',  author', 'obj': 'Walter Moers'}, {'sub': 'The City of Dreaming Books', 'rel': ',  author', 'obj': 'Walter Moers'}, {'sub': 'The City of Dreaming Books', 'rel': ',  author', 'obj': 'Walter Moers'}, {'sub': 'The City of Dreaming Books', 'rel': ',  author', 'obj': 'Walter Moers'}, {'sub': 'The City of Dreaming Books', 'rel': ',  author', 'obj': 'Walter Moers'}, {'sub': 'The City of Dreaming Books', 'rel': ',  author', 'obj': 'Walter Moers'}]\n"
     ]
    },
    {
     "name": "stderr",
     "output_type": "stream",
     "text": [
      "Setting `pad_token_id` to `eos_token_id`:128001 for open-end generation.\n"
     ]
    },
    {
     "name": "stdout",
     "output_type": "stream",
     "text": [
      "Test Output for ID ont_4_book_test_37: illustrator(City Of Light, City Of Dark,Brian Floca)\n",
      "Parsed Triples for ID ont_4_book_test_37: [{'sub': 'City Of Light', 'rel': 'illustrator', 'obj': 'City Of Dark,Brian Floca'}]\n"
     ]
    },
    {
     "name": "stderr",
     "output_type": "stream",
     "text": [
      "Setting `pad_token_id` to `eos_token_id`:128001 for open-end generation.\n"
     ]
    },
    {
     "name": "stdout",
     "output_type": "stream",
     "text": [
      "Test Output for ID ont_4_book_test_38: illustrator(Flora Londinensis,James Sowerby) editor(Flora Londinensis,James Sowerby)\n",
      "Parsed Triples for ID ont_4_book_test_38: [{'sub': 'Flora Londinensis', 'rel': 'illustrator', 'obj': 'James Sowerby'}, {'sub': 'Flora Londinensis', 'rel': ' editor', 'obj': 'James Sowerby'}]\n"
     ]
    },
    {
     "name": "stderr",
     "output_type": "stream",
     "text": [
      "Setting `pad_token_id` to `eos_token_id`:128001 for open-end generation.\n"
     ]
    },
    {
     "name": "stdout",
     "output_type": "stream",
     "text": [
      "Test Output for ID ont_4_book_test_39: 1. illustrator(Room on The Broom,Axel Scheffler)\n",
      "Parsed Triples for ID ont_4_book_test_39: [{'sub': 'Room on The Broom', 'rel': '1. illustrator', 'obj': 'Axel Scheffler'}]\n"
     ]
    },
    {
     "name": "stderr",
     "output_type": "stream",
     "text": [
      "Setting `pad_token_id` to `eos_token_id`:128001 for open-end generation.\n"
     ]
    },
    {
     "name": "stdout",
     "output_type": "stream",
     "text": [
      "Test Output for ID ont_4_book_test_40: characters(HaJaBaRaLa,HaJaBaRaLa)\n",
      "Parsed Triples for ID ont_4_book_test_40: [{'sub': 'HaJaBaRaLa', 'rel': 'characters', 'obj': 'HaJaBaRaLa'}]\n"
     ]
    },
    {
     "name": "stderr",
     "output_type": "stream",
     "text": [
      "Setting `pad_token_id` to `eos_token_id`:128001 for open-end generation.\n"
     ]
    },
    {
     "name": "stdout",
     "output_type": "stream",
     "text": [
      "Test Output for ID ont_4_book_test_41: author(House of Odd,Landry Walker)  illustrator(House of Odd,Queenie Chan)\n",
      "Parsed Triples for ID ont_4_book_test_41: [{'sub': 'House of Odd', 'rel': 'author', 'obj': 'Landry Walker'}, {'sub': 'House of Odd', 'rel': '  illustrator', 'obj': 'Queenie Chan'}]\n"
     ]
    },
    {
     "name": "stderr",
     "output_type": "stream",
     "text": [
      "Setting `pad_token_id` to `eos_token_id`:128001 for open-end generation.\n"
     ]
    },
    {
     "name": "stdout",
     "output_type": "stream",
     "text": [
      "Test Output for ID ont_4_book_test_42: illustrator(,Zhu Chengliang), illustrator(,Ron Brooks), illustrator(,Gian Calvi), illustrator(,Leo), illustrator(,Akiko Hayashi), illustrator(,Diane Dillon), illustrator(,Raymond Briggs)\n",
      "Parsed Triples for ID ont_4_book_test_42: []\n"
     ]
    },
    {
     "name": "stderr",
     "output_type": "stream",
     "text": [
      "Setting `pad_token_id` to `eos_token_id`:128001 for open-end generation.\n"
     ]
    },
    {
     "name": "stdout",
     "output_type": "stream",
     "text": [
      "Test Output for ID ont_4_book_test_43: publisher(Adventure House Press,)\n",
      "Parsed Triples for ID ont_4_book_test_43: []\n"
     ]
    },
    {
     "name": "stderr",
     "output_type": "stream",
     "text": [
      "Setting `pad_token_id` to `eos_token_id`:128001 for open-end generation.\n"
     ]
    },
    {
     "name": "stdout",
     "output_type": "stream",
     "text": [
      "Test Output for ID ont_4_book_test_44: author(In Odd We Trust,Koontz), author(In Odd We Trust,Queenie Chan)\n",
      "Parsed Triples for ID ont_4_book_test_44: [{'sub': 'In Odd We Trust', 'rel': 'author', 'obj': 'Koontz'}, {'sub': 'In Odd We Trust', 'rel': ', author', 'obj': 'Queenie Chan'}]\n"
     ]
    },
    {
     "name": "stderr",
     "output_type": "stream",
     "text": [
      "Setting `pad_token_id` to `eos_token_id`:128001 for open-end generation.\n"
     ]
    },
    {
     "name": "stdout",
     "output_type": "stream",
     "text": [
      "Test Output for ID ont_4_book_test_45: illustrator(All in a Day,Raymond Briggs)\n",
      "Parsed Triples for ID ont_4_book_test_45: [{'sub': 'All in a Day', 'rel': 'illustrator', 'obj': 'Raymond Briggs'}]\n"
     ]
    },
    {
     "name": "stderr",
     "output_type": "stream",
     "text": [
      "Setting `pad_token_id` to `eos_token_id`:128001 for open-end generation.\n"
     ]
    },
    {
     "name": "stdout",
     "output_type": "stream",
     "text": [
      "Test Output for ID ont_4_book_test_46: illustrator(,John Rocco), publication_date(The Son of Neptune,October 4, 2011), author(The Son of Neptune,Rick Riordan), publisher(The Son of Neptune,Disney-Hyperion)\n",
      "Parsed Triples for ID ont_4_book_test_46: [{'sub': 'The Son of Neptune', 'rel': 'illustrator(,John Rocco), publication_date', 'obj': 'October 4, 2011'}, {'sub': 'The Son of Neptune', 'rel': ', author', 'obj': 'Rick Riordan'}, {'sub': 'The Son of Neptune', 'rel': ', publisher', 'obj': 'Disney-Hyperion'}]\n"
     ]
    },
    {
     "name": "stderr",
     "output_type": "stream",
     "text": [
      "Setting `pad_token_id` to `eos_token_id`:128001 for open-end generation.\n"
     ]
    },
    {
     "name": "stdout",
     "output_type": "stream",
     "text": [
      "Test Output for ID ont_4_book_test_47: publisher(The Jiro Kuwata Batmanga,DC Comics), followed_by(The Jiro Kuwata Batmanga,DC Comics), publication_date(The Jiro Kuwata Batmanga,July 2014),\n",
      "Parsed Triples for ID ont_4_book_test_47: [{'sub': 'The Jiro Kuwata Batmanga', 'rel': 'publisher', 'obj': 'DC Comics'}, {'sub': 'The Jiro Kuwata Batmanga', 'rel': ', followed_by', 'obj': 'DC Comics'}, {'sub': 'The Jiro Kuwata Batmanga', 'rel': ', publication_date', 'obj': 'July 2014'}]\n"
     ]
    },
    {
     "name": "stderr",
     "output_type": "stream",
     "text": [
      "Setting `pad_token_id` to `eos_token_id`:128001 for open-end generation.\n"
     ]
    },
    {
     "name": "stdout",
     "output_type": "stream",
     "text": [
      "Test Output for ID ont_4_book_test_48: illustrator(The Last Hero,Paul Kidby)\n",
      "Parsed Triples for ID ont_4_book_test_48: [{'sub': 'The Last Hero', 'rel': 'illustrator', 'obj': 'Paul Kidby'}]\n"
     ]
    },
    {
     "name": "stderr",
     "output_type": "stream",
     "text": [
      "Setting `pad_token_id` to `eos_token_id`:128001 for open-end generation.\n"
     ]
    },
    {
     "name": "stdout",
     "output_type": "stream",
     "text": [
      "Test Output for ID ont_4_book_test_49: illustrator(,James Thornhill)\n",
      "Parsed Triples for ID ont_4_book_test_49: []\n"
     ]
    },
    {
     "name": "stderr",
     "output_type": "stream",
     "text": [
      "Setting `pad_token_id` to `eos_token_id`:128001 for open-end generation.\n"
     ]
    },
    {
     "name": "stdout",
     "output_type": "stream",
     "text": [
      "Test Output for ID ont_4_book_test_50: illustrator(A Monster Calls,Jim Kay), author(A Monster Calls,Patrick Ness), publisher(A Monster Calls, Walker), publication_date(A Monster Calls,2011-01-14), characters(A Monster Calls,Conrad), characters(A Monster Calls,Monster), characters(A Monster Calls,Grandma), characters(A Monster Calls,Grandfather), characters(A Monster Calls,Annie), characters(A Monster Calls,The Lady), characters(A Monster Calls,The Man), characters(A Monster Calls,The Beast), characters(A Monster Calls,The Wolf), characters(A Monster Calls,The Princess), characters(A Monster Calls,The Prince), characters(A Monster Calls,The Doctor), characters(A Monster Calls,The Girl), characters(A Monster Calls,The Boy), characters(A Monster Calls,The Teacher), characters(A Monster Calls,The Friend), characters(A Monster Calls,The Stranger), characters(A Monster Calls,The Enemy), characters(A Monster Calls,The Other), characters(A Monster Calls,The One), characters(A Monster Calls,The Girl), characters(A Monster Calls,The Boy), characters(A Monster Calls,The Teacher), characters(A Monster Calls,The Friend), characters(A Monster Calls,The Stranger), characters(A Monster Calls,The Enemy), characters(A Monster Calls,The Other), characters(A Monster Calls,The One), characters(A Monster Calls,The Girl), characters(A Monster Calls,The Boy), characters(A Monster Calls,The Teacher), characters(A Monster Calls,The Friend), characters(A Monster Calls,The Stranger), characters(A Monster Calls,The Enemy), characters(A Monster Calls,The Other), characters(A Monster Calls,The One), characters(A Monster Calls,The Girl), characters(A Monster Calls,The Boy), characters(A Monster Calls,The Teacher), characters(A Monster Calls,The Friend), characters(A Monster Calls,The Stranger), characters(A Monster Calls,The Enemy), characters(A Monster Calls,The Other), characters(A Monster Calls,The One), characters(A Monster Calls,The Girl), characters(A Monster Calls,The Boy), characters(A Monster Calls,The Teacher), characters(A Monster Calls,The Friend), characters(A Monster Calls,The Stranger), characters(A Monster Calls,The Enemy), characters(A Monster Calls,The Other), characters(A Monster Calls,The One), characters(A Monster Calls,The Girl), characters(A Monster Calls,The Boy), characters(A Monster Calls,The Teacher), characters(A Monster Calls,The Friend), characters(A Monster Calls,The Stranger), characters(A Monster Calls,The Enemy), characters(A Monster Calls,The Other), characters(A Monster Calls,The One), characters(A Monster Calls,The Girl), characters(A Monster Calls,The Boy), characters(A Monster Calls,The Teacher), characters(A Monster Calls,The Friend), characters(A Monster Calls,The Stranger), characters(A Monster Calls,The Enemy), characters(A Monster Calls,The Other), characters(A Monster Calls,The One), characters(A Monster Calls,The Girl), characters(A Monster Calls,The Boy), characters(A Monster Calls,The Teacher), characters(A Monster Calls,The Friend), characters(A Monster Calls,The Stranger), characters(A Monster Calls,The Enemy), characters(A Monster Calls,The Other), characters(A Monster Calls,The One), characters(A Monster Calls,The Girl), characters(A Monster Calls,The Boy), characters(A Monster Calls,The Teacher), characters(A Monster Calls,The Friend), characters(A Monster Calls,The Stranger), characters(A Monster\n",
      "Parsed Triples for ID ont_4_book_test_50: [{'sub': 'A Monster Calls', 'rel': 'illustrator', 'obj': 'Jim Kay'}, {'sub': 'A Monster Calls', 'rel': ', author', 'obj': 'Patrick Ness'}, {'sub': 'A Monster Calls', 'rel': ', publisher', 'obj': 'Walker'}, {'sub': 'A Monster Calls', 'rel': ', publication_date', 'obj': '2011-01-14'}, {'sub': 'A Monster Calls', 'rel': ', characters', 'obj': 'Conrad'}, {'sub': 'A Monster Calls', 'rel': ', characters', 'obj': 'Monster'}, {'sub': 'A Monster Calls', 'rel': ', characters', 'obj': 'Grandma'}, {'sub': 'A Monster Calls', 'rel': ', characters', 'obj': 'Grandfather'}, {'sub': 'A Monster Calls', 'rel': ', characters', 'obj': 'Annie'}, {'sub': 'A Monster Calls', 'rel': ', characters', 'obj': 'The Lady'}, {'sub': 'A Monster Calls', 'rel': ', characters', 'obj': 'The Man'}, {'sub': 'A Monster Calls', 'rel': ', characters', 'obj': 'The Beast'}, {'sub': 'A Monster Calls', 'rel': ', characters', 'obj': 'The Wolf'}, {'sub': 'A Monster Calls', 'rel': ', characters', 'obj': 'The Princess'}, {'sub': 'A Monster Calls', 'rel': ', characters', 'obj': 'The Prince'}, {'sub': 'A Monster Calls', 'rel': ', characters', 'obj': 'The Doctor'}, {'sub': 'A Monster Calls', 'rel': ', characters', 'obj': 'The Girl'}, {'sub': 'A Monster Calls', 'rel': ', characters', 'obj': 'The Boy'}, {'sub': 'A Monster Calls', 'rel': ', characters', 'obj': 'The Teacher'}, {'sub': 'A Monster Calls', 'rel': ', characters', 'obj': 'The Friend'}, {'sub': 'A Monster Calls', 'rel': ', characters', 'obj': 'The Stranger'}, {'sub': 'A Monster Calls', 'rel': ', characters', 'obj': 'The Enemy'}, {'sub': 'A Monster Calls', 'rel': ', characters', 'obj': 'The Other'}, {'sub': 'A Monster Calls', 'rel': ', characters', 'obj': 'The One'}, {'sub': 'A Monster Calls', 'rel': ', characters', 'obj': 'The Girl'}, {'sub': 'A Monster Calls', 'rel': ', characters', 'obj': 'The Boy'}, {'sub': 'A Monster Calls', 'rel': ', characters', 'obj': 'The Teacher'}, {'sub': 'A Monster Calls', 'rel': ', characters', 'obj': 'The Friend'}, {'sub': 'A Monster Calls', 'rel': ', characters', 'obj': 'The Stranger'}, {'sub': 'A Monster Calls', 'rel': ', characters', 'obj': 'The Enemy'}, {'sub': 'A Monster Calls', 'rel': ', characters', 'obj': 'The Other'}, {'sub': 'A Monster Calls', 'rel': ', characters', 'obj': 'The One'}, {'sub': 'A Monster Calls', 'rel': ', characters', 'obj': 'The Girl'}, {'sub': 'A Monster Calls', 'rel': ', characters', 'obj': 'The Boy'}, {'sub': 'A Monster Calls', 'rel': ', characters', 'obj': 'The Teacher'}, {'sub': 'A Monster Calls', 'rel': ', characters', 'obj': 'The Friend'}, {'sub': 'A Monster Calls', 'rel': ', characters', 'obj': 'The Stranger'}, {'sub': 'A Monster Calls', 'rel': ', characters', 'obj': 'The Enemy'}, {'sub': 'A Monster Calls', 'rel': ', characters', 'obj': 'The Other'}, {'sub': 'A Monster Calls', 'rel': ', characters', 'obj': 'The One'}, {'sub': 'A Monster Calls', 'rel': ', characters', 'obj': 'The Girl'}, {'sub': 'A Monster Calls', 'rel': ', characters', 'obj': 'The Boy'}, {'sub': 'A Monster Calls', 'rel': ', characters', 'obj': 'The Teacher'}, {'sub': 'A Monster Calls', 'rel': ', characters', 'obj': 'The Friend'}, {'sub': 'A Monster Calls', 'rel': ', characters', 'obj': 'The Stranger'}, {'sub': 'A Monster Calls', 'rel': ', characters', 'obj': 'The Enemy'}, {'sub': 'A Monster Calls', 'rel': ', characters', 'obj': 'The Other'}, {'sub': 'A Monster Calls', 'rel': ', characters', 'obj': 'The One'}, {'sub': 'A Monster Calls', 'rel': ', characters', 'obj': 'The Girl'}, {'sub': 'A Monster Calls', 'rel': ', characters', 'obj': 'The Boy'}, {'sub': 'A Monster Calls', 'rel': ', characters', 'obj': 'The Teacher'}, {'sub': 'A Monster Calls', 'rel': ', characters', 'obj': 'The Friend'}, {'sub': 'A Monster Calls', 'rel': ', characters', 'obj': 'The Stranger'}, {'sub': 'A Monster Calls', 'rel': ', characters', 'obj': 'The Enemy'}, {'sub': 'A Monster Calls', 'rel': ', characters', 'obj': 'The Other'}, {'sub': 'A Monster Calls', 'rel': ', characters', 'obj': 'The One'}, {'sub': 'A Monster Calls', 'rel': ', characters', 'obj': 'The Girl'}, {'sub': 'A Monster Calls', 'rel': ', characters', 'obj': 'The Boy'}, {'sub': 'A Monster Calls', 'rel': ', characters', 'obj': 'The Teacher'}, {'sub': 'A Monster Calls', 'rel': ', characters', 'obj': 'The Friend'}, {'sub': 'A Monster Calls', 'rel': ', characters', 'obj': 'The Stranger'}, {'sub': 'A Monster Calls', 'rel': ', characters', 'obj': 'The Enemy'}, {'sub': 'A Monster Calls', 'rel': ', characters', 'obj': 'The Other'}, {'sub': 'A Monster Calls', 'rel': ', characters', 'obj': 'The One'}, {'sub': 'A Monster Calls', 'rel': ', characters', 'obj': 'The Girl'}, {'sub': 'A Monster Calls', 'rel': ', characters', 'obj': 'The Boy'}, {'sub': 'A Monster Calls', 'rel': ', characters', 'obj': 'The Teacher'}, {'sub': 'A Monster Calls', 'rel': ', characters', 'obj': 'The Friend'}, {'sub': 'A Monster Calls', 'rel': ', characters', 'obj': 'The Stranger'}, {'sub': 'A Monster Calls', 'rel': ', characters', 'obj': 'The Enemy'}, {'sub': 'A Monster Calls', 'rel': ', characters', 'obj': 'The Other'}, {'sub': 'A Monster Calls', 'rel': ', characters', 'obj': 'The One'}, {'sub': 'A Monster Calls', 'rel': ', characters', 'obj': 'The Girl'}, {'sub': 'A Monster Calls', 'rel': ', characters', 'obj': 'The Boy'}, {'sub': 'A Monster Calls', 'rel': ', characters', 'obj': 'The Teacher'}, {'sub': 'A Monster Calls', 'rel': ', characters', 'obj': 'The Friend'}, {'sub': 'A Monster Calls', 'rel': ', characters', 'obj': 'The Stranger'}, {'sub': 'A Monster Calls', 'rel': ', characters', 'obj': 'The Enemy'}, {'sub': 'A Monster Calls', 'rel': ', characters', 'obj': 'The Other'}, {'sub': 'A Monster Calls', 'rel': ', characters', 'obj': 'The One'}, {'sub': 'A Monster Calls', 'rel': ', characters', 'obj': 'The Girl'}, {'sub': 'A Monster Calls', 'rel': ', characters', 'obj': 'The Boy'}, {'sub': 'A Monster Calls', 'rel': ', characters', 'obj': 'The Teacher'}, {'sub': 'A Monster Calls', 'rel': ', characters', 'obj': 'The Friend'}, {'sub': 'A Monster Calls', 'rel': ', characters', 'obj': 'The Stranger'}]\n"
     ]
    },
    {
     "name": "stderr",
     "output_type": "stream",
     "text": [
      "Setting `pad_token_id` to `eos_token_id`:128001 for open-end generation.\n"
     ]
    },
    {
     "name": "stdout",
     "output_type": "stream",
     "text": [
      "Test Output for ID ont_4_book_test_51: illustrator(Panda Bear, Panda Bear, What Do You See?,Eric Carle), publication_date(Panda Bear, Panda Bear, What Do You See?,1991-01-01), author(Panda Bear, Panda Bear, What Do You See?,Bill Martin, Jr.), publisher(Panda Bear, Panda Bear, What Do You See?,Penguin Books), characters(Panda Bear, Panda Bear, What Do You See?,Panda Bear, Panda Bear, What Do You See?,Panda Bear, Panda Bear, What Do You See?,Panda Bear, Panda Bear, What Do You See?,Panda Bear, Panda Bear, What Do You See?,Panda Bear, Panda Bear, What Do You See?,Panda Bear, Panda Bear, What Do You See?,Panda Bear, Panda Bear, What Do You See?,Panda Bear, Panda Bear, What Do You See?,Panda Bear, Panda Bear, What Do You See?,Panda Bear, Panda Bear, What Do You See?,Panda Bear, Panda Bear, What Do You See?,Panda Bear, Panda Bear, What Do You See?,Panda Bear, Panda Bear, What Do You See?,Panda Bear, Panda Bear, What Do You See?,Panda Bear, Panda Bear, What Do You See?,Panda Bear, Panda Bear, What Do You See?,Panda Bear, Panda Bear, What Do You See?,Panda Bear, Panda Bear, What Do You See?,Panda Bear, Panda Bear, What Do You See?,Panda Bear, Panda Bear, What Do You See?,Panda Bear, Panda Bear, What Do You See?,Panda Bear, Panda Bear, What Do You See?,Panda Bear, Panda Bear, What Do You See?,Panda Bear, Panda Bear, What Do You See?,Panda Bear, Panda Bear, What Do You See?,Panda Bear, Panda Bear, What Do You See?,Panda Bear, Panda Bear, What Do You See?,Panda Bear, Panda Bear, What Do You See?,Panda Bear, Panda Bear, What Do You See?,Panda Bear, Panda Bear, What Do You See?,Panda Bear, Panda Bear, What Do You See?,Panda Bear, Panda Bear, What Do You See?,Panda Bear, Panda Bear, What Do You See?,Panda Bear, Panda Bear, What Do You See?,Panda Bear, Panda Bear, What Do You See?,Panda Bear, Panda Bear, What Do You See?,Panda Bear, Panda Bear, What Do You See?,Panda Bear, Panda Bear, What Do You See?,Panda Bear, Panda Bear, What Do You See?,Panda Bear, Panda Bear, What Do You See?,Panda Bear, Panda Bear, What Do You See?,Panda Bear, Panda Bear, What Do You See?,Panda Bear, Panda Bear, What Do You See?,Panda Bear, Panda Bear, What Do You See?,Panda Bear, Panda Bear, What Do You See?,Panda Bear, Panda Bear, What Do You See?,Panda Bear, Panda Bear, What Do You See?,Panda Bear, Panda Bear, What Do You See?,Panda Bear, Panda Bear, What Do You See?,Panda Bear, Panda Bear, What Do You See?,Panda Bear, Panda Bear,\n",
      "Parsed Triples for ID ont_4_book_test_51: [{'sub': 'Panda Bear', 'rel': 'illustrator', 'obj': 'Panda Bear, What Do You See?,Eric Carle'}, {'sub': 'Panda Bear', 'rel': ', publication_date', 'obj': 'Panda Bear, What Do You See?,1991-01-01'}, {'sub': 'Panda Bear', 'rel': ', author', 'obj': 'Panda Bear, What Do You See?,Bill Martin, Jr.'}, {'sub': 'Panda Bear', 'rel': ', publisher', 'obj': 'Panda Bear, What Do You See?,Penguin Books'}]\n"
     ]
    },
    {
     "name": "stderr",
     "output_type": "stream",
     "text": [
      "Setting `pad_token_id` to `eos_token_id`:128001 for open-end generation.\n"
     ]
    },
    {
     "name": "stdout",
     "output_type": "stream",
     "text": [
      "Test Output for ID ont_4_book_test_52: illustrator(Basil of Baker Street,Paul Galdone)\n",
      "Parsed Triples for ID ont_4_book_test_52: [{'sub': 'Basil of Baker Street', 'rel': 'illustrator', 'obj': 'Paul Galdone'}]\n"
     ]
    },
    {
     "name": "stderr",
     "output_type": "stream",
     "text": [
      "Setting `pad_token_id` to `eos_token_id`:128001 for open-end generation.\n"
     ]
    },
    {
     "name": "stdout",
     "output_type": "stream",
     "text": [
      "Test Output for ID ont_4_book_test_53: illustrator(Click, Clack, Quackity-Quack,Betsy Lewin), author(Click, Clack, Quackity-Quack,Doreen Cronin), publication_date(Click, Clack, Quackity-Quack,2001-08-01)\n",
      "Parsed Triples for ID ont_4_book_test_53: [{'sub': 'Click', 'rel': 'illustrator', 'obj': 'Clack, Quackity-Quack,Betsy Lewin'}, {'sub': 'Click', 'rel': ', author', 'obj': 'Clack, Quackity-Quack,Doreen Cronin'}, {'sub': 'Click', 'rel': ', publication_date', 'obj': 'Clack, Quackity-Quack,2001-08-01'}]\n"
     ]
    },
    {
     "name": "stderr",
     "output_type": "stream",
     "text": [
      "Setting `pad_token_id` to `eos_token_id`:128001 for open-end generation.\n"
     ]
    },
    {
     "name": "stdout",
     "output_type": "stream",
     "text": [
      "Test Output for ID ont_4_book_test_54: illustrator(,Greg Call), characters(Peter Pan,J. M. Barrie), characters(Peter Pan,Dave Barry), characters(Peter Pan,Ridley Pearson), publication_date(book,October 2009), characters(Peter Pan,Barrie's novel Peter and Wendy), characters(Peter Pan,Barrie's novel Peter and Wendy), characters(Peter Pan,Barrie's novel Peter and Wendy), illustrator(,Greg Call), characters(Peter Pan,J. M. Barrie), characters(Peter Pan,Dave Barry), characters(Peter Pan,Ridley Pearson), publication_date(book,October 2009), characters(Peter Pan,Barrie's novel Peter and Wendy), characters(Peter Pan,Barrie's novel Peter and Wendy), characters(Peter Pan,Barrie's novel Peter and Wendy), illustrator(,Greg Call), characters(Peter Pan,J. M. Barrie), characters(Peter Pan,Dave Barry), characters(Peter Pan,Ridley Pearson), publication_date(book,October 2009), characters(Peter Pan,Barrie's novel Peter and Wendy), characters(Peter Pan,Barrie's novel Peter and Wendy), characters(Peter Pan,Barrie's novel Peter and Wendy), illustrator(,Greg Call), characters(Peter Pan,J. M. Barrie), characters(Peter Pan,Dave Barry), characters(Peter Pan,Ridley Pearson), publication_date(book,October 2009), characters(Peter Pan,Barrie's novel Peter and Wendy), characters(Peter Pan,Barrie's novel Peter and Wendy), characters(Peter Pan,Barrie's novel Peter and Wendy), illustrator(,Greg Call), characters(Peter Pan,J. M. Barrie), characters(Peter Pan,Dave Barry), characters(Peter Pan,Ridley Pearson), publication_date(book,October 2009), characters(Peter Pan,Barrie's novel Peter and Wendy), characters(Peter Pan,Barrie's novel Peter and Wendy), characters(Peter Pan,Barrie's novel Peter and Wendy), illustrator(,Greg Call), characters(Peter Pan,J. M. Barrie), characters(Peter Pan,Dave Barry), characters(Peter Pan,Ridley Pearson), publication_date(book,October 2009), characters(Peter Pan,Barrie's novel Peter and Wendy), characters(Peter Pan,Barrie's novel Peter and Wendy), characters(Peter Pan,Barrie's novel Peter and Wendy), illustrator(,Greg Call), characters(Peter Pan,J. M. Barrie), characters(Peter Pan,Dave Barry), characters(Peter Pan,Ridley Pearson), publication_date(book,October 2009), characters(Peter Pan,Barrie's novel Peter and Wendy), characters(Peter Pan,Barrie's novel Peter and Wendy), characters(Peter Pan,Barrie's novel Peter and Wendy), illustrator(,Greg Call), characters(Peter Pan,J. M. Barrie), characters(Peter Pan,Dave Barry), characters(Peter Pan,Ridley Pearson), publication_date(book,October 2009), characters(Peter Pan,Barrie's novel Peter and Wendy), characters(Peter Pan,Barrie's novel Peter and Wendy), characters(Peter Pan,Barrie's novel Peter and Wendy), illustrator(,Greg Call), characters(Peter Pan,J. M. Barrie), characters(Peter Pan,Dave\n",
      "Parsed Triples for ID ont_4_book_test_54: [{'sub': 'Peter Pan', 'rel': 'illustrator(,Greg Call), characters', 'obj': 'J. M. Barrie'}, {'sub': 'Peter Pan', 'rel': ', characters', 'obj': 'Dave Barry'}, {'sub': 'Peter Pan', 'rel': ', characters', 'obj': 'Ridley Pearson'}, {'sub': 'book', 'rel': ', publication_date', 'obj': 'October 2009'}, {'sub': 'Peter Pan', 'rel': ', characters', 'obj': \"Barrie's novel Peter and Wendy\"}, {'sub': 'Peter Pan', 'rel': ', characters', 'obj': \"Barrie's novel Peter and Wendy\"}, {'sub': 'Peter Pan', 'rel': ', characters', 'obj': \"Barrie's novel Peter and Wendy\"}, {'sub': 'Peter Pan', 'rel': ', illustrator(,Greg Call), characters', 'obj': 'J. M. Barrie'}, {'sub': 'Peter Pan', 'rel': ', characters', 'obj': 'Dave Barry'}, {'sub': 'Peter Pan', 'rel': ', characters', 'obj': 'Ridley Pearson'}, {'sub': 'book', 'rel': ', publication_date', 'obj': 'October 2009'}, {'sub': 'Peter Pan', 'rel': ', characters', 'obj': \"Barrie's novel Peter and Wendy\"}, {'sub': 'Peter Pan', 'rel': ', characters', 'obj': \"Barrie's novel Peter and Wendy\"}, {'sub': 'Peter Pan', 'rel': ', characters', 'obj': \"Barrie's novel Peter and Wendy\"}, {'sub': 'Peter Pan', 'rel': ', illustrator(,Greg Call), characters', 'obj': 'J. M. Barrie'}, {'sub': 'Peter Pan', 'rel': ', characters', 'obj': 'Dave Barry'}, {'sub': 'Peter Pan', 'rel': ', characters', 'obj': 'Ridley Pearson'}, {'sub': 'book', 'rel': ', publication_date', 'obj': 'October 2009'}, {'sub': 'Peter Pan', 'rel': ', characters', 'obj': \"Barrie's novel Peter and Wendy\"}, {'sub': 'Peter Pan', 'rel': ', characters', 'obj': \"Barrie's novel Peter and Wendy\"}, {'sub': 'Peter Pan', 'rel': ', characters', 'obj': \"Barrie's novel Peter and Wendy\"}, {'sub': 'Peter Pan', 'rel': ', illustrator(,Greg Call), characters', 'obj': 'J. M. Barrie'}, {'sub': 'Peter Pan', 'rel': ', characters', 'obj': 'Dave Barry'}, {'sub': 'Peter Pan', 'rel': ', characters', 'obj': 'Ridley Pearson'}, {'sub': 'book', 'rel': ', publication_date', 'obj': 'October 2009'}, {'sub': 'Peter Pan', 'rel': ', characters', 'obj': \"Barrie's novel Peter and Wendy\"}, {'sub': 'Peter Pan', 'rel': ', characters', 'obj': \"Barrie's novel Peter and Wendy\"}, {'sub': 'Peter Pan', 'rel': ', characters', 'obj': \"Barrie's novel Peter and Wendy\"}, {'sub': 'Peter Pan', 'rel': ', illustrator(,Greg Call), characters', 'obj': 'J. M. Barrie'}, {'sub': 'Peter Pan', 'rel': ', characters', 'obj': 'Dave Barry'}, {'sub': 'Peter Pan', 'rel': ', characters', 'obj': 'Ridley Pearson'}, {'sub': 'book', 'rel': ', publication_date', 'obj': 'October 2009'}, {'sub': 'Peter Pan', 'rel': ', characters', 'obj': \"Barrie's novel Peter and Wendy\"}, {'sub': 'Peter Pan', 'rel': ', characters', 'obj': \"Barrie's novel Peter and Wendy\"}, {'sub': 'Peter Pan', 'rel': ', characters', 'obj': \"Barrie's novel Peter and Wendy\"}, {'sub': 'Peter Pan', 'rel': ', illustrator(,Greg Call), characters', 'obj': 'J. M. Barrie'}, {'sub': 'Peter Pan', 'rel': ', characters', 'obj': 'Dave Barry'}, {'sub': 'Peter Pan', 'rel': ', characters', 'obj': 'Ridley Pearson'}, {'sub': 'book', 'rel': ', publication_date', 'obj': 'October 2009'}, {'sub': 'Peter Pan', 'rel': ', characters', 'obj': \"Barrie's novel Peter and Wendy\"}, {'sub': 'Peter Pan', 'rel': ', characters', 'obj': \"Barrie's novel Peter and Wendy\"}, {'sub': 'Peter Pan', 'rel': ', characters', 'obj': \"Barrie's novel Peter and Wendy\"}, {'sub': 'Peter Pan', 'rel': ', illustrator(,Greg Call), characters', 'obj': 'J. M. Barrie'}, {'sub': 'Peter Pan', 'rel': ', characters', 'obj': 'Dave Barry'}, {'sub': 'Peter Pan', 'rel': ', characters', 'obj': 'Ridley Pearson'}, {'sub': 'book', 'rel': ', publication_date', 'obj': 'October 2009'}, {'sub': 'Peter Pan', 'rel': ', characters', 'obj': \"Barrie's novel Peter and Wendy\"}, {'sub': 'Peter Pan', 'rel': ', characters', 'obj': \"Barrie's novel Peter and Wendy\"}, {'sub': 'Peter Pan', 'rel': ', characters', 'obj': \"Barrie's novel Peter and Wendy\"}, {'sub': 'Peter Pan', 'rel': ', illustrator(,Greg Call), characters', 'obj': 'J. M. Barrie'}, {'sub': 'Peter Pan', 'rel': ', characters', 'obj': 'Dave Barry'}, {'sub': 'Peter Pan', 'rel': ', characters', 'obj': 'Ridley Pearson'}, {'sub': 'book', 'rel': ', publication_date', 'obj': 'October 2009'}, {'sub': 'Peter Pan', 'rel': ', characters', 'obj': \"Barrie's novel Peter and Wendy\"}, {'sub': 'Peter Pan', 'rel': ', characters', 'obj': \"Barrie's novel Peter and Wendy\"}, {'sub': 'Peter Pan', 'rel': ', characters', 'obj': \"Barrie's novel Peter and Wendy\"}, {'sub': 'Peter Pan', 'rel': ', illustrator(,Greg Call), characters', 'obj': 'J. M. Barrie'}]\n"
     ]
    },
    {
     "name": "stderr",
     "output_type": "stream",
     "text": [
      "Setting `pad_token_id` to `eos_token_id`:128001 for open-end generation.\n"
     ]
    },
    {
     "name": "stdout",
     "output_type": "stream",
     "text": [
      "Test Output for ID ont_4_book_test_55: genre(Flambards in Summer,children's novel) illustrator(Flambards in Summer,Victor Ambrus) publication_date(Flambards in Summer,1969) author(Flambards in Summer,K. M. Peyton) publisher(Flambards in Summer,Oxford)\n",
      "Parsed Triples for ID ont_4_book_test_55: [{'sub': 'Flambards in Summer', 'rel': 'genre', 'obj': \"children's novel\"}, {'sub': 'Flambards in Summer', 'rel': ' illustrator', 'obj': 'Victor Ambrus'}, {'sub': 'Flambards in Summer', 'rel': ' publication_date', 'obj': '1969'}, {'sub': 'Flambards in Summer', 'rel': ' author', 'obj': 'K. M. Peyton'}, {'sub': 'Flambards in Summer', 'rel': ' publisher', 'obj': 'Oxford'}]\n"
     ]
    },
    {
     "name": "stderr",
     "output_type": "stream",
     "text": [
      "Setting `pad_token_id` to `eos_token_id`:128001 for open-end generation.\n"
     ]
    },
    {
     "name": "stdout",
     "output_type": "stream",
     "text": [
      "Test Output for ID ont_4_book_test_56: illustrator(The book,Gray Jolliffe)\n",
      "Parsed Triples for ID ont_4_book_test_56: [{'sub': 'The book', 'rel': 'illustrator', 'obj': 'Gray Jolliffe'}]\n"
     ]
    },
    {
     "name": "stderr",
     "output_type": "stream",
     "text": [
      "Setting `pad_token_id` to `eos_token_id`:128001 for open-end generation.\n"
     ]
    },
    {
     "name": "stdout",
     "output_type": "stream",
     "text": [
      "Test Output for ID ont_4_book_test_57: illustrator(Exploding Kittens,Matthew Inman)\n",
      "Parsed Triples for ID ont_4_book_test_57: [{'sub': 'Exploding Kittens', 'rel': 'illustrator', 'obj': 'Matthew Inman'}]\n"
     ]
    },
    {
     "name": "stderr",
     "output_type": "stream",
     "text": [
      "Setting `pad_token_id` to `eos_token_id`:128001 for open-end generation.\n"
     ]
    },
    {
     "name": "stdout",
     "output_type": "stream",
     "text": [
      "Test Output for ID ont_4_book_test_58: author(Doctor Dolittle's Return,Hugh Lofting), publication_date(Doctor Dolittle's Return,1933), book(Doctor Dolittle's Return), publication(Doctor Dolittle's Return), book(Doctor Dolittle's Return), human(Hugh Lofting), literary work(Doctor Dolittle's Return), human(Hugh Lofting), book(Doctor Dolittle's Return), book(Doctor Dolittle's Return), book(Doctor Dolittle's Return), book(Doctor Dolittle's Return), book(Doctor Dolittle's Return), book(Doctor Dolittle's Return), book(Doctor Dolittle's Return), book(Doctor Dolittle's Return), book(Doctor Dolittle's Return), book(Doctor Dolittle's Return), book(Doctor Dolittle's Return), book(Doctor Dolittle's Return), book(Doctor Dolittle's Return), book(Doctor Dolittle's Return), book(Doctor Dolittle's Return), book(Doctor Dolittle's Return), book(Doctor Dolittle's Return), book(Doctor Dolittle's Return), book(Doctor Dolittle's Return), book(Doctor Dolittle's Return), book(Doctor Dolittle's Return), book(Doctor Dolittle's Return), book(Doctor Dolittle's Return), book(Doctor Dolittle's Return), book(Doctor Dolittle's Return), book(Doctor Dolittle's Return), book(Doctor Dolittle's Return), book(Doctor Dolittle's Return), book(Doctor Dolittle's Return), book(Doctor Dolittle's Return), book(Doctor Dolittle's Return), book(Doctor Dolittle's Return), book(Doctor Dolittle's Return), book(Doctor Dolittle's Return), book(Doctor Dolittle's Return), book(Doctor Dolittle's Return), book(Doctor Dolittle's Return), book(Doctor Dolittle's Return), book(Doctor Dolittle's Return), book(Doctor Dolittle's Return), book(Doctor Dolittle's Return), book(Doctor Dolittle's Return), book(Doctor Dolittle's Return), book(Doctor Dolittle's Return), book(Doctor Dolittle's Return), book(Doctor Dolittle's Return), book(Doctor Dolittle's Return), book(Doctor Dolittle's Return), book(Doctor Dolittle's Return), book(Doctor Dolittle's Return), book(Doctor Dolittle's Return), book(Doctor Dolittle's Return), book(Doctor Dolittle's Return), book(Doctor Dolittle's Return), book(Doctor Dolittle's Return), book(Doctor Dolittle's Return), book(Doctor Dolittle's Return), book(Doctor Dolittle's Return), book(Doctor Dolittle's Return), book(Doctor Dolittle's Return), book(Doctor Dolittle's Return), book(Doctor Dolittle's Return), book(Doctor Dolittle's Return), book(Doctor Dolittle's Return), book(Doctor Dolittle's Return), book(Doctor Dolittle's Return), book(Doctor Dolittle's Return), book(Doctor Dolittle's Return), book(Doctor Dolittle's Return), book(Doctor Dolittle's Return), book(Doctor Dolittle's Return), book(Doctor Dolittle's Return), book(Doctor Dolittle's Return), book(Doctor Dolittle's Return), book(Doctor Dolittle's Return), book(Doctor Dolittle's Return), book(Doctor Dolittle's Return), book(Doctor Dolittle's Return), book(\n",
      "Parsed Triples for ID ont_4_book_test_58: [{'sub': \"Doctor Dolittle's Return\", 'rel': 'author', 'obj': 'Hugh Lofting'}, {'sub': \"Doctor Dolittle's Return\", 'rel': ', publication_date', 'obj': '1933'}, {'sub': \"Doctor Dolittle's Return)\", 'rel': ', book', 'obj': \"publication(Doctor Dolittle's Return\"}, {'sub': \"Doctor Dolittle's Return)\", 'rel': ', book', 'obj': 'human(Hugh Lofting'}, {'sub': \"Doctor Dolittle's Return)\", 'rel': ', literary work', 'obj': 'human(Hugh Lofting'}, {'sub': \"Doctor Dolittle's Return)\", 'rel': ', book', 'obj': \"book(Doctor Dolittle's Return\"}, {'sub': \"Doctor Dolittle's Return)\", 'rel': ', book', 'obj': \"book(Doctor Dolittle's Return\"}, {'sub': \"Doctor Dolittle's Return)\", 'rel': ', book', 'obj': \"book(Doctor Dolittle's Return\"}, {'sub': \"Doctor Dolittle's Return)\", 'rel': ', book', 'obj': \"book(Doctor Dolittle's Return\"}, {'sub': \"Doctor Dolittle's Return)\", 'rel': ', book', 'obj': \"book(Doctor Dolittle's Return\"}, {'sub': \"Doctor Dolittle's Return)\", 'rel': ', book', 'obj': \"book(Doctor Dolittle's Return\"}, {'sub': \"Doctor Dolittle's Return)\", 'rel': ', book', 'obj': \"book(Doctor Dolittle's Return\"}, {'sub': \"Doctor Dolittle's Return)\", 'rel': ', book', 'obj': \"book(Doctor Dolittle's Return\"}, {'sub': \"Doctor Dolittle's Return)\", 'rel': ', book', 'obj': \"book(Doctor Dolittle's Return\"}, {'sub': \"Doctor Dolittle's Return)\", 'rel': ', book', 'obj': \"book(Doctor Dolittle's Return\"}, {'sub': \"Doctor Dolittle's Return)\", 'rel': ', book', 'obj': \"book(Doctor Dolittle's Return\"}, {'sub': \"Doctor Dolittle's Return)\", 'rel': ', book', 'obj': \"book(Doctor Dolittle's Return\"}, {'sub': \"Doctor Dolittle's Return)\", 'rel': ', book', 'obj': \"book(Doctor Dolittle's Return\"}, {'sub': \"Doctor Dolittle's Return)\", 'rel': ', book', 'obj': \"book(Doctor Dolittle's Return\"}, {'sub': \"Doctor Dolittle's Return)\", 'rel': ', book', 'obj': \"book(Doctor Dolittle's Return\"}, {'sub': \"Doctor Dolittle's Return)\", 'rel': ', book', 'obj': \"book(Doctor Dolittle's Return\"}, {'sub': \"Doctor Dolittle's Return)\", 'rel': ', book', 'obj': \"book(Doctor Dolittle's Return\"}, {'sub': \"Doctor Dolittle's Return)\", 'rel': ', book', 'obj': \"book(Doctor Dolittle's Return\"}, {'sub': \"Doctor Dolittle's Return)\", 'rel': ', book', 'obj': \"book(Doctor Dolittle's Return\"}, {'sub': \"Doctor Dolittle's Return)\", 'rel': ', book', 'obj': \"book(Doctor Dolittle's Return\"}, {'sub': \"Doctor Dolittle's Return)\", 'rel': ', book', 'obj': \"book(Doctor Dolittle's Return\"}, {'sub': \"Doctor Dolittle's Return)\", 'rel': ', book', 'obj': \"book(Doctor Dolittle's Return\"}, {'sub': \"Doctor Dolittle's Return)\", 'rel': ', book', 'obj': \"book(Doctor Dolittle's Return\"}, {'sub': \"Doctor Dolittle's Return)\", 'rel': ', book', 'obj': \"book(Doctor Dolittle's Return\"}, {'sub': \"Doctor Dolittle's Return)\", 'rel': ', book', 'obj': \"book(Doctor Dolittle's Return\"}, {'sub': \"Doctor Dolittle's Return)\", 'rel': ', book', 'obj': \"book(Doctor Dolittle's Return\"}, {'sub': \"Doctor Dolittle's Return)\", 'rel': ', book', 'obj': \"book(Doctor Dolittle's Return\"}, {'sub': \"Doctor Dolittle's Return)\", 'rel': ', book', 'obj': \"book(Doctor Dolittle's Return\"}, {'sub': \"Doctor Dolittle's Return)\", 'rel': ', book', 'obj': \"book(Doctor Dolittle's Return\"}, {'sub': \"Doctor Dolittle's Return)\", 'rel': ', book', 'obj': \"book(Doctor Dolittle's Return\"}, {'sub': \"Doctor Dolittle's Return)\", 'rel': ', book', 'obj': \"book(Doctor Dolittle's Return\"}, {'sub': \"Doctor Dolittle's Return)\", 'rel': ', book', 'obj': \"book(Doctor Dolittle's Return\"}, {'sub': \"Doctor Dolittle's Return)\", 'rel': ', book', 'obj': \"book(Doctor Dolittle's Return\"}, {'sub': \"Doctor Dolittle's Return)\", 'rel': ', book', 'obj': \"book(Doctor Dolittle's Return\"}, {'sub': \"Doctor Dolittle's Return)\", 'rel': ', book', 'obj': \"book(Doctor Dolittle's Return\"}, {'sub': \"Doctor Dolittle's Return)\", 'rel': ', book', 'obj': \"book(Doctor Dolittle's Return\"}, {'sub': \"Doctor Dolittle's Return)\", 'rel': ', book', 'obj': \"book(Doctor Dolittle's Return\"}, {'sub': \"Doctor Dolittle's Return)\", 'rel': ', book', 'obj': \"book(Doctor Dolittle's Return\"}, {'sub': \"Doctor Dolittle's Return)\", 'rel': ', book', 'obj': \"book(Doctor Dolittle's Return\"}]\n"
     ]
    },
    {
     "name": "stderr",
     "output_type": "stream",
     "text": [
      "Setting `pad_token_id` to `eos_token_id`:128001 for open-end generation.\n"
     ]
    },
    {
     "name": "stdout",
     "output_type": "stream",
     "text": [
      "Test Output for ID ont_4_book_test_59: illustrator(Wombat Divine,Kerry Argent), author(Wombat Divine,Mem Fox), publication_date(Wombat Divine,1995-12-01), genre(Wombat Divine,children's fiction), language_of_work_or_name(Wombat Divine,Australian English), place_of_publication(Wombat Divine,Australia), publication(Wombat Divine,1995-12-01,children's fiction,Australian English,Australia)\n",
      "Parsed Triples for ID ont_4_book_test_59: [{'sub': 'Wombat Divine', 'rel': 'illustrator', 'obj': 'Kerry Argent'}, {'sub': 'Wombat Divine', 'rel': ', author', 'obj': 'Mem Fox'}, {'sub': 'Wombat Divine', 'rel': ', publication_date', 'obj': '1995-12-01'}, {'sub': 'Wombat Divine', 'rel': ', genre', 'obj': \"children's fiction\"}, {'sub': 'Wombat Divine', 'rel': ', language_of_work_or_name', 'obj': 'Australian English'}, {'sub': 'Wombat Divine', 'rel': ', place_of_publication', 'obj': 'Australia'}, {'sub': 'Wombat Divine', 'rel': ', publication', 'obj': \"1995-12-01,children's fiction,Australian English,Australia\"}]\n"
     ]
    },
    {
     "name": "stderr",
     "output_type": "stream",
     "text": [
      "Setting `pad_token_id` to `eos_token_id`:128001 for open-end generation.\n"
     ]
    },
    {
     "name": "stdout",
     "output_type": "stream",
     "text": [
      "Test Output for ID ont_4_book_test_60: illustrator(Sylvester and the Magic Pebble,William Steig)\n",
      "Parsed Triples for ID ont_4_book_test_60: [{'sub': 'Sylvester and the Magic Pebble', 'rel': 'illustrator', 'obj': 'William Steig'}]\n"
     ]
    },
    {
     "name": "stderr",
     "output_type": "stream",
     "text": [
      "Setting `pad_token_id` to `eos_token_id`:128001 for open-end generation.\n"
     ]
    },
    {
     "name": "stdout",
     "output_type": "stream",
     "text": [
      "Test Output for ID ont_4_book_test_61: 1. publication_date(Bolshaya Rossiyskaya entsiklopediya,01 January 2002)\n",
      "Parsed Triples for ID ont_4_book_test_61: [{'sub': 'Bolshaya Rossiyskaya entsiklopediya', 'rel': '1. publication_date', 'obj': '01 January 2002'}]\n"
     ]
    },
    {
     "name": "stderr",
     "output_type": "stream",
     "text": [
      "Setting `pad_token_id` to `eos_token_id`:128001 for open-end generation.\n"
     ]
    },
    {
     "name": "stdout",
     "output_type": "stream",
     "text": [
      "Test Output for ID ont_4_book_test_62: publication_date(Privateer 2,1996), followed_by(Privateer 1,Privateer 2)\n",
      "Parsed Triples for ID ont_4_book_test_62: [{'sub': 'Privateer 2', 'rel': 'publication_date', 'obj': '1996'}, {'sub': 'Privateer 1', 'rel': ', followed_by', 'obj': 'Privateer 2'}]\n"
     ]
    },
    {
     "name": "stderr",
     "output_type": "stream",
     "text": [
      "Setting `pad_token_id` to `eos_token_id`:128001 for open-end generation.\n"
     ]
    },
    {
     "name": "stdout",
     "output_type": "stream",
     "text": [
      "Test Output for ID ont_4_book_test_63: \n",
      "Parsed Triples for ID ont_4_book_test_63: []\n"
     ]
    },
    {
     "name": "stderr",
     "output_type": "stream",
     "text": [
      "Setting `pad_token_id` to `eos_token_id`:128001 for open-end generation.\n"
     ]
    },
    {
     "name": "stdout",
     "output_type": "stream",
     "text": [
      "Test Output for ID ont_4_book_test_64: followed_by(DoReMi Fantasy,TNK III)\n",
      "Parsed Triples for ID ont_4_book_test_64: [{'sub': 'DoReMi Fantasy', 'rel': 'followed_by', 'obj': 'TNK III'}]\n"
     ]
    },
    {
     "name": "stderr",
     "output_type": "stream",
     "text": [
      "Setting `pad_token_id` to `eos_token_id`:128001 for open-end generation.\n"
     ]
    },
    {
     "name": "stdout",
     "output_type": "stream",
     "text": [
      "Test Output for ID ont_4_book_test_65: followed_by(Warlords Battlecry,Warlords Battlecry III), publication_date(Warlords Battlecry,2004), author(Warlords Battlecry,human), publisher(Warlords Battlecry,publisher), characters(Warlords Battlecry,fictional character), editor(trade magazine,human), place_of_publication(,), narrative_location(Warlords Battlecry,territory), genre(Warlords Battlecry,literary genre), language_of_work_or_name(Warlords Battlecry,language), depicts(,)\n",
      "Parsed Triples for ID ont_4_book_test_65: [{'sub': 'Warlords Battlecry', 'rel': 'followed_by', 'obj': 'Warlords Battlecry III'}, {'sub': 'Warlords Battlecry', 'rel': ', publication_date', 'obj': '2004'}, {'sub': 'Warlords Battlecry', 'rel': ', author', 'obj': 'human'}, {'sub': 'Warlords Battlecry', 'rel': ', publisher', 'obj': 'publisher'}, {'sub': 'Warlords Battlecry', 'rel': ', characters', 'obj': 'fictional character'}, {'sub': 'trade magazine', 'rel': ', editor', 'obj': 'human'}, {'sub': 'Warlords Battlecry', 'rel': ', place_of_publication(,), narrative_location', 'obj': 'territory'}, {'sub': 'Warlords Battlecry', 'rel': ', genre', 'obj': 'literary genre'}, {'sub': 'Warlords Battlecry', 'rel': ', language_of_work_or_name', 'obj': 'language'}]\n"
     ]
    },
    {
     "name": "stderr",
     "output_type": "stream",
     "text": [
      "Setting `pad_token_id` to `eos_token_id`:128001 for open-end generation.\n"
     ]
    },
    {
     "name": "stdout",
     "output_type": "stream",
     "text": [
      "Test Output for ID ont_4_book_test_66: illustrator(Moonstone Cherry,human),  followed_by(Imouto Paradise 2,Imouto Paradise 2)\n",
      "Parsed Triples for ID ont_4_book_test_66: [{'sub': 'Moonstone Cherry', 'rel': 'illustrator', 'obj': 'human'}, {'sub': 'Imouto Paradise 2', 'rel': ',  followed_by', 'obj': 'Imouto Paradise 2'}]\n"
     ]
    },
    {
     "name": "stderr",
     "output_type": "stream",
     "text": [
      "Setting `pad_token_id` to `eos_token_id`:128001 for open-end generation.\n"
     ]
    },
    {
     "name": "stdout",
     "output_type": "stream",
     "text": [
      "Test Output for ID ont_4_book_test_67: followed_by(Poker Night,Poker Night 2)\n",
      "Parsed Triples for ID ont_4_book_test_67: [{'sub': 'Poker Night', 'rel': 'followed_by', 'obj': 'Poker Night 2'}]\n"
     ]
    },
    {
     "name": "stderr",
     "output_type": "stream",
     "text": [
      "Setting `pad_token_id` to `eos_token_id`:128001 for open-end generation.\n"
     ]
    },
    {
     "name": "stdout",
     "output_type": "stream",
     "text": [
      "Test Output for ID ont_4_book_test_68: \n",
      "Parsed Triples for ID ont_4_book_test_68: []\n"
     ]
    },
    {
     "name": "stderr",
     "output_type": "stream",
     "text": [
      "Setting `pad_token_id` to `eos_token_id`:128001 for open-end generation.\n"
     ]
    },
    {
     "name": "stdout",
     "output_type": "stream",
     "text": [
      "Test Output for ID ont_4_book_test_69: followed_by(id Tech 3,id Tech 4), followed_by(id Tech 3,Infinity Ward's IW engine), followed_by(Call of Duty 2,Infinity Ward's IW engine)\n",
      "Parsed Triples for ID ont_4_book_test_69: [{'sub': 'id Tech 3', 'rel': 'followed_by', 'obj': 'id Tech 4'}, {'sub': 'id Tech 3', 'rel': ', followed_by', 'obj': \"Infinity Ward's IW engine\"}, {'sub': 'Call of Duty 2', 'rel': ', followed_by', 'obj': \"Infinity Ward's IW engine\"}]\n"
     ]
    },
    {
     "name": "stderr",
     "output_type": "stream",
     "text": [
      "Setting `pad_token_id` to `eos_token_id`:128001 for open-end generation.\n"
     ]
    },
    {
     "name": "stdout",
     "output_type": "stream",
     "text": [
      "Test Output for ID ont_4_book_test_70: followed_by(Mysterious Journey II,Schizm II: Chameleon), followed_by(Mysterious Journey,Mysterious Journey II)\n",
      "Parsed Triples for ID ont_4_book_test_70: [{'sub': 'Mysterious Journey II', 'rel': 'followed_by', 'obj': 'Schizm II: Chameleon'}, {'sub': 'Mysterious Journey', 'rel': ', followed_by', 'obj': 'Mysterious Journey II'}]\n"
     ]
    },
    {
     "name": "stderr",
     "output_type": "stream",
     "text": [
      "Setting `pad_token_id` to `eos_token_id`:128001 for open-end generation.\n"
     ]
    },
    {
     "name": "stdout",
     "output_type": "stream",
     "text": [
      "Test Output for ID ont_4_book_test_71: followed_by(KSnapshot,Spectacle), publication_date(KSnapshot,December 2015)\n",
      "Parsed Triples for ID ont_4_book_test_71: [{'sub': 'KSnapshot', 'rel': 'followed_by', 'obj': 'Spectacle'}, {'sub': 'KSnapshot', 'rel': ', publication_date', 'obj': 'December 2015'}]\n"
     ]
    },
    {
     "name": "stderr",
     "output_type": "stream",
     "text": [
      "Setting `pad_token_id` to `eos_token_id`:128001 for open-end generation.\n"
     ]
    },
    {
     "name": "stdout",
     "output_type": "stream",
     "text": [
      "Test Output for ID ont_4_book_test_72: followed_by(Kessen,Kessen II)\n",
      "Parsed Triples for ID ont_4_book_test_72: [{'sub': 'Kessen', 'rel': 'followed_by', 'obj': 'Kessen II'}]\n"
     ]
    },
    {
     "name": "stderr",
     "output_type": "stream",
     "text": [
      "Setting `pad_token_id` to `eos_token_id`:128001 for open-end generation.\n"
     ]
    },
    {
     "name": "stdout",
     "output_type": "stream",
     "text": [
      "Test Output for ID ont_4_book_test_73: 1. followed_by(Kessen, Kessen III) 2. publication_date(Kessen, 2001) 3. characters(Kessen, Nobunaga Oda) 4. characters(Kessen, Hideyoshi Toyotomi) 5. characters(Kessen, Ieyasu Tokugawa) 6. characters(Kessen, Mitsunari Ishida) 7. characters(Kessen, Shima Sakon) 8. characters(Kessen, Katsuie Shibata) 9. characters(Kessen, Muneshige Kuki) 10. characters(Kessen, Tadakuni Sengoku) 11. characters(Kessen, Magoichi Saika) 12. characters(Kessen, Shingen Takeda) 13. characters(Kessen, Kenshin Uesugi) 14. characters(Kessen, Toshitoshi Honda) 15. characters(Kessen, Nene) 16. characters(Kessen, Chacha) 17. characters(Kessen, Magoichi Saika) 18. characters(Kessen, Shingen Takeda) 19. characters(Kessen, Kenshin Uesugi) 20. characters(Kessen, Toshitoshi Honda) 21. characters(Kessen, Nene) 22. characters(Kessen, Chacha) 23. characters(Kessen, Magoichi Saika) 24. characters(Kessen, Shingen Takeda) 25. characters(Kessen, Kenshin Uesugi) 26. characters(Kessen, Toshitoshi Honda) 27. characters(Kessen, Nene) 28. characters(Kessen, Chacha) 29. characters(Kessen, Magoichi Saika) 30. characters(Kessen, Shingen Takeda) 31. characters(Kessen, Kenshin Uesugi) 32. characters(Kessen, Toshitoshi Honda) 33. characters(Kessen, Nene) 34. characters(Kessen, Chacha) 35. characters(Kessen, Magoichi Saika) 36. characters(Kessen, Shingen Takeda) 37. characters(Kessen, Kenshin Uesugi) 38. characters(Kessen, Toshitoshi Honda) 39. characters(Kessen, Nene) 40. characters(Kessen, Chacha) 41. characters(Kessen, Magoichi Saika) 42. characters(Kessen, Shingen Takeda) 43. characters(Kessen, Kenshin Uesugi) 44. characters(Kessen, Toshitoshi Honda) 45. characters(Kessen, Nene) 46. characters(Kessen, Chacha) 47. characters(Kessen, Magoichi Saika) 48. characters(Kessen, Shingen Takeda) 49. characters(Kessen, Kenshin Uesugi) 50. characters(Kessen, Toshitoshi Honda) 51. characters(Kessen, Nene) 52. characters(Kessen, Chacha) 53. characters(Kessen, Magoichi Saika) 54. characters(Kessen, Shingen Takeda) 55. characters(Kessen, Kenshin Uesugi) 56. characters(Kessen\n",
      "Parsed Triples for ID ont_4_book_test_73: [{'sub': 'Kessen', 'rel': '1. followed_by', 'obj': 'Kessen III'}, {'sub': 'Kessen', 'rel': ' 2. publication_date', 'obj': '2001'}, {'sub': 'Kessen', 'rel': ' 3. characters', 'obj': 'Nobunaga Oda'}, {'sub': 'Kessen', 'rel': ' 4. characters', 'obj': 'Hideyoshi Toyotomi'}, {'sub': 'Kessen', 'rel': ' 5. characters', 'obj': 'Ieyasu Tokugawa'}, {'sub': 'Kessen', 'rel': ' 6. characters', 'obj': 'Mitsunari Ishida'}, {'sub': 'Kessen', 'rel': ' 7. characters', 'obj': 'Shima Sakon'}, {'sub': 'Kessen', 'rel': ' 8. characters', 'obj': 'Katsuie Shibata'}, {'sub': 'Kessen', 'rel': ' 9. characters', 'obj': 'Muneshige Kuki'}, {'sub': 'Kessen', 'rel': ' 10. characters', 'obj': 'Tadakuni Sengoku'}, {'sub': 'Kessen', 'rel': ' 11. characters', 'obj': 'Magoichi Saika'}, {'sub': 'Kessen', 'rel': ' 12. characters', 'obj': 'Shingen Takeda'}, {'sub': 'Kessen', 'rel': ' 13. characters', 'obj': 'Kenshin Uesugi'}, {'sub': 'Kessen', 'rel': ' 14. characters', 'obj': 'Toshitoshi Honda'}, {'sub': 'Kessen', 'rel': ' 15. characters', 'obj': 'Nene'}, {'sub': 'Kessen', 'rel': ' 16. characters', 'obj': 'Chacha'}, {'sub': 'Kessen', 'rel': ' 17. characters', 'obj': 'Magoichi Saika'}, {'sub': 'Kessen', 'rel': ' 18. characters', 'obj': 'Shingen Takeda'}, {'sub': 'Kessen', 'rel': ' 19. characters', 'obj': 'Kenshin Uesugi'}, {'sub': 'Kessen', 'rel': ' 20. characters', 'obj': 'Toshitoshi Honda'}, {'sub': 'Kessen', 'rel': ' 21. characters', 'obj': 'Nene'}, {'sub': 'Kessen', 'rel': ' 22. characters', 'obj': 'Chacha'}, {'sub': 'Kessen', 'rel': ' 23. characters', 'obj': 'Magoichi Saika'}, {'sub': 'Kessen', 'rel': ' 24. characters', 'obj': 'Shingen Takeda'}, {'sub': 'Kessen', 'rel': ' 25. characters', 'obj': 'Kenshin Uesugi'}, {'sub': 'Kessen', 'rel': ' 26. characters', 'obj': 'Toshitoshi Honda'}, {'sub': 'Kessen', 'rel': ' 27. characters', 'obj': 'Nene'}, {'sub': 'Kessen', 'rel': ' 28. characters', 'obj': 'Chacha'}, {'sub': 'Kessen', 'rel': ' 29. characters', 'obj': 'Magoichi Saika'}, {'sub': 'Kessen', 'rel': ' 30. characters', 'obj': 'Shingen Takeda'}, {'sub': 'Kessen', 'rel': ' 31. characters', 'obj': 'Kenshin Uesugi'}, {'sub': 'Kessen', 'rel': ' 32. characters', 'obj': 'Toshitoshi Honda'}, {'sub': 'Kessen', 'rel': ' 33. characters', 'obj': 'Nene'}, {'sub': 'Kessen', 'rel': ' 34. characters', 'obj': 'Chacha'}, {'sub': 'Kessen', 'rel': ' 35. characters', 'obj': 'Magoichi Saika'}, {'sub': 'Kessen', 'rel': ' 36. characters', 'obj': 'Shingen Takeda'}, {'sub': 'Kessen', 'rel': ' 37. characters', 'obj': 'Kenshin Uesugi'}, {'sub': 'Kessen', 'rel': ' 38. characters', 'obj': 'Toshitoshi Honda'}, {'sub': 'Kessen', 'rel': ' 39. characters', 'obj': 'Nene'}, {'sub': 'Kessen', 'rel': ' 40. characters', 'obj': 'Chacha'}, {'sub': 'Kessen', 'rel': ' 41. characters', 'obj': 'Magoichi Saika'}, {'sub': 'Kessen', 'rel': ' 42. characters', 'obj': 'Shingen Takeda'}, {'sub': 'Kessen', 'rel': ' 43. characters', 'obj': 'Kenshin Uesugi'}, {'sub': 'Kessen', 'rel': ' 44. characters', 'obj': 'Toshitoshi Honda'}, {'sub': 'Kessen', 'rel': ' 45. characters', 'obj': 'Nene'}, {'sub': 'Kessen', 'rel': ' 46. characters', 'obj': 'Chacha'}, {'sub': 'Kessen', 'rel': ' 47. characters', 'obj': 'Magoichi Saika'}, {'sub': 'Kessen', 'rel': ' 48. characters', 'obj': 'Shingen Takeda'}, {'sub': 'Kessen', 'rel': ' 49. characters', 'obj': 'Kenshin Uesugi'}, {'sub': 'Kessen', 'rel': ' 50. characters', 'obj': 'Toshitoshi Honda'}, {'sub': 'Kessen', 'rel': ' 51. characters', 'obj': 'Nene'}, {'sub': 'Kessen', 'rel': ' 52. characters', 'obj': 'Chacha'}, {'sub': 'Kessen', 'rel': ' 53. characters', 'obj': 'Magoichi Saika'}, {'sub': 'Kessen', 'rel': ' 54. characters', 'obj': 'Shingen Takeda'}, {'sub': 'Kessen', 'rel': ' 55. characters', 'obj': 'Kenshin Uesugi'}]\n"
     ]
    },
    {
     "name": "stderr",
     "output_type": "stream",
     "text": [
      "Setting `pad_token_id` to `eos_token_id`:128001 for open-end generation.\n"
     ]
    },
    {
     "name": "stdout",
     "output_type": "stream",
     "text": [
      "Test Output for ID ont_4_book_test_74: illustrator(The Denpa Men 2: Beyond the Waves,Human)\n",
      "Parsed Triples for ID ont_4_book_test_74: [{'sub': 'The Denpa Men 2: Beyond the Waves', 'rel': 'illustrator', 'obj': 'Human'}]\n"
     ]
    },
    {
     "name": "stderr",
     "output_type": "stream",
     "text": [
      "Setting `pad_token_id` to `eos_token_id`:128001 for open-end generation.\n"
     ]
    },
    {
     "name": "stdout",
     "output_type": "stream",
     "text": [
      "Test Output for ID ont_4_book_test_75: followed_by(Windows Mobile,Windows Phone)\n",
      "Parsed Triples for ID ont_4_book_test_75: [{'sub': 'Windows Mobile', 'rel': 'followed_by', 'obj': 'Windows Phone'}]\n"
     ]
    },
    {
     "name": "stderr",
     "output_type": "stream",
     "text": [
      "Setting `pad_token_id` to `eos_token_id`:128001 for open-end generation.\n"
     ]
    },
    {
     "name": "stdout",
     "output_type": "stream",
     "text": [
      "Test Output for ID ont_4_book_test_76: followed_by(Sonic Adventure,Sonic Adventure 2)\n",
      "Parsed Triples for ID ont_4_book_test_76: [{'sub': 'Sonic Adventure', 'rel': 'followed_by', 'obj': 'Sonic Adventure 2'}]\n"
     ]
    },
    {
     "name": "stderr",
     "output_type": "stream",
     "text": [
      "Setting `pad_token_id` to `eos_token_id`:128001 for open-end generation.\n"
     ]
    },
    {
     "name": "stdout",
     "output_type": "stream",
     "text": [
      "Test Output for ID ont_4_book_test_77: \n",
      "Parsed Triples for ID ont_4_book_test_77: []\n"
     ]
    },
    {
     "name": "stderr",
     "output_type": "stream",
     "text": [
      "Setting `pad_token_id` to `eos_token_id`:128001 for open-end generation.\n"
     ]
    },
    {
     "name": "stdout",
     "output_type": "stream",
     "text": [
      "Test Output for ID ont_4_book_test_78: followed_by(Shadow of the Beast,Ace Driver: Victory Lap) followed_by(Shadow of the Beast,Ace Driver 3: Final Turn)\n",
      "Parsed Triples for ID ont_4_book_test_78: [{'sub': 'Shadow of the Beast', 'rel': 'followed_by', 'obj': 'Ace Driver: Victory Lap'}, {'sub': 'Shadow of the Beast', 'rel': ' followed_by', 'obj': 'Ace Driver 3: Final Turn'}]\n"
     ]
    },
    {
     "name": "stderr",
     "output_type": "stream",
     "text": [
      "Setting `pad_token_id` to `eos_token_id`:128001 for open-end generation.\n"
     ]
    },
    {
     "name": "stdout",
     "output_type": "stream",
     "text": [
      "Test Output for ID ont_4_book_test_79: followed_by(Final Fantasy X,Final Fantasy X-2)\n",
      "Parsed Triples for ID ont_4_book_test_79: [{'sub': 'Final Fantasy X', 'rel': 'followed_by', 'obj': 'Final Fantasy X-2'}]\n"
     ]
    },
    {
     "name": "stderr",
     "output_type": "stream",
     "text": [
      "Setting `pad_token_id` to `eos_token_id`:128001 for open-end generation.\n"
     ]
    },
    {
     "name": "stdout",
     "output_type": "stream",
     "text": [
      "Test Output for ID ont_4_book_test_80: 1. followed_by(BlackBerry OS,BlackBerry 10)\n",
      "Parsed Triples for ID ont_4_book_test_80: [{'sub': 'BlackBerry OS', 'rel': '1. followed_by', 'obj': 'BlackBerry 10'}]\n"
     ]
    },
    {
     "name": "stderr",
     "output_type": "stream",
     "text": [
      "Setting `pad_token_id` to `eos_token_id`:128001 for open-end generation.\n"
     ]
    },
    {
     "name": "stdout",
     "output_type": "stream",
     "text": [
      "Test Output for ID ont_4_book_test_81: followed_by(Windows 2000,Windows XP), publication_date(Windows 2000,December 15, 1999), publication_date(Windows 2000,Febuary 17, 2000)\n",
      "Parsed Triples for ID ont_4_book_test_81: [{'sub': 'Windows 2000', 'rel': 'followed_by', 'obj': 'Windows XP'}, {'sub': 'Windows 2000', 'rel': ', publication_date', 'obj': 'December 15, 1999'}, {'sub': 'Windows 2000', 'rel': ', publication_date', 'obj': 'Febuary 17, 2000'}]\n"
     ]
    },
    {
     "name": "stderr",
     "output_type": "stream",
     "text": [
      "Setting `pad_token_id` to `eos_token_id`:128001 for open-end generation.\n"
     ]
    },
    {
     "name": "stdout",
     "output_type": "stream",
     "text": [
      "Test Output for ID ont_4_book_test_82: 1. publisher(MobileMe,Apple Inc.) 2. followed_by(MobileMe,iCloud) 3. publication_date(MobileMe,June 30, 2012)\n",
      "Parsed Triples for ID ont_4_book_test_82: [{'sub': 'MobileMe', 'rel': '1. publisher', 'obj': 'Apple Inc.'}, {'sub': 'MobileMe', 'rel': ' 2. followed_by', 'obj': 'iCloud'}, {'sub': 'MobileMe', 'rel': ' 3. publication_date', 'obj': 'June 30, 2012'}]\n"
     ]
    },
    {
     "name": "stderr",
     "output_type": "stream",
     "text": [
      "Setting `pad_token_id` to `eos_token_id`:128001 for open-end generation.\n"
     ]
    },
    {
     "name": "stdout",
     "output_type": "stream",
     "text": [
      "Test Output for ID ont_4_book_test_83: followed_by(Gran Turismo Concept,Gran Turismo 5 Prologue)\n",
      "Parsed Triples for ID ont_4_book_test_83: [{'sub': 'Gran Turismo Concept', 'rel': 'followed_by', 'obj': 'Gran Turismo 5 Prologue'}]\n"
     ]
    },
    {
     "name": "stderr",
     "output_type": "stream",
     "text": [
      "Setting `pad_token_id` to `eos_token_id`:128001 for open-end generation.\n"
     ]
    },
    {
     "name": "stdout",
     "output_type": "stream",
     "text": [
      "Test Output for ID ont_4_book_test_84: 1. publication_date(Lands of Lore III,1999)\n",
      "Parsed Triples for ID ont_4_book_test_84: [{'sub': 'Lands of Lore III', 'rel': '1. publication_date', 'obj': '1999'}]\n"
     ]
    },
    {
     "name": "stderr",
     "output_type": "stream",
     "text": [
      "Setting `pad_token_id` to `eos_token_id`:128001 for open-end generation.\n"
     ]
    },
    {
     "name": "stdout",
     "output_type": "stream",
     "text": [
      "Test Output for ID ont_4_book_test_85: \n",
      "Parsed Triples for ID ont_4_book_test_85: []\n"
     ]
    },
    {
     "name": "stderr",
     "output_type": "stream",
     "text": [
      "Setting `pad_token_id` to `eos_token_id`:128001 for open-end generation.\n"
     ]
    },
    {
     "name": "stdout",
     "output_type": "stream",
     "text": [
      "Test Output for ID ont_4_book_test_86: 2.2 is the forerunner to Deuteros, which is in a similar resource management game but many times larger and more difficult.\n",
      "Parsed Triples for ID ont_4_book_test_86: []\n"
     ]
    },
    {
     "name": "stderr",
     "output_type": "stream",
     "text": [
      "Setting `pad_token_id` to `eos_token_id`:128001 for open-end generation.\n"
     ]
    },
    {
     "name": "stdout",
     "output_type": "stream",
     "text": [
      "Test Output for ID ont_4_book_test_87: followed_by(Ecstatica, Ecstatica II)\n",
      "Parsed Triples for ID ont_4_book_test_87: [{'sub': 'Ecstatica', 'rel': 'followed_by', 'obj': 'Ecstatica II'}]\n"
     ]
    },
    {
     "name": "stderr",
     "output_type": "stream",
     "text": [
      "Setting `pad_token_id` to `eos_token_id`:128001 for open-end generation.\n"
     ]
    },
    {
     "name": "stdout",
     "output_type": "stream",
     "text": [
      "Test Output for ID ont_4_book_test_88: followed_by(Diablo II,Diablo III), publication_date(Diablo III,2012-05-15), author(Diablo III,Blizzard Entertainment), publisher(Diablo III,Blizzard Entertainment), characters(Diablo III,Diablo), editor(Diablo III,Blizzard Entertainment), place_of_publication(Diablo III,United States), narrative_location(Diablo III,United States), genre(Diablo III,RPG), language_of_work_or_name(Diablo III,English)\n",
      "Parsed Triples for ID ont_4_book_test_88: [{'sub': 'Diablo II', 'rel': 'followed_by', 'obj': 'Diablo III'}, {'sub': 'Diablo III', 'rel': ', publication_date', 'obj': '2012-05-15'}, {'sub': 'Diablo III', 'rel': ', author', 'obj': 'Blizzard Entertainment'}, {'sub': 'Diablo III', 'rel': ', publisher', 'obj': 'Blizzard Entertainment'}, {'sub': 'Diablo III', 'rel': ', characters', 'obj': 'Diablo'}, {'sub': 'Diablo III', 'rel': ', editor', 'obj': 'Blizzard Entertainment'}, {'sub': 'Diablo III', 'rel': ', place_of_publication', 'obj': 'United States'}, {'sub': 'Diablo III', 'rel': ', narrative_location', 'obj': 'United States'}, {'sub': 'Diablo III', 'rel': ', genre', 'obj': 'RPG'}, {'sub': 'Diablo III', 'rel': ', language_of_work_or_name', 'obj': 'English'}]\n"
     ]
    },
    {
     "name": "stderr",
     "output_type": "stream",
     "text": [
      "Setting `pad_token_id` to `eos_token_id`:128001 for open-end generation.\n"
     ]
    },
    {
     "name": "stdout",
     "output_type": "stream",
     "text": [
      "Test Output for ID ont_4_book_test_89: followed_by(Windows 2000,Windows XP),followed_by(Windows 2000,Windows Server 2003)\n",
      "Parsed Triples for ID ont_4_book_test_89: [{'sub': 'Windows 2000', 'rel': 'followed_by', 'obj': 'Windows XP'}, {'sub': 'Windows 2000', 'rel': ',followed_by', 'obj': 'Windows Server 2003'}]\n"
     ]
    },
    {
     "name": "stderr",
     "output_type": "stream",
     "text": [
      "Setting `pad_token_id` to `eos_token_id`:128001 for open-end generation.\n"
     ]
    },
    {
     "name": "stdout",
     "output_type": "stream",
     "text": [
      "Test Output for ID ont_4_book_test_90: author(Icewind Dale Trilogy,Dave Wolverton), author(Icewind Dale Trilogy,R.A. Salvatore), characters(Icewind Dale Trilogy,Drizzt Do'Urden), characters(Icewind Dale Trilogy,Wulfgar the barbarian)\n",
      "Parsed Triples for ID ont_4_book_test_90: [{'sub': 'Icewind Dale Trilogy', 'rel': 'author', 'obj': 'Dave Wolverton'}, {'sub': 'Icewind Dale Trilogy', 'rel': ', author', 'obj': 'R.A. Salvatore'}, {'sub': 'Icewind Dale Trilogy', 'rel': ', characters', 'obj': \"Drizzt Do'Urden\"}, {'sub': 'Icewind Dale Trilogy', 'rel': ', characters', 'obj': 'Wulfgar the barbarian'}]\n"
     ]
    },
    {
     "name": "stderr",
     "output_type": "stream",
     "text": [
      "Setting `pad_token_id` to `eos_token_id`:128001 for open-end generation.\n"
     ]
    },
    {
     "name": "stdout",
     "output_type": "stream",
     "text": [
      "Test Output for ID ont_4_book_test_91: followed_by(Final Fantasy XIII-2,Final Fantasy XIII)\n",
      "Parsed Triples for ID ont_4_book_test_91: [{'sub': 'Final Fantasy XIII-2', 'rel': 'followed_by', 'obj': 'Final Fantasy XIII'}]\n"
     ]
    },
    {
     "name": "stderr",
     "output_type": "stream",
     "text": [
      "Setting `pad_token_id` to `eos_token_id`:128001 for open-end generation.\n"
     ]
    },
    {
     "name": "stdout",
     "output_type": "stream",
     "text": [
      "Test Output for ID ont_4_book_test_92: publication_date(Killzone 2,2018-03-01)\n",
      "Parsed Triples for ID ont_4_book_test_92: [{'sub': 'Killzone 2', 'rel': 'publication_date', 'obj': '2018-03-01'}]\n"
     ]
    },
    {
     "name": "stderr",
     "output_type": "stream",
     "text": [
      "Setting `pad_token_id` to `eos_token_id`:128001 for open-end generation.\n"
     ]
    },
    {
     "name": "stdout",
     "output_type": "stream",
     "text": [
      "Test Output for ID ont_4_book_test_93: begins(Zork II,Zork I),  leads_into(Zork II,Zork III)\n",
      "Parsed Triples for ID ont_4_book_test_93: [{'sub': 'Zork II', 'rel': 'begins', 'obj': 'Zork I'}, {'sub': 'Zork II', 'rel': ',  leads_into', 'obj': 'Zork III'}]\n"
     ]
    },
    {
     "name": "stderr",
     "output_type": "stream",
     "text": [
      "Setting `pad_token_id` to `eos_token_id`:128001 for open-end generation.\n"
     ]
    },
    {
     "name": "stdout",
     "output_type": "stream",
     "text": [
      "Test Output for ID ont_4_book_test_94: 1. characters(The Lions of Al-Rassan,The Lions of Al-Rassan)\n",
      "Parsed Triples for ID ont_4_book_test_94: [{'sub': 'The Lions of Al-Rassan', 'rel': '1. characters', 'obj': 'The Lions of Al-Rassan'}]\n"
     ]
    },
    {
     "name": "stderr",
     "output_type": "stream",
     "text": [
      "Setting `pad_token_id` to `eos_token_id`:128001 for open-end generation.\n"
     ]
    },
    {
     "name": "stdout",
     "output_type": "stream",
     "text": [
      "Test Output for ID ont_4_book_test_95: superseded_by(Outlook Express,Windows Mail)\n",
      "Parsed Triples for ID ont_4_book_test_95: [{'sub': 'Outlook Express', 'rel': 'superseded_by', 'obj': 'Windows Mail'}]\n"
     ]
    },
    {
     "name": "stderr",
     "output_type": "stream",
     "text": [
      "Setting `pad_token_id` to `eos_token_id`:128001 for open-end generation.\n"
     ]
    },
    {
     "name": "stdout",
     "output_type": "stream",
     "text": [
      "Test Output for ID ont_4_book_test_96: publication_date(VD 17,)\n",
      "Parsed Triples for ID ont_4_book_test_96: []\n"
     ]
    },
    {
     "name": "stderr",
     "output_type": "stream",
     "text": [
      "Setting `pad_token_id` to `eos_token_id`:128001 for open-end generation.\n"
     ]
    },
    {
     "name": "stdout",
     "output_type": "stream",
     "text": [
      "Test Output for ID ont_4_book_test_97: publication_date(Hatoful Boyfriend: Holiday Star,29 December 2011), followed_by(Hatoful Boyfriend: Holiday Star,English version), publication_date(English version,25 December 2011), publication_date(Hatoful Boyfriend: Holiday Star,29 December 2011), publication_date(English version,25 December 2011), followed_by(Hatoful Boyfriend: Holiday Star,English version)\n",
      "Parsed Triples for ID ont_4_book_test_97: [{'sub': 'Hatoful Boyfriend: Holiday Star', 'rel': 'publication_date', 'obj': '29 December 2011'}, {'sub': 'Hatoful Boyfriend: Holiday Star', 'rel': ', followed_by', 'obj': 'English version'}, {'sub': 'English version', 'rel': ', publication_date', 'obj': '25 December 2011'}, {'sub': 'Hatoful Boyfriend: Holiday Star', 'rel': ', publication_date', 'obj': '29 December 2011'}, {'sub': 'English version', 'rel': ', publication_date', 'obj': '25 December 2011'}, {'sub': 'Hatoful Boyfriend: Holiday Star', 'rel': ', followed_by', 'obj': 'English version'}]\n"
     ]
    },
    {
     "name": "stderr",
     "output_type": "stream",
     "text": [
      "Setting `pad_token_id` to `eos_token_id`:128001 for open-end generation.\n"
     ]
    },
    {
     "name": "stdout",
     "output_type": "stream",
     "text": [
      "Test Output for ID ont_4_book_test_98: \n",
      "Parsed Triples for ID ont_4_book_test_98: []\n"
     ]
    },
    {
     "name": "stderr",
     "output_type": "stream",
     "text": [
      "Setting `pad_token_id` to `eos_token_id`:128001 for open-end generation.\n"
     ]
    },
    {
     "name": "stdout",
     "output_type": "stream",
     "text": [
      "Test Output for ID ont_4_book_test_99: followed_by(Unreal Tournament 2003,Unreal Tournament 2004), publication_date(Unreal Tournament 2004,2004-03-16)\n",
      "Parsed Triples for ID ont_4_book_test_99: [{'sub': 'Unreal Tournament 2003', 'rel': 'followed_by', 'obj': 'Unreal Tournament 2004'}, {'sub': 'Unreal Tournament 2004', 'rel': ', publication_date', 'obj': '2004-03-16'}]\n"
     ]
    },
    {
     "name": "stderr",
     "output_type": "stream",
     "text": [
      "Setting `pad_token_id` to `eos_token_id`:128001 for open-end generation.\n"
     ]
    },
    {
     "name": "stdout",
     "output_type": "stream",
     "text": [
      "Test Output for ID ont_4_book_test_100: followed_by(Champions of Krynn,The Dark Queen of Krynn)\n",
      "Parsed Triples for ID ont_4_book_test_100: [{'sub': 'Champions of Krynn', 'rel': 'followed_by', 'obj': 'The Dark Queen of Krynn'}]\n"
     ]
    },
    {
     "name": "stderr",
     "output_type": "stream",
     "text": [
      "Setting `pad_token_id` to `eos_token_id`:128001 for open-end generation.\n"
     ]
    },
    {
     "name": "stdout",
     "output_type": "stream",
     "text": [
      "Test Output for ID ont_4_book_test_101: followed_by(Nintendogs,Nintendogs + Cats), publication_date(Nintendogs + Cats,2011)\n",
      "Parsed Triples for ID ont_4_book_test_101: [{'sub': 'Nintendogs', 'rel': 'followed_by', 'obj': 'Nintendogs + Cats'}, {'sub': 'Nintendogs + Cats', 'rel': ', publication_date', 'obj': '2011'}]\n"
     ]
    },
    {
     "name": "stderr",
     "output_type": "stream",
     "text": [
      "Setting `pad_token_id` to `eos_token_id`:128001 for open-end generation.\n"
     ]
    },
    {
     "name": "stdout",
     "output_type": "stream",
     "text": [
      "Test Output for ID ont_4_book_test_102: 1. followed_by(Armored Core 2,Armored Core 3) 2. publication_date(Armored Core 2,August 3, 2000) 3. author(Armored Core 2,An indirect sequel) 4. characters(Armored Core 2,Armored Core 3) 5. publisher(Armored Core 2,An indirect sequel) 6. place_of_publication(Armored Core 2,Armored Core 3) 7. language_of_work_or_name(Armored Core 2,Armored Core 3) 8. depicts(Armored Core 2,Armored Core 3) 9. publication_date(Armored Core 3,August 3, 2000) 10. author(Armored Core 3,An indirect sequel) 11. characters(Armored Core 3,Armored Core 2) 12. publisher(Armored Core 3,An indirect sequel) 13. place_of_publication(Armored Core 3,Armored Core 2) 14. language_of_work_or_name(Armored Core 3,Armored Core 2) 15. depicts(Armored Core 3,Armored Core 2) 16. publication_date(Armored Core 2: Another Age,August 3, 2000) 17. author(Armored Core 2: Another Age,An indirect sequel) 18. characters(Armored Core 2: Another Age,Armored Core 2) 19. publisher(Armored Core 2: Another Age,An indirect sequel) 20. place_of_publication(Armored Core 2: Another Age,Armored Core 2) 21. language_of_work_or_name(Armored Core 2: Another Age,Armored Core 2) 22. depicts(Armored Core 2: Another Age,Armored Core 2) 23. publication_date(Armored Core 3,August 3, 2000) 24. author(Armored Core 3,An indirect sequel) 25. characters(Armored Core 3,Armored Core 2) 26. publisher(Armored Core 3,An indirect sequel) 27. place_of_publication(Armored Core 3,Armored Core 2) 28. language_of_work_or_name(Armored Core 3,Armored Core 2) 29. depicts(Armored Core 3,Armored Core 2) 30. publication_date(Armored Core 2: Another Age,August 3, 2000) 31. author(Armored Core 2: Another Age,An indirect sequel) 32. characters(Armored Core 2: Another Age,Armored Core 2) 33. publisher(Armored Core 2: Another Age,An indirect sequel) 34. place_of_publication(Armored Core 2: Another Age,Armored Core 2) 35. language_of_work_or_name(Armored Core 2: Another Age,Armored Core 2) 36. depicts(Armored Core 2: Another Age,Armored\n",
      "Parsed Triples for ID ont_4_book_test_102: [{'sub': 'Armored Core 2', 'rel': '1. followed_by', 'obj': 'Armored Core 3'}, {'sub': 'Armored Core 2', 'rel': ' 2. publication_date', 'obj': 'August 3, 2000'}, {'sub': 'Armored Core 2', 'rel': ' 3. author', 'obj': 'An indirect sequel'}, {'sub': 'Armored Core 2', 'rel': ' 4. characters', 'obj': 'Armored Core 3'}, {'sub': 'Armored Core 2', 'rel': ' 5. publisher', 'obj': 'An indirect sequel'}, {'sub': 'Armored Core 2', 'rel': ' 6. place_of_publication', 'obj': 'Armored Core 3'}, {'sub': 'Armored Core 2', 'rel': ' 7. language_of_work_or_name', 'obj': 'Armored Core 3'}, {'sub': 'Armored Core 2', 'rel': ' 8. depicts', 'obj': 'Armored Core 3'}, {'sub': 'Armored Core 3', 'rel': ' 9. publication_date', 'obj': 'August 3, 2000'}, {'sub': 'Armored Core 3', 'rel': ' 10. author', 'obj': 'An indirect sequel'}, {'sub': 'Armored Core 3', 'rel': ' 11. characters', 'obj': 'Armored Core 2'}, {'sub': 'Armored Core 3', 'rel': ' 12. publisher', 'obj': 'An indirect sequel'}, {'sub': 'Armored Core 3', 'rel': ' 13. place_of_publication', 'obj': 'Armored Core 2'}, {'sub': 'Armored Core 3', 'rel': ' 14. language_of_work_or_name', 'obj': 'Armored Core 2'}, {'sub': 'Armored Core 3', 'rel': ' 15. depicts', 'obj': 'Armored Core 2'}, {'sub': 'Armored Core 2: Another Age', 'rel': ' 16. publication_date', 'obj': 'August 3, 2000'}, {'sub': 'Armored Core 2: Another Age', 'rel': ' 17. author', 'obj': 'An indirect sequel'}, {'sub': 'Armored Core 2: Another Age', 'rel': ' 18. characters', 'obj': 'Armored Core 2'}, {'sub': 'Armored Core 2: Another Age', 'rel': ' 19. publisher', 'obj': 'An indirect sequel'}, {'sub': 'Armored Core 2: Another Age', 'rel': ' 20. place_of_publication', 'obj': 'Armored Core 2'}, {'sub': 'Armored Core 2: Another Age', 'rel': ' 21. language_of_work_or_name', 'obj': 'Armored Core 2'}, {'sub': 'Armored Core 2: Another Age', 'rel': ' 22. depicts', 'obj': 'Armored Core 2'}, {'sub': 'Armored Core 3', 'rel': ' 23. publication_date', 'obj': 'August 3, 2000'}, {'sub': 'Armored Core 3', 'rel': ' 24. author', 'obj': 'An indirect sequel'}, {'sub': 'Armored Core 3', 'rel': ' 25. characters', 'obj': 'Armored Core 2'}, {'sub': 'Armored Core 3', 'rel': ' 26. publisher', 'obj': 'An indirect sequel'}, {'sub': 'Armored Core 3', 'rel': ' 27. place_of_publication', 'obj': 'Armored Core 2'}, {'sub': 'Armored Core 3', 'rel': ' 28. language_of_work_or_name', 'obj': 'Armored Core 2'}, {'sub': 'Armored Core 3', 'rel': ' 29. depicts', 'obj': 'Armored Core 2'}, {'sub': 'Armored Core 2: Another Age', 'rel': ' 30. publication_date', 'obj': 'August 3, 2000'}, {'sub': 'Armored Core 2: Another Age', 'rel': ' 31. author', 'obj': 'An indirect sequel'}, {'sub': 'Armored Core 2: Another Age', 'rel': ' 32. characters', 'obj': 'Armored Core 2'}, {'sub': 'Armored Core 2: Another Age', 'rel': ' 33. publisher', 'obj': 'An indirect sequel'}, {'sub': 'Armored Core 2: Another Age', 'rel': ' 34. place_of_publication', 'obj': 'Armored Core 2'}, {'sub': 'Armored Core 2: Another Age', 'rel': ' 35. language_of_work_or_name', 'obj': 'Armored Core 2'}]\n"
     ]
    },
    {
     "name": "stderr",
     "output_type": "stream",
     "text": [
      "Setting `pad_token_id` to `eos_token_id`:128001 for open-end generation.\n"
     ]
    },
    {
     "name": "stdout",
     "output_type": "stream",
     "text": [
      "Test Output for ID ont_4_book_test_103: followed_by(Puzzle Quest Challenge of the Warlords,Puzzle Quest Galactrix), followed_by(Puzzle Quest Challenge of the Warlords,Puzzle Quest 2), followed_by(Puzzle Quest Galactrix,Puzzle Quest 2)\n",
      "Parsed Triples for ID ont_4_book_test_103: [{'sub': 'Puzzle Quest Challenge of the Warlords', 'rel': 'followed_by', 'obj': 'Puzzle Quest Galactrix'}, {'sub': 'Puzzle Quest Challenge of the Warlords', 'rel': ', followed_by', 'obj': 'Puzzle Quest 2'}, {'sub': 'Puzzle Quest Galactrix', 'rel': ', followed_by', 'obj': 'Puzzle Quest 2'}]\n"
     ]
    },
    {
     "name": "stderr",
     "output_type": "stream",
     "text": [
      "Setting `pad_token_id` to `eos_token_id`:128001 for open-end generation.\n"
     ]
    },
    {
     "name": "stdout",
     "output_type": "stream",
     "text": [
      "Test Output for ID ont_4_book_test_104: author(The Void Trilogy,Michael Crichton), publication_date(The Void Trilogy,2014), publication_date(The Void Trilogy,2016)\n",
      "Parsed Triples for ID ont_4_book_test_104: [{'sub': 'The Void Trilogy', 'rel': 'author', 'obj': 'Michael Crichton'}, {'sub': 'The Void Trilogy', 'rel': ', publication_date', 'obj': '2014'}, {'sub': 'The Void Trilogy', 'rel': ', publication_date', 'obj': '2016'}]\n"
     ]
    },
    {
     "name": "stderr",
     "output_type": "stream",
     "text": [
      "Setting `pad_token_id` to `eos_token_id`:128001 for open-end generation.\n"
     ]
    },
    {
     "name": "stdout",
     "output_type": "stream",
     "text": [
      "Test Output for ID ont_4_book_test_105: \n",
      "Parsed Triples for ID ont_4_book_test_105: []\n"
     ]
    },
    {
     "name": "stderr",
     "output_type": "stream",
     "text": [
      "Setting `pad_token_id` to `eos_token_id`:128001 for open-end generation.\n"
     ]
    },
    {
     "name": "stdout",
     "output_type": "stream",
     "text": [
      "Test Output for ID ont_4_book_test_106: followed_by(Magicka, Magicka 2)\n",
      "Parsed Triples for ID ont_4_book_test_106: [{'sub': 'Magicka', 'rel': 'followed_by', 'obj': 'Magicka 2'}]\n"
     ]
    },
    {
     "name": "stderr",
     "output_type": "stream",
     "text": [
      "Setting `pad_token_id` to `eos_token_id`:128001 for open-end generation.\n"
     ]
    },
    {
     "name": "stdout",
     "output_type": "stream",
     "text": [
      "Test Output for ID ont_4_book_test_107: characters(The story,Mass Effect 2)\n",
      "Parsed Triples for ID ont_4_book_test_107: [{'sub': 'The story', 'rel': 'characters', 'obj': 'Mass Effect 2'}]\n"
     ]
    },
    {
     "name": "stderr",
     "output_type": "stream",
     "text": [
      "Setting `pad_token_id` to `eos_token_id`:128001 for open-end generation.\n"
     ]
    },
    {
     "name": "stdout",
     "output_type": "stream",
     "text": [
      "Test Output for ID ont_4_book_test_108: 3 can be attached to an adapter on the Sonic & Knuckles cartridge, creating a combined game, Sonic 3 & Knuckles.\n",
      "Parsed Triples for ID ont_4_book_test_108: []\n"
     ]
    },
    {
     "name": "stderr",
     "output_type": "stream",
     "text": [
      "Setting `pad_token_id` to `eos_token_id`:128001 for open-end generation.\n"
     ]
    },
    {
     "name": "stdout",
     "output_type": "stream",
     "text": [
      "Test Output for ID ont_4_book_test_109: publication_date(Audiosurf 2,10/2/2013), followed_by(Audiosurf,Audiosurf 2)\n",
      "Parsed Triples for ID ont_4_book_test_109: [{'sub': 'Audiosurf 2', 'rel': 'publication_date', 'obj': '10/2/2013'}, {'sub': 'Audiosurf', 'rel': ', followed_by', 'obj': 'Audiosurf 2'}]\n"
     ]
    },
    {
     "name": "stderr",
     "output_type": "stream",
     "text": [
      "Setting `pad_token_id` to `eos_token_id`:128001 for open-end generation.\n"
     ]
    },
    {
     "name": "stdout",
     "output_type": "stream",
     "text": [
      "Test Output for ID ont_4_book_test_110: 1871, book, publication_date, 1871, book, publication_date, book, author, human, book, characters, literary work, book, characters, fictional character, book, characters, fictional character, book, characters, fictional character, book, characters, fictional character, book, characters, fictional character, book, characters, fictional character, book, characters, fictional character, book, characters, fictional character, book, characters, fictional character, book, characters, fictional character, book, characters, fictional character, book, characters, fictional character, book, characters, fictional character, book, characters, fictional character, book, characters, fictional character, book, characters, fictional character, book, characters, fictional character, book, characters, fictional character, book, characters, fictional character, book, characters, fictional character, book, characters, fictional character, book, characters, fictional character, book, characters, fictional character, book, characters, fictional character, book, characters, fictional character, book, characters, fictional character, book, characters, fictional character, book, characters, fictional character, book, characters, fictional character, book, characters, fictional character, book, characters, fictional character, book, characters, fictional character, book, characters, fictional character, book, characters, fictional character, book, characters, fictional character, book, characters, fictional character, book, characters, fictional character, book, characters, fictional character, book, characters, fictional character, book, characters, fictional character, book, characters, fictional character, book, characters, fictional character, book, characters, fictional character, book, characters, fictional character, book, characters, fictional character, book, characters, fictional character, book, characters, fictional character, book, characters, fictional character, book, characters, fictional character, book, characters, fictional character, book, characters, fictional character, book, characters, fictional character, book, characters, fictional character, book, characters, fictional character, book, characters, fictional character, book, characters, fictional character, book, characters, fictional character, book, characters, fictional character, book, characters, fictional character, book, characters, fictional character, book, characters, fictional character, book, characters, fictional character, book, characters, fictional character, book, characters, fictional character, book, characters, fictional character, book, characters, fictional character, book, characters, fictional character, book, characters, fictional character, book, characters, fictional character, book, characters, fictional character, book, characters, fictional character, book, characters, fictional character, book, characters, fictional character, book, characters, fictional character, book, characters, fictional character, book, characters, fictional character, book, characters, fictional character, book, characters, fictional character, book, characters, fictional character, book, characters, fictional character, book, characters, fictional character, book, characters, fictional character, book, characters, fictional character, book, characters, fictional character, book, characters, fictional character, book, characters, fictional character, book, characters, fictional character, book, characters, fictional character, book, characters, fictional character, book, characters, fictional character, book, characters, fictional character, book, characters, fictional character, book, characters, fictional character, book, characters, fictional character, book, characters, fictional character, book,\n",
      "Parsed Triples for ID ont_4_book_test_110: []\n"
     ]
    },
    {
     "name": "stderr",
     "output_type": "stream",
     "text": [
      "Setting `pad_token_id` to `eos_token_id`:128001 for open-end generation.\n"
     ]
    },
    {
     "name": "stdout",
     "output_type": "stream",
     "text": [
      "Test Output for ID ont_4_book_test_111: 1871, book, 1871, book, author, Mitford, book, characters, Japanese, book, genre, introduction, book, language_of_work_or_name, English, book, publication_date, 1871, book, writer, Mitford\n",
      "Parsed Triples for ID ont_4_book_test_111: []\n"
     ]
    },
    {
     "name": "stderr",
     "output_type": "stream",
     "text": [
      "Setting `pad_token_id` to `eos_token_id`:128001 for open-end generation.\n"
     ]
    },
    {
     "name": "stdout",
     "output_type": "stream",
     "text": [
      "Test Output for ID ont_4_book_test_112: publication_date(The Best American Poetry 2004,01 January 2004), publication_date(The Best American Poetry 2004,01 January 2004)\n",
      "Parsed Triples for ID ont_4_book_test_112: [{'sub': 'The Best American Poetry 2004', 'rel': 'publication_date', 'obj': '01 January 2004'}, {'sub': 'The Best American Poetry 2004', 'rel': ', publication_date', 'obj': '01 January 2004'}]\n"
     ]
    },
    {
     "name": "stderr",
     "output_type": "stream",
     "text": [
      "Setting `pad_token_id` to `eos_token_id`:128001 for open-end generation.\n"
     ]
    },
    {
     "name": "stdout",
     "output_type": "stream",
     "text": [
      "Test Output for ID ont_4_book_test_113: publication_date(The Best American Poetry 1994,01 January 1994), publication_date(The Best American Poetry 1994,01 January 1994), publication_date(The Best American Poetry 1994,01 January 1994), publication_date(The Best American Poetry 1994,01 January 1994), publication_date(The Best American Poetry 1994,01 January 1994), publication_date(The Best American Poetry 1994,01 January 1994), publication_date(The Best American Poetry 1994,01 January 1994), publication_date(The Best American Poetry 1994,01 January 1994), publication_date(The Best American Poetry 1994,01 January 1994), publication_date(The Best American Poetry 1994,01 January 1994), publication_date(The Best American Poetry 1994,01 January 1994), publication_date(The Best American Poetry 1994,01 January 1994), publication_date(The Best American Poetry 1994,01 January 1994), publication_date(The Best American Poetry 1994,01 January 1994), publication_date(The Best American Poetry 1994,01 January 1994), publication_date(The Best American Poetry 1994,01 January 1994), publication_date(The Best American Poetry 1994,01 January 1994), publication_date(The Best American Poetry 1994,01 January 1994), publication_date(The Best American Poetry 1994,01 January 1994), publication_date(The Best American Poetry 1994,01 January 1994), publication_date(The Best American Poetry 1994,01 January 1994), publication_date(The Best American Poetry 1994,01 January 1994), publication_date(The Best American Poetry 1994,01 January 1994), publication_date(The Best American Poetry 1994,01 January 1994), publication_date(The Best American Poetry 1994,01 January 1994), publication_date(The Best American Poetry 1994,01 January 1994), publication_date(The Best American Poetry 1994,01 January 1994), publication_date(The Best American Poetry 1994,01 January 1994), publication_date(The Best American Poetry 1994,01 January 1994), publication_date(The Best American Poetry 1994,01 January 1994), publication_date(The Best American Poetry 1994,01 January 1994), publication_date(The Best American Poetry 1994,01 January 1994), publication_date(The Best American Poetry 1994,01 January 1994), publication_date(The Best American Poetry 1994,01 January 1994), publication_date(The Best American Poetry 1994,01 January 1994), publication_date(The Best American Poetry 1994,01 January 1994), publication_date(The Best American Poetry 1994,01 January 1994), publication_date(The Best American Poetry 1994,01 January 1994), publication_date(The Best American Poetry 1994,01 January 1994), publication_date(The Best American Poetry 1994,01 January 1994), publication_date(The Best American Poetry 1994,01 January 1994), publication_date(The Best American Poetry 1994,01 January 1994), publication_date(The\n",
      "Parsed Triples for ID ont_4_book_test_113: [{'sub': 'The Best American Poetry 1994', 'rel': 'publication_date', 'obj': '01 January 1994'}, {'sub': 'The Best American Poetry 1994', 'rel': ', publication_date', 'obj': '01 January 1994'}, {'sub': 'The Best American Poetry 1994', 'rel': ', publication_date', 'obj': '01 January 1994'}, {'sub': 'The Best American Poetry 1994', 'rel': ', publication_date', 'obj': '01 January 1994'}, {'sub': 'The Best American Poetry 1994', 'rel': ', publication_date', 'obj': '01 January 1994'}, {'sub': 'The Best American Poetry 1994', 'rel': ', publication_date', 'obj': '01 January 1994'}, {'sub': 'The Best American Poetry 1994', 'rel': ', publication_date', 'obj': '01 January 1994'}, {'sub': 'The Best American Poetry 1994', 'rel': ', publication_date', 'obj': '01 January 1994'}, {'sub': 'The Best American Poetry 1994', 'rel': ', publication_date', 'obj': '01 January 1994'}, {'sub': 'The Best American Poetry 1994', 'rel': ', publication_date', 'obj': '01 January 1994'}, {'sub': 'The Best American Poetry 1994', 'rel': ', publication_date', 'obj': '01 January 1994'}, {'sub': 'The Best American Poetry 1994', 'rel': ', publication_date', 'obj': '01 January 1994'}, {'sub': 'The Best American Poetry 1994', 'rel': ', publication_date', 'obj': '01 January 1994'}, {'sub': 'The Best American Poetry 1994', 'rel': ', publication_date', 'obj': '01 January 1994'}, {'sub': 'The Best American Poetry 1994', 'rel': ', publication_date', 'obj': '01 January 1994'}, {'sub': 'The Best American Poetry 1994', 'rel': ', publication_date', 'obj': '01 January 1994'}, {'sub': 'The Best American Poetry 1994', 'rel': ', publication_date', 'obj': '01 January 1994'}, {'sub': 'The Best American Poetry 1994', 'rel': ', publication_date', 'obj': '01 January 1994'}, {'sub': 'The Best American Poetry 1994', 'rel': ', publication_date', 'obj': '01 January 1994'}, {'sub': 'The Best American Poetry 1994', 'rel': ', publication_date', 'obj': '01 January 1994'}, {'sub': 'The Best American Poetry 1994', 'rel': ', publication_date', 'obj': '01 January 1994'}, {'sub': 'The Best American Poetry 1994', 'rel': ', publication_date', 'obj': '01 January 1994'}, {'sub': 'The Best American Poetry 1994', 'rel': ', publication_date', 'obj': '01 January 1994'}, {'sub': 'The Best American Poetry 1994', 'rel': ', publication_date', 'obj': '01 January 1994'}, {'sub': 'The Best American Poetry 1994', 'rel': ', publication_date', 'obj': '01 January 1994'}, {'sub': 'The Best American Poetry 1994', 'rel': ', publication_date', 'obj': '01 January 1994'}, {'sub': 'The Best American Poetry 1994', 'rel': ', publication_date', 'obj': '01 January 1994'}, {'sub': 'The Best American Poetry 1994', 'rel': ', publication_date', 'obj': '01 January 1994'}, {'sub': 'The Best American Poetry 1994', 'rel': ', publication_date', 'obj': '01 January 1994'}, {'sub': 'The Best American Poetry 1994', 'rel': ', publication_date', 'obj': '01 January 1994'}, {'sub': 'The Best American Poetry 1994', 'rel': ', publication_date', 'obj': '01 January 1994'}, {'sub': 'The Best American Poetry 1994', 'rel': ', publication_date', 'obj': '01 January 1994'}, {'sub': 'The Best American Poetry 1994', 'rel': ', publication_date', 'obj': '01 January 1994'}, {'sub': 'The Best American Poetry 1994', 'rel': ', publication_date', 'obj': '01 January 1994'}, {'sub': 'The Best American Poetry 1994', 'rel': ', publication_date', 'obj': '01 January 1994'}, {'sub': 'The Best American Poetry 1994', 'rel': ', publication_date', 'obj': '01 January 1994'}, {'sub': 'The Best American Poetry 1994', 'rel': ', publication_date', 'obj': '01 January 1994'}, {'sub': 'The Best American Poetry 1994', 'rel': ', publication_date', 'obj': '01 January 1994'}, {'sub': 'The Best American Poetry 1994', 'rel': ', publication_date', 'obj': '01 January 1994'}, {'sub': 'The Best American Poetry 1994', 'rel': ', publication_date', 'obj': '01 January 1994'}, {'sub': 'The Best American Poetry 1994', 'rel': ', publication_date', 'obj': '01 January 1994'}, {'sub': 'The Best American Poetry 1994', 'rel': ', publication_date', 'obj': '01 January 1994'}]\n"
     ]
    },
    {
     "name": "stderr",
     "output_type": "stream",
     "text": [
      "Setting `pad_token_id` to `eos_token_id`:128001 for open-end generation.\n"
     ]
    },
    {
     "name": "stdout",
     "output_type": "stream",
     "text": [
      "Test Output for ID ont_4_book_test_114: publication_date(Divine Worship : The Missal,2015-11-29)\n",
      "Parsed Triples for ID ont_4_book_test_114: [{'sub': 'Divine Worship : The Missal', 'rel': 'publication_date', 'obj': '2015-11-29'}]\n"
     ]
    },
    {
     "name": "stderr",
     "output_type": "stream",
     "text": [
      "Setting `pad_token_id` to `eos_token_id`:128001 for open-end generation.\n"
     ]
    },
    {
     "name": "stdout",
     "output_type": "stream",
     "text": [
      "Test Output for ID ont_4_book_test_115: \n",
      "Parsed Triples for ID ont_4_book_test_115: []\n"
     ]
    },
    {
     "name": "stderr",
     "output_type": "stream",
     "text": [
      "Setting `pad_token_id` to `eos_token_id`:128001 for open-end generation.\n"
     ]
    },
    {
     "name": "stdout",
     "output_type": "stream",
     "text": [
      "Test Output for ID ont_4_book_test_116: author(A Small Killing,Alan Moore)\n",
      "Parsed Triples for ID ont_4_book_test_116: [{'sub': 'A Small Killing', 'rel': 'author', 'obj': 'Alan Moore'}]\n"
     ]
    },
    {
     "name": "stderr",
     "output_type": "stream",
     "text": [
      "Setting `pad_token_id` to `eos_token_id`:128001 for open-end generation.\n"
     ]
    },
    {
     "name": "stdout",
     "output_type": "stream",
     "text": [
      "Test Output for ID ont_4_book_test_117: publication_date(The Penguin Book of Modern African Poetry,01 January 1984),editor(The Penguin Book of Modern African Poetry,Ulli Beier),editor(The Penguin Book of Modern African Poetry,Gerald Moore),publisher(The Penguin Book of Modern African Poetry,Penguin Books),author(The Penguin Book of Modern African Poetry,)\n",
      "Parsed Triples for ID ont_4_book_test_117: [{'sub': 'The Penguin Book of Modern African Poetry', 'rel': 'publication_date', 'obj': '01 January 1984'}, {'sub': 'The Penguin Book of Modern African Poetry', 'rel': ',editor', 'obj': 'Ulli Beier'}, {'sub': 'The Penguin Book of Modern African Poetry', 'rel': ',editor', 'obj': 'Gerald Moore'}, {'sub': 'The Penguin Book of Modern African Poetry', 'rel': ',publisher', 'obj': 'Penguin Books'}]\n"
     ]
    },
    {
     "name": "stderr",
     "output_type": "stream",
     "text": [
      "Setting `pad_token_id` to `eos_token_id`:128001 for open-end generation.\n"
     ]
    },
    {
     "name": "stdout",
     "output_type": "stream",
     "text": [
      "Test Output for ID ont_4_book_test_118: 1989, 4th edition Shin meikai kokugo jiten 1997, 5th edition Shin meikai kokugo jiten 2005, 6th edition Shin meikai kokugo jiten 2011, 7th edition Shin meikai kokugo jiten 1943, 1st edition Meikai kokugo jiten 1952, 2nd edition Meikai kokugo jiten 1972, 1st edition Shin meikai kokugo jiten 1974, 2nd edition Shin meikai kokugo jiten 1981, 3rd edition Shin meikai kokugo jiten 1989, 4th edition Shin meikai kokugo jiten 1997, 5th edition Shin meikai kokugo jiten 2005, 6th edition Shin meikai kokugo jiten 2011, 7th edition Shin meikai kokugo jiten\n",
      "Parsed Triples for ID ont_4_book_test_118: []\n"
     ]
    },
    {
     "name": "stderr",
     "output_type": "stream",
     "text": [
      "Setting `pad_token_id` to `eos_token_id`:128001 for open-end generation.\n"
     ]
    },
    {
     "name": "stdout",
     "output_type": "stream",
     "text": [
      "Test Output for ID ont_4_book_test_119: 1) author(Four Dissertations,David Hume)\n",
      "Parsed Triples for ID ont_4_book_test_119: [{'sub': 'Four Dissertations', 'rel': '1) author', 'obj': 'David Hume'}]\n"
     ]
    },
    {
     "name": "stderr",
     "output_type": "stream",
     "text": [
      "Setting `pad_token_id` to `eos_token_id`:128001 for open-end generation.\n"
     ]
    },
    {
     "name": "stdout",
     "output_type": "stream",
     "text": [
      "Test Output for ID ont_4_book_test_120: publication_date(The Harvill Book of Twentieth-Century Poetry in English,01 January 1999),editor(The Harvill Book of Twentieth-Century Poetry in English,Michael Schmidt),publisher(The Harvill Book of Twentieth-Century Poetry in English,Harvill Press)\n",
      "Parsed Triples for ID ont_4_book_test_120: [{'sub': 'The Harvill Book of Twentieth-Century Poetry in English', 'rel': 'publication_date', 'obj': '01 January 1999'}, {'sub': 'The Harvill Book of Twentieth-Century Poetry in English', 'rel': ',editor', 'obj': 'Michael Schmidt'}, {'sub': 'The Harvill Book of Twentieth-Century Poetry in English', 'rel': ',publisher', 'obj': 'Harvill Press'}]\n"
     ]
    },
    {
     "name": "stderr",
     "output_type": "stream",
     "text": [
      "Setting `pad_token_id` to `eos_token_id`:128001 for open-end generation.\n"
     ]
    },
    {
     "name": "stdout",
     "output_type": "stream",
     "text": [
      "Test Output for ID ont_4_book_test_121: 1. author(Biographical Dictionary of the Common Law,A. W. B. Simpson)\n",
      "Parsed Triples for ID ont_4_book_test_121: [{'sub': 'Biographical Dictionary of the Common Law', 'rel': '1. author', 'obj': 'A. W. B. Simpson'}]\n"
     ]
    },
    {
     "name": "stderr",
     "output_type": "stream",
     "text": [
      "Setting `pad_token_id` to `eos_token_id`:128001 for open-end generation.\n"
     ]
    },
    {
     "name": "stdout",
     "output_type": "stream",
     "text": [
      "Test Output for ID ont_4_book_test_122: 2019, 2016, 2014\n",
      "Parsed Triples for ID ont_4_book_test_122: []\n"
     ]
    },
    {
     "name": "stderr",
     "output_type": "stream",
     "text": [
      "Setting `pad_token_id` to `eos_token_id`:128001 for open-end generation.\n"
     ]
    },
    {
     "name": "stdout",
     "output_type": "stream",
     "text": [
      "Test Output for ID ont_4_book_test_123: \n",
      "Parsed Triples for ID ont_4_book_test_123: []\n"
     ]
    },
    {
     "name": "stderr",
     "output_type": "stream",
     "text": [
      "Setting `pad_token_id` to `eos_token_id`:128001 for open-end generation.\n"
     ]
    },
    {
     "name": "stdout",
     "output_type": "stream",
     "text": [
      "Test Output for ID ont_4_book_test_124: \n",
      "Parsed Triples for ID ont_4_book_test_124: []\n"
     ]
    },
    {
     "name": "stderr",
     "output_type": "stream",
     "text": [
      "Setting `pad_token_id` to `eos_token_id`:128001 for open-end generation.\n"
     ]
    },
    {
     "name": "stdout",
     "output_type": "stream",
     "text": [
      "Test Output for ID ont_4_book_test_125: 1974, 2nd edition The New York Times Manual of Style and Usage publication_date(Shin Meikai Kokugo Jiten,24 January 1972)\n",
      "Parsed Triples for ID ont_4_book_test_125: [{'sub': 'Shin Meikai Kokugo Jiten', 'rel': '1974, 2nd edition The New York Times Manual of Style and Usage publication_date', 'obj': '24 January 1972'}]\n"
     ]
    },
    {
     "name": "stderr",
     "output_type": "stream",
     "text": [
      "Setting `pad_token_id` to `eos_token_id`:128001 for open-end generation.\n"
     ]
    },
    {
     "name": "stdout",
     "output_type": "stream",
     "text": [
      "Test Output for ID ont_4_book_test_126: publication_date(Julio's Day,01 January 2001)\n",
      "Parsed Triples for ID ont_4_book_test_126: [{'sub': \"Julio's Day\", 'rel': 'publication_date', 'obj': '01 January 2001'}]\n"
     ]
    },
    {
     "name": "stderr",
     "output_type": "stream",
     "text": [
      "Setting `pad_token_id` to `eos_token_id`:128001 for open-end generation.\n"
     ]
    },
    {
     "name": "stdout",
     "output_type": "stream",
     "text": [
      "Test Output for ID ont_4_book_test_127: publisher(The Blue Lotus,Le Soir Jeunesse), publication_date(The Blue Lotus,1940-10-01)\n",
      "Parsed Triples for ID ont_4_book_test_127: [{'sub': 'The Blue Lotus', 'rel': 'publisher', 'obj': 'Le Soir Jeunesse'}, {'sub': 'The Blue Lotus', 'rel': ', publication_date', 'obj': '1940-10-01'}]\n"
     ]
    },
    {
     "name": "stderr",
     "output_type": "stream",
     "text": [
      "Setting `pad_token_id` to `eos_token_id`:128001 for open-end generation.\n"
     ]
    },
    {
     "name": "stdout",
     "output_type": "stream",
     "text": [
      "Test Output for ID ont_4_book_test_128: author(Alias the Cat,Kim Deitch), publication_date(Alias the Cat,2007), publication(Alias the Cat,graphic novel), characters(Alias the Cat,cat)\n",
      "Parsed Triples for ID ont_4_book_test_128: [{'sub': 'Alias the Cat', 'rel': 'author', 'obj': 'Kim Deitch'}, {'sub': 'Alias the Cat', 'rel': ', publication_date', 'obj': '2007'}, {'sub': 'Alias the Cat', 'rel': ', publication', 'obj': 'graphic novel'}, {'sub': 'Alias the Cat', 'rel': ', characters', 'obj': 'cat'}]\n"
     ]
    },
    {
     "name": "stderr",
     "output_type": "stream",
     "text": [
      "Setting `pad_token_id` to `eos_token_id`:128001 for open-end generation.\n"
     ]
    },
    {
     "name": "stdout",
     "output_type": "stream",
     "text": [
      "Test Output for ID ont_4_book_test_129: \n",
      "Parsed Triples for ID ont_4_book_test_129: []\n"
     ]
    },
    {
     "name": "stderr",
     "output_type": "stream",
     "text": [
      "Setting `pad_token_id` to `eos_token_id`:128001 for open-end generation.\n"
     ]
    },
    {
     "name": "stdout",
     "output_type": "stream",
     "text": [
      "Test Output for ID ont_4_book_test_130: publication_date(The Nightmare Factory: Volume 2,01 January 2008)\n",
      "Parsed Triples for ID ont_4_book_test_130: [{'sub': 'The Nightmare Factory: Volume 2', 'rel': 'publication_date', 'obj': '01 January 2008'}]\n"
     ]
    },
    {
     "name": "stderr",
     "output_type": "stream",
     "text": [
      "Setting `pad_token_id` to `eos_token_id`:128001 for open-end generation.\n"
     ]
    },
    {
     "name": "stdout",
     "output_type": "stream",
     "text": [
      "Test Output for ID ont_4_book_test_131: author(The Alternate Asimovs,Isaac Asimov), publication_date(The Alternate Asimovs,1986), characters(The Alternate Asimovs,Isaac Asimov), publication_date(The Alternate Asimovs,1986), author(The Alternate Asimovs,Isaac Asimov), publication_date(The Alternate Asimovs,1986), characters(The Alternate Asimovs,Isaac Asimov), genre(The Alternate Asimovs,science fiction draft), characters(The Alternate Asimovs,Isaac Asimov), publication_date(The Alternate Asimovs,1986), characters(The Alternate Asimovs,Isaac Asimov), author(The Alternate Asimovs,Isaac Asimov), publication_date(The Alternate Asimovs,1986), characters(The Alternate Asimovs,Isaac Asimov), publication_date(The Alternate Asimovs,1986), author(The Alternate Asimovs,Isaac Asimov), publication_date(The Alternate Asimovs,1986), characters(The Alternate Asimovs,Isaac Asimov), publication_date(The Alternate Asimovs,1986), author(The Alternate Asimovs,Isaac Asimov), publication_date(The Alternate Asimovs,1986), characters(The Alternate Asimovs,Isaac Asimov), publication_date(The Alternate Asimovs,1986), author(The Alternate Asimovs,Isaac Asimov), publication_date(The Alternate Asimovs,1986), characters(The Alternate Asimovs,Isaac Asimov), publication_date(The Alternate Asimovs,1986), author(The Alternate Asimovs,Isaac Asimov), publication_date(The Alternate Asimovs,1986), characters(The Alternate Asimovs,Isaac Asimov), publication_date(The Alternate Asimovs,1986), author(The Alternate Asimovs,Isaac Asimov), publication_date(The Alternate Asimovs,1986), characters(The Alternate Asimovs,Isaac Asimov), publication_date(The Alternate Asimovs,1986), author(The Alternate Asimovs,Isaac Asimov), publication_date(The Alternate Asimovs,1986), characters(The Alternate Asimovs,Isaac Asimov), publication_date(The Alternate Asimovs,1986), author(The Alternate Asimovs,Isaac Asimov), publication_date(The Alternate Asimovs,1986), characters(The Alternate Asimovs,Isaac Asimov), publication_date(The Alternate Asimovs,1986), author(The Alternate Asimovs,Isaac Asimov), publication_date(The Alternate Asimovs,1986), characters(The Alternate Asimovs,Isaac Asimov), publication_date(The Alternate Asimovs,1986), author(The Alternate Asimovs,Isaac Asimov), publication_date(The Alternate Asimovs,1986), characters(The Alternate Asimovs,Isaac Asimov), publication_date(The Alternate Asimovs\n",
      "Parsed Triples for ID ont_4_book_test_131: [{'sub': 'The Alternate Asimovs', 'rel': 'author', 'obj': 'Isaac Asimov'}, {'sub': 'The Alternate Asimovs', 'rel': ', publication_date', 'obj': '1986'}, {'sub': 'The Alternate Asimovs', 'rel': ', characters', 'obj': 'Isaac Asimov'}, {'sub': 'The Alternate Asimovs', 'rel': ', publication_date', 'obj': '1986'}, {'sub': 'The Alternate Asimovs', 'rel': ', author', 'obj': 'Isaac Asimov'}, {'sub': 'The Alternate Asimovs', 'rel': ', publication_date', 'obj': '1986'}, {'sub': 'The Alternate Asimovs', 'rel': ', characters', 'obj': 'Isaac Asimov'}, {'sub': 'The Alternate Asimovs', 'rel': ', genre', 'obj': 'science fiction draft'}, {'sub': 'The Alternate Asimovs', 'rel': ', characters', 'obj': 'Isaac Asimov'}, {'sub': 'The Alternate Asimovs', 'rel': ', publication_date', 'obj': '1986'}, {'sub': 'The Alternate Asimovs', 'rel': ', characters', 'obj': 'Isaac Asimov'}, {'sub': 'The Alternate Asimovs', 'rel': ', author', 'obj': 'Isaac Asimov'}, {'sub': 'The Alternate Asimovs', 'rel': ', publication_date', 'obj': '1986'}, {'sub': 'The Alternate Asimovs', 'rel': ', characters', 'obj': 'Isaac Asimov'}, {'sub': 'The Alternate Asimovs', 'rel': ', publication_date', 'obj': '1986'}, {'sub': 'The Alternate Asimovs', 'rel': ', author', 'obj': 'Isaac Asimov'}, {'sub': 'The Alternate Asimovs', 'rel': ', publication_date', 'obj': '1986'}, {'sub': 'The Alternate Asimovs', 'rel': ', characters', 'obj': 'Isaac Asimov'}, {'sub': 'The Alternate Asimovs', 'rel': ', publication_date', 'obj': '1986'}, {'sub': 'The Alternate Asimovs', 'rel': ', author', 'obj': 'Isaac Asimov'}, {'sub': 'The Alternate Asimovs', 'rel': ', publication_date', 'obj': '1986'}, {'sub': 'The Alternate Asimovs', 'rel': ', characters', 'obj': 'Isaac Asimov'}, {'sub': 'The Alternate Asimovs', 'rel': ', publication_date', 'obj': '1986'}, {'sub': 'The Alternate Asimovs', 'rel': ', author', 'obj': 'Isaac Asimov'}, {'sub': 'The Alternate Asimovs', 'rel': ', publication_date', 'obj': '1986'}, {'sub': 'The Alternate Asimovs', 'rel': ', characters', 'obj': 'Isaac Asimov'}, {'sub': 'The Alternate Asimovs', 'rel': ', publication_date', 'obj': '1986'}, {'sub': 'The Alternate Asimovs', 'rel': ', author', 'obj': 'Isaac Asimov'}, {'sub': 'The Alternate Asimovs', 'rel': ', publication_date', 'obj': '1986'}, {'sub': 'The Alternate Asimovs', 'rel': ', characters', 'obj': 'Isaac Asimov'}, {'sub': 'The Alternate Asimovs', 'rel': ', publication_date', 'obj': '1986'}, {'sub': 'The Alternate Asimovs', 'rel': ', author', 'obj': 'Isaac Asimov'}, {'sub': 'The Alternate Asimovs', 'rel': ', publication_date', 'obj': '1986'}, {'sub': 'The Alternate Asimovs', 'rel': ', characters', 'obj': 'Isaac Asimov'}, {'sub': 'The Alternate Asimovs', 'rel': ', publication_date', 'obj': '1986'}, {'sub': 'The Alternate Asimovs', 'rel': ', author', 'obj': 'Isaac Asimov'}, {'sub': 'The Alternate Asimovs', 'rel': ', publication_date', 'obj': '1986'}, {'sub': 'The Alternate Asimovs', 'rel': ', characters', 'obj': 'Isaac Asimov'}, {'sub': 'The Alternate Asimovs', 'rel': ', publication_date', 'obj': '1986'}, {'sub': 'The Alternate Asimovs', 'rel': ', author', 'obj': 'Isaac Asimov'}, {'sub': 'The Alternate Asimovs', 'rel': ', publication_date', 'obj': '1986'}, {'sub': 'The Alternate Asimovs', 'rel': ', characters', 'obj': 'Isaac Asimov'}, {'sub': 'The Alternate Asimovs', 'rel': ', publication_date', 'obj': '1986'}, {'sub': 'The Alternate Asimovs', 'rel': ', author', 'obj': 'Isaac Asimov'}, {'sub': 'The Alternate Asimovs', 'rel': ', publication_date', 'obj': '1986'}, {'sub': 'The Alternate Asimovs', 'rel': ', characters', 'obj': 'Isaac Asimov'}, {'sub': 'The Alternate Asimovs', 'rel': ', publication_date', 'obj': '1986'}, {'sub': 'The Alternate Asimovs', 'rel': ', author', 'obj': 'Isaac Asimov'}, {'sub': 'The Alternate Asimovs', 'rel': ', publication_date', 'obj': '1986'}, {'sub': 'The Alternate Asimovs', 'rel': ', characters', 'obj': 'Isaac Asimov'}]\n"
     ]
    },
    {
     "name": "stderr",
     "output_type": "stream",
     "text": [
      "Setting `pad_token_id` to `eos_token_id`:128001 for open-end generation.\n"
     ]
    },
    {
     "name": "stdout",
     "output_type": "stream",
     "text": [
      "Test Output for ID ont_4_book_test_132: illustrator(Carnet de Voyage,Craig Thompson)\n",
      "Parsed Triples for ID ont_4_book_test_132: [{'sub': 'Carnet de Voyage', 'rel': 'illustrator', 'obj': 'Craig Thompson'}]\n"
     ]
    },
    {
     "name": "stderr",
     "output_type": "stream",
     "text": [
      "Setting `pad_token_id` to `eos_token_id`:128001 for open-end generation.\n"
     ]
    },
    {
     "name": "stdout",
     "output_type": "stream",
     "text": [
      "Test Output for ID ont_4_book_test_133: publisher(The edition of the dictionary in 1979 with Patrick Hanks as editor and Laurence Urdang as editorial director,Oxford University Press), editor(The edition of the dictionary in 1979 with Patrick Hanks as editor and Laurence Urdang as editorial director,Patrick Hanks), editor(The edition of the dictionary in 1979 with Patrick Hanks as editor and Laurence Urdang as editorial director,Laurence Urdang)\n",
      "Parsed Triples for ID ont_4_book_test_133: [{'sub': 'The edition of the dictionary in 1979 with Patrick Hanks as editor and Laurence Urdang as editorial director', 'rel': 'publisher', 'obj': 'Oxford University Press'}, {'sub': 'The edition of the dictionary in 1979 with Patrick Hanks as editor and Laurence Urdang as editorial director', 'rel': ', editor', 'obj': 'Patrick Hanks'}, {'sub': 'The edition of the dictionary in 1979 with Patrick Hanks as editor and Laurence Urdang as editorial director', 'rel': ', editor', 'obj': 'Laurence Urdang'}]\n"
     ]
    },
    {
     "name": "stderr",
     "output_type": "stream",
     "text": [
      "Setting `pad_token_id` to `eos_token_id`:128001 for open-end generation.\n"
     ]
    },
    {
     "name": "stdout",
     "output_type": "stream",
     "text": [
      "Test Output for ID ont_4_book_test_134: 1. publication_date(Bread and Wine,01 January 1999) 2. author(Bread and Wine,Samuel R. Delany) 3. illustrator(Bread and Wine,Mia Wolff)\n",
      "Parsed Triples for ID ont_4_book_test_134: [{'sub': 'Bread and Wine', 'rel': '1. publication_date', 'obj': '01 January 1999'}, {'sub': 'Bread and Wine', 'rel': ' 2. author', 'obj': 'Samuel R. Delany'}, {'sub': 'Bread and Wine', 'rel': ' 3. illustrator', 'obj': 'Mia Wolff'}]\n"
     ]
    },
    {
     "name": "stderr",
     "output_type": "stream",
     "text": [
      "Setting `pad_token_id` to `eos_token_id`:128001 for open-end generation.\n"
     ]
    },
    {
     "name": "stdout",
     "output_type": "stream",
     "text": [
      "Test Output for ID ont_4_book_test_135: publication_date(film,01 January 2007)\n",
      "Parsed Triples for ID ont_4_book_test_135: [{'sub': 'film', 'rel': 'publication_date', 'obj': '01 January 2007'}]\n"
     ]
    },
    {
     "name": "stderr",
     "output_type": "stream",
     "text": [
      "Setting `pad_token_id` to `eos_token_id`:128001 for open-end generation.\n"
     ]
    },
    {
     "name": "stdout",
     "output_type": "stream",
     "text": [
      "Test Output for ID ont_4_book_test_136: publication_date(The Cambridge Guide to Women's Writing in English,01 January 1999), characters(The Cambridge Guide to Women's Writing in English,Dictionary of Irish Biography), author(The Cambridge Guide to Women's Writing in English,Dictionary of Irish Biography), author(The Cambridge Guide to Women's Writing in English,Dictionary of Irish Biography), author(The Cambridge Guide to Women's Writing in English,Dictionary of Irish Biography), author(The Cambridge Guide to Women's Writing in English,Dictionary of Irish Biography), author(The Cambridge Guide to Women's Writing in English,Dictionary of Irish Biography), author(The Cambridge Guide to Women's Writing in English,Dictionary of Irish Biography), author(The Cambridge Guide to Women's Writing in English,Dictionary of Irish Biography), author(The Cambridge Guide to Women's Writing in English,Dictionary of Irish Biography), author(The Cambridge Guide to Women's Writing in English,Dictionary of Irish Biography), author(The Cambridge Guide to Women's Writing in English,Dictionary of Irish Biography), author(The Cambridge Guide to Women's Writing in English,Dictionary of Irish Biography), author(The Cambridge Guide to Women's Writing in English,Dictionary of Irish Biography), author(The Cambridge Guide to Women's Writing in English,Dictionary of Irish Biography), author(The Cambridge Guide to Women's Writing in English,Dictionary of Irish Biography), author(The Cambridge Guide to Women's Writing in English,Dictionary of Irish Biography), author(The Cambridge Guide to Women's Writing in English,Dictionary of Irish Biography), author(The Cambridge Guide to Women's Writing in English,Dictionary of Irish Biography), author(The Cambridge Guide to Women's Writing in English,Dictionary of Irish Biography), author(The Cambridge Guide to Women's Writing in English,Dictionary of Irish Biography), author(The Cambridge Guide to Women's Writing in English,Dictionary of Irish Biography), author(The Cambridge Guide to Women's Writing in English,Dictionary of Irish Biography), author(The Cambridge Guide to Women's Writing in English,Dictionary of Irish Biography), author(The Cambridge Guide to Women's Writing in English,Dictionary of Irish Biography), author(The Cambridge Guide to Women's Writing in English,Dictionary of Irish Biography), author(The Cambridge Guide to Women's Writing in English,Dictionary of Irish Biography), author(The Cambridge Guide to Women's Writing in English,Dictionary of Irish Biography), author(The Cambridge Guide to Women's Writing in English,Dictionary of Irish Biography), author(The Cambridge Guide to Women's Writing in English,Dictionary of Irish Biography), author(The Cambridge Guide to Women's Writing in English,Dictionary of Irish Biography), author(The Cambridge Guide to Women's Writing in English,Dictionary of Irish Biography), author(The Cambridge Guide to Women's Writing in English,Dictionary of Irish Biography), author(The Cambridge Guide to Women's Writing in English,Dictionary of Irish Biography), author(The Cambridge Guide to Women's Writing in English,Dictionary of Irish Biography), author(The Cambridge Guide to Women's Writing in English,Dictionary of Irish Biography), author(The Cambridge Guide to Women's Writing in English,Dictionary of Irish Biography), author(The Cambridge Guide to Women's Writing in English,Dictionary of Irish Biography), author(The Cambridge Guide to Women's Writing in English,Dictionary of Irish Biography), author(The Cambridge Guide to Women's Writing in English,Dictionary of Irish Biography), author(The Cambridge Guide to Women's Writing in English,Dictionary of Irish Biography), author(The Cambridge Guide\n",
      "Parsed Triples for ID ont_4_book_test_136: [{'sub': \"The Cambridge Guide to Women's Writing in English\", 'rel': 'publication_date', 'obj': '01 January 1999'}, {'sub': \"The Cambridge Guide to Women's Writing in English\", 'rel': ', characters', 'obj': 'Dictionary of Irish Biography'}, {'sub': \"The Cambridge Guide to Women's Writing in English\", 'rel': ', author', 'obj': 'Dictionary of Irish Biography'}, {'sub': \"The Cambridge Guide to Women's Writing in English\", 'rel': ', author', 'obj': 'Dictionary of Irish Biography'}, {'sub': \"The Cambridge Guide to Women's Writing in English\", 'rel': ', author', 'obj': 'Dictionary of Irish Biography'}, {'sub': \"The Cambridge Guide to Women's Writing in English\", 'rel': ', author', 'obj': 'Dictionary of Irish Biography'}, {'sub': \"The Cambridge Guide to Women's Writing in English\", 'rel': ', author', 'obj': 'Dictionary of Irish Biography'}, {'sub': \"The Cambridge Guide to Women's Writing in English\", 'rel': ', author', 'obj': 'Dictionary of Irish Biography'}, {'sub': \"The Cambridge Guide to Women's Writing in English\", 'rel': ', author', 'obj': 'Dictionary of Irish Biography'}, {'sub': \"The Cambridge Guide to Women's Writing in English\", 'rel': ', author', 'obj': 'Dictionary of Irish Biography'}, {'sub': \"The Cambridge Guide to Women's Writing in English\", 'rel': ', author', 'obj': 'Dictionary of Irish Biography'}, {'sub': \"The Cambridge Guide to Women's Writing in English\", 'rel': ', author', 'obj': 'Dictionary of Irish Biography'}, {'sub': \"The Cambridge Guide to Women's Writing in English\", 'rel': ', author', 'obj': 'Dictionary of Irish Biography'}, {'sub': \"The Cambridge Guide to Women's Writing in English\", 'rel': ', author', 'obj': 'Dictionary of Irish Biography'}, {'sub': \"The Cambridge Guide to Women's Writing in English\", 'rel': ', author', 'obj': 'Dictionary of Irish Biography'}, {'sub': \"The Cambridge Guide to Women's Writing in English\", 'rel': ', author', 'obj': 'Dictionary of Irish Biography'}, {'sub': \"The Cambridge Guide to Women's Writing in English\", 'rel': ', author', 'obj': 'Dictionary of Irish Biography'}, {'sub': \"The Cambridge Guide to Women's Writing in English\", 'rel': ', author', 'obj': 'Dictionary of Irish Biography'}, {'sub': \"The Cambridge Guide to Women's Writing in English\", 'rel': ', author', 'obj': 'Dictionary of Irish Biography'}, {'sub': \"The Cambridge Guide to Women's Writing in English\", 'rel': ', author', 'obj': 'Dictionary of Irish Biography'}, {'sub': \"The Cambridge Guide to Women's Writing in English\", 'rel': ', author', 'obj': 'Dictionary of Irish Biography'}, {'sub': \"The Cambridge Guide to Women's Writing in English\", 'rel': ', author', 'obj': 'Dictionary of Irish Biography'}, {'sub': \"The Cambridge Guide to Women's Writing in English\", 'rel': ', author', 'obj': 'Dictionary of Irish Biography'}, {'sub': \"The Cambridge Guide to Women's Writing in English\", 'rel': ', author', 'obj': 'Dictionary of Irish Biography'}, {'sub': \"The Cambridge Guide to Women's Writing in English\", 'rel': ', author', 'obj': 'Dictionary of Irish Biography'}, {'sub': \"The Cambridge Guide to Women's Writing in English\", 'rel': ', author', 'obj': 'Dictionary of Irish Biography'}, {'sub': \"The Cambridge Guide to Women's Writing in English\", 'rel': ', author', 'obj': 'Dictionary of Irish Biography'}, {'sub': \"The Cambridge Guide to Women's Writing in English\", 'rel': ', author', 'obj': 'Dictionary of Irish Biography'}, {'sub': \"The Cambridge Guide to Women's Writing in English\", 'rel': ', author', 'obj': 'Dictionary of Irish Biography'}, {'sub': \"The Cambridge Guide to Women's Writing in English\", 'rel': ', author', 'obj': 'Dictionary of Irish Biography'}, {'sub': \"The Cambridge Guide to Women's Writing in English\", 'rel': ', author', 'obj': 'Dictionary of Irish Biography'}, {'sub': \"The Cambridge Guide to Women's Writing in English\", 'rel': ', author', 'obj': 'Dictionary of Irish Biography'}, {'sub': \"The Cambridge Guide to Women's Writing in English\", 'rel': ', author', 'obj': 'Dictionary of Irish Biography'}, {'sub': \"The Cambridge Guide to Women's Writing in English\", 'rel': ', author', 'obj': 'Dictionary of Irish Biography'}, {'sub': \"The Cambridge Guide to Women's Writing in English\", 'rel': ', author', 'obj': 'Dictionary of Irish Biography'}, {'sub': \"The Cambridge Guide to Women's Writing in English\", 'rel': ', author', 'obj': 'Dictionary of Irish Biography'}, {'sub': \"The Cambridge Guide to Women's Writing in English\", 'rel': ', author', 'obj': 'Dictionary of Irish Biography'}, {'sub': \"The Cambridge Guide to Women's Writing in English\", 'rel': ', author', 'obj': 'Dictionary of Irish Biography'}, {'sub': \"The Cambridge Guide to Women's Writing in English\", 'rel': ', author', 'obj': 'Dictionary of Irish Biography'}, {'sub': \"The Cambridge Guide to Women's Writing in English\", 'rel': ', author', 'obj': 'Dictionary of Irish Biography'}, {'sub': \"The Cambridge Guide to Women's Writing in English\", 'rel': ', author', 'obj': 'Dictionary of Irish Biography'}]\n"
     ]
    },
    {
     "name": "stderr",
     "output_type": "stream",
     "text": [
      "Setting `pad_token_id` to `eos_token_id`:128001 for open-end generation.\n"
     ]
    },
    {
     "name": "stdout",
     "output_type": "stream",
     "text": [
      "Test Output for ID ont_4_book_test_137: author(Bergen Byleksikon,Gunnar Hagen Hartvedt)\n",
      "Parsed Triples for ID ont_4_book_test_137: [{'sub': 'Bergen Byleksikon', 'rel': 'author', 'obj': 'Gunnar Hagen Hartvedt'}]\n"
     ]
    },
    {
     "name": "stderr",
     "output_type": "stream",
     "text": [
      "Setting `pad_token_id` to `eos_token_id`:128001 for open-end generation.\n"
     ]
    },
    {
     "name": "stdout",
     "output_type": "stream",
     "text": [
      "Test Output for ID ont_4_book_test_138: 30 July 2015,publication_date(,)\n",
      "Parsed Triples for ID ont_4_book_test_138: []\n"
     ]
    },
    {
     "name": "stderr",
     "output_type": "stream",
     "text": [
      "Setting `pad_token_id` to `eos_token_id`:128001 for open-end generation.\n"
     ]
    },
    {
     "name": "stdout",
     "output_type": "stream",
     "text": [
      "Test Output for ID ont_4_book_test_139: publication_date(The Best American Poetry 1988,01 January 1988), publication_date(The Best American Poetry 1988,01 January 1988), author(The Best American Poetry 1988,David Lehman), author(The Best American Poetry 1988,John Ashbery), editor(The Best American Poetry 1988,David Lehman), editor(The Best American Poetry 1988,John Ashbery), characters(The Best American Poetry 1988,David Lehman), characters(The Best American Poetry 1988,John Ashbery)\n",
      "Parsed Triples for ID ont_4_book_test_139: [{'sub': 'The Best American Poetry 1988', 'rel': 'publication_date', 'obj': '01 January 1988'}, {'sub': 'The Best American Poetry 1988', 'rel': ', publication_date', 'obj': '01 January 1988'}, {'sub': 'The Best American Poetry 1988', 'rel': ', author', 'obj': 'David Lehman'}, {'sub': 'The Best American Poetry 1988', 'rel': ', author', 'obj': 'John Ashbery'}, {'sub': 'The Best American Poetry 1988', 'rel': ', editor', 'obj': 'David Lehman'}, {'sub': 'The Best American Poetry 1988', 'rel': ', editor', 'obj': 'John Ashbery'}, {'sub': 'The Best American Poetry 1988', 'rel': ', characters', 'obj': 'David Lehman'}, {'sub': 'The Best American Poetry 1988', 'rel': ', characters', 'obj': 'John Ashbery'}]\n"
     ]
    },
    {
     "name": "stderr",
     "output_type": "stream",
     "text": [
      "Setting `pad_token_id` to `eos_token_id`:128001 for open-end generation.\n"
     ]
    },
    {
     "name": "stdout",
     "output_type": "stream",
     "text": [
      "Test Output for ID ont_4_book_test_140: 1. author(Bara knyt, Alfons!,Gunilla BergstrÃ¶m)\n",
      "Parsed Triples for ID ont_4_book_test_140: [{'sub': 'Bara knyt', 'rel': '1. author', 'obj': 'Alfons!,Gunilla BergstrÃ¶m'}]\n"
     ]
    },
    {
     "name": "stderr",
     "output_type": "stream",
     "text": [
      "Setting `pad_token_id` to `eos_token_id`:128001 for open-end generation.\n"
     ]
    },
    {
     "name": "stdout",
     "output_type": "stream",
     "text": [
      "Test Output for ID ont_4_book_test_141: 1. publication_date(Wolverine/Nick Fury: The Scorpio Connection,1989)\n",
      "Parsed Triples for ID ont_4_book_test_141: [{'sub': 'Wolverine/Nick Fury: The Scorpio Connection', 'rel': '1. publication_date', 'obj': '1989'}]\n"
     ]
    },
    {
     "name": "stderr",
     "output_type": "stream",
     "text": [
      "Setting `pad_token_id` to `eos_token_id`:128001 for open-end generation.\n"
     ]
    },
    {
     "name": "stdout",
     "output_type": "stream",
     "text": [
      "Test Output for ID ont_4_book_test_142: genre(This One Summer,graphic novel), author(This One Summer,Mariko Tamaki), illustrator(This One Summer,Jillian Tamaki), publisher(This One Summer,First Second Books), publication_date(This One Summer,2014), followed_by(This One Summer,)\n",
      "Parsed Triples for ID ont_4_book_test_142: [{'sub': 'This One Summer', 'rel': 'genre', 'obj': 'graphic novel'}, {'sub': 'This One Summer', 'rel': ', author', 'obj': 'Mariko Tamaki'}, {'sub': 'This One Summer', 'rel': ', illustrator', 'obj': 'Jillian Tamaki'}, {'sub': 'This One Summer', 'rel': ', publisher', 'obj': 'First Second Books'}, {'sub': 'This One Summer', 'rel': ', publication_date', 'obj': '2014'}]\n"
     ]
    },
    {
     "name": "stderr",
     "output_type": "stream",
     "text": [
      "Setting `pad_token_id` to `eos_token_id`:128001 for open-end generation.\n"
     ]
    },
    {
     "name": "stdout",
     "output_type": "stream",
     "text": [
      "Test Output for ID ont_4_book_test_143: publication_date(Canadian Oxford Dictionary,1998), publisher(Canadian Oxford Dictionary,Oxford University Press Canada)\n",
      "Parsed Triples for ID ont_4_book_test_143: [{'sub': 'Canadian Oxford Dictionary', 'rel': 'publication_date', 'obj': '1998'}, {'sub': 'Canadian Oxford Dictionary', 'rel': ', publisher', 'obj': 'Oxford University Press Canada'}]\n"
     ]
    },
    {
     "name": "stderr",
     "output_type": "stream",
     "text": [
      "Setting `pad_token_id` to `eos_token_id`:128001 for open-end generation.\n"
     ]
    },
    {
     "name": "stdout",
     "output_type": "stream",
     "text": [
      "Test Output for ID ont_4_book_test_144: publication_date(Anthology of Twentieth-Century British and Irish Poetry,01 January 2001)\n",
      "Parsed Triples for ID ont_4_book_test_144: [{'sub': 'Anthology of Twentieth-Century British and Irish Poetry', 'rel': 'publication_date', 'obj': '01 January 2001'}]\n"
     ]
    },
    {
     "name": "stderr",
     "output_type": "stream",
     "text": [
      "Setting `pad_token_id` to `eos_token_id`:128001 for open-end generation.\n"
     ]
    },
    {
     "name": "stdout",
     "output_type": "stream",
     "text": [
      "Test Output for ID ont_4_book_test_145: publisher(Monthly Comic Flapper,Media Factory)\n",
      "Parsed Triples for ID ont_4_book_test_145: [{'sub': 'Monthly Comic Flapper', 'rel': 'publisher', 'obj': 'Media Factory'}]\n"
     ]
    },
    {
     "name": "stderr",
     "output_type": "stream",
     "text": [
      "Setting `pad_token_id` to `eos_token_id`:128001 for open-end generation.\n"
     ]
    },
    {
     "name": "stdout",
     "output_type": "stream",
     "text": [
      "Test Output for ID ont_4_book_test_146: publication_date(SanseidÅ Kokugo Jiten,24 January 1960), publication_date(SanseidÅ Kokugo Jiten,24 January 1974), publication_date(SanseidÅ Kokugo Jiten,24 January 1982), publication_date(SanseidÅ Kokugo Jiten,24 January 1992), publication_date(SanseidÅ Kokugo Jiten,24 January 2001)\n",
      "Parsed Triples for ID ont_4_book_test_146: [{'sub': 'SanseidÅ\\x8d Kokugo Jiten', 'rel': 'publication_date', 'obj': '24 January 1960'}, {'sub': 'SanseidÅ\\x8d Kokugo Jiten', 'rel': ', publication_date', 'obj': '24 January 1974'}, {'sub': 'SanseidÅ\\x8d Kokugo Jiten', 'rel': ', publication_date', 'obj': '24 January 1982'}, {'sub': 'SanseidÅ\\x8d Kokugo Jiten', 'rel': ', publication_date', 'obj': '24 January 1992'}, {'sub': 'SanseidÅ\\x8d Kokugo Jiten', 'rel': ', publication_date', 'obj': '24 January 2001'}]\n"
     ]
    },
    {
     "name": "stderr",
     "output_type": "stream",
     "text": [
      "Setting `pad_token_id` to `eos_token_id`:128001 for open-end generation.\n"
     ]
    },
    {
     "name": "stdout",
     "output_type": "stream",
     "text": [
      "Test Output for ID ont_4_book_test_147: publication_date(Nihongo Daijiten,06 November 1989)\n",
      "Parsed Triples for ID ont_4_book_test_147: [{'sub': 'Nihongo Daijiten', 'rel': 'publication_date', 'obj': '06 November 1989'}]\n"
     ]
    },
    {
     "name": "stderr",
     "output_type": "stream",
     "text": [
      "Setting `pad_token_id` to `eos_token_id`:128001 for open-end generation.\n"
     ]
    },
    {
     "name": "stdout",
     "output_type": "stream",
     "text": [
      "Test Output for ID ont_4_book_test_148: author(A Slip of the Keyboard,Terry Pratchett), publication_date(A Slip of the Keyboard,2014), foreword(A Slip of the Keyboard,Neil Gaiman)\n",
      "Parsed Triples for ID ont_4_book_test_148: [{'sub': 'A Slip of the Keyboard', 'rel': 'author', 'obj': 'Terry Pratchett'}, {'sub': 'A Slip of the Keyboard', 'rel': ', publication_date', 'obj': '2014'}, {'sub': 'A Slip of the Keyboard', 'rel': ', foreword', 'obj': 'Neil Gaiman'}]\n"
     ]
    },
    {
     "name": "stderr",
     "output_type": "stream",
     "text": [
      "Setting `pad_token_id` to `eos_token_id`:128001 for open-end generation.\n"
     ]
    },
    {
     "name": "stdout",
     "output_type": "stream",
     "text": [
      "Test Output for ID ont_4_book_test_149: 57,000 headwords(Sanseido Kokugo Jiten,1 January 1960), 62,000 headwords(Sanseido Kokugo Jiten,1 January 1974), 65,000 headwords(Sanseido Kokugo Jiten,1 January 1982), 73,000 headwords(Sanseido Kokugo Jiten,1 January 1992), 76,000 headwords(Sanseido Kokugo Jiten,1 January 2001)\n",
      "Parsed Triples for ID ont_4_book_test_149: [{'sub': 'Sanseido Kokugo Jiten', 'rel': '57,000 headwords', 'obj': '1 January 1960'}, {'sub': 'Sanseido Kokugo Jiten', 'rel': ', 62,000 headwords', 'obj': '1 January 1974'}, {'sub': 'Sanseido Kokugo Jiten', 'rel': ', 65,000 headwords', 'obj': '1 January 1982'}, {'sub': 'Sanseido Kokugo Jiten', 'rel': ', 73,000 headwords', 'obj': '1 January 1992'}, {'sub': 'Sanseido Kokugo Jiten', 'rel': ', 76,000 headwords', 'obj': '1 January 2001'}]\n"
     ]
    },
    {
     "name": "stderr",
     "output_type": "stream",
     "text": [
      "Setting `pad_token_id` to `eos_token_id`:128001 for open-end generation.\n"
     ]
    },
    {
     "name": "stdout",
     "output_type": "stream",
     "text": [
      "Test Output for ID ont_4_book_test_150: publication_date(Tajik Soviet Encyclopedia,01 January 1978)\n",
      "Parsed Triples for ID ont_4_book_test_150: [{'sub': 'Tajik Soviet Encyclopedia', 'rel': 'publication_date', 'obj': '01 January 1978'}]\n"
     ]
    },
    {
     "name": "stderr",
     "output_type": "stream",
     "text": [
      "Setting `pad_token_id` to `eos_token_id`:128001 for open-end generation.\n"
     ]
    },
    {
     "name": "stdout",
     "output_type": "stream",
     "text": [
      "Test Output for ID ont_4_book_test_151: publisher(Norsk salmebok 2013: for kirke og hjem,Oxford University Press),  author(Norsk salmebok 2013: for kirke og hjem,Church of Norway)\n",
      "Parsed Triples for ID ont_4_book_test_151: [{'sub': 'Norsk salmebok 2013: for kirke og hjem', 'rel': 'publisher', 'obj': 'Oxford University Press'}, {'sub': 'Norsk salmebok 2013: for kirke og hjem', 'rel': ',  author', 'obj': 'Church of Norway'}]\n"
     ]
    },
    {
     "name": "stderr",
     "output_type": "stream",
     "text": [
      "Setting `pad_token_id` to `eos_token_id`:128001 for open-end generation.\n"
     ]
    },
    {
     "name": "stdout",
     "output_type": "stream",
     "text": [
      "Test Output for ID ont_4_book_test_152: publication_date(Oxford Dictionary of Byzantium,01 January 1991)\n",
      "Parsed Triples for ID ont_4_book_test_152: [{'sub': 'Oxford Dictionary of Byzantium', 'rel': 'publication_date', 'obj': '01 January 1991'}]\n"
     ]
    },
    {
     "name": "stderr",
     "output_type": "stream",
     "text": [
      "Setting `pad_token_id` to `eos_token_id`:128001 for open-end generation.\n"
     ]
    },
    {
     "name": "stdout",
     "output_type": "stream",
     "text": [
      "Test Output for ID ont_4_book_test_153: publication_date(Apple Lossless,2004), publication_date(Apple Lossless,2011)\n",
      "Parsed Triples for ID ont_4_book_test_153: [{'sub': 'Apple Lossless', 'rel': 'publication_date', 'obj': '2004'}, {'sub': 'Apple Lossless', 'rel': ', publication_date', 'obj': '2011'}]\n"
     ]
    },
    {
     "name": "stderr",
     "output_type": "stream",
     "text": [
      "Setting `pad_token_id` to `eos_token_id`:128001 for open-end generation.\n"
     ]
    },
    {
     "name": "stdout",
     "output_type": "stream",
     "text": [
      "Test Output for ID ont_4_book_test_154: author(Sagan om Sune, Anders Jacobsson,SÃ¶ren Olsson), publisher(Sagan om Sune, Bonnier Carlsen), language(Sagan om Sune, Swedish), characters(Sagan om Sune, Sune), characters(Sagan om Sune, Sune's parents), characters(Sagan om Sune, Sune's sister), characters(Sagan om Sune, Sune's friends), characters(Sagan om Sune, Sune's teacher), characters(Sagan om Sune, Sune's schoolmates), characters(Sagan om Sune, Sune's teacher), characters(Sagan om Sune, Sune's sister), characters(Sagan om Sune, Sune's friends), characters(Sagan om Sune, Sune's sister), characters(Sagan om Sune, Sune's parents), characters(Sagan om Sune, Sune's schoolmates), characters(Sagan om Sune, Sune's sister), characters(Sagan om Sune, Sune's parents), characters(Sagan om Sune, Sune's friends), characters(Sagan om Sune, Sune's schoolmates), characters(Sagan om Sune, Sune's sister), characters(Sagan om Sune, Sune's parents), characters(Sagan om Sune, Sune's friends), characters(Sagan om Sune, Sune's schoolmates), characters(Sagan om Sune, Sune's sister), characters(Sagan om Sune, Sune's parents), characters(Sagan om Sune, Sune's friends), characters(Sagan om Sune, Sune's schoolmates), characters(Sagan om Sune, Sune's sister), characters(Sagan om Sune, Sune's parents), characters(Sagan om Sune, Sune's friends), characters(Sagan om Sune, Sune's schoolmates), characters(Sagan om Sune, Sune's sister), characters(Sagan om Sune, Sune's parents), characters(Sagan om Sune, Sune's friends), characters(Sagan om Sune, Sune's schoolmates), characters(Sagan om Sune, Sune's sister), characters(Sagan om Sune, Sune's parents), characters(Sagan om Sune, Sune's friends), characters(Sagan om Sune, Sune's schoolmates), characters(Sagan om Sune, Sune's sister), characters(Sagan om Sune, Sune's parents), characters(Sagan om Sune, Sune's friends), characters(Sagan om Sune, Sune's schoolmates), characters(Sagan om Sune, Sune's sister), characters(Sagan om Sune, Sune's parents), characters(Sagan om Sune, Sune's friends), characters(Sagan om Sune, Sune's schoolmates), characters(Sagan om Sune, Sune's sister), characters(Sagan om Sune, Sune's parents), characters(Sagan om Sune, Sune's friends), characters(Sagan om Sune, Sune's schoolmates), characters(Sagan om Sune, Sune's sister), characters(Sagan om Sune, Sune's parents), characters(Sagan om Sune, S\n",
      "Parsed Triples for ID ont_4_book_test_154: [{'sub': 'Sagan om Sune', 'rel': 'author', 'obj': 'Anders Jacobsson,SÃ¶ren Olsson'}, {'sub': 'Sagan om Sune', 'rel': ', publisher', 'obj': 'Bonnier Carlsen'}, {'sub': 'Sagan om Sune', 'rel': ', language', 'obj': 'Swedish'}, {'sub': 'Sagan om Sune', 'rel': ', characters', 'obj': 'Sune'}, {'sub': 'Sagan om Sune', 'rel': ', characters', 'obj': \"Sune's parents\"}, {'sub': 'Sagan om Sune', 'rel': ', characters', 'obj': \"Sune's sister\"}, {'sub': 'Sagan om Sune', 'rel': ', characters', 'obj': \"Sune's friends\"}, {'sub': 'Sagan om Sune', 'rel': ', characters', 'obj': \"Sune's teacher\"}, {'sub': 'Sagan om Sune', 'rel': ', characters', 'obj': \"Sune's schoolmates\"}, {'sub': 'Sagan om Sune', 'rel': ', characters', 'obj': \"Sune's teacher\"}, {'sub': 'Sagan om Sune', 'rel': ', characters', 'obj': \"Sune's sister\"}, {'sub': 'Sagan om Sune', 'rel': ', characters', 'obj': \"Sune's friends\"}, {'sub': 'Sagan om Sune', 'rel': ', characters', 'obj': \"Sune's sister\"}, {'sub': 'Sagan om Sune', 'rel': ', characters', 'obj': \"Sune's parents\"}, {'sub': 'Sagan om Sune', 'rel': ', characters', 'obj': \"Sune's schoolmates\"}, {'sub': 'Sagan om Sune', 'rel': ', characters', 'obj': \"Sune's sister\"}, {'sub': 'Sagan om Sune', 'rel': ', characters', 'obj': \"Sune's parents\"}, {'sub': 'Sagan om Sune', 'rel': ', characters', 'obj': \"Sune's friends\"}, {'sub': 'Sagan om Sune', 'rel': ', characters', 'obj': \"Sune's schoolmates\"}, {'sub': 'Sagan om Sune', 'rel': ', characters', 'obj': \"Sune's sister\"}, {'sub': 'Sagan om Sune', 'rel': ', characters', 'obj': \"Sune's parents\"}, {'sub': 'Sagan om Sune', 'rel': ', characters', 'obj': \"Sune's friends\"}, {'sub': 'Sagan om Sune', 'rel': ', characters', 'obj': \"Sune's schoolmates\"}, {'sub': 'Sagan om Sune', 'rel': ', characters', 'obj': \"Sune's sister\"}, {'sub': 'Sagan om Sune', 'rel': ', characters', 'obj': \"Sune's parents\"}, {'sub': 'Sagan om Sune', 'rel': ', characters', 'obj': \"Sune's friends\"}, {'sub': 'Sagan om Sune', 'rel': ', characters', 'obj': \"Sune's schoolmates\"}, {'sub': 'Sagan om Sune', 'rel': ', characters', 'obj': \"Sune's sister\"}, {'sub': 'Sagan om Sune', 'rel': ', characters', 'obj': \"Sune's parents\"}, {'sub': 'Sagan om Sune', 'rel': ', characters', 'obj': \"Sune's friends\"}, {'sub': 'Sagan om Sune', 'rel': ', characters', 'obj': \"Sune's schoolmates\"}, {'sub': 'Sagan om Sune', 'rel': ', characters', 'obj': \"Sune's sister\"}, {'sub': 'Sagan om Sune', 'rel': ', characters', 'obj': \"Sune's parents\"}, {'sub': 'Sagan om Sune', 'rel': ', characters', 'obj': \"Sune's friends\"}, {'sub': 'Sagan om Sune', 'rel': ', characters', 'obj': \"Sune's schoolmates\"}, {'sub': 'Sagan om Sune', 'rel': ', characters', 'obj': \"Sune's sister\"}, {'sub': 'Sagan om Sune', 'rel': ', characters', 'obj': \"Sune's parents\"}, {'sub': 'Sagan om Sune', 'rel': ', characters', 'obj': \"Sune's friends\"}, {'sub': 'Sagan om Sune', 'rel': ', characters', 'obj': \"Sune's schoolmates\"}, {'sub': 'Sagan om Sune', 'rel': ', characters', 'obj': \"Sune's sister\"}, {'sub': 'Sagan om Sune', 'rel': ', characters', 'obj': \"Sune's parents\"}, {'sub': 'Sagan om Sune', 'rel': ', characters', 'obj': \"Sune's friends\"}, {'sub': 'Sagan om Sune', 'rel': ', characters', 'obj': \"Sune's schoolmates\"}, {'sub': 'Sagan om Sune', 'rel': ', characters', 'obj': \"Sune's sister\"}, {'sub': 'Sagan om Sune', 'rel': ', characters', 'obj': \"Sune's parents\"}, {'sub': 'Sagan om Sune', 'rel': ', characters', 'obj': \"Sune's friends\"}, {'sub': 'Sagan om Sune', 'rel': ', characters', 'obj': \"Sune's schoolmates\"}, {'sub': 'Sagan om Sune', 'rel': ', characters', 'obj': \"Sune's sister\"}, {'sub': 'Sagan om Sune', 'rel': ', characters', 'obj': \"Sune's parents\"}, {'sub': 'Sagan om Sune', 'rel': ', characters', 'obj': \"Sune's friends\"}, {'sub': 'Sagan om Sune', 'rel': ', characters', 'obj': \"Sune's schoolmates\"}, {'sub': 'Sagan om Sune', 'rel': ', characters', 'obj': \"Sune's sister\"}, {'sub': 'Sagan om Sune', 'rel': ', characters', 'obj': \"Sune's parents\"}]\n"
     ]
    },
    {
     "name": "stderr",
     "output_type": "stream",
     "text": [
      "Setting `pad_token_id` to `eos_token_id`:128001 for open-end generation.\n"
     ]
    },
    {
     "name": "stdout",
     "output_type": "stream",
     "text": [
      "Test Output for ID ont_4_book_test_155: publisher(Welsh Academy Encyclopaedia of Wales,Oxford University Press)  publication_date(Welsh Academy Encyclopaedia of Wales,2008-01-01)  genre(Welsh Academy Encyclopaedia of Wales,encyclopaedia)  characters(Welsh Academy Encyclopaedia of Wales,Wales)\n",
      "Parsed Triples for ID ont_4_book_test_155: [{'sub': 'Welsh Academy Encyclopaedia of Wales', 'rel': 'publisher', 'obj': 'Oxford University Press'}, {'sub': 'Welsh Academy Encyclopaedia of Wales', 'rel': '  publication_date', 'obj': '2008-01-01'}, {'sub': 'Welsh Academy Encyclopaedia of Wales', 'rel': '  genre', 'obj': 'encyclopaedia'}, {'sub': 'Welsh Academy Encyclopaedia of Wales', 'rel': '  characters', 'obj': 'Wales'}]\n"
     ]
    },
    {
     "name": "stderr",
     "output_type": "stream",
     "text": [
      "Setting `pad_token_id` to `eos_token_id`:128001 for open-end generation.\n"
     ]
    },
    {
     "name": "stdout",
     "output_type": "stream",
     "text": [
      "Test Output for ID ont_4_book_test_156: publication_date(X-Men: God Loves, Man Kills (Marvel Graphic Novel #5),01 January 1982)\n",
      "Parsed Triples for ID ont_4_book_test_156: [{'sub': 'X-Men: God Loves', 'rel': 'publication_date', 'obj': 'Man Kills (Marvel Graphic Novel #5'}]\n"
     ]
    },
    {
     "name": "stderr",
     "output_type": "stream",
     "text": [
      "Setting `pad_token_id` to `eos_token_id`:128001 for open-end generation.\n"
     ]
    },
    {
     "name": "stdout",
     "output_type": "stream",
     "text": [
      "Test Output for ID ont_4_book_test_157: author(Alfie and His Secret Friend, Gunilla BergstrÃ¶m), author(Alfie and His Secret Friend, Gunilla BergstrÃ¶m), author(Alfie and His Secret Friend, Gunilla BergstrÃ¶m), author(Alfie and His Secret Friend, Gunilla BergstrÃ¶m), author(Alfie and His Secret Friend, Gunilla BergstrÃ¶m), author(Alfie and His Secret Friend, Gunilla BergstrÃ¶m), author(Alfie and His Secret Friend, Gunilla BergstrÃ¶m), author(Alfie and His Secret Friend, Gunilla BergstrÃ¶m), author(Alfie and His Secret Friend, Gunilla BergstrÃ¶m), author(Alfie and His Secret Friend, Gunilla BergstrÃ¶m), author(Alfie and His Secret Friend, Gunilla BergstrÃ¶m), author(Alfie and His Secret Friend, Gunilla BergstrÃ¶m), author(Alfie and His Secret Friend, Gunilla BergstrÃ¶m), author(Alfie and His Secret Friend, Gunilla BergstrÃ¶m), author(Alfie and His Secret Friend, Gunilla BergstrÃ¶m), author(Alfie and His Secret Friend, Gunilla BergstrÃ¶m), author(Alfie and His Secret Friend, Gunilla BergstrÃ¶m), author(Alfie and His Secret Friend, Gunilla BergstrÃ¶m), author(Alfie and His Secret Friend, Gunilla BergstrÃ¶m), author(Alfie and His Secret Friend, Gunilla BergstrÃ¶m), author(Alfie and His Secret Friend, Gunilla BergstrÃ¶m), author(Alfie and His Secret Friend, Gunilla BergstrÃ¶m), author(Alfie and His Secret Friend, Gunilla BergstrÃ¶m), author(Alfie and His Secret Friend, Gunilla BergstrÃ¶m), author(Alfie and His Secret Friend, Gunilla BergstrÃ¶m), author(Alfie and His Secret Friend, Gunilla BergstrÃ¶m), author(Alfie and His Secret Friend, Gunilla BergstrÃ¶m), author(Alfie and His Secret Friend, Gunilla BergstrÃ¶m), author(Alfie and His Secret Friend, Gunilla BergstrÃ¶m), author(Alfie and His Secret Friend, Gunilla BergstrÃ¶m), author(Alfie and His Secret Friend, Gunilla BergstrÃ¶m), author(Alfie and His Secret Friend, Gunilla BergstrÃ¶m), author(Alfie and His Secret Friend, Gunilla BergstrÃ¶m), author(Alfie and His Secret Friend, Gunilla BergstrÃ¶m), author(Alfie and His Secret Friend, Gunilla BergstrÃ¶m), author(Alfie and His Secret Friend, Gunilla BergstrÃ¶m), author(Alfie and His Secret Friend, Gun\n",
      "Parsed Triples for ID ont_4_book_test_157: [{'sub': 'Alfie and His Secret Friend', 'rel': 'author', 'obj': 'Gunilla BergstrÃ¶m'}, {'sub': 'Alfie and His Secret Friend', 'rel': ', author', 'obj': 'Gunilla BergstrÃ¶m'}, {'sub': 'Alfie and His Secret Friend', 'rel': ', author', 'obj': 'Gunilla BergstrÃ¶m'}, {'sub': 'Alfie and His Secret Friend', 'rel': ', author', 'obj': 'Gunilla BergstrÃ¶m'}, {'sub': 'Alfie and His Secret Friend', 'rel': ', author', 'obj': 'Gunilla BergstrÃ¶m'}, {'sub': 'Alfie and His Secret Friend', 'rel': ', author', 'obj': 'Gunilla BergstrÃ¶m'}, {'sub': 'Alfie and His Secret Friend', 'rel': ', author', 'obj': 'Gunilla BergstrÃ¶m'}, {'sub': 'Alfie and His Secret Friend', 'rel': ', author', 'obj': 'Gunilla BergstrÃ¶m'}, {'sub': 'Alfie and His Secret Friend', 'rel': ', author', 'obj': 'Gunilla BergstrÃ¶m'}, {'sub': 'Alfie and His Secret Friend', 'rel': ', author', 'obj': 'Gunilla BergstrÃ¶m'}, {'sub': 'Alfie and His Secret Friend', 'rel': ', author', 'obj': 'Gunilla BergstrÃ¶m'}, {'sub': 'Alfie and His Secret Friend', 'rel': ', author', 'obj': 'Gunilla BergstrÃ¶m'}, {'sub': 'Alfie and His Secret Friend', 'rel': ', author', 'obj': 'Gunilla BergstrÃ¶m'}, {'sub': 'Alfie and His Secret Friend', 'rel': ', author', 'obj': 'Gunilla BergstrÃ¶m'}, {'sub': 'Alfie and His Secret Friend', 'rel': ', author', 'obj': 'Gunilla BergstrÃ¶m'}, {'sub': 'Alfie and His Secret Friend', 'rel': ', author', 'obj': 'Gunilla BergstrÃ¶m'}, {'sub': 'Alfie and His Secret Friend', 'rel': ', author', 'obj': 'Gunilla BergstrÃ¶m'}, {'sub': 'Alfie and His Secret Friend', 'rel': ', author', 'obj': 'Gunilla BergstrÃ¶m'}, {'sub': 'Alfie and His Secret Friend', 'rel': ', author', 'obj': 'Gunilla BergstrÃ¶m'}, {'sub': 'Alfie and His Secret Friend', 'rel': ', author', 'obj': 'Gunilla BergstrÃ¶m'}, {'sub': 'Alfie and His Secret Friend', 'rel': ', author', 'obj': 'Gunilla BergstrÃ¶m'}, {'sub': 'Alfie and His Secret Friend', 'rel': ', author', 'obj': 'Gunilla BergstrÃ¶m'}, {'sub': 'Alfie and His Secret Friend', 'rel': ', author', 'obj': 'Gunilla BergstrÃ¶m'}, {'sub': 'Alfie and His Secret Friend', 'rel': ', author', 'obj': 'Gunilla BergstrÃ¶m'}, {'sub': 'Alfie and His Secret Friend', 'rel': ', author', 'obj': 'Gunilla BergstrÃ¶m'}, {'sub': 'Alfie and His Secret Friend', 'rel': ', author', 'obj': 'Gunilla BergstrÃ¶m'}, {'sub': 'Alfie and His Secret Friend', 'rel': ', author', 'obj': 'Gunilla BergstrÃ¶m'}, {'sub': 'Alfie and His Secret Friend', 'rel': ', author', 'obj': 'Gunilla BergstrÃ¶m'}, {'sub': 'Alfie and His Secret Friend', 'rel': ', author', 'obj': 'Gunilla BergstrÃ¶m'}, {'sub': 'Alfie and His Secret Friend', 'rel': ', author', 'obj': 'Gunilla BergstrÃ¶m'}, {'sub': 'Alfie and His Secret Friend', 'rel': ', author', 'obj': 'Gunilla BergstrÃ¶m'}, {'sub': 'Alfie and His Secret Friend', 'rel': ', author', 'obj': 'Gunilla BergstrÃ¶m'}, {'sub': 'Alfie and His Secret Friend', 'rel': ', author', 'obj': 'Gunilla BergstrÃ¶m'}, {'sub': 'Alfie and His Secret Friend', 'rel': ', author', 'obj': 'Gunilla BergstrÃ¶m'}, {'sub': 'Alfie and His Secret Friend', 'rel': ', author', 'obj': 'Gunilla BergstrÃ¶m'}, {'sub': 'Alfie and His Secret Friend', 'rel': ', author', 'obj': 'Gunilla BergstrÃ¶m'}]\n"
     ]
    },
    {
     "name": "stderr",
     "output_type": "stream",
     "text": [
      "Setting `pad_token_id` to `eos_token_id`:128001 for open-end generation.\n"
     ]
    },
    {
     "name": "stdout",
     "output_type": "stream",
     "text": [
      "Test Output for ID ont_4_book_test_158: author(The Cardboard Valise,Chris Ware), publication_date(The Cardboard Valise,2011), publisher(The Cardboard Valise,Pantheon Books)\n",
      "Parsed Triples for ID ont_4_book_test_158: [{'sub': 'The Cardboard Valise', 'rel': 'author', 'obj': 'Chris Ware'}, {'sub': 'The Cardboard Valise', 'rel': ', publication_date', 'obj': '2011'}, {'sub': 'The Cardboard Valise', 'rel': ', publisher', 'obj': 'Pantheon Books'}]\n"
     ]
    },
    {
     "name": "stderr",
     "output_type": "stream",
     "text": [
      "Setting `pad_token_id` to `eos_token_id`:128001 for open-end generation.\n"
     ]
    },
    {
     "name": "stdout",
     "output_type": "stream",
     "text": [
      "Test Output for ID ont_4_book_test_159: publication_date(Elektra Lives Again,01 January 1990)\n",
      "Parsed Triples for ID ont_4_book_test_159: [{'sub': 'Elektra Lives Again', 'rel': 'publication_date', 'obj': '01 January 1990'}]\n"
     ]
    },
    {
     "name": "stderr",
     "output_type": "stream",
     "text": [
      "Setting `pad_token_id` to `eos_token_id`:128001 for open-end generation.\n"
     ]
    },
    {
     "name": "stdout",
     "output_type": "stream",
     "text": [
      "Test Output for ID ont_4_book_test_160: \n",
      "Parsed Triples for ID ont_4_book_test_160: []\n"
     ]
    },
    {
     "name": "stderr",
     "output_type": "stream",
     "text": [
      "Setting `pad_token_id` to `eos_token_id`:128001 for open-end generation.\n"
     ]
    },
    {
     "name": "stdout",
     "output_type": "stream",
     "text": [
      "Test Output for ID ont_4_book_test_161: 1. genre(Hymns for the Amusement of Children,Children's literature)\n",
      "Parsed Triples for ID ont_4_book_test_161: [{'sub': 'Hymns for the Amusement of Children', 'rel': '1. genre', 'obj': \"Children's literature\"}]\n"
     ]
    },
    {
     "name": "stderr",
     "output_type": "stream",
     "text": [
      "Setting `pad_token_id` to `eos_token_id`:128001 for open-end generation.\n"
     ]
    },
    {
     "name": "stdout",
     "output_type": "stream",
     "text": [
      "Test Output for ID ont_4_book_test_162: illustrator(Violent Cases,Dave McKean)\n",
      "Parsed Triples for ID ont_4_book_test_162: [{'sub': 'Violent Cases', 'rel': 'illustrator', 'obj': 'Dave McKean'}]\n"
     ]
    },
    {
     "name": "stderr",
     "output_type": "stream",
     "text": [
      "Setting `pad_token_id` to `eos_token_id`:128001 for open-end generation.\n"
     ]
    },
    {
     "name": "stdout",
     "output_type": "stream",
     "text": [
      "Test Output for ID ont_4_book_test_163: \n",
      "Parsed Triples for ID ont_4_book_test_163: []\n"
     ]
    },
    {
     "name": "stderr",
     "output_type": "stream",
     "text": [
      "Setting `pad_token_id` to `eos_token_id`:128001 for open-end generation.\n"
     ]
    },
    {
     "name": "stdout",
     "output_type": "stream",
     "text": [
      "Test Output for ID ont_4_book_test_164: author(Terry and the Gunrunners,Bob Kerr), author(Terry and the Gunrunners,Stephen Ballantyne)\n",
      "Parsed Triples for ID ont_4_book_test_164: [{'sub': 'Terry and the Gunrunners', 'rel': 'author', 'obj': 'Bob Kerr'}, {'sub': 'Terry and the Gunrunners', 'rel': ', author', 'obj': 'Stephen Ballantyne'}]\n"
     ]
    },
    {
     "name": "stderr",
     "output_type": "stream",
     "text": [
      "Setting `pad_token_id` to `eos_token_id`:128001 for open-end generation.\n"
     ]
    },
    {
     "name": "stdout",
     "output_type": "stream",
     "text": [
      "Test Output for ID ont_4_book_test_165: \n",
      "Parsed Triples for ID ont_4_book_test_165: []\n"
     ]
    },
    {
     "name": "stderr",
     "output_type": "stream",
     "text": [
      "Setting `pad_token_id` to `eos_token_id`:128001 for open-end generation.\n"
     ]
    },
    {
     "name": "stdout",
     "output_type": "stream",
     "text": [
      "Test Output for ID ont_4_book_test_166: author(Dropsie Avenue,Will Eisner)\n",
      "Parsed Triples for ID ont_4_book_test_166: [{'sub': 'Dropsie Avenue', 'rel': 'author', 'obj': 'Will Eisner'}]\n"
     ]
    },
    {
     "name": "stderr",
     "output_type": "stream",
     "text": [
      "Setting `pad_token_id` to `eos_token_id`:128001 for open-end generation.\n"
     ]
    },
    {
     "name": "stdout",
     "output_type": "stream",
     "text": [
      "Test Output for ID ont_4_book_test_167: author(Star Trek Encyclopedia,Michael Okuda) author(Star Trek Encyclopedia,Denise Okuda) author(Star Trek Encyclopedia,Debbie Mirek) publication_date(Star Trek Encyclopedia,1 January 1999)\n",
      "Parsed Triples for ID ont_4_book_test_167: [{'sub': 'Star Trek Encyclopedia', 'rel': 'author', 'obj': 'Michael Okuda'}, {'sub': 'Star Trek Encyclopedia', 'rel': ' author', 'obj': 'Denise Okuda'}, {'sub': 'Star Trek Encyclopedia', 'rel': ' author', 'obj': 'Debbie Mirek'}, {'sub': 'Star Trek Encyclopedia', 'rel': ' publication_date', 'obj': '1 January 1999'}]\n"
     ]
    },
    {
     "name": "stderr",
     "output_type": "stream",
     "text": [
      "Setting `pad_token_id` to `eos_token_id`:128001 for open-end generation.\n"
     ]
    },
    {
     "name": "stdout",
     "output_type": "stream",
     "text": [
      "Test Output for ID ont_4_book_test_168: 1. author(,Paul Dini) 2. author(,Alex Ross) 3. publication_date(,1999-01-01) 4. publication_date(,2008-01-01) 5. publication_date(,2009-01-01) 6. publication_date(,2010-01-01) 7. publication_date(,2011-01-01) 8. publication_date(,2012-01-01) 9. publication_date(,2013-01-01) 10. publication_date(,2014-01-01) 11. publication_date(,2015-01-01) 12. publication_date(,2016-01-01) 13. publication_date(,2017-01-01) 14. publication_date(,2018-01-01) 15. publication_date(,2019-01-01) 16. publication_date(,2020-01-01) 17. publication_date(,2021-01-01) 18. publication_date(,2022-01-01) 19. publication_date(,2023-01-01) 20. publication_date(,2024-01-01) 21. publication_date(,2025-01-01) 22. publication_date(,2026-01-01) 23. publication_date(,2027-01-01) 24. publication_date(,2028-01-01) 25. publication_date(,2029-01-01) 26. publication_date(,2030-01-01) 27. publication_date(,2031-01-01) 28. publication_date(,2032-01-01) 29. publication_date(,2033-01-01) 30. publication_date(,2034-01-01) 31. publication_date(,2035-01-01) 32. publication_date(,2036-01-01) 33. publication_date(,2037-01-01) 34. publication_date(,2038-01-01) 35. publication_date(,2039-01-01) 36. publication_date(,2040-01-01) 37. publication_date(,2041-01-01) 38. publication_date(,2042-01-01) 39. publication_date(,2043-01-01) 40. publication_date(,2044-01-01) 41. publication_date(,2045-01-01) 42. publication_date(,2046-01-01) 43. publication_date(,2047-01-01) 44. publication_date(,2048-01-01) 45. publication_date(,2049-01-01) 46. publication_date(,2050-01-01) 47. publication_date(,2051-01-01) 48. publication_date(,2052-01-01) 49. publication_date(,2053-01-01) 50. publication_date(,2054-01-\n",
      "Parsed Triples for ID ont_4_book_test_168: []\n"
     ]
    },
    {
     "name": "stderr",
     "output_type": "stream",
     "text": [
      "Setting `pad_token_id` to `eos_token_id`:128001 for open-end generation.\n"
     ]
    },
    {
     "name": "stdout",
     "output_type": "stream",
     "text": [
      "Test Output for ID ont_4_book_test_169: 1. characters(A Cauldron of Witches, fairytale)\n",
      "Parsed Triples for ID ont_4_book_test_169: [{'sub': 'A Cauldron of Witches', 'rel': '1. characters', 'obj': 'fairytale'}]\n"
     ]
    },
    {
     "name": "stderr",
     "output_type": "stream",
     "text": [
      "Setting `pad_token_id` to `eos_token_id`:128001 for open-end generation.\n"
     ]
    },
    {
     "name": "stdout",
     "output_type": "stream",
     "text": [
      "Test Output for ID ont_4_book_test_170: publication_date(Oxford Dictionary of Byzantium,01 January 1991), editor(Oxford Dictionary of Byzantium,Alexander Kazhdan)\n",
      "Parsed Triples for ID ont_4_book_test_170: [{'sub': 'Oxford Dictionary of Byzantium', 'rel': 'publication_date', 'obj': '01 January 1991'}, {'sub': 'Oxford Dictionary of Byzantium', 'rel': ', editor', 'obj': 'Alexander Kazhdan'}]\n"
     ]
    },
    {
     "name": "stderr",
     "output_type": "stream",
     "text": [
      "Setting `pad_token_id` to `eos_token_id`:128001 for open-end generation.\n"
     ]
    },
    {
     "name": "stdout",
     "output_type": "stream",
     "text": [
      "Test Output for ID ont_4_book_test_171: author(Written by Roy Thomas with Michael Lark as the artist,Roy Thomas)\n",
      "Parsed Triples for ID ont_4_book_test_171: [{'sub': 'Written by Roy Thomas with Michael Lark as the artist', 'rel': 'author', 'obj': 'Roy Thomas'}]\n"
     ]
    },
    {
     "name": "stderr",
     "output_type": "stream",
     "text": [
      "Setting `pad_token_id` to `eos_token_id`:128001 for open-end generation.\n"
     ]
    },
    {
     "name": "stdout",
     "output_type": "stream",
     "text": [
      "Test Output for ID ont_4_book_test_172: author(Berts ytterligare betraktelser,Anders Jacobsson)  author(Berts ytterligare betraktelser,Sören Olsson)  publication_date(Berts ytterligare betraktelser,1 September 1991)  publication_date(Berts ytterligare betraktelser,31 December 1991)  publication_date(Berts ytterligare betraktelser,1 January 1991)  publication_date(Berts ytterligare betraktelser,31 December 1991)  publication_date(Berts ytterligare betraktelser,1 January 1991)  publication_date(Berts ytterligare betraktelser,31 December 1991)  publication_date(Berts ytterligare betraktelser,1 January 1991)  publication_date(Berts ytterligare betraktelser,31 December 1991)  publication_date(Berts ytterligare betraktelser,1 January 1991)  publication_date(Berts ytterligare betraktelser,31 December 1991)  publication_date(Berts ytterligare betraktelser,1 January 1991)  publication_date(Berts ytterligare betraktelser,31 December 1991)  publication_date(Berts ytterligare betraktelser,1 January 1991)  publication_date(Berts ytterligare betraktelser,31 December 1991)  publication_date(Berts ytterligare betraktelser,1 January 1991)  publication_date(Berts ytterligare betraktelser,31 December 1991)  publication_date(Berts ytterligare betraktelser,1 January 1991)  publication_date(Berts ytterligare betraktelser,31 December 1991)  publication_date(Berts ytterligare betraktelser,1 January 1991)  publication_date(Berts ytterligare betraktelser,31 December 1991)  publication_date(Berts ytterligare betraktelser,1 January 1991)  publication_date(Berts ytterligare betraktelser,31 December 1991)  publication_date(Berts ytterligare betraktelser,1 January 1991)  publication_date(Berts ytterligare betraktelser,31 December 1991)  publication_date(Berts ytterligare betraktelser,1 January 1991)  publication_date(Berts ytterligare betraktelser,31 December 1991)  publication_date(Berts ytterligare betraktelser,1 January 1991)  publication_date(Berts ytterligare betraktelser,31 December 1991)  publication_date(Berts ytterligare betraktelser,1 January 1991)  publication_date(Berts ytterligare betraktelser,31 December 1991)  publication_date\n",
      "Parsed Triples for ID ont_4_book_test_172: [{'sub': 'Berts ytterligare betraktelser', 'rel': 'author', 'obj': 'Anders Jacobsson'}, {'sub': 'Berts ytterligare betraktelser', 'rel': '  author', 'obj': 'Sören Olsson'}, {'sub': 'Berts ytterligare betraktelser', 'rel': '  publication_date', 'obj': '1 September 1991'}, {'sub': 'Berts ytterligare betraktelser', 'rel': '  publication_date', 'obj': '31 December 1991'}, {'sub': 'Berts ytterligare betraktelser', 'rel': '  publication_date', 'obj': '1 January 1991'}, {'sub': 'Berts ytterligare betraktelser', 'rel': '  publication_date', 'obj': '31 December 1991'}, {'sub': 'Berts ytterligare betraktelser', 'rel': '  publication_date', 'obj': '1 January 1991'}, {'sub': 'Berts ytterligare betraktelser', 'rel': '  publication_date', 'obj': '31 December 1991'}, {'sub': 'Berts ytterligare betraktelser', 'rel': '  publication_date', 'obj': '1 January 1991'}, {'sub': 'Berts ytterligare betraktelser', 'rel': '  publication_date', 'obj': '31 December 1991'}, {'sub': 'Berts ytterligare betraktelser', 'rel': '  publication_date', 'obj': '1 January 1991'}, {'sub': 'Berts ytterligare betraktelser', 'rel': '  publication_date', 'obj': '31 December 1991'}, {'sub': 'Berts ytterligare betraktelser', 'rel': '  publication_date', 'obj': '1 January 1991'}, {'sub': 'Berts ytterligare betraktelser', 'rel': '  publication_date', 'obj': '31 December 1991'}, {'sub': 'Berts ytterligare betraktelser', 'rel': '  publication_date', 'obj': '1 January 1991'}, {'sub': 'Berts ytterligare betraktelser', 'rel': '  publication_date', 'obj': '31 December 1991'}, {'sub': 'Berts ytterligare betraktelser', 'rel': '  publication_date', 'obj': '1 January 1991'}, {'sub': 'Berts ytterligare betraktelser', 'rel': '  publication_date', 'obj': '31 December 1991'}, {'sub': 'Berts ytterligare betraktelser', 'rel': '  publication_date', 'obj': '1 January 1991'}, {'sub': 'Berts ytterligare betraktelser', 'rel': '  publication_date', 'obj': '31 December 1991'}, {'sub': 'Berts ytterligare betraktelser', 'rel': '  publication_date', 'obj': '1 January 1991'}, {'sub': 'Berts ytterligare betraktelser', 'rel': '  publication_date', 'obj': '31 December 1991'}, {'sub': 'Berts ytterligare betraktelser', 'rel': '  publication_date', 'obj': '1 January 1991'}, {'sub': 'Berts ytterligare betraktelser', 'rel': '  publication_date', 'obj': '31 December 1991'}, {'sub': 'Berts ytterligare betraktelser', 'rel': '  publication_date', 'obj': '1 January 1991'}, {'sub': 'Berts ytterligare betraktelser', 'rel': '  publication_date', 'obj': '31 December 1991'}, {'sub': 'Berts ytterligare betraktelser', 'rel': '  publication_date', 'obj': '1 January 1991'}, {'sub': 'Berts ytterligare betraktelser', 'rel': '  publication_date', 'obj': '31 December 1991'}, {'sub': 'Berts ytterligare betraktelser', 'rel': '  publication_date', 'obj': '1 January 1991'}, {'sub': 'Berts ytterligare betraktelser', 'rel': '  publication_date', 'obj': '31 December 1991'}, {'sub': 'Berts ytterligare betraktelser', 'rel': '  publication_date', 'obj': '1 January 1991'}, {'sub': 'Berts ytterligare betraktelser', 'rel': '  publication_date', 'obj': '31 December 1991'}]\n"
     ]
    },
    {
     "name": "stderr",
     "output_type": "stream",
     "text": [
      "Setting `pad_token_id` to `eos_token_id`:128001 for open-end generation.\n"
     ]
    },
    {
     "name": "stdout",
     "output_type": "stream",
     "text": [
      "Test Output for ID ont_4_book_test_173: author(Bert och Boysen,Sören Olsson)\n",
      "Parsed Triples for ID ont_4_book_test_173: [{'sub': 'Bert och Boysen', 'rel': 'author', 'obj': 'Sören Olsson'}]\n"
     ]
    },
    {
     "name": "stderr",
     "output_type": "stream",
     "text": [
      "Setting `pad_token_id` to `eos_token_id`:128001 for open-end generation.\n"
     ]
    },
    {
     "name": "stdout",
     "output_type": "stream",
     "text": [
      "Test Output for ID ont_4_book_test_174: publication_date(Interlingua a Prime Vista,01 January 1954),author(Alexander Gode),publisher(Interlingua Institute),publication_date(Interlingua a Prime Vista,01 January 1954),author(Alexander Gode),publisher(Interlingua Institute)\n",
      "Parsed Triples for ID ont_4_book_test_174: [{'sub': 'Interlingua a Prime Vista', 'rel': 'publication_date', 'obj': '01 January 1954'}, {'sub': 'Alexander Gode)', 'rel': ',author', 'obj': 'publisher(Interlingua Institute'}, {'sub': 'Interlingua a Prime Vista', 'rel': ',publication_date', 'obj': '01 January 1954'}, {'sub': 'Alexander Gode)', 'rel': ',author', 'obj': 'publisher(Interlingua Institute'}]\n"
     ]
    },
    {
     "name": "stderr",
     "output_type": "stream",
     "text": [
      "Setting `pad_token_id` to `eos_token_id`:128001 for open-end generation.\n"
     ]
    },
    {
     "name": "stdout",
     "output_type": "stream",
     "text": [
      "Test Output for ID ont_4_book_test_175: publication_date(My Favorite Thing Is Monsters,26 October 2015),author(My Favorite Thing Is Monsters,Emil Ferris)\n",
      "Parsed Triples for ID ont_4_book_test_175: [{'sub': 'My Favorite Thing Is Monsters', 'rel': 'publication_date', 'obj': '26 October 2015'}, {'sub': 'My Favorite Thing Is Monsters', 'rel': ',author', 'obj': 'Emil Ferris'}]\n"
     ]
    },
    {
     "name": "stderr",
     "output_type": "stream",
     "text": [
      "Setting `pad_token_id` to `eos_token_id`:128001 for open-end generation.\n"
     ]
    },
    {
     "name": "stdout",
     "output_type": "stream",
     "text": [
      "Test Output for ID ont_4_book_test_176: 1. author(Fem unga,Artur Lundkvist)\n",
      "Parsed Triples for ID ont_4_book_test_176: [{'sub': 'Fem unga', 'rel': '1. author', 'obj': 'Artur Lundkvist'}]\n"
     ]
    },
    {
     "name": "stderr",
     "output_type": "stream",
     "text": [
      "Setting `pad_token_id` to `eos_token_id`:128001 for open-end generation.\n"
     ]
    },
    {
     "name": "stdout",
     "output_type": "stream",
     "text": [
      "Test Output for ID ont_4_book_test_177: author(Giovanni Biamonti)\n",
      "Parsed Triples for ID ont_4_book_test_177: []\n"
     ]
    },
    {
     "name": "stderr",
     "output_type": "stream",
     "text": [
      "Setting `pad_token_id` to `eos_token_id`:128001 for open-end generation.\n"
     ]
    },
    {
     "name": "stdout",
     "output_type": "stream",
     "text": [
      "Test Output for ID ont_4_book_test_178: illustrator(Bloodstar,Richard Corben), author(Bloodstar,Robert E. Howard), publication_date(Bloodstar,1978-01-01), characters(Bloodstar,Conan the Barbarian),\n",
      "Parsed Triples for ID ont_4_book_test_178: [{'sub': 'Bloodstar', 'rel': 'illustrator', 'obj': 'Richard Corben'}, {'sub': 'Bloodstar', 'rel': ', author', 'obj': 'Robert E. Howard'}, {'sub': 'Bloodstar', 'rel': ', publication_date', 'obj': '1978-01-01'}, {'sub': 'Bloodstar', 'rel': ', characters', 'obj': 'Conan the Barbarian'}]\n"
     ]
    },
    {
     "name": "stderr",
     "output_type": "stream",
     "text": [
      "Setting `pad_token_id` to `eos_token_id`:128001 for open-end generation.\n"
     ]
    },
    {
     "name": "stdout",
     "output_type": "stream",
     "text": [
      "Test Output for ID ont_4_book_test_179: \n",
      "Parsed Triples for ID ont_4_book_test_179: []\n"
     ]
    },
    {
     "name": "stderr",
     "output_type": "stream",
     "text": [
      "Setting `pad_token_id` to `eos_token_id`:128001 for open-end generation.\n"
     ]
    },
    {
     "name": "stdout",
     "output_type": "stream",
     "text": [
      "Test Output for ID ont_4_book_test_180: author(Dark Visions,Stephen King)\n",
      "Parsed Triples for ID ont_4_book_test_180: [{'sub': 'Dark Visions', 'rel': 'author', 'obj': 'Stephen King'}]\n"
     ]
    },
    {
     "name": "stderr",
     "output_type": "stream",
     "text": [
      "Setting `pad_token_id` to `eos_token_id`:128001 for open-end generation.\n"
     ]
    },
    {
     "name": "stdout",
     "output_type": "stream",
     "text": [
      "Test Output for ID ont_4_book_test_181: \n",
      "Parsed Triples for ID ont_4_book_test_181: []\n"
     ]
    },
    {
     "name": "stderr",
     "output_type": "stream",
     "text": [
      "Setting `pad_token_id` to `eos_token_id`:128001 for open-end generation.\n"
     ]
    },
    {
     "name": "stdout",
     "output_type": "stream",
     "text": [
      "Test Output for ID ont_4_book_test_182: \n",
      "Parsed Triples for ID ont_4_book_test_182: []\n"
     ]
    },
    {
     "name": "stderr",
     "output_type": "stream",
     "text": [
      "Setting `pad_token_id` to `eos_token_id`:128001 for open-end generation.\n"
     ]
    },
    {
     "name": "stdout",
     "output_type": "stream",
     "text": [
      "Test Output for ID ont_4_book_test_183: author(Gujin Tushu Jicheng,Chen Menglei)\n",
      "Parsed Triples for ID ont_4_book_test_183: [{'sub': 'Gujin Tushu Jicheng', 'rel': 'author', 'obj': 'Chen Menglei'}]\n"
     ]
    },
    {
     "name": "stderr",
     "output_type": "stream",
     "text": [
      "Setting `pad_token_id` to `eos_token_id`:128001 for open-end generation.\n"
     ]
    },
    {
     "name": "stdout",
     "output_type": "stream",
     "text": [
      "Test Output for ID ont_4_book_test_184: publication_date(\"Politics and the English Language\",01 January 1946), author(\"Politics and the English Language\",George Orwell),\n",
      "Parsed Triples for ID ont_4_book_test_184: [{'sub': '\"Politics and the English Language\"', 'rel': 'publication_date', 'obj': '01 January 1946'}, {'sub': '\"Politics and the English Language\"', 'rel': ', author', 'obj': 'George Orwell'}]\n"
     ]
    },
    {
     "name": "stderr",
     "output_type": "stream",
     "text": [
      "Setting `pad_token_id` to `eos_token_id`:128001 for open-end generation.\n"
     ]
    },
    {
     "name": "stdout",
     "output_type": "stream",
     "text": [
      "Test Output for ID ont_4_book_test_185: 1. illustrator(Scary Godmother,Jill Thompson)\n",
      "Parsed Triples for ID ont_4_book_test_185: [{'sub': 'Scary Godmother', 'rel': '1. illustrator', 'obj': 'Jill Thompson'}]\n"
     ]
    },
    {
     "name": "stderr",
     "output_type": "stream",
     "text": [
      "Setting `pad_token_id` to `eos_token_id`:128001 for open-end generation.\n"
     ]
    },
    {
     "name": "stdout",
     "output_type": "stream",
     "text": [
      "Test Output for ID ont_4_book_test_186: 1. author(,Jovan Jovanović Zmaj), author(,Laza Kostić), author(,Petar I Petrović-Njegoš), author(,Vojislav Ilić), author(,Jovan Grčić Milenko), author(,Aleksa Šantić), author(,Jovan Dučić), author(,Milan Rakić), author(,Sima Pandurović), author(,Veljko Petrović)\n",
      "Parsed Triples for ID ont_4_book_test_186: []\n"
     ]
    },
    {
     "name": "stderr",
     "output_type": "stream",
     "text": [
      "Setting `pad_token_id` to `eos_token_id`:128001 for open-end generation.\n"
     ]
    },
    {
     "name": "stdout",
     "output_type": "stream",
     "text": [
      "Test Output for ID ont_4_book_test_187: 56(short stories),4(novel),author(Sherlock Holmes,Sir Arthur Conan Doyle)\n",
      "Parsed Triples for ID ont_4_book_test_187: [{'sub': 'short stories)', 'rel': '56', 'obj': '4(novel'}, {'sub': 'Sherlock Holmes', 'rel': ',author', 'obj': 'Sir Arthur Conan Doyle'}]\n"
     ]
    },
    {
     "name": "stderr",
     "output_type": "stream",
     "text": [
      "Setting `pad_token_id` to `eos_token_id`:128001 for open-end generation.\n"
     ]
    },
    {
     "name": "stdout",
     "output_type": "stream",
     "text": [
      "Test Output for ID ont_4_book_test_188: 1. publication_date(An Introduction to Animals and Political Theory,13 October 2010)\n",
      "Parsed Triples for ID ont_4_book_test_188: [{'sub': 'An Introduction to Animals and Political Theory', 'rel': '1. publication_date', 'obj': '13 October 2010'}]\n"
     ]
    },
    {
     "name": "stderr",
     "output_type": "stream",
     "text": [
      "Setting `pad_token_id` to `eos_token_id`:128001 for open-end generation.\n"
     ]
    },
    {
     "name": "stdout",
     "output_type": "stream",
     "text": [
      "Test Output for ID ont_4_book_test_189: \n",
      "Parsed Triples for ID ont_4_book_test_189: []\n"
     ]
    },
    {
     "name": "stderr",
     "output_type": "stream",
     "text": [
      "Setting `pad_token_id` to `eos_token_id`:128001 for open-end generation.\n"
     ]
    },
    {
     "name": "stdout",
     "output_type": "stream",
     "text": [
      "Test Output for ID ont_4_book_test_190: publication_date(Good-Bye to All That,1929)\n",
      "Parsed Triples for ID ont_4_book_test_190: [{'sub': 'Good-Bye to All That', 'rel': 'publication_date', 'obj': '1929'}]\n"
     ]
    },
    {
     "name": "stderr",
     "output_type": "stream",
     "text": [
      "Setting `pad_token_id` to `eos_token_id`:128001 for open-end generation.\n"
     ]
    },
    {
     "name": "stdout",
     "output_type": "stream",
     "text": [
      "Test Output for ID ont_4_book_test_191: publisher(JLA: Earth 2,DC Comics), publication_date(JLA: Earth 2,2000-00-00), characters(JLA: Earth 2,Superman), characters(JLA: Earth 2,Batman), characters(JLA: Earth 2,Green Lantern), characters(JLA: Earth 2,Flash), characters(JLA: Earth 2,Wonder Woman), characters(JLA: Earth 2,Robin), characters(JLA: Earth 2,Atom), characters(JLA: Earth 2,Green Arrow), characters(JLA: Earth 2,Red Arrow), characters(JLA: Earth 2,Firestorm), characters(JLA: Earth 2,Black Canary), characters(JLA: Earth 2,Blue Beetle), characters(JLA: Earth 2,Maxima), characters(JLA: Earth 2,Plastique), characters(JLA: Earth 2,Shadowpact), characters(JLA: Earth 2,Animal Man), characters(JLA: Earth 2,Doctor Fate), characters(JLA: Earth 2,Zatanna), characters(JLA: Earth 2,Blackhawk), characters(JLA: Earth 2,The Question), characters(JLA: Earth 2,Shade, the Changing Man), characters(JLA: Earth 2,Deadman), characters(JLA: Earth 2,The Spectre), characters(JLA: Earth 2,El Diablo), characters(JLA: Earth 2,Animal Man), characters(JLA: Earth 2,Doctor Fate), characters(JLA: Earth 2,Zatanna), characters(JLA: Earth 2,Blackhawk), characters(JLA: Earth 2,The Question), characters(JLA: Earth 2,Shade, the Changing Man), characters(JLA: Earth 2,Deadman), characters(JLA: Earth 2,The Spectre), characters(JLA: Earth 2,El Diablo), characters(JLA: Earth 2,Animal Man), characters(JLA: Earth 2,Doctor Fate), characters(JLA: Earth 2,Zatanna), characters(JLA: Earth 2,Blackhawk), characters(JLA: Earth 2,The Question), characters(JLA: Earth 2,Shade, the Changing Man), characters(JLA: Earth 2,Deadman), characters(JLA: Earth 2,The Spectre), characters(JLA: Earth 2,El Diablo), characters(JLA: Earth 2,Animal Man), characters(JLA: Earth 2,Doctor Fate), characters(JLA: Earth 2,Zatanna), characters(JLA: Earth 2,Blackhawk), characters(JLA: Earth 2,The Question), characters(JLA: Earth 2,Shade, the Changing Man), characters(JLA: Earth 2,Deadman), characters(JLA: Earth 2,The Spectre), characters(JLA: Earth 2,El Diablo), characters(JLA: Earth 2,Animal Man), characters(JLA: Earth 2,Doctor Fate), characters(JLA: Earth 2,Zatanna), characters(JLA: Earth 2,Blackhawk), characters(JLA: Earth 2,The Question), characters(JLA: Earth 2,\n",
      "Parsed Triples for ID ont_4_book_test_191: [{'sub': 'JLA: Earth 2', 'rel': 'publisher', 'obj': 'DC Comics'}, {'sub': 'JLA: Earth 2', 'rel': ', publication_date', 'obj': '2000-00-00'}, {'sub': 'JLA: Earth 2', 'rel': ', characters', 'obj': 'Superman'}, {'sub': 'JLA: Earth 2', 'rel': ', characters', 'obj': 'Batman'}, {'sub': 'JLA: Earth 2', 'rel': ', characters', 'obj': 'Green Lantern'}, {'sub': 'JLA: Earth 2', 'rel': ', characters', 'obj': 'Flash'}, {'sub': 'JLA: Earth 2', 'rel': ', characters', 'obj': 'Wonder Woman'}, {'sub': 'JLA: Earth 2', 'rel': ', characters', 'obj': 'Robin'}, {'sub': 'JLA: Earth 2', 'rel': ', characters', 'obj': 'Atom'}, {'sub': 'JLA: Earth 2', 'rel': ', characters', 'obj': 'Green Arrow'}, {'sub': 'JLA: Earth 2', 'rel': ', characters', 'obj': 'Red Arrow'}, {'sub': 'JLA: Earth 2', 'rel': ', characters', 'obj': 'Firestorm'}, {'sub': 'JLA: Earth 2', 'rel': ', characters', 'obj': 'Black Canary'}, {'sub': 'JLA: Earth 2', 'rel': ', characters', 'obj': 'Blue Beetle'}, {'sub': 'JLA: Earth 2', 'rel': ', characters', 'obj': 'Maxima'}, {'sub': 'JLA: Earth 2', 'rel': ', characters', 'obj': 'Plastique'}, {'sub': 'JLA: Earth 2', 'rel': ', characters', 'obj': 'Shadowpact'}, {'sub': 'JLA: Earth 2', 'rel': ', characters', 'obj': 'Animal Man'}, {'sub': 'JLA: Earth 2', 'rel': ', characters', 'obj': 'Doctor Fate'}, {'sub': 'JLA: Earth 2', 'rel': ', characters', 'obj': 'Zatanna'}, {'sub': 'JLA: Earth 2', 'rel': ', characters', 'obj': 'Blackhawk'}, {'sub': 'JLA: Earth 2', 'rel': ', characters', 'obj': 'The Question'}, {'sub': 'JLA: Earth 2', 'rel': ', characters', 'obj': 'Shade, the Changing Man'}, {'sub': 'JLA: Earth 2', 'rel': ', characters', 'obj': 'Deadman'}, {'sub': 'JLA: Earth 2', 'rel': ', characters', 'obj': 'The Spectre'}, {'sub': 'JLA: Earth 2', 'rel': ', characters', 'obj': 'El Diablo'}, {'sub': 'JLA: Earth 2', 'rel': ', characters', 'obj': 'Animal Man'}, {'sub': 'JLA: Earth 2', 'rel': ', characters', 'obj': 'Doctor Fate'}, {'sub': 'JLA: Earth 2', 'rel': ', characters', 'obj': 'Zatanna'}, {'sub': 'JLA: Earth 2', 'rel': ', characters', 'obj': 'Blackhawk'}, {'sub': 'JLA: Earth 2', 'rel': ', characters', 'obj': 'The Question'}, {'sub': 'JLA: Earth 2', 'rel': ', characters', 'obj': 'Shade, the Changing Man'}, {'sub': 'JLA: Earth 2', 'rel': ', characters', 'obj': 'Deadman'}, {'sub': 'JLA: Earth 2', 'rel': ', characters', 'obj': 'The Spectre'}, {'sub': 'JLA: Earth 2', 'rel': ', characters', 'obj': 'El Diablo'}, {'sub': 'JLA: Earth 2', 'rel': ', characters', 'obj': 'Animal Man'}, {'sub': 'JLA: Earth 2', 'rel': ', characters', 'obj': 'Doctor Fate'}, {'sub': 'JLA: Earth 2', 'rel': ', characters', 'obj': 'Zatanna'}, {'sub': 'JLA: Earth 2', 'rel': ', characters', 'obj': 'Blackhawk'}, {'sub': 'JLA: Earth 2', 'rel': ', characters', 'obj': 'The Question'}, {'sub': 'JLA: Earth 2', 'rel': ', characters', 'obj': 'Shade, the Changing Man'}, {'sub': 'JLA: Earth 2', 'rel': ', characters', 'obj': 'Deadman'}, {'sub': 'JLA: Earth 2', 'rel': ', characters', 'obj': 'The Spectre'}, {'sub': 'JLA: Earth 2', 'rel': ', characters', 'obj': 'El Diablo'}, {'sub': 'JLA: Earth 2', 'rel': ', characters', 'obj': 'Animal Man'}, {'sub': 'JLA: Earth 2', 'rel': ', characters', 'obj': 'Doctor Fate'}, {'sub': 'JLA: Earth 2', 'rel': ', characters', 'obj': 'Zatanna'}, {'sub': 'JLA: Earth 2', 'rel': ', characters', 'obj': 'Blackhawk'}, {'sub': 'JLA: Earth 2', 'rel': ', characters', 'obj': 'The Question'}, {'sub': 'JLA: Earth 2', 'rel': ', characters', 'obj': 'Shade, the Changing Man'}, {'sub': 'JLA: Earth 2', 'rel': ', characters', 'obj': 'Deadman'}, {'sub': 'JLA: Earth 2', 'rel': ', characters', 'obj': 'The Spectre'}, {'sub': 'JLA: Earth 2', 'rel': ', characters', 'obj': 'El Diablo'}, {'sub': 'JLA: Earth 2', 'rel': ', characters', 'obj': 'Animal Man'}, {'sub': 'JLA: Earth 2', 'rel': ', characters', 'obj': 'Doctor Fate'}, {'sub': 'JLA: Earth 2', 'rel': ', characters', 'obj': 'Zatanna'}, {'sub': 'JLA: Earth 2', 'rel': ', characters', 'obj': 'Blackhawk'}, {'sub': 'JLA: Earth 2', 'rel': ', characters', 'obj': 'The Question'}]\n"
     ]
    },
    {
     "name": "stderr",
     "output_type": "stream",
     "text": [
      "Setting `pad_token_id` to `eos_token_id`:128001 for open-end generation.\n"
     ]
    },
    {
     "name": "stdout",
     "output_type": "stream",
     "text": [
      "Test Output for ID ont_4_book_test_192: author(Professor Shonkur Kandokarkhana,Satyajit Ray)\n",
      "Parsed Triples for ID ont_4_book_test_192: [{'sub': 'Professor Shonkur Kandokarkhana', 'rel': 'author', 'obj': 'Satyajit Ray'}]\n"
     ]
    },
    {
     "name": "stderr",
     "output_type": "stream",
     "text": [
      "Setting `pad_token_id` to `eos_token_id`:128001 for open-end generation.\n"
     ]
    },
    {
     "name": "stdout",
     "output_type": "stream",
     "text": [
      "Test Output for ID ont_4_book_test_193: genre(How to Talk to Girls at Parties,science fiction short story)\n",
      "Parsed Triples for ID ont_4_book_test_193: [{'sub': 'How to Talk to Girls at Parties', 'rel': 'genre', 'obj': 'science fiction short story'}]\n"
     ]
    },
    {
     "name": "stderr",
     "output_type": "stream",
     "text": [
      "Setting `pad_token_id` to `eos_token_id`:128001 for open-end generation.\n"
     ]
    },
    {
     "name": "stdout",
     "output_type": "stream",
     "text": [
      "Test Output for ID ont_4_book_test_194: publication_date(The Past Through Tomorrow,01 January 1957)\n",
      "Parsed Triples for ID ont_4_book_test_194: [{'sub': 'The Past Through Tomorrow', 'rel': 'publication_date', 'obj': '01 January 1957'}]\n"
     ]
    }
   ],
   "source": [
    "# Replace 'your_input_filepath.jsonl' with your actual input file path\n",
    "# Replace 'your_output_filepath.jsonl' with your desired output file path\n",
    "main(JSONL_FILEPATH, output_filepath, num_prompts=548)"
   ]
  },
  {
   "cell_type": "code",
   "execution_count": null,
   "id": "9ebd2afc-a2a3-4423-b363-319ca1507bd2",
   "metadata": {},
   "outputs": [],
   "source": []
  },
  {
   "cell_type": "code",
   "execution_count": null,
   "id": "57923fce-4f07-4815-af97-1773fdf2cfe2",
   "metadata": {},
   "outputs": [],
   "source": []
  },
  {
   "cell_type": "code",
   "execution_count": null,
   "id": "de4e9afb-4ab2-4c1d-bb7e-0aa6832f2380",
   "metadata": {},
   "outputs": [],
   "source": []
  },
  {
   "cell_type": "code",
   "execution_count": null,
   "id": "9f947cf2-8c52-4d70-ae9d-1492e6edbbc7",
   "metadata": {},
   "outputs": [],
   "source": []
  },
  {
   "cell_type": "code",
   "execution_count": null,
   "id": "afcedb68-5fa3-49a4-863b-340d661cb900",
   "metadata": {},
   "outputs": [],
   "source": []
  },
  {
   "cell_type": "code",
   "execution_count": null,
   "id": "b3d65e6c-13fe-461d-94f0-944df8a3d05d",
   "metadata": {},
   "outputs": [],
   "source": []
  },
  {
   "cell_type": "code",
   "execution_count": null,
   "id": "5ef70c74-56b6-4688-80f3-1e3956285244",
   "metadata": {},
   "outputs": [],
   "source": []
  },
  {
   "cell_type": "code",
   "execution_count": null,
   "id": "a8c68964-81cb-4a04-b3ca-f366d95ed013",
   "metadata": {},
   "outputs": [],
   "source": []
  },
  {
   "cell_type": "code",
   "execution_count": null,
   "id": "e8d039b9-58a3-4c8c-8b24-eb6c47d4c3b4",
   "metadata": {},
   "outputs": [],
   "source": []
  },
  {
   "cell_type": "code",
   "execution_count": null,
   "id": "470ea5bf-f6ab-4407-8623-daadfeae5f6a",
   "metadata": {},
   "outputs": [],
   "source": []
  },
  {
   "cell_type": "code",
   "execution_count": null,
   "id": "e4fe3e9d-5c07-4455-9b67-d9b553c5145c",
   "metadata": {},
   "outputs": [],
   "source": []
  },
  {
   "cell_type": "code",
   "execution_count": null,
   "id": "6e2bad6a-361d-49e5-9f1d-d2234070f38b",
   "metadata": {},
   "outputs": [],
   "source": []
  },
  {
   "cell_type": "code",
   "execution_count": null,
   "id": "98d5491e-c250-45d6-a46e-34c91d35c31f",
   "metadata": {},
   "outputs": [],
   "source": [
    "# Ignore the below cells"
   ]
  },
  {
   "cell_type": "code",
   "execution_count": 227,
   "id": "cefb5510-fc5e-49ce-93e1-5d57c7539ddb",
   "metadata": {},
   "outputs": [],
   "source": [
    "def load_jsonl(file_path):\n",
    "    \"\"\"\n",
    "    Load data from a JSONL file.\n",
    "    \n",
    "    :param file_path: Path to the JSONL file.\n",
    "    :return: A list of dictionaries representing each line of the file.\n",
    "    \"\"\"\n",
    "    with open(file_path, 'r', encoding='utf-8') as f:\n",
    "        data = [json.loads(line) for line in f]\n",
    "    return data"
   ]
  },
  {
   "cell_type": "code",
   "execution_count": 228,
   "id": "914acf67-2a76-49a0-90e7-d593513de9db",
   "metadata": {},
   "outputs": [],
   "source": [
    "# Load the data\n",
    "ground_truth = load_jsonl('ont_1_movie_prompts.jsonl')\n",
    "system_predicted = load_jsonl('LLM_Response.jsonl')"
   ]
  },
  {
   "cell_type": "code",
   "execution_count": 231,
   "id": "c5f73d76-169c-49a3-a603-1b630167ecf6",
   "metadata": {},
   "outputs": [
    {
     "name": "stdout",
     "output_type": "stream",
     "text": [
      "\n",
      "Normalized System Predicted Triples:\n",
      "ID: ont_1_movie_test_1\n",
      "Original Triple: {'sub': 'Bleach: Hell Verse', 'rel': 'director', 'obj': 'Noriyuki Abe'}\n",
      "Normalized Triple: bleachhellversedirectornoriyukiabe\n",
      "ID: ont_1_movie_test_2\n",
      "Original Triple: {'sub': 'Keyboard Cat', 'rel': 'director', 'obj': 'Charlie Schmidt'}\n",
      "Normalized Triple: keyboardcatdirectorcharlieschmidt\n",
      "ID: ont_1_movie_test_3\n",
      "Original Triple: {'sub': 'Tenchi Forever! The Movie', 'rel': 'director', 'obj': 'Mitsuko Kase'}\n",
      "Normalized Triple: tenchiforeverthemoviedirectormitsukokase\n",
      "Original Triple: {'sub': 'Tenchi Forever! The Movie', 'rel': ',director', 'obj': 'Takashi Imanishi'}\n",
      "Normalized Triple: tenchiforeverthemoviedirectortakashiimanishi\n",
      "ID: ont_1_movie_test_4\n"
     ]
    }
   ],
   "source": [
    "# Normalize and print system predicted triples\n",
    "print(\"\\nNormalized System Predicted Triples:\")\n",
    "for entry in system_predicted:\n",
    "    print(f\"ID: {entry['id']}\")\n",
    "    for triple in entry['triples']:\n",
    "        norm_triple = normalize_triple(triple['sub'], triple['rel'], triple['obj'])\n",
    "        print(f\"Original Triple: {triple}\")\n",
    "        print(f\"Normalized Triple: {norm_triple}\")"
   ]
  },
  {
   "cell_type": "code",
   "execution_count": null,
   "id": "aa9ec227-3d1f-4bbc-b0e8-35a53d3e265c",
   "metadata": {},
   "outputs": [],
   "source": [
    "# Normalize and print ground truth triples\n",
    "print(\"Normalized Ground Truth Triples:\")\n",
    "for entry in ground_truth:\n",
    "    print(f\"ID: {entry['id']}\")\n",
    "    for triple in entry['triples']:\n",
    "        norm_triple = normalize_triple(triple['sub'], triple['rel'], triple['obj'])\n",
    "        print(f\"Original Triple: {triple}\")\n",
    "        print(f\"Normalized Triple: {norm_triple}\")"
   ]
  },
  {
   "cell_type": "code",
   "execution_count": 239,
   "id": "02f8a36c-8907-478d-a2a4-92373eddfd70",
   "metadata": {},
   "outputs": [],
   "source": [
    "def calculate_precision(ground_truth, system_predicted):\n",
    "    \"\"\"\n",
    "    Calculate the precision of the system-predicted triples against the ground truth.\n",
    "    \n",
    "    :param ground_truth: List of ground truth entries.\n",
    "    :param system_predicted: List of system-predicted entries.\n",
    "    :return: Precision value as a float.\n",
    "    \"\"\"\n",
    "    correct_predictions = 0\n",
    "    total_predictions = 0\n",
    "    \n",
    "    # Convert ground truth data into a dictionary for quick lookup by ID\n",
    "    ground_truth_dict = {entry['id']: entry['triples'] for entry in ground_truth}\n",
    "    \n",
    "    # Loop through each system-predicted entry\n",
    "    for entry in system_predicted:\n",
    "        predicted_id = entry['id']\n",
    "        predicted_triples = entry.get('triples', [])\n",
    "        \n",
    "        if predicted_id in ground_truth_dict:\n",
    "            ground_truth_triples = ground_truth_dict[predicted_id]\n",
    "            \n",
    "            # Normalize the ground truth triples\n",
    "            normalized_ground_truth = set(\n",
    "                normalize_triple(triple['sub'], triple['rel'], triple['obj']) \n",
    "                for triple in ground_truth_triples\n",
    "            )\n",
    "            \n",
    "            # Normalize the predicted triples\n",
    "            normalized_predictions = set(\n",
    "                normalize_triple(triple['sub'], triple['rel'], triple['obj']) \n",
    "                for triple in predicted_triples\n",
    "            )\n",
    "            \n",
    "            # Count correctly predicted triples\n",
    "            correct_predictions += len(normalized_predictions & normalized_ground_truth)\n",
    "        \n",
    "        # Update total predictions\n",
    "        total_predictions += len(predicted_triples)\n",
    "    \n",
    "    # Calculate precision\n",
    "    precision = correct_predictions / total_predictions if total_predictions > 0 else 0.0\n",
    "    \n",
    "    return precision"
   ]
  },
  {
   "cell_type": "code",
   "execution_count": 240,
   "id": "4f97bcfb-ccdb-4eee-9bf7-5284f6560eae",
   "metadata": {},
   "outputs": [],
   "source": [
    "def main(ground_truth_file, system_predicted_file):\n",
    "    # Load data from JSONL files\n",
    "    ground_truth = load_jsonl(ground_truth_file)\n",
    "    system_predicted = load_jsonl(system_predicted_file)\n",
    "    \n",
    "    # Calculate precision\n",
    "    precision = calculate_precision(ground_truth, system_predicted)\n",
    "    \n",
    "    print(f\"Precision: {precision:.4f}\")\n",
    "\n",
    "# Example usage:\n",
    "# main('ground_truth.jsonl', 'LLM_Response.jsonl')\n"
   ]
  },
  {
   "cell_type": "code",
   "execution_count": 241,
   "id": "4c20cd12-c8cc-4c74-9078-cd6ad3c8a818",
   "metadata": {},
   "outputs": [
    {
     "ename": "KeyError",
     "evalue": "'triples'",
     "output_type": "error",
     "traceback": [
      "\u001b[0;31m---------------------------------------------------------------------------\u001b[0m",
      "\u001b[0;31mKeyError\u001b[0m                                  Traceback (most recent call last)",
      "Cell \u001b[0;32mIn[241], line 1\u001b[0m\n\u001b[0;32m----> 1\u001b[0m \u001b[43mmain\u001b[49m\u001b[43m(\u001b[49m\u001b[43m(\u001b[49m\u001b[38;5;124;43m'\u001b[39;49m\u001b[38;5;124;43mont_1_movie_prompts.jsonl\u001b[39;49m\u001b[38;5;124;43m'\u001b[39;49m\u001b[43m)\u001b[49m\u001b[43m,\u001b[49m\u001b[43m \u001b[49m\u001b[38;5;124;43m'\u001b[39;49m\u001b[38;5;124;43mLLM_Response.jsonl\u001b[39;49m\u001b[38;5;124;43m'\u001b[39;49m\u001b[43m)\u001b[49m\n",
      "Cell \u001b[0;32mIn[240], line 7\u001b[0m, in \u001b[0;36mmain\u001b[0;34m(ground_truth_file, system_predicted_file)\u001b[0m\n\u001b[1;32m      4\u001b[0m system_predicted \u001b[38;5;241m=\u001b[39m load_jsonl(system_predicted_file)\n\u001b[1;32m      6\u001b[0m \u001b[38;5;66;03m# Calculate precision\u001b[39;00m\n\u001b[0;32m----> 7\u001b[0m precision \u001b[38;5;241m=\u001b[39m \u001b[43mcalculate_precision\u001b[49m\u001b[43m(\u001b[49m\u001b[43mground_truth\u001b[49m\u001b[43m,\u001b[49m\u001b[43m \u001b[49m\u001b[43msystem_predicted\u001b[49m\u001b[43m)\u001b[49m\n\u001b[1;32m      9\u001b[0m \u001b[38;5;28mprint\u001b[39m(\u001b[38;5;124mf\u001b[39m\u001b[38;5;124m\"\u001b[39m\u001b[38;5;124mPrecision: \u001b[39m\u001b[38;5;132;01m{\u001b[39;00mprecision\u001b[38;5;132;01m:\u001b[39;00m\u001b[38;5;124m.4f\u001b[39m\u001b[38;5;132;01m}\u001b[39;00m\u001b[38;5;124m\"\u001b[39m)\n",
      "Cell \u001b[0;32mIn[239], line 13\u001b[0m, in \u001b[0;36mcalculate_precision\u001b[0;34m(ground_truth, system_predicted)\u001b[0m\n\u001b[1;32m     10\u001b[0m total_predictions \u001b[38;5;241m=\u001b[39m \u001b[38;5;241m0\u001b[39m\n\u001b[1;32m     12\u001b[0m \u001b[38;5;66;03m# Convert ground truth data into a dictionary for quick lookup by ID\u001b[39;00m\n\u001b[0;32m---> 13\u001b[0m ground_truth_dict \u001b[38;5;241m=\u001b[39m {entry[\u001b[38;5;124m'\u001b[39m\u001b[38;5;124mid\u001b[39m\u001b[38;5;124m'\u001b[39m]: \u001b[43mentry\u001b[49m\u001b[43m[\u001b[49m\u001b[38;5;124;43m'\u001b[39;49m\u001b[38;5;124;43mtriples\u001b[39;49m\u001b[38;5;124;43m'\u001b[39;49m\u001b[43m]\u001b[49m \u001b[38;5;28;01mfor\u001b[39;00m entry \u001b[38;5;129;01min\u001b[39;00m ground_truth}\n\u001b[1;32m     15\u001b[0m \u001b[38;5;66;03m# Loop through each system-predicted entry\u001b[39;00m\n\u001b[1;32m     16\u001b[0m \u001b[38;5;28;01mfor\u001b[39;00m entry \u001b[38;5;129;01min\u001b[39;00m system_predicted:\n",
      "\u001b[0;31mKeyError\u001b[0m: 'triples'"
     ]
    }
   ],
   "source": [
    "main(('ont_1_movie_prompts.jsonl'), 'LLM_Response.jsonl')\n"
   ]
  },
  {
   "cell_type": "code",
   "execution_count": null,
   "id": "be345c4b-636d-4a87-bbb5-af4430f1a2d8",
   "metadata": {},
   "outputs": [],
   "source": []
  },
  {
   "cell_type": "code",
   "execution_count": null,
   "id": "3ca16303-1a04-4436-bbcb-83493d87277f",
   "metadata": {},
   "outputs": [],
   "source": []
  },
  {
   "cell_type": "code",
   "execution_count": null,
   "id": "fbfb6e44-813e-46a1-8111-a10a71300c70",
   "metadata": {},
   "outputs": [],
   "source": []
  },
  {
   "cell_type": "code",
   "execution_count": 245,
   "id": "db0fe1d9-13e7-48fc-84bc-59e92f4363f2",
   "metadata": {},
   "outputs": [],
   "source": [
    "def calculate_precision_recall_f1(gold: set, pred: set) -> (float, float, float):\n",
    "    \"\"\"\n",
    "    Method to calculate precision, recall and f1:\n",
    "        Precision is calculated as correct_triples/predicted_triples and\n",
    "        Recall as correct_triples/gold_triples\n",
    "        F1 as the harmonic mean of precision and recall.\n",
    "    :param gold: items in the gold standard\n",
    "    :param pred: items in the system prediction\n",
    "    :return:\n",
    "        p: float - precision\n",
    "        r: float - recall\n",
    "        f1: float - F1\n",
    "    \"\"\"\n",
    "    if not pred:\n",
    "        # If there are no predictions, precision and F1 are 0\n",
    "        return 0, 0, 0\n",
    "\n",
    "    # Calculate precision\n",
    "    correct = len(gold.intersection(pred))\n",
    "    p = correct / len(pred) if len(pred) > 0 else 0\n",
    "\n",
    "    if not gold:\n",
    "        # If there are no gold triples, recall and F1 are 0\n",
    "        return p, 0, 0\n",
    "\n",
    "    # Calculate recall\n",
    "    r = correct / len(gold) if len(gold) > 0 else 0\n",
    "\n",
    "    # Calculate F1 score\n",
    "    if p + r > 0:\n",
    "        f1 = 2 * (p * r) / (p + r)\n",
    "    else:\n",
    "        f1 = 0\n",
    "\n",
    "    return p, r, f1\n"
   ]
  },
  {
   "cell_type": "code",
   "execution_count": 257,
   "id": "3225741d-5f2c-413f-85e9-a3ef45025865",
   "metadata": {},
   "outputs": [],
   "source": [
    "def main(ground_truth_file, system_predicted_file):\n",
    "    # Load the ground truth and system predicted data\n",
    "    ground_truth = load_jsonl(ground_truth_file)\n",
    "\n",
    "    system_predicted = load_jsonl(system_predicted_file)\n",
    "    \n",
    "    # Calculate precision, recall, and F1-score\n",
    "    precision, recall, f1 = calculate_precision_recall_f1(\n",
    "        extract_normalized_triples(ground_truth),\n",
    "         extract_normalized_triples(system_predicted)\n",
    "    )\n",
    "    \n",
    "    print(f\"Precision: {precision:.4f}\")\n",
    "    print(f\"Recall: {recall:.4f}\")\n",
    "    print(f\"F1-Score: {f1:.4f}\")\n",
    "\n",
    "def extract_normalized_triples(data):\n",
    "    \"\"\"\n",
    "    Extract and normalize triples from the dataset.\n",
    "    :param data: List of dictionaries containing triples.\n",
    "    :return: A set of normalized triples.\n",
    "    \"\"\"\n",
    "    normalized_triples = set()\n",
    "    for entry in data:\n",
    "        for triple in entry.get('triples', []):\n",
    "            norm_triple = normalize_triple(triple['sub'], triple['rel'], triple['obj'])\n",
    "            normalized_triples.add(norm_triple)\n",
    "    return normalized_triples\n"
   ]
  },
  {
   "cell_type": "code",
   "execution_count": 278,
   "id": "1e564841-eafc-482b-a821-3e0897d2d14e",
   "metadata": {},
   "outputs": [],
   "source": [
    "#main('ont_1_movie_prompts.jsonl', 'LLM_Response.jsonl')"
   ]
  },
  {
   "cell_type": "code",
   "execution_count": null,
   "id": "17e2a00b-48b4-42f1-a20f-41936cc58109",
   "metadata": {},
   "outputs": [],
   "source": []
  },
  {
   "cell_type": "code",
   "execution_count": null,
   "id": "5dd156c2-ad78-4ba7-b8c0-bc6a8446dc34",
   "metadata": {},
   "outputs": [],
   "source": []
  },
  {
   "cell_type": "code",
   "execution_count": null,
   "id": "48211a15-e1ab-4dc6-a2ed-327524177885",
   "metadata": {},
   "outputs": [],
   "source": []
  },
  {
   "cell_type": "code",
   "execution_count": null,
   "id": "807934a9-5f32-4246-928e-9ffbc0d433a9",
   "metadata": {},
   "outputs": [],
   "source": []
  },
  {
   "cell_type": "code",
   "execution_count": null,
   "id": "fc77c1bc-89cf-4589-9077-d49cea483d82",
   "metadata": {},
   "outputs": [],
   "source": []
  },
  {
   "cell_type": "code",
   "execution_count": 279,
   "id": "d09c46cc-4e90-4506-8d7d-51d4ca694f62",
   "metadata": {},
   "outputs": [
    {
     "name": "stderr",
     "output_type": "stream",
     "text": [
      "Setting `pad_token_id` to `eos_token_id`:128001 for open-end generation.\n"
     ]
    },
    {
     "name": "stdout",
     "output_type": "stream",
     "text": [
      "Result: [{'generated_text': \"Hey how are you doing today? I'm doing great! I'm so happy that you have decided to join me on my journey to being more healthy and happy. This is a journey that I will be taking with you for the next 21\"}]\n",
      "Execution Time: 3.08 seconds\n"
     ]
    }
   ],
   "source": [
    "# Record the start time\n",
    "start_time = time.time()\n",
    "# Execute the pipeline\n",
    "\n",
    "result = text_generator(\"Hey how are you doing today?\", max_length=50, num_return_sequences=1)\n",
    "\n",
    "# Record the end time\n",
    "end_time = time.time()\n",
    "\n",
    "# Calculate the duration\n",
    "execution_time = end_time - start_time\n",
    "\n",
    "# Print the result and execution time\n",
    "print(\"Result:\", result)\n",
    "print(f\"Execution Time: {execution_time:.2f} seconds\")"
   ]
  },
  {
   "cell_type": "code",
   "execution_count": 282,
   "id": "7615b3b7-6fe5-48bc-b614-5aa003983418",
   "metadata": {},
   "outputs": [],
   "source": [
    "# Extract the first prompt\n",
    "item = prompts_data[0]\n",
    "prompt_id = item['id']\n",
    "prompt_text = item['prompt']"
   ]
  },
  {
   "cell_type": "code",
   "execution_count": 283,
   "id": "90c52733-4f63-44c2-a05c-c34f91b595c3",
   "metadata": {},
   "outputs": [
    {
     "name": "stderr",
     "output_type": "stream",
     "text": [
      "Setting `pad_token_id` to `eos_token_id`:128001 for open-end generation.\n"
     ]
    },
    {
     "data": {
      "text/plain": [
       "[{'generated_text': '\\nGiven the following ontology and sentences, please extract the triples from the sentence according to the relations in the ontology. In the output, only include the triples in the given output format.\\nCONTEXT:\\nOntology Concepts: human, city, country, film, film genre, genre, film production company, film award, award, written work, film character, film organization,\\nOntology Relations: director(film,human), screenwriter(film,human), genre(film,genre), based_on(film,written work), cast_member(film,human), award_received(film,award), production_company(film,film production company), country_of_origin(film,country), publication_date(film,), characters(film,film character), narrative_location(film,city), filming_location(film,city), main_subject(film,), nominated_for(film,award), cost(film,)\\n\\nExample Sentence: Resident Evil: Damnation, known as Biohazard: Damnation ( , BaiohazÄ\\x81do: DamunÄ\\x93shon) in Japan, is a 2012 Japanese adult animated biopunk horror action film by Capcom and Sony Pictures Entertainment Japan, directed by Makoto Kamiya and produced by Hiroyuki Kobayashi.\\nExample Output: director(Resident Evil: Damnation,Makoto Kamiya)\\n\\nTest Sentence: Bleach: Hell Verse (Japanese: BLEACH , Hepburn: BurÄ«chi Jigoku-Hen) is a 2010 Japanese animated film directed by Noriyuki Abe.\\nTest Output:  director(Bleach: Hell Verse,Noriyuki Abe)\\n'}]"
      ]
     },
     "execution_count": 283,
     "metadata": {},
     "output_type": "execute_result"
    }
   ],
   "source": [
    "# Generate output using the Llama model\n",
    "response = text_generator(prompt_text, max_length=500, num_return_sequences=1)\n",
    "response"
   ]
  },
  {
   "cell_type": "code",
   "execution_count": null,
   "id": "3c6eae7d-0cc1-4aa3-8234-98b599a0ec22",
   "metadata": {},
   "outputs": [],
   "source": []
  }
 ],
 "metadata": {
  "kernelspec": {
   "display_name": "Python 3 (ipykernel)",
   "language": "python",
   "name": "python3"
  },
  "language_info": {
   "codemirror_mode": {
    "name": "ipython",
    "version": 3
   },
   "file_extension": ".py",
   "mimetype": "text/x-python",
   "name": "python",
   "nbconvert_exporter": "python",
   "pygments_lexer": "ipython3",
   "version": "3.12.5"
  }
 },
 "nbformat": 4,
 "nbformat_minor": 5
}
