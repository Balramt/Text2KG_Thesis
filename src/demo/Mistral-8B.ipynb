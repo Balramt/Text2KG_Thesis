{
 "cells": [
  {
   "cell_type": "code",
   "execution_count": 1,
   "id": "56185486-b86d-43e8-871e-81fb84dafdfe",
   "metadata": {},
   "outputs": [
    {
     "name": "stdout",
     "output_type": "stream",
     "text": [
      "True\n",
      "0\n"
     ]
    }
   ],
   "source": [
    "import torch\n",
    "print(torch.cuda.is_available())  # Should print True if CUDA is available\n",
    "print(torch.cuda.current_device())"
   ]
  },
  {
   "cell_type": "code",
   "execution_count": 2,
   "id": "a13332f3-c6a7-432c-a6d9-fe65c62f31fb",
   "metadata": {},
   "outputs": [],
   "source": [
    "torch.cuda.empty_cache()"
   ]
  },
  {
   "cell_type": "code",
   "execution_count": 1,
   "id": "cc91de45-7eff-42ea-91b9-9c5877bf4f62",
   "metadata": {},
   "outputs": [
    {
     "name": "stdout",
     "output_type": "stream",
     "text": [
      "Mon Oct 21 20:24:12 2024       \n",
      "+-----------------------------------------------------------------------------------------+\n",
      "| NVIDIA-SMI 560.35.03              Driver Version: 560.35.03      CUDA Version: 12.6     |\n",
      "|-----------------------------------------+------------------------+----------------------+\n",
      "| GPU  Name                 Persistence-M | Bus-Id          Disp.A | Volatile Uncorr. ECC |\n",
      "| Fan  Temp   Perf          Pwr:Usage/Cap |           Memory-Usage | GPU-Util  Compute M. |\n",
      "|                                         |                        |               MIG M. |\n",
      "|=========================================+========================+======================|\n",
      "|   0  NVIDIA GeForce GTX 1080 Ti     On  |   00000000:81:00.0 Off |                  N/A |\n",
      "| 20%   32C    P8              9W /  250W |       2MiB /  11264MiB |      0%      Default |\n",
      "|                                         |                        |                  N/A |\n",
      "+-----------------------------------------+------------------------+----------------------+\n",
      "                                                                                         \n",
      "+-----------------------------------------------------------------------------------------+\n",
      "| Processes:                                                                              |\n",
      "|  GPU   GI   CI        PID   Type   Process name                              GPU Memory |\n",
      "|        ID   ID                                                               Usage      |\n",
      "|=========================================================================================|\n",
      "|  No running processes found                                                             |\n",
      "+-----------------------------------------------------------------------------------------+\n"
     ]
    }
   ],
   "source": [
    "!nvidia-smi"
   ]
  },
  {
   "cell_type": "code",
   "execution_count": 12,
   "id": "b3ff60df-3078-4f3d-8719-6855b1d2e185",
   "metadata": {},
   "outputs": [],
   "source": [
    "!kill -9 2710969                                                                                                                                                "
   ]
  },
  {
   "cell_type": "code",
   "execution_count": 2,
   "id": "66453c22-6d3a-4a70-95b9-10e9499f2de2",
   "metadata": {},
   "outputs": [
    {
     "name": "stderr",
     "output_type": "stream",
     "text": [
      "2024-10-21 20:24:18.068229: E external/local_xla/xla/stream_executor/cuda/cuda_fft.cc:485] Unable to register cuFFT factory: Attempting to register factory for plugin cuFFT when one has already been registered\n",
      "2024-10-21 20:24:18.087654: E external/local_xla/xla/stream_executor/cuda/cuda_dnn.cc:8454] Unable to register cuDNN factory: Attempting to register factory for plugin cuDNN when one has already been registered\n",
      "2024-10-21 20:24:18.093628: E external/local_xla/xla/stream_executor/cuda/cuda_blas.cc:1452] Unable to register cuBLAS factory: Attempting to register factory for plugin cuBLAS when one has already been registered\n",
      "2024-10-21 20:24:18.108208: I tensorflow/core/platform/cpu_feature_guard.cc:210] This TensorFlow binary is optimized to use available CPU instructions in performance-critical operations.\n",
      "To enable the following instructions: AVX2 FMA, in other operations, rebuild TensorFlow with the appropriate compiler flags.\n",
      "2024-10-21 20:24:19.201312: W tensorflow/compiler/tf2tensorrt/utils/py_utils.cc:38] TF-TRT Warning: Could not find TensorRT\n"
     ]
    }
   ],
   "source": [
    "import torch\n",
    "from transformers import AutoTokenizer, AutoModelForCausalLM, pipeline"
   ]
  },
  {
   "cell_type": "code",
   "execution_count": 3,
   "id": "eb11527b-d2b1-4d73-b11f-db3fe5c1583e",
   "metadata": {},
   "outputs": [],
   "source": [
    "import time"
   ]
  },
  {
   "cell_type": "code",
   "execution_count": 4,
   "id": "1cec910e-2566-41ea-93ee-6a5b5fbebc34",
   "metadata": {},
   "outputs": [
    {
     "name": "stderr",
     "output_type": "stream",
     "text": [
      "/upb/users/b/balram/profiles/unix/cs/.local/lib/python3.12/site-packages/transformers/models/auto/tokenization_auto.py:786: FutureWarning: The `use_auth_token` argument is deprecated and will be removed in v5 of Transformers. Please use `token` instead.\n",
      "  warnings.warn(\n"
     ]
    }
   ],
   "source": [
    "model_id = \"mistralai/Mistral-7B-Instruct-v0.3\"\n",
    "tokenizer = AutoTokenizer.from_pretrained(model_id, use_auth_token=True)"
   ]
  },
  {
   "cell_type": "code",
   "execution_count": 5,
   "id": "af4e1952-bca4-4ce9-9749-e35b7259d2ce",
   "metadata": {},
   "outputs": [
    {
     "name": "stderr",
     "output_type": "stream",
     "text": [
      "The `load_in_4bit` and `load_in_8bit` arguments are deprecated and will be removed in the future versions. Please, pass a `BitsAndBytesConfig` object in `quantization_config` argument instead.\n"
     ]
    },
    {
     "data": {
      "application/vnd.jupyter.widget-view+json": {
       "model_id": "92f73552170c4d8da3a743b0a6837134",
       "version_major": 2,
       "version_minor": 0
      },
      "text/plain": [
       "Loading checkpoint shards:   0%|          | 0/3 [00:00<?, ?it/s]"
      ]
     },
     "metadata": {},
     "output_type": "display_data"
    }
   ],
   "source": [
    "# Load the model with 4-bit quantization\n",
    "model = AutoModelForCausalLM.from_pretrained(\n",
    "    model_id,\n",
    "    load_in_4bit=True,  # Enable 4-bit quantization\n",
    "    device_map=\"auto\",  # Automatically place model layers on GPU\n",
    "    torch_dtype=torch.float16\n",
    "    #quantization_config=bnb.BnbQuantizationConfig(load_in_4bit=True)\n",
    ")"
   ]
  },
  {
   "cell_type": "code",
   "execution_count": 6,
   "id": "b9953b15-375c-4b30-82df-7aed11e3353f",
   "metadata": {},
   "outputs": [],
   "source": [
    "# Create the text generation pipeline\n",
    "text_generator = pipeline('text-generation', model=model, tokenizer=tokenizer)"
   ]
  },
  {
   "cell_type": "code",
   "execution_count": null,
   "id": "816e1b29-a302-4596-ab04-74abf9a3409f",
   "metadata": {},
   "outputs": [],
   "source": []
  },
  {
   "cell_type": "code",
   "execution_count": null,
   "id": "a38fbb81-89ab-4b58-a1c4-1c7917b2fb25",
   "metadata": {},
   "outputs": [],
   "source": []
  },
  {
   "cell_type": "code",
   "execution_count": null,
   "id": "62cfc1fa-e67a-4185-bcd6-63693f9cff34",
   "metadata": {},
   "outputs": [],
   "source": []
  },
  {
   "cell_type": "code",
   "execution_count": null,
   "id": "f07681e3-1ce6-4ee2-9e1f-2d2541c04d44",
   "metadata": {},
   "outputs": [],
   "source": []
  },
  {
   "cell_type": "code",
   "execution_count": null,
   "id": "004b972c-cb33-4775-ac28-c433e819e8fe",
   "metadata": {},
   "outputs": [],
   "source": []
  },
  {
   "cell_type": "code",
   "execution_count": 8,
   "id": "21bfc2da-12ce-4a2d-9cf5-2531b8135985",
   "metadata": {},
   "outputs": [],
   "source": [
    "import json\n",
    "import jsonlines\n",
    "import re"
   ]
  },
  {
   "cell_type": "code",
   "execution_count": 9,
   "id": "333bd45d-a38c-4fd5-8f7e-7b60a6028e5c",
   "metadata": {},
   "outputs": [],
   "source": [
    "def load_prompts_data(filepath):\n",
    "    with jsonlines.open(filepath) as reader:\n",
    "        return list(reader)"
   ]
  },
  {
   "cell_type": "code",
   "execution_count": 10,
   "id": "856e98eb-e4f9-406e-94a4-4df234de498f",
   "metadata": {},
   "outputs": [],
   "source": [
    "def extract_prompt_info(item):\n",
    "    prompt_id = item.get('id')\n",
    "    prompt_text = item.get('prompt')\n",
    "    return prompt_id, prompt_text"
   ]
  },
  {
   "cell_type": "code",
   "execution_count": 11,
   "id": "faf61f84-00e9-4a9b-817d-3dea598c05f5",
   "metadata": {},
   "outputs": [],
   "source": [
    "# Assuming 'text_generator' is already defined somewhere in your environment\n",
    "def generate_text(prompt_text, max_length=1000, max_new_tokens=300,num_return_sequences=1):\n",
    "    response = text_generator(prompt_text, max_length=max_length, num_return_sequences=num_return_sequences)\n",
    "    return response"
   ]
  },
  {
   "cell_type": "code",
   "execution_count": 12,
   "id": "a7bebeab-6e4d-4c05-a942-da6aa0d5b8f3",
   "metadata": {},
   "outputs": [],
   "source": [
    "def extract_test_output(response):\n",
    "    if response and len(response) > 0:\n",
    "        generated_text = response[0].get('generated_text', '')\n",
    "        match = re.search(r'Test Output:\\s*(.*?)\\s*(?:\\n|$)', generated_text, re.DOTALL)\n",
    "        if match:\n",
    "            return match.group(1).strip()\n",
    "    return 'Output not found'"
   ]
  },
  {
   "cell_type": "code",
   "execution_count": 13,
   "id": "ae68dc7a-3f1c-40b1-90b3-1811dab40687",
   "metadata": {},
   "outputs": [],
   "source": [
    "def parse_model_output(model_output):\n",
    "    # Initialize an empty list to store triples\n",
    "    triples = []\n",
    "    \n",
    "    # Remove leading/trailing whitespace and split the input data into lines\n",
    "    lines = [line.strip() for line in model_output.strip().split('\\n')]\n",
    "    \n",
    "    # Define the regex pattern to match triples in the format: relation(subject, object)\n",
    "    pattern = re.compile(r'(.+?)\\s*\\(([^,]+),\\s*([^)]+)\\)')\n",
    "    \n",
    "    for line in lines:\n",
    "        # Find all matches for the pattern in the line\n",
    "        matches = pattern.findall(line)\n",
    "        \n",
    "        for match in matches:\n",
    "            relation, subject, obj = match\n",
    "            # Clean up subject and object values\n",
    "            subject = subject.strip()\n",
    "            obj = obj.strip()\n",
    "            \n",
    "            # Append the extracted triple to the list\n",
    "            triples.append({\"sub\": subject, \"rel\": relation, \"obj\": obj})\n",
    "    \n",
    "    # Return the list of triples\n",
    "    return triples"
   ]
  },
  {
   "cell_type": "code",
   "execution_count": 14,
   "id": "65f00014-7578-48d9-a172-ed91d2971783",
   "metadata": {},
   "outputs": [],
   "source": [
    "#JSONL_FILEPATH = 'ont_1_movie_prompts.jsonl'\n",
    "#output_filepath='LLM_Response.jsonl'\n",
    "\n",
    "\n",
    "#JSONL_FILEPATH = 'dbpedia_webnig/Input_Prompts/ont_19_film_prompts.jsonl'\n",
    "#output_filepath='dbpedia_webnig/Response/ont_19_film_llm_response.jsonl'\n",
    "\n",
    "JSONL_FILEPATH = 'dbpedia_webnig/Input_Prompts/ont_16_city_prompts.jsonl'\n",
    "output_filepath='dbpedia_webnig/Response/ont_16_city_llm_response.jsonl'"
   ]
  },
  {
   "cell_type": "code",
   "execution_count": 15,
   "id": "7bb6a149-76a9-4ddc-b26d-c954b62f3b1e",
   "metadata": {},
   "outputs": [],
   "source": [
    "import json\n",
    "\n",
    "def save_triples_to_jsonl(processed_data, output_filepath):\n",
    "    \"\"\"\n",
    "    Save the processed triples into a JSONL file format.\n",
    "\n",
    "    Args:\n",
    "        processed_data (list): A list of dictionaries containing the 'id' and 'triples'.\n",
    "        output_filepath (str): The output file path where the JSONL data should be saved.\n",
    "    \"\"\"\n",
    "    with open(output_filepath, 'w', encoding='utf-8') as outfile:\n",
    "        for entry in processed_data:\n",
    "            jsonl_entry = {\n",
    "                \"id\": entry[\"id\"],\n",
    "                \"triples\": entry[\"triples\"]\n",
    "            }\n",
    "            # Convert dictionary to a JSON string and write it to the file\n",
    "            outfile.write(json.dumps(jsonl_entry, ensure_ascii=False) + \"\\n\")"
   ]
  },
  {
   "cell_type": "code",
   "execution_count": 16,
   "id": "f719d627-ebbc-4fcb-afda-522935dcbd6d",
   "metadata": {},
   "outputs": [],
   "source": [
    "def main(filepath, output_filepath, num_prompts=4):\n",
    "    prompts_data = load_prompts_data(filepath)\n",
    "    processed_data = []\n",
    "    for i in range(min(num_prompts, len(prompts_data))):\n",
    "        item = prompts_data[i]\n",
    "        prompt_id, prompt_text = extract_prompt_info(item)\n",
    "        response = generate_text(prompt_text)\n",
    "        test_output = extract_test_output(response)\n",
    "        \n",
    "        # Debugging: Print the test output to ensure it's correctly extracted\n",
    "        print(f\"Test Output for ID {prompt_id}: {test_output}\")\n",
    "        \n",
    "        # Parse the test output into triples\n",
    "        triples = parse_model_output(test_output)\n",
    "        \n",
    "        # Debugging: Print the parsed triples to ensure they're correct\n",
    "        print(f\"Parsed Triples for ID {prompt_id}: {triples}\")\n",
    "        \n",
    "        processed_entry = {\n",
    "            \"id\": prompt_id,\n",
    "            \"triples\": triples\n",
    "        }\n",
    "        \n",
    "        processed_data.append(processed_entry)\n",
    "    \n",
    "    # Save the processed data into a new jsonl file\n",
    "    save_triples_to_jsonl(processed_data, output_filepath)\n",
    "    print(f\"Processed triples saved to {output_filepath}\")"
   ]
  },
  {
   "cell_type": "code",
   "execution_count": 17,
   "id": "de11299d-3f08-4ff1-9597-6d3495a28959",
   "metadata": {
    "scrolled": true
   },
   "outputs": [
    {
     "name": "stderr",
     "output_type": "stream",
     "text": [
      "Truncation was not explicitly activated but `max_length` is provided a specific value, please use `truncation=True` to explicitly truncate examples to max length. Defaulting to 'longest_first' truncation strategy. If you encode pairs of sequences (GLUE-style) with the tokenizer you can select this strategy more precisely by providing a specific strategy to `truncation`.\n",
      "Setting `pad_token_id` to `eos_token_id`:2 for open-end generation.\n",
      "/upb/users/b/balram/profiles/unix/cs/.local/lib/python3.12/site-packages/bitsandbytes/nn/modules.py:435: UserWarning: Input type into Linear4bit is torch.float16, but bnb_4bit_compute_dtype=torch.float32 (default). This will lead to slow inference or training speed.\n",
      "  warnings.warn(\n",
      "Setting `pad_token_id` to `eos_token_id`:2 for open-end generation.\n"
     ]
    },
    {
     "name": "stdout",
     "output_type": "stream",
     "text": [
      "Test Output for ID ont_16_city_test_1: country(Albany, United States)\n",
      "Parsed Triples for ID ont_16_city_test_1: [{'sub': 'Albany', 'rel': 'country', 'obj': 'United States'}]\n"
     ]
    },
    {
     "name": "stderr",
     "output_type": "stream",
     "text": [
      "Setting `pad_token_id` to `eos_token_id`:2 for open-end generation.\n"
     ]
    },
    {
     "name": "stdout",
     "output_type": "stream",
     "text": [
      "Test Output for ID ont_16_city_test_2: populationDensity(Albany, Georgia, 535 (inhabitants per square kilometer))\n",
      "Parsed Triples for ID ont_16_city_test_2: [{'sub': 'Albany', 'rel': 'populationDensity', 'obj': 'Georgia, 535 (inhabitants per square kilometer'}]\n"
     ]
    },
    {
     "name": "stderr",
     "output_type": "stream",
     "text": [
      "Setting `pad_token_id` to `eos_token_id`:2 for open-end generation.\n"
     ]
    },
    {
     "name": "stdout",
     "output_type": "stream",
     "text": [
      "Test Output for ID ont_16_city_test_3: country(Albany, Georgia, United States)\n",
      "Parsed Triples for ID ont_16_city_test_3: [{'sub': 'Albany', 'rel': 'country', 'obj': 'Georgia, United States'}]\n"
     ]
    },
    {
     "name": "stderr",
     "output_type": "stream",
     "text": [
      "Setting `pad_token_id` to `eos_token_id`:2 for open-end generation.\n"
     ]
    },
    {
     "name": "stdout",
     "output_type": "stream",
     "text": [
      "Test Output for ID ont_16_city_test_4: country(Albany, Georgia, U.S.)\n",
      "Parsed Triples for ID ont_16_city_test_4: [{'sub': 'Albany', 'rel': 'country', 'obj': 'Georgia, U.S.'}]\n"
     ]
    },
    {
     "name": "stderr",
     "output_type": "stream",
     "text": [
      "Setting `pad_token_id` to `eos_token_id`:2 for open-end generation.\n"
     ]
    },
    {
     "name": "stdout",
     "output_type": "stream",
     "text": [
      "Test Output for ID ont_16_city_test_5: (Note: I'm assuming that the sentence is about the city Albany in the U.S. and not any other Albany)\n",
      "Parsed Triples for ID ont_16_city_test_5: []\n"
     ]
    },
    {
     "name": "stderr",
     "output_type": "stream",
     "text": [
      "Setting `pad_token_id` to `eos_token_id`:2 for open-end generation.\n"
     ]
    },
    {
     "name": "stdout",
     "output_type": "stream",
     "text": [
      "Test Output for ID ont_16_city_test_6: country(Albany, Georgia, United States)\n",
      "Parsed Triples for ID ont_16_city_test_6: [{'sub': 'Albany', 'rel': 'country', 'obj': 'Georgia, United States'}]\n"
     ]
    },
    {
     "name": "stderr",
     "output_type": "stream",
     "text": [
      "Setting `pad_token_id` to `eos_token_id`:2 for open-end generation.\n"
     ]
    },
    {
     "name": "stdout",
     "output_type": "stream",
     "text": [
      "Test Output for ID ont_16_city_test_7: (Note: The test sentence does not contain information about the city type, city population, county, timezone, postal code, county seat, leader title, leader, area code, area total, elevation above sea level, government type, area of land, language, state, utc offset, or population density.)\n",
      "Parsed Triples for ID ont_16_city_test_7: []\n"
     ]
    },
    {
     "name": "stderr",
     "output_type": "stream",
     "text": [
      "Setting `pad_token_id` to `eos_token_id`:2 for open-end generation.\n"
     ]
    },
    {
     "name": "stdout",
     "output_type": "stream",
     "text": [
      "Test Output for ID ont_16_city_test_8: (Note: The test sentence does not contain information about Albany's city type, population, timezone, etc. So, the output will only include the triples related to the city being in a state and the ethnic group of the country.)\n",
      "Parsed Triples for ID ont_16_city_test_8: []\n"
     ]
    },
    {
     "name": "stderr",
     "output_type": "stream",
     "text": [
      "Setting `pad_token_id` to `eos_token_id`:2 for open-end generation.\n"
     ]
    },
    {
     "name": "stdout",
     "output_type": "stream",
     "text": [
      "Test Output for ID ont_16_city_test_9: areaTotal(Albany, Oregon, 45.97 (square kilometres))\n",
      "Parsed Triples for ID ont_16_city_test_9: [{'sub': 'Albany', 'rel': 'areaTotal', 'obj': 'Oregon, 45.97 (square kilometres'}]\n"
     ]
    },
    {
     "name": "stderr",
     "output_type": "stream",
     "text": [
      "You seem to be using the pipelines sequentially on GPU. In order to maximize efficiency please use a dataset\n",
      "Setting `pad_token_id` to `eos_token_id`:2 for open-end generation.\n"
     ]
    },
    {
     "name": "stdout",
     "output_type": "stream",
     "text": [
      "Test Output for ID ont_16_city_test_10: isPartOf(Albany, Benton County, Oregon)\n",
      "Parsed Triples for ID ont_16_city_test_10: [{'sub': 'Albany', 'rel': 'isPartOf', 'obj': 'Benton County, Oregon'}]\n"
     ]
    },
    {
     "name": "stderr",
     "output_type": "stream",
     "text": [
      "Setting `pad_token_id` to `eos_token_id`:2 for open-end generation.\n"
     ]
    },
    {
     "name": "stdout",
     "output_type": "stream",
     "text": [
      "Test Output for ID ont_16_city_test_11: isPartOf(Albany, Oregon, Benton County, Oregon)\n",
      "Parsed Triples for ID ont_16_city_test_11: [{'sub': 'Albany', 'rel': 'isPartOf', 'obj': 'Oregon, Benton County, Oregon'}]\n"
     ]
    },
    {
     "name": "stderr",
     "output_type": "stream",
     "text": [
      "Setting `pad_token_id` to `eos_token_id`:2 for open-end generation.\n"
     ]
    },
    {
     "name": "stdout",
     "output_type": "stream",
     "text": [
      "Test Output for ID ont_16_city_test_12: isPartOf(Albany, Oregon, Linn County, Oregon)\n",
      "Parsed Triples for ID ont_16_city_test_12: [{'sub': 'Albany', 'rel': 'isPartOf', 'obj': 'Oregon, Linn County, Oregon'}]\n"
     ]
    },
    {
     "name": "stderr",
     "output_type": "stream",
     "text": [
      "Setting `pad_token_id` to `eos_token_id`:2 for open-end generation.\n"
     ]
    },
    {
     "name": "stdout",
     "output_type": "stream",
     "text": [
      "Test Output for ID ont_16_city_test_13: (Note: The sentence does not provide a specific ethnic group, so the triple for ethnic group is not included in the output.)\n",
      "Parsed Triples for ID ont_16_city_test_13: []\n"
     ]
    },
    {
     "name": "stderr",
     "output_type": "stream",
     "text": [
      "Setting `pad_token_id` to `eos_token_id`:2 for open-end generation.\n"
     ]
    },
    {
     "name": "stdout",
     "output_type": "stream",
     "text": [
      "Test Output for ID ont_16_city_test_14: (Note: The city of Albany is not explicitly mentioned in the sentence, but it is implied. So, we can infer that the city of Albany is part of the state of Oregon.)\n",
      "Parsed Triples for ID ont_16_city_test_14: []\n"
     ]
    },
    {
     "name": "stderr",
     "output_type": "stream",
     "text": [
      "Setting `pad_token_id` to `eos_token_id`:2 for open-end generation.\n"
     ]
    },
    {
     "name": "stdout",
     "output_type": "stream",
     "text": [
      "Test Output for ID ont_16_city_test_15: isPartOf(Albany, Oregon)\n",
      "Parsed Triples for ID ont_16_city_test_15: [{'sub': 'Albany', 'rel': 'isPartOf', 'obj': 'Oregon'}]\n"
     ]
    },
    {
     "name": "stderr",
     "output_type": "stream",
     "text": [
      "Setting `pad_token_id` to `eos_token_id`:2 for open-end generation.\n"
     ]
    },
    {
     "name": "stdout",
     "output_type": "stream",
     "text": [
      "Test Output for ID ont_16_city_test_16: isPartOf(Alexandria, Madison County, Indiana, Monroe Township)\n",
      "Parsed Triples for ID ont_16_city_test_16: [{'sub': 'Alexandria', 'rel': 'isPartOf', 'obj': 'Madison County, Indiana, Monroe Township'}]\n"
     ]
    },
    {
     "name": "stderr",
     "output_type": "stream",
     "text": [
      "Setting `pad_token_id` to `eos_token_id`:2 for open-end generation.\n"
     ]
    },
    {
     "name": "stdout",
     "output_type": "stream",
     "text": [
      "Test Output for ID ont_16_city_test_17: isPartOf(Alexandria, Indiana)\n",
      "Parsed Triples for ID ont_16_city_test_17: [{'sub': 'Alexandria', 'rel': 'isPartOf', 'obj': 'Indiana'}]\n"
     ]
    },
    {
     "name": "stderr",
     "output_type": "stream",
     "text": [
      "Setting `pad_token_id` to `eos_token_id`:2 for open-end generation.\n"
     ]
    },
    {
     "name": "stdout",
     "output_type": "stream",
     "text": [
      "Test Output for ID ont_16_city_test_18: isPartOf(Alexandria, Madison County, Indiana, United States)\n",
      "Parsed Triples for ID ont_16_city_test_18: [{'sub': 'Alexandria', 'rel': 'isPartOf', 'obj': 'Madison County, Indiana, United States'}]\n"
     ]
    },
    {
     "name": "stderr",
     "output_type": "stream",
     "text": [
      "Setting `pad_token_id` to `eos_token_id`:2 for open-end generation.\n"
     ]
    },
    {
     "name": "stdout",
     "output_type": "stream",
     "text": [
      "Test Output for ID ont_16_city_test_19: isPartOf(Alexandria, Madison County, Indiana, Monroe Township)\n",
      "Parsed Triples for ID ont_16_city_test_19: [{'sub': 'Alexandria', 'rel': 'isPartOf', 'obj': 'Madison County, Indiana, Monroe Township'}]\n"
     ]
    },
    {
     "name": "stderr",
     "output_type": "stream",
     "text": [
      "Setting `pad_token_id` to `eos_token_id`:2 for open-end generation.\n"
     ]
    },
    {
     "name": "stdout",
     "output_type": "stream",
     "text": [
      "Test Output for ID ont_16_city_test_20: isPartOf(Alexandria, Madison County, Indiana, United States)\n",
      "Parsed Triples for ID ont_16_city_test_20: [{'sub': 'Alexandria', 'rel': 'isPartOf', 'obj': 'Madison County, Indiana, United States'}]\n"
     ]
    },
    {
     "name": "stderr",
     "output_type": "stream",
     "text": [
      "Setting `pad_token_id` to `eos_token_id`:2 for open-end generation.\n"
     ]
    },
    {
     "name": "stdout",
     "output_type": "stream",
     "text": [
      "Test Output for ID ont_16_city_test_21: (Note: The test sentence does not contain a city, but it does contain a country and a city in the country)\n",
      "Parsed Triples for ID ont_16_city_test_21: []\n"
     ]
    },
    {
     "name": "stderr",
     "output_type": "stream",
     "text": [
      "Setting `pad_token_id` to `eos_token_id`:2 for open-end generation.\n"
     ]
    },
    {
     "name": "stdout",
     "output_type": "stream",
     "text": [
      "Test Output for ID ont_16_city_test_22: (Note: The output does not include the triples for the ethnic group and language as the sentence does not provide information about the city's ethnic group or language.)\n",
      "Parsed Triples for ID ont_16_city_test_22: []\n"
     ]
    },
    {
     "name": "stderr",
     "output_type": "stream",
     "text": [
      "Setting `pad_token_id` to `eos_token_id`:2 for open-end generation.\n"
     ]
    },
    {
     "name": "stdout",
     "output_type": "stream",
     "text": [
      "Test Output for ID ont_16_city_test_23: (Note: The output is in the format: relation(subject, object, object2))\n",
      "Parsed Triples for ID ont_16_city_test_23: [{'sub': 'subject', 'rel': '(Note: The output is in the format: relation', 'obj': 'object, object2'}]\n"
     ]
    },
    {
     "name": "stderr",
     "output_type": "stream",
     "text": [
      "Setting `pad_token_id` to `eos_token_id`:2 for open-end generation.\n"
     ]
    },
    {
     "name": "stdout",
     "output_type": "stream",
     "text": [
      "Test Output for ID ont_16_city_test_24: (Note: The test sentence does not contain a relation for the 'capital' of Georgia, so it is not included in the output.)\n",
      "Parsed Triples for ID ont_16_city_test_24: []\n"
     ]
    },
    {
     "name": "stderr",
     "output_type": "stream",
     "text": [
      "Setting `pad_token_id` to `eos_token_id`:2 for open-end generation.\n"
     ]
    },
    {
     "name": "stdout",
     "output_type": "stream",
     "text": [
      "Test Output for ID ont_16_city_test_25: isPartOf(Amarillo, Potter County, Potter County)\n",
      "Parsed Triples for ID ont_16_city_test_25: [{'sub': 'Amarillo', 'rel': 'isPartOf', 'obj': 'Potter County, Potter County'}]\n"
     ]
    },
    {
     "name": "stderr",
     "output_type": "stream",
     "text": [
      "Setting `pad_token_id` to `eos_token_id`:2 for open-end generation.\n"
     ]
    },
    {
     "name": "stdout",
     "output_type": "stream",
     "text": [
      "Test Output for ID ont_16_city_test_26: isPartOf(Amarillo, Texas, Potter County)\n",
      "Parsed Triples for ID ont_16_city_test_26: [{'sub': 'Amarillo', 'rel': 'isPartOf', 'obj': 'Texas, Potter County'}]\n"
     ]
    },
    {
     "name": "stderr",
     "output_type": "stream",
     "text": [
      "Setting `pad_token_id` to `eos_token_id`:2 for open-end generation.\n"
     ]
    },
    {
     "name": "stdout",
     "output_type": "stream",
     "text": [
      "Test Output for ID ont_16_city_test_27: isPartOf(Amarillo, Texas), countySeat(Amarillo, Potter County), countySeat(Amarillo, Randall County)\n",
      "Parsed Triples for ID ont_16_city_test_27: [{'sub': 'Amarillo', 'rel': 'isPartOf', 'obj': 'Texas'}, {'sub': 'Amarillo', 'rel': ', countySeat', 'obj': 'Potter County'}, {'sub': 'Amarillo', 'rel': ', countySeat', 'obj': 'Randall County'}]\n"
     ]
    },
    {
     "name": "stderr",
     "output_type": "stream",
     "text": [
      "Setting `pad_token_id` to `eos_token_id`:2 for open-end generation.\n"
     ]
    },
    {
     "name": "stdout",
     "output_type": "stream",
     "text": [
      "Test Output for ID ont_16_city_test_28: isPartOf(Amarillo, Potter County, Potter County)\n",
      "Parsed Triples for ID ont_16_city_test_28: [{'sub': 'Amarillo', 'rel': 'isPartOf', 'obj': 'Potter County, Potter County'}]\n"
     ]
    },
    {
     "name": "stderr",
     "output_type": "stream",
     "text": [
      "Setting `pad_token_id` to `eos_token_id`:2 for open-end generation.\n"
     ]
    },
    {
     "name": "stdout",
     "output_type": "stream",
     "text": [
      "Test Output for ID ont_16_city_test_29: ethnicGroup(Amarillo, African Americans)\n",
      "Parsed Triples for ID ont_16_city_test_29: [{'sub': 'Amarillo', 'rel': 'ethnicGroup', 'obj': 'African Americans'}]\n"
     ]
    },
    {
     "name": "stderr",
     "output_type": "stream",
     "text": [
      "Setting `pad_token_id` to `eos_token_id`:2 for open-end generation.\n"
     ]
    },
    {
     "name": "stdout",
     "output_type": "stream",
     "text": [
      "Test Output for ID ont_16_city_test_30: isPartOf(Amarillo, Potter County)\n",
      "Parsed Triples for ID ont_16_city_test_30: [{'sub': 'Amarillo', 'rel': 'isPartOf', 'obj': 'Potter County'}]\n"
     ]
    },
    {
     "name": "stderr",
     "output_type": "stream",
     "text": [
      "Setting `pad_token_id` to `eos_token_id`:2 for open-end generation.\n"
     ]
    },
    {
     "name": "stdout",
     "output_type": "stream",
     "text": [
      "Test Output for ID ont_16_city_test_31: isPartOf(Amarillo, Texas, Randall County, Texas)\n",
      "Parsed Triples for ID ont_16_city_test_31: [{'sub': 'Amarillo', 'rel': 'isPartOf', 'obj': 'Texas, Randall County, Texas'}]\n"
     ]
    },
    {
     "name": "stderr",
     "output_type": "stream",
     "text": [
      "Setting `pad_token_id` to `eos_token_id`:2 for open-end generation.\n"
     ]
    },
    {
     "name": "stdout",
     "output_type": "stream",
     "text": [
      "Test Output for ID ont_16_city_test_32: (Note: The output is in the format of triple, where the first element is the subject, the second element is the predicate, and the third element is the object.)\n",
      "Parsed Triples for ID ont_16_city_test_32: []\n"
     ]
    },
    {
     "name": "stderr",
     "output_type": "stream",
     "text": [
      "Setting `pad_token_id` to `eos_token_id`:2 for open-end generation.\n"
     ]
    },
    {
     "name": "stdout",
     "output_type": "stream",
     "text": [
      "Test Output for ID ont_16_city_test_33: isPartOf(Amarillo, Potter County)\n",
      "Parsed Triples for ID ont_16_city_test_33: [{'sub': 'Amarillo', 'rel': 'isPartOf', 'obj': 'Potter County'}]\n"
     ]
    },
    {
     "name": "stderr",
     "output_type": "stream",
     "text": [
      "Setting `pad_token_id` to `eos_token_id`:2 for open-end generation.\n"
     ]
    },
    {
     "name": "stdout",
     "output_type": "stream",
     "text": [
      "Test Output for ID ont_16_city_test_34: isPartOf(Amarillo, Potter County)\n",
      "Parsed Triples for ID ont_16_city_test_34: [{'sub': 'Amarillo', 'rel': 'isPartOf', 'obj': 'Potter County'}]\n"
     ]
    },
    {
     "name": "stderr",
     "output_type": "stream",
     "text": [
      "Setting `pad_token_id` to `eos_token_id`:2 for open-end generation.\n"
     ]
    },
    {
     "name": "stdout",
     "output_type": "stream",
     "text": [
      "Test Output for ID ont_16_city_test_35: isPartOf(Amarillo, Texas, Potter County)\n",
      "Parsed Triples for ID ont_16_city_test_35: [{'sub': 'Amarillo', 'rel': 'isPartOf', 'obj': 'Texas, Potter County'}]\n"
     ]
    },
    {
     "name": "stderr",
     "output_type": "stream",
     "text": [
      "Setting `pad_token_id` to `eos_token_id`:2 for open-end generation.\n"
     ]
    },
    {
     "name": "stdout",
     "output_type": "stream",
     "text": [
      "Test Output for ID ont_16_city_test_36: isPartOf(Amarillo, Texas, Texas)\n",
      "Parsed Triples for ID ont_16_city_test_36: [{'sub': 'Amarillo', 'rel': 'isPartOf', 'obj': 'Texas, Texas'}]\n"
     ]
    },
    {
     "name": "stderr",
     "output_type": "stream",
     "text": [
      "Setting `pad_token_id` to `eos_token_id`:2 for open-end generation.\n"
     ]
    },
    {
     "name": "stdout",
     "output_type": "stream",
     "text": [
      "Test Output for ID ont_16_city_test_37: (Note: The ontology does not have a relation for the leader of the United States, so we will not include that in the output.)\n",
      "Parsed Triples for ID ont_16_city_test_37: []\n"
     ]
    },
    {
     "name": "stderr",
     "output_type": "stream",
     "text": [
      "Setting `pad_token_id` to `eos_token_id`:2 for open-end generation.\n"
     ]
    },
    {
     "name": "stdout",
     "output_type": "stream",
     "text": [
      "Test Output for ID ont_16_city_test_38: (Note: The city is Anaheim, but it is not explicitly mentioned in the sentence, so it is not included in the triples.)\n",
      "Parsed Triples for ID ont_16_city_test_38: []\n"
     ]
    },
    {
     "name": "stderr",
     "output_type": "stream",
     "text": [
      "Setting `pad_token_id` to `eos_token_id`:2 for open-end generation.\n"
     ]
    },
    {
     "name": "stdout",
     "output_type": "stream",
     "text": [
      "Test Output for ID ont_16_city_test_39: (Note: The test sentence does not contain information about the ethnic group, government type, language, state, timezone, or utc offset, so the output will not include triples for those concepts.)\n",
      "Parsed Triples for ID ont_16_city_test_39: []\n"
     ]
    },
    {
     "name": "stderr",
     "output_type": "stream",
     "text": [
      "Setting `pad_token_id` to `eos_token_id`:2 for open-end generation.\n"
     ]
    },
    {
     "name": "stdout",
     "output_type": "stream",
     "text": [
      "Test Output for ID ont_16_city_test_40: isPartOf(Anaheim, California)\n",
      "Parsed Triples for ID ont_16_city_test_40: [{'sub': 'Anaheim', 'rel': 'isPartOf', 'obj': 'California'}]\n"
     ]
    },
    {
     "name": "stderr",
     "output_type": "stream",
     "text": [
      "Setting `pad_token_id` to `eos_token_id`:2 for open-end generation.\n"
     ]
    },
    {
     "name": "stdout",
     "output_type": "stream",
     "text": [
      "Test Output for ID ont_16_city_test_41: isPartOf(Anaheim, California, United States)\n",
      "Parsed Triples for ID ont_16_city_test_41: [{'sub': 'Anaheim', 'rel': 'isPartOf', 'obj': 'California, United States'}]\n"
     ]
    },
    {
     "name": "stderr",
     "output_type": "stream",
     "text": [
      "Setting `pad_token_id` to `eos_token_id`:2 for open-end generation.\n"
     ]
    },
    {
     "name": "stdout",
     "output_type": "stream",
     "text": [
      "Test Output for ID ont_16_city_test_42: leader(Anaheim, California, California State Assembly)\n",
      "Parsed Triples for ID ont_16_city_test_42: [{'sub': 'Anaheim', 'rel': 'leader', 'obj': 'California, California State Assembly'}]\n"
     ]
    },
    {
     "name": "stderr",
     "output_type": "stream",
     "text": [
      "Setting `pad_token_id` to `eos_token_id`:2 for open-end generation.\n"
     ]
    },
    {
     "name": "stdout",
     "output_type": "stream",
     "text": [
      "Test Output for ID ont_16_city_test_43: (Note: The test sentence contains redundant information, but the output should still be in the correct format.)\n",
      "Parsed Triples for ID ont_16_city_test_43: []\n"
     ]
    },
    {
     "name": "stderr",
     "output_type": "stream",
     "text": [
      "Setting `pad_token_id` to `eos_token_id`:2 for open-end generation.\n"
     ]
    },
    {
     "name": "stdout",
     "output_type": "stream",
     "text": [
      "Test Output for ID ont_16_city_test_44: (Note: The test sentence is a bit more complex, so the triples are broken down into multiple lines for clarity.)\n",
      "Parsed Triples for ID ont_16_city_test_44: []\n"
     ]
    },
    {
     "name": "stderr",
     "output_type": "stream",
     "text": [
      "Setting `pad_token_id` to `eos_token_id`:2 for open-end generation.\n"
     ]
    },
    {
     "name": "stdout",
     "output_type": "stream",
     "text": [
      "Test Output for ID ont_16_city_test_45: isPartOf(Anderson, Indiana, Adams Township, Madison County, Indiana)\n",
      "Parsed Triples for ID ont_16_city_test_45: [{'sub': 'Anderson', 'rel': 'isPartOf', 'obj': 'Indiana, Adams Township, Madison County, Indiana'}]\n"
     ]
    },
    {
     "name": "stderr",
     "output_type": "stream",
     "text": [
      "Setting `pad_token_id` to `eos_token_id`:2 for open-end generation.\n"
     ]
    },
    {
     "name": "stdout",
     "output_type": "stream",
     "text": [
      "Test Output for ID ont_16_city_test_46: isPartOf(Anderson, Indiana, Anderson Township, Madison County, Indiana)\n",
      "Parsed Triples for ID ont_16_city_test_46: [{'sub': 'Anderson', 'rel': 'isPartOf', 'obj': 'Indiana, Anderson Township, Madison County, Indiana'}]\n"
     ]
    },
    {
     "name": "stderr",
     "output_type": "stream",
     "text": [
      "Setting `pad_token_id` to `eos_token_id`:2 for open-end generation.\n"
     ]
    },
    {
     "name": "stdout",
     "output_type": "stream",
     "text": [
      "Test Output for ID ont_16_city_test_47: isPartOf(Anderson, Indiana, Anderson Township, Madison County, Indiana)\n",
      "Parsed Triples for ID ont_16_city_test_47: [{'sub': 'Anderson', 'rel': 'isPartOf', 'obj': 'Indiana, Anderson Township, Madison County, Indiana'}]\n"
     ]
    },
    {
     "name": "stderr",
     "output_type": "stream",
     "text": [
      "Setting `pad_token_id` to `eos_token_id`:2 for open-end generation.\n"
     ]
    },
    {
     "name": "stdout",
     "output_type": "stream",
     "text": [
      "Test Output for ID ont_16_city_test_48: isPartOf(Anderson, Indiana, Anderson Township, Madison County, Indiana)\n",
      "Parsed Triples for ID ont_16_city_test_48: [{'sub': 'Anderson', 'rel': 'isPartOf', 'obj': 'Indiana, Anderson Township, Madison County, Indiana'}]\n"
     ]
    },
    {
     "name": "stderr",
     "output_type": "stream",
     "text": [
      "Setting `pad_token_id` to `eos_token_id`:2 for open-end generation.\n"
     ]
    },
    {
     "name": "stdout",
     "output_type": "stream",
     "text": [
      "Test Output for ID ont_16_city_test_49: (Note: I'm assuming that the \"which\" refers to the townships, and the sentence is saying that Anderson is part of 5 townships, so I'm creating 5 triples for the isPartOf relation)\n",
      "Parsed Triples for ID ont_16_city_test_49: []\n"
     ]
    },
    {
     "name": "stderr",
     "output_type": "stream",
     "text": [
      "Setting `pad_token_id` to `eos_token_id`:2 for open-end generation.\n"
     ]
    },
    {
     "name": "stdout",
     "output_type": "stream",
     "text": [
      "Test Output for ID ont_16_city_test_50: (Note: The output is not in the order of the sentence)\n",
      "Parsed Triples for ID ont_16_city_test_50: []\n"
     ]
    },
    {
     "name": "stderr",
     "output_type": "stream",
     "text": [
      "Setting `pad_token_id` to `eos_token_id`:2 for open-end generation.\n"
     ]
    },
    {
     "name": "stdout",
     "output_type": "stream",
     "text": [
      "Test Output for ID ont_16_city_test_51: isPartOf(Anderson, Indiana, Fall Creek Township, Madison County, Indiana)\n",
      "Parsed Triples for ID ont_16_city_test_51: [{'sub': 'Anderson', 'rel': 'isPartOf', 'obj': 'Indiana, Fall Creek Township, Madison County, Indiana'}]\n"
     ]
    },
    {
     "name": "stderr",
     "output_type": "stream",
     "text": [
      "Setting `pad_token_id` to `eos_token_id`:2 for open-end generation.\n"
     ]
    },
    {
     "name": "stdout",
     "output_type": "stream",
     "text": [
      "Test Output for ID ont_16_city_test_52: isPartOf(Anderson, Madison County, Indiana, Fall Creek Township)\n",
      "Parsed Triples for ID ont_16_city_test_52: [{'sub': 'Anderson', 'rel': 'isPartOf', 'obj': 'Madison County, Indiana, Fall Creek Township'}]\n"
     ]
    },
    {
     "name": "stderr",
     "output_type": "stream",
     "text": [
      "Setting `pad_token_id` to `eos_token_id`:2 for open-end generation.\n"
     ]
    },
    {
     "name": "stdout",
     "output_type": "stream",
     "text": [
      "Test Output for ID ont_16_city_test_53: isPartOf(Anderson, Indiana, Adams Fall Creek)\n",
      "Parsed Triples for ID ont_16_city_test_53: [{'sub': 'Anderson', 'rel': 'isPartOf', 'obj': 'Indiana, Adams Fall Creek'}]\n"
     ]
    },
    {
     "name": "stderr",
     "output_type": "stream",
     "text": [
      "Setting `pad_token_id` to `eos_token_id`:2 for open-end generation.\n"
     ]
    },
    {
     "name": "stdout",
     "output_type": "stream",
     "text": [
      "Test Output for ID ont_16_city_test_54: isPartOf(Anderson, Lafayette Township, Madison County, Indiana)\n",
      "Parsed Triples for ID ont_16_city_test_54: [{'sub': 'Anderson', 'rel': 'isPartOf', 'obj': 'Lafayette Township, Madison County, Indiana'}]\n"
     ]
    },
    {
     "name": "stderr",
     "output_type": "stream",
     "text": [
      "Setting `pad_token_id` to `eos_token_id`:2 for open-end generation.\n"
     ]
    },
    {
     "name": "stdout",
     "output_type": "stream",
     "text": [
      "Test Output for ID ont_16_city_test_55: isPartOf(Anderson, Indiana, Union Township, Madison County, Indiana)\n",
      "Parsed Triples for ID ont_16_city_test_55: [{'sub': 'Anderson', 'rel': 'isPartOf', 'obj': 'Indiana, Union Township, Madison County, Indiana'}]\n"
     ]
    },
    {
     "name": "stderr",
     "output_type": "stream",
     "text": [
      "Setting `pad_token_id` to `eos_token_id`:2 for open-end generation.\n"
     ]
    },
    {
     "name": "stdout",
     "output_type": "stream",
     "text": [
      "Test Output for ID ont_16_city_test_56: ethnicGroup(Angola, Asian Americans)\n",
      "Parsed Triples for ID ont_16_city_test_56: [{'sub': 'Angola', 'rel': 'ethnicGroup', 'obj': 'Asian Americans'}]\n"
     ]
    },
    {
     "name": "stderr",
     "output_type": "stream",
     "text": [
      "Setting `pad_token_id` to `eos_token_id`:2 for open-end generation.\n"
     ]
    },
    {
     "name": "stdout",
     "output_type": "stream",
     "text": [
      "Test Output for ID ont_16_city_test_57: (Note: The sentence does not contain any numerical values, so the triples will not have a number in the predicate.)\n",
      "Parsed Triples for ID ont_16_city_test_57: []\n"
     ]
    },
    {
     "name": "stderr",
     "output_type": "stream",
     "text": [
      "Setting `pad_token_id` to `eos_token_id`:2 for open-end generation.\n"
     ]
    },
    {
     "name": "stdout",
     "output_type": "stream",
     "text": [
      "Test Output for ID ont_16_city_test_58: isPartOf(Angola, Steuben County, Indiana, United States)\n",
      "Parsed Triples for ID ont_16_city_test_58: [{'sub': 'Angola', 'rel': 'isPartOf', 'obj': 'Steuben County, Indiana, United States'}]\n"
     ]
    },
    {
     "name": "stderr",
     "output_type": "stream",
     "text": [
      "Setting `pad_token_id` to `eos_token_id`:2 for open-end generation.\n"
     ]
    },
    {
     "name": "stdout",
     "output_type": "stream",
     "text": [
      "Test Output for ID ont_16_city_test_59: isPartOf(Angola, Steuben County, Indiana)\n",
      "Parsed Triples for ID ont_16_city_test_59: [{'sub': 'Angola', 'rel': 'isPartOf', 'obj': 'Steuben County, Indiana'}]\n"
     ]
    },
    {
     "name": "stderr",
     "output_type": "stream",
     "text": [
      "Setting `pad_token_id` to `eos_token_id`:2 for open-end generation.\n"
     ]
    },
    {
     "name": "stdout",
     "output_type": "stream",
     "text": [
      "Test Output for ID ont_16_city_test_60: isPartOf(Angola, Steuben County, Indiana)\n",
      "Parsed Triples for ID ont_16_city_test_60: [{'sub': 'Angola', 'rel': 'isPartOf', 'obj': 'Steuben County, Indiana'}]\n"
     ]
    },
    {
     "name": "stderr",
     "output_type": "stream",
     "text": [
      "Setting `pad_token_id` to `eos_token_id`:2 for open-end generation.\n"
     ]
    },
    {
     "name": "stdout",
     "output_type": "stream",
     "text": [
      "Test Output for ID ont_16_city_test_61: isPartOf(Angola, Steuben County, Indiana)\n",
      "Parsed Triples for ID ont_16_city_test_61: [{'sub': 'Angola', 'rel': 'isPartOf', 'obj': 'Steuben County, Indiana'}]\n"
     ]
    },
    {
     "name": "stderr",
     "output_type": "stream",
     "text": [
      "Setting `pad_token_id` to `eos_token_id`:2 for open-end generation.\n"
     ]
    },
    {
     "name": "stdout",
     "output_type": "stream",
     "text": [
      "Test Output for ID ont_16_city_test_62: isPartOf(Angola, Indiana, Pleasant Township, Steuben County, United States)\n",
      "Parsed Triples for ID ont_16_city_test_62: [{'sub': 'Angola', 'rel': 'isPartOf', 'obj': 'Indiana, Pleasant Township, Steuben County, United States'}]\n"
     ]
    },
    {
     "name": "stderr",
     "output_type": "stream",
     "text": [
      "Setting `pad_token_id` to `eos_token_id`:2 for open-end generation.\n"
     ]
    },
    {
     "name": "stdout",
     "output_type": "stream",
     "text": [
      "Test Output for ID ont_16_city_test_63: isPartOf(Antioch, California, Contra Costa County)\n",
      "Parsed Triples for ID ont_16_city_test_63: [{'sub': 'Antioch', 'rel': 'isPartOf', 'obj': 'California, Contra Costa County'}]\n"
     ]
    },
    {
     "name": "stderr",
     "output_type": "stream",
     "text": [
      "Setting `pad_token_id` to `eos_token_id`:2 for open-end generation.\n"
     ]
    },
    {
     "name": "stdout",
     "output_type": "stream",
     "text": [
      "Test Output for ID ont_16_city_test_64: isPartOf(Antioch, California, Contra Costa County)\n",
      "Parsed Triples for ID ont_16_city_test_64: [{'sub': 'Antioch', 'rel': 'isPartOf', 'obj': 'California, Contra Costa County'}]\n"
     ]
    },
    {
     "name": "stderr",
     "output_type": "stream",
     "text": [
      "Setting `pad_token_id` to `eos_token_id`:2 for open-end generation.\n"
     ]
    },
    {
     "name": "stdout",
     "output_type": "stream",
     "text": [
      "Test Output for ID ont_16_city_test_65: isPartOf(Antioch, California, Contra Costa County)\n",
      "Parsed Triples for ID ont_16_city_test_65: [{'sub': 'Antioch', 'rel': 'isPartOf', 'obj': 'California, Contra Costa County'}]\n"
     ]
    },
    {
     "name": "stderr",
     "output_type": "stream",
     "text": [
      "Setting `pad_token_id` to `eos_token_id`:2 for open-end generation.\n"
     ]
    },
    {
     "name": "stdout",
     "output_type": "stream",
     "text": [
      "Test Output for ID ont_16_city_test_66: leader(Antioch, mayor)\n",
      "Parsed Triples for ID ont_16_city_test_66: [{'sub': 'Antioch', 'rel': 'leader', 'obj': 'mayor'}]\n"
     ]
    },
    {
     "name": "stderr",
     "output_type": "stream",
     "text": [
      "Setting `pad_token_id` to `eos_token_id`:2 for open-end generation.\n"
     ]
    },
    {
     "name": "stdout",
     "output_type": "stream",
     "text": [
      "Test Output for ID ont_16_city_test_67: isPartOf(Antioch, Contra Costa County, Contra Costa County)\n",
      "Parsed Triples for ID ont_16_city_test_67: [{'sub': 'Antioch', 'rel': 'isPartOf', 'obj': 'Contra Costa County, Contra Costa County'}]\n"
     ]
    },
    {
     "name": "stderr",
     "output_type": "stream",
     "text": [
      "Setting `pad_token_id` to `eos_token_id`:2 for open-end generation.\n"
     ]
    },
    {
     "name": "stdout",
     "output_type": "stream",
     "text": [
      "Test Output for ID ont_16_city_test_68: areaCode(Antioch, California, 925)\n",
      "Parsed Triples for ID ont_16_city_test_68: [{'sub': 'Antioch', 'rel': 'areaCode', 'obj': 'California, 925'}]\n"
     ]
    },
    {
     "name": "stderr",
     "output_type": "stream",
     "text": [
      "Setting `pad_token_id` to `eos_token_id`:2 for open-end generation.\n"
     ]
    },
    {
     "name": "stdout",
     "output_type": "stream",
     "text": [
      "Test Output for ID ont_16_city_test_69: isPartOf(Arlington, Tarrant County, Texas)\n",
      "Parsed Triples for ID ont_16_city_test_69: [{'sub': 'Arlington', 'rel': 'isPartOf', 'obj': 'Tarrant County, Texas'}]\n"
     ]
    },
    {
     "name": "stderr",
     "output_type": "stream",
     "text": [
      "Setting `pad_token_id` to `eos_token_id`:2 for open-end generation.\n"
     ]
    },
    {
     "name": "stdout",
     "output_type": "stream",
     "text": [
      "Test Output for ID ont_16_city_test_70: countySeat(Tarrant County, Fort Worth)\n",
      "Parsed Triples for ID ont_16_city_test_70: [{'sub': 'Tarrant County', 'rel': 'countySeat', 'obj': 'Fort Worth'}]\n"
     ]
    },
    {
     "name": "stderr",
     "output_type": "stream",
     "text": [
      "Setting `pad_token_id` to `eos_token_id`:2 for open-end generation.\n"
     ]
    },
    {
     "name": "stdout",
     "output_type": "stream",
     "text": [
      "Test Output for ID ont_16_city_test_71: isPartOf(Arlington, Tarrant County, Texas)\n",
      "Parsed Triples for ID ont_16_city_test_71: [{'sub': 'Arlington', 'rel': 'isPartOf', 'obj': 'Tarrant County, Texas'}]\n"
     ]
    },
    {
     "name": "stderr",
     "output_type": "stream",
     "text": [
      "Setting `pad_token_id` to `eos_token_id`:2 for open-end generation.\n"
     ]
    },
    {
     "name": "stdout",
     "output_type": "stream",
     "text": [
      "Test Output for ID ont_16_city_test_72: (Note: The country is the United States, and it is not explicitly mentioned in the sentence, but it is implied.)\n",
      "Parsed Triples for ID ont_16_city_test_72: []\n"
     ]
    },
    {
     "name": "stderr",
     "output_type": "stream",
     "text": [
      "Setting `pad_token_id` to `eos_token_id`:2 for open-end generation.\n"
     ]
    },
    {
     "name": "stdout",
     "output_type": "stream",
     "text": [
      "Test Output for ID ont_16_city_test_73: (Note: The output is not exhaustive, but it covers the relations in the ontology)\n",
      "Parsed Triples for ID ont_16_city_test_73: []\n"
     ]
    },
    {
     "name": "stderr",
     "output_type": "stream",
     "text": [
      "Setting `pad_token_id` to `eos_token_id`:2 for open-end generation.\n"
     ]
    },
    {
     "name": "stdout",
     "output_type": "stream",
     "text": [
      "Test Output for ID ont_16_city_test_74: (Note: The output is in the format of the example output)\n",
      "Parsed Triples for ID ont_16_city_test_74: []\n"
     ]
    },
    {
     "name": "stderr",
     "output_type": "stream",
     "text": [
      "Setting `pad_token_id` to `eos_token_id`:2 for open-end generation.\n"
     ]
    },
    {
     "name": "stdout",
     "output_type": "stream",
     "text": [
      "Test Output for ID ont_16_city_test_75: (Note: The output is not exhaustive, but it covers the relations in the ontology)\n",
      "Parsed Triples for ID ont_16_city_test_75: []\n"
     ]
    },
    {
     "name": "stderr",
     "output_type": "stream",
     "text": [
      "Setting `pad_token_id` to `eos_token_id`:2 for open-end generation.\n"
     ]
    },
    {
     "name": "stdout",
     "output_type": "stream",
     "text": [
      "Test Output for ID ont_16_city_test_76: isPartOf(Atlanta, United States, United States)\n",
      "Parsed Triples for ID ont_16_city_test_76: [{'sub': 'Atlanta', 'rel': 'isPartOf', 'obj': 'United States, United States'}]\n"
     ]
    },
    {
     "name": "stderr",
     "output_type": "stream",
     "text": [
      "Setting `pad_token_id` to `eos_token_id`:2 for open-end generation.\n"
     ]
    },
    {
     "name": "stdout",
     "output_type": "stream",
     "text": [
      "Test Output for ID ont_16_city_test_77: (Note: Since the sentence does not contain a specific relation for the ethnic group, we cannot extract a triple for it.)\n",
      "Parsed Triples for ID ont_16_city_test_77: []\n"
     ]
    },
    {
     "name": "stderr",
     "output_type": "stream",
     "text": [
      "Setting `pad_token_id` to `eos_token_id`:2 for open-end generation.\n"
     ]
    },
    {
     "name": "stdout",
     "output_type": "stream",
     "text": [
      "Test Output for ID ont_16_city_test_78: country(Atlanta, U.S.)\n",
      "Parsed Triples for ID ont_16_city_test_78: [{'sub': 'Atlanta', 'rel': 'country', 'obj': 'U.S.'}]\n"
     ]
    },
    {
     "name": "stderr",
     "output_type": "stream",
     "text": [
      "Setting `pad_token_id` to `eos_token_id`:2 for open-end generation.\n"
     ]
    },
    {
     "name": "stdout",
     "output_type": "stream",
     "text": [
      "Test Output for ID ont_16_city_test_79: (Note: I'm assuming that \"Most of Atlanta\" is referring to the city of Atlanta, and \"An ethnic group in the U.S.\" is referring to Asian Americans)\n",
      "Parsed Triples for ID ont_16_city_test_79: []\n"
     ]
    },
    {
     "name": "stderr",
     "output_type": "stream",
     "text": [
      "Setting `pad_token_id` to `eos_token_id`:2 for open-end generation.\n"
     ]
    },
    {
     "name": "stdout",
     "output_type": "stream",
     "text": [
      "Test Output for ID ont_16_city_test_80: (Note: I'm not sure about the \"Most of\" part, but I'll leave it as it is in the sentence)\n",
      "Parsed Triples for ID ont_16_city_test_80: []\n"
     ]
    },
    {
     "name": "stderr",
     "output_type": "stream",
     "text": [
      "Setting `pad_token_id` to `eos_token_id`:2 for open-end generation.\n"
     ]
    },
    {
     "name": "stdout",
     "output_type": "stream",
     "text": [
      "Test Output for ID ont_16_city_test_81: (Note: Most of Atlanta is considered as a part of DeKalb County, so the city is part of both Fulton County and DeKalb County)\n",
      "Parsed Triples for ID ont_16_city_test_81: []\n"
     ]
    },
    {
     "name": "stderr",
     "output_type": "stream",
     "text": [
      "Setting `pad_token_id` to `eos_token_id`:2 for open-end generation.\n"
     ]
    },
    {
     "name": "stdout",
     "output_type": "stream",
     "text": [
      "Test Output for ID ont_16_city_test_82: (Note: The order of the triples is not important)\n",
      "Parsed Triples for ID ont_16_city_test_82: []\n"
     ]
    },
    {
     "name": "stderr",
     "output_type": "stream",
     "text": [
      "Setting `pad_token_id` to `eos_token_id`:2 for open-end generation.\n"
     ]
    },
    {
     "name": "stdout",
     "output_type": "stream",
     "text": [
      "Test Output for ID ont_16_city_test_83: country(Atlanta, United States)\n",
      "Parsed Triples for ID ont_16_city_test_83: [{'sub': 'Atlanta', 'rel': 'country', 'obj': 'United States'}]\n"
     ]
    },
    {
     "name": "stderr",
     "output_type": "stream",
     "text": [
      "Setting `pad_token_id` to `eos_token_id`:2 for open-end generation.\n"
     ]
    },
    {
     "name": "stdout",
     "output_type": "stream",
     "text": [
      "Test Output for ID ont_16_city_test_84: (Note: I'm assuming that the sentence is referring to two different counties, Fulton and DeKalb)\n",
      "Parsed Triples for ID ont_16_city_test_84: []\n"
     ]
    },
    {
     "name": "stderr",
     "output_type": "stream",
     "text": [
      "Setting `pad_token_id` to `eos_token_id`:2 for open-end generation.\n"
     ]
    },
    {
     "name": "stdout",
     "output_type": "stream",
     "text": [
      "Test Output for ID ont_16_city_test_85: areaOfLand(Atlanta, 347.1 (square kilometres))\n",
      "Parsed Triples for ID ont_16_city_test_85: [{'sub': 'Atlanta', 'rel': 'areaOfLand', 'obj': '347.1 (square kilometres'}]\n"
     ]
    },
    {
     "name": "stderr",
     "output_type": "stream",
     "text": [
      "Setting `pad_token_id` to `eos_token_id`:2 for open-end generation.\n"
     ]
    },
    {
     "name": "stdout",
     "output_type": "stream",
     "text": [
      "Test Output for ID ont_16_city_test_86: isPartOf(Atlantic City, Atlantic County, New Jersey, United States)\n",
      "Parsed Triples for ID ont_16_city_test_86: [{'sub': 'Atlantic City', 'rel': 'isPartOf', 'obj': 'Atlantic County, New Jersey, United States'}]\n"
     ]
    },
    {
     "name": "stderr",
     "output_type": "stream",
     "text": [
      "Setting `pad_token_id` to `eos_token_id`:2 for open-end generation.\n"
     ]
    },
    {
     "name": "stdout",
     "output_type": "stream",
     "text": [
      "Test Output for ID ont_16_city_test_87: largestCity(New Jersey, Newark)\n",
      "Parsed Triples for ID ont_16_city_test_87: [{'sub': 'New Jersey', 'rel': 'largestCity', 'obj': 'Newark'}]\n"
     ]
    },
    {
     "name": "stderr",
     "output_type": "stream",
     "text": [
      "Setting `pad_token_id` to `eos_token_id`:2 for open-end generation.\n"
     ]
    },
    {
     "name": "stdout",
     "output_type": "stream",
     "text": [
      "Test Output for ID ont_16_city_test_88: isPartOf(Atlantic City, Atlantic County, New Jersey)\n",
      "Parsed Triples for ID ont_16_city_test_88: [{'sub': 'Atlantic City', 'rel': 'isPartOf', 'obj': 'Atlantic County, New Jersey'}]\n"
     ]
    },
    {
     "name": "stderr",
     "output_type": "stream",
     "text": [
      "Setting `pad_token_id` to `eos_token_id`:2 for open-end generation.\n"
     ]
    },
    {
     "name": "stdout",
     "output_type": "stream",
     "text": [
      "Test Output for ID ont_16_city_test_89: county(Atlantic City, Atlantic County)\n",
      "Parsed Triples for ID ont_16_city_test_89: [{'sub': 'Atlantic City', 'rel': 'county', 'obj': 'Atlantic County'}]\n"
     ]
    },
    {
     "name": "stderr",
     "output_type": "stream",
     "text": [
      "Setting `pad_token_id` to `eos_token_id`:2 for open-end generation.\n"
     ]
    },
    {
     "name": "stdout",
     "output_type": "stream",
     "text": [
      "Test Output for ID ont_16_city_test_90: leaderTitle(Atlantic City, New Jersey, \"Clerk\")\n",
      "Parsed Triples for ID ont_16_city_test_90: [{'sub': 'Atlantic City', 'rel': 'leaderTitle', 'obj': 'New Jersey, \"Clerk\"'}]\n"
     ]
    },
    {
     "name": "stderr",
     "output_type": "stream",
     "text": [
      "Setting `pad_token_id` to `eos_token_id`:2 for open-end generation.\n"
     ]
    },
    {
     "name": "stdout",
     "output_type": "stream",
     "text": [
      "Test Output for ID ont_16_city_test_91: isPartOf(Attica, United States, Indiana)\n",
      "Parsed Triples for ID ont_16_city_test_91: [{'sub': 'Attica', 'rel': 'isPartOf', 'obj': 'United States, Indiana'}]\n"
     ]
    },
    {
     "name": "stderr",
     "output_type": "stream",
     "text": [
      "Setting `pad_token_id` to `eos_token_id`:2 for open-end generation.\n"
     ]
    },
    {
     "name": "stdout",
     "output_type": "stream",
     "text": [
      "Test Output for ID ont_16_city_test_92: (Note: The city name Attica is not explicitly mentioned in the ontology relations, but it can be inferred from the context.)\n",
      "Parsed Triples for ID ont_16_city_test_92: []\n"
     ]
    },
    {
     "name": "stderr",
     "output_type": "stream",
     "text": [
      "Setting `pad_token_id` to `eos_token_id`:2 for open-end generation.\n"
     ]
    },
    {
     "name": "stdout",
     "output_type": "stream",
     "text": [
      "Test Output for ID ont_16_city_test_93: (Note: The output is not in the exact order as the input sentence)\n",
      "Parsed Triples for ID ont_16_city_test_93: []\n"
     ]
    },
    {
     "name": "stderr",
     "output_type": "stream",
     "text": [
      "Setting `pad_token_id` to `eos_token_id`:2 for open-end generation.\n"
     ]
    },
    {
     "name": "stdout",
     "output_type": "stream",
     "text": [
      "Test Output for ID ont_16_city_test_94: (Note: The output is in the format of triple, where the first element is the subject, the second element is the relation, and the third element is the object.)\n",
      "Parsed Triples for ID ont_16_city_test_94: []\n"
     ]
    },
    {
     "name": "stderr",
     "output_type": "stream",
     "text": [
      "Setting `pad_token_id` to `eos_token_id`:2 for open-end generation.\n"
     ]
    },
    {
     "name": "stdout",
     "output_type": "stream",
     "text": [
      "Test Output for ID ont_16_city_test_95: (Note: The country is not explicitly mentioned in the sentence, so it is not included in the output)\n",
      "Parsed Triples for ID ont_16_city_test_95: []\n"
     ]
    },
    {
     "name": "stderr",
     "output_type": "stream",
     "text": [
      "Setting `pad_token_id` to `eos_token_id`:2 for open-end generation.\n"
     ]
    },
    {
     "name": "stdout",
     "output_type": "stream",
     "text": [
      "Test Output for ID ont_16_city_test_96: isPartOf(Auburn, Lee County, Alabama)\n",
      "Parsed Triples for ID ont_16_city_test_96: [{'sub': 'Auburn', 'rel': 'isPartOf', 'obj': 'Lee County, Alabama'}]\n"
     ]
    },
    {
     "name": "stderr",
     "output_type": "stream",
     "text": [
      "Setting `pad_token_id` to `eos_token_id`:2 for open-end generation.\n"
     ]
    },
    {
     "name": "stdout",
     "output_type": "stream",
     "text": [
      "Test Output for ID ont_16_city_test_97: isPartOf(Auburn, Lee County, Alabama)\n",
      "Parsed Triples for ID ont_16_city_test_97: [{'sub': 'Auburn', 'rel': 'isPartOf', 'obj': 'Lee County, Alabama'}]\n"
     ]
    },
    {
     "name": "stderr",
     "output_type": "stream",
     "text": [
      "Setting `pad_token_id` to `eos_token_id`:2 for open-end generation.\n"
     ]
    },
    {
     "name": "stdout",
     "output_type": "stream",
     "text": [
      "Test Output for ID ont_16_city_test_98: isPartOf(Auburn, Lee County, Alabama)\n",
      "Parsed Triples for ID ont_16_city_test_98: [{'sub': 'Auburn', 'rel': 'isPartOf', 'obj': 'Lee County, Alabama'}]\n"
     ]
    },
    {
     "name": "stderr",
     "output_type": "stream",
     "text": [
      "Setting `pad_token_id` to `eos_token_id`:2 for open-end generation.\n"
     ]
    },
    {
     "name": "stdout",
     "output_type": "stream",
     "text": [
      "Test Output for ID ont_16_city_test_99: isPartOf(Auburn, Lee County, Alabama)\n",
      "Parsed Triples for ID ont_16_city_test_99: [{'sub': 'Auburn', 'rel': 'isPartOf', 'obj': 'Lee County, Alabama'}]\n"
     ]
    },
    {
     "name": "stderr",
     "output_type": "stream",
     "text": [
      "Setting `pad_token_id` to `eos_token_id`:2 for open-end generation.\n"
     ]
    },
    {
     "name": "stdout",
     "output_type": "stream",
     "text": [
      "Test Output for ID ont_16_city_test_100: isPartOf(Auburn, Washington, Pierce County, Washington)\n",
      "Parsed Triples for ID ont_16_city_test_100: [{'sub': 'Auburn', 'rel': 'isPartOf', 'obj': 'Washington, Pierce County, Washington'}]\n"
     ]
    },
    {
     "name": "stderr",
     "output_type": "stream",
     "text": [
      "Setting `pad_token_id` to `eos_token_id`:2 for open-end generation.\n"
     ]
    },
    {
     "name": "stdout",
     "output_type": "stream",
     "text": [
      "Test Output for ID ont_16_city_test_101: isPartOf(Auburn, Washington, Pierce County, Washington)\n",
      "Parsed Triples for ID ont_16_city_test_101: [{'sub': 'Auburn', 'rel': 'isPartOf', 'obj': 'Washington, Pierce County, Washington'}]\n"
     ]
    },
    {
     "name": "stderr",
     "output_type": "stream",
     "text": [
      "Setting `pad_token_id` to `eos_token_id`:2 for open-end generation.\n"
     ]
    },
    {
     "name": "stdout",
     "output_type": "stream",
     "text": [
      "Test Output for ID ont_16_city_test_102: (Note: I'm unable to add multiple triples in one response, so I'll provide them in separate responses.)\n",
      "Parsed Triples for ID ont_16_city_test_102: []\n"
     ]
    },
    {
     "name": "stderr",
     "output_type": "stream",
     "text": [
      "Setting `pad_token_id` to `eos_token_id`:2 for open-end generation.\n"
     ]
    },
    {
     "name": "stdout",
     "output_type": "stream",
     "text": [
      "Test Output for ID ont_16_city_test_103: isPartOf(Auburn, Washington, Washington State, United States)\n",
      "Parsed Triples for ID ont_16_city_test_103: [{'sub': 'Auburn', 'rel': 'isPartOf', 'obj': 'Washington, Washington State, United States'}]\n"
     ]
    },
    {
     "name": "stderr",
     "output_type": "stream",
     "text": [
      "Setting `pad_token_id` to `eos_token_id`:2 for open-end generation.\n"
     ]
    },
    {
     "name": "stdout",
     "output_type": "stream",
     "text": [
      "Test Output for ID ont_16_city_test_104: (Note: I'm using the abbreviated form of Washington as WA)\n",
      "Parsed Triples for ID ont_16_city_test_104: []\n"
     ]
    },
    {
     "name": "stderr",
     "output_type": "stream",
     "text": [
      "Setting `pad_token_id` to `eos_token_id`:2 for open-end generation.\n"
     ]
    },
    {
     "name": "stdout",
     "output_type": "stream",
     "text": [
      "Test Output for ID ont_16_city_test_105: (Note: I'm assuming that \"African Americans\" is the demonym for the United States)\n",
      "Parsed Triples for ID ont_16_city_test_105: []\n"
     ]
    },
    {
     "name": "stderr",
     "output_type": "stream",
     "text": [
      "Setting `pad_token_id` to `eos_token_id`:2 for open-end generation.\n"
     ]
    },
    {
     "name": "stdout",
     "output_type": "stream",
     "text": [
      "Test Output for ID ont_16_city_test_106: (Note: I'm using 'Austin' as an example city, but the triples are about the country 'United States')\n",
      "Parsed Triples for ID ont_16_city_test_106: []\n"
     ]
    },
    {
     "name": "stderr",
     "output_type": "stream",
     "text": [
      "Setting `pad_token_id` to `eos_token_id`:2 for open-end generation.\n"
     ]
    },
    {
     "name": "stdout",
     "output_type": "stream",
     "text": [
      "Test Output for ID ont_16_city_test_107: isPartOf(Austin, Texas, Travis County)\n",
      "Parsed Triples for ID ont_16_city_test_107: [{'sub': 'Austin', 'rel': 'isPartOf', 'obj': 'Texas, Travis County'}]\n"
     ]
    },
    {
     "name": "stderr",
     "output_type": "stream",
     "text": [
      "Setting `pad_token_id` to `eos_token_id`:2 for open-end generation.\n"
     ]
    },
    {
     "name": "stdout",
     "output_type": "stream",
     "text": [
      "Test Output for ID ont_16_city_test_108: isPartOf(Austin, Hays County, Hays County)\n",
      "Parsed Triples for ID ont_16_city_test_108: [{'sub': 'Austin', 'rel': 'isPartOf', 'obj': 'Hays County, Hays County'}]\n"
     ]
    },
    {
     "name": "stderr",
     "output_type": "stream",
     "text": [
      "Setting `pad_token_id` to `eos_token_id`:2 for open-end generation.\n"
     ]
    },
    {
     "name": "stdout",
     "output_type": "stream",
     "text": [
      "Test Output for ID ont_16_city_test_109: isPartOf(Austin, Hays County, Texas)\n",
      "Parsed Triples for ID ont_16_city_test_109: [{'sub': 'Austin', 'rel': 'isPartOf', 'obj': 'Hays County, Texas'}]\n"
     ]
    },
    {
     "name": "stderr",
     "output_type": "stream",
     "text": [
      "Setting `pad_token_id` to `eos_token_id`:2 for open-end generation.\n"
     ]
    },
    {
     "name": "stdout",
     "output_type": "stream",
     "text": [
      "Test Output for ID ont_16_city_test_110: (Note: I'm not sure about the 'one of its cities' part, but I'll provide a possible solution.)\n",
      "Parsed Triples for ID ont_16_city_test_110: []\n"
     ]
    },
    {
     "name": "stderr",
     "output_type": "stream",
     "text": [
      "Setting `pad_token_id` to `eos_token_id`:2 for open-end generation.\n"
     ]
    },
    {
     "name": "stdout",
     "output_type": "stream",
     "text": [
      "Test Output for ID ont_16_city_test_111: areaOfLand(Austin, Texas, 686.0 (square kilometres))\n",
      "Parsed Triples for ID ont_16_city_test_111: [{'sub': 'Austin', 'rel': 'areaOfLand', 'obj': 'Texas, 686.0 (square kilometres'}]\n"
     ]
    },
    {
     "name": "stderr",
     "output_type": "stream",
     "text": [
      "Setting `pad_token_id` to `eos_token_id`:2 for open-end generation.\n"
     ]
    },
    {
     "name": "stdout",
     "output_type": "stream",
     "text": [
      "Test Output for ID ont_16_city_test_112: isPartOf(Antioch, Contra Costa County, California)\n",
      "Parsed Triples for ID ont_16_city_test_112: [{'sub': 'Antioch', 'rel': 'isPartOf', 'obj': 'Contra Costa County, California'}]\n"
     ]
    },
    {
     "name": "stderr",
     "output_type": "stream",
     "text": [
      "Setting `pad_token_id` to `eos_token_id`:2 for open-end generation.\n"
     ]
    },
    {
     "name": "stdout",
     "output_type": "stream",
     "text": [
      "Test Output for ID ont_16_city_test_113: country(Alpharetta, Georgia, United States)\n",
      "Parsed Triples for ID ont_16_city_test_113: [{'sub': 'Alpharetta', 'rel': 'country', 'obj': 'Georgia, United States'}]\n"
     ]
    },
    {
     "name": "stderr",
     "output_type": "stream",
     "text": [
      "Setting `pad_token_id` to `eos_token_id`:2 for open-end generation.\n"
     ]
    },
    {
     "name": "stdout",
     "output_type": "stream",
     "text": [
      "Test Output for ID ont_16_city_test_114: (Note: The state is not explicitly mentioned in the sentence, but it is implied that the state is Georgia.)\n",
      "Parsed Triples for ID ont_16_city_test_114: []\n"
     ]
    },
    {
     "name": "stderr",
     "output_type": "stream",
     "text": [
      "Setting `pad_token_id` to `eos_token_id`:2 for open-end generation.\n"
     ]
    },
    {
     "name": "stdout",
     "output_type": "stream",
     "text": [
      "Test Output for ID ont_16_city_test_115: country(Alpharetta, Georgia, U.S.)\n",
      "Parsed Triples for ID ont_16_city_test_115: [{'sub': 'Alpharetta', 'rel': 'country', 'obj': 'Georgia, U.S.'}]\n"
     ]
    },
    {
     "name": "stderr",
     "output_type": "stream",
     "text": [
      "Setting `pad_token_id` to `eos_token_id`:2 for open-end generation.\n"
     ]
    },
    {
     "name": "stdout",
     "output_type": "stream",
     "text": [
      "Test Output for ID ont_16_city_test_116: (Note: The ontology does not have a relation for 'home' or 'where you will find'. So, we can't extract any triples from this sentence according to the given ontology.)\n",
      "Parsed Triples for ID ont_16_city_test_116: []\n"
     ]
    },
    {
     "name": "stderr",
     "output_type": "stream",
     "text": [
      "Setting `pad_token_id` to `eos_token_id`:2 for open-end generation.\n"
     ]
    },
    {
     "name": "stdout",
     "output_type": "stream",
     "text": [
      "Test Output for ID ont_16_city_test_117: isPartOf(Alexandria, Madison County, Indiana)\n",
      "Parsed Triples for ID ont_16_city_test_117: [{'sub': 'Alexandria', 'rel': 'isPartOf', 'obj': 'Madison County, Indiana'}]\n"
     ]
    },
    {
     "name": "stderr",
     "output_type": "stream",
     "text": [
      "Setting `pad_token_id` to `eos_token_id`:2 for open-end generation.\n"
     ]
    },
    {
     "name": "stdout",
     "output_type": "stream",
     "text": [
      "Test Output for ID ont_16_city_test_118: isPartOf(Alexandria, Madison County, Monroe Township)\n",
      "Parsed Triples for ID ont_16_city_test_118: [{'sub': 'Alexandria', 'rel': 'isPartOf', 'obj': 'Madison County, Monroe Township'}]\n"
     ]
    },
    {
     "name": "stderr",
     "output_type": "stream",
     "text": [
      "Setting `pad_token_id` to `eos_token_id`:2 for open-end generation.\n"
     ]
    },
    {
     "name": "stdout",
     "output_type": "stream",
     "text": [
      "Test Output for ID ont_16_city_test_119: (Note: The output is in the format of a list of triples)\n",
      "Parsed Triples for ID ont_16_city_test_119: []\n"
     ]
    },
    {
     "name": "stderr",
     "output_type": "stream",
     "text": [
      "Setting `pad_token_id` to `eos_token_id`:2 for open-end generation.\n"
     ]
    },
    {
     "name": "stdout",
     "output_type": "stream",
     "text": [
      "Test Output for ID ont_16_city_test_120: isPartOf(Angola, Indiana)\n",
      "Parsed Triples for ID ont_16_city_test_120: [{'sub': 'Angola', 'rel': 'isPartOf', 'obj': 'Indiana'}]\n"
     ]
    },
    {
     "name": "stderr",
     "output_type": "stream",
     "text": [
      "Setting `pad_token_id` to `eos_token_id`:2 for open-end generation.\n"
     ]
    },
    {
     "name": "stdout",
     "output_type": "stream",
     "text": [
      "Test Output for ID ont_16_city_test_121: isPartOf(Alexandria, Madison County, Indiana, Monroe Township)\n",
      "Parsed Triples for ID ont_16_city_test_121: [{'sub': 'Alexandria', 'rel': 'isPartOf', 'obj': 'Madison County, Indiana, Monroe Township'}]\n"
     ]
    },
    {
     "name": "stderr",
     "output_type": "stream",
     "text": [
      "Setting `pad_token_id` to `eos_token_id`:2 for open-end generation.\n"
     ]
    },
    {
     "name": "stdout",
     "output_type": "stream",
     "text": [
      "Test Output for ID ont_16_city_test_122: isPartOf(Alexandria, Madison County, Monroe Township, Indiana)\n",
      "Parsed Triples for ID ont_16_city_test_122: [{'sub': 'Alexandria', 'rel': 'isPartOf', 'obj': 'Madison County, Monroe Township, Indiana'}]\n"
     ]
    },
    {
     "name": "stderr",
     "output_type": "stream",
     "text": [
      "Setting `pad_token_id` to `eos_token_id`:2 for open-end generation.\n"
     ]
    },
    {
     "name": "stdout",
     "output_type": "stream",
     "text": [
      "Test Output for ID ont_16_city_test_123: isPartOf(Anderson, Madison County, Indiana, Adams Fall Creek)\n",
      "Parsed Triples for ID ont_16_city_test_123: [{'sub': 'Anderson', 'rel': 'isPartOf', 'obj': 'Madison County, Indiana, Adams Fall Creek'}]\n"
     ]
    },
    {
     "name": "stderr",
     "output_type": "stream",
     "text": [
      "Setting `pad_token_id` to `eos_token_id`:2 for open-end generation.\n"
     ]
    },
    {
     "name": "stdout",
     "output_type": "stream",
     "text": [
      "Test Output for ID ont_16_city_test_124: isPartOf(Anderson, Madison County, Indiana)\n",
      "Parsed Triples for ID ont_16_city_test_124: [{'sub': 'Anderson', 'rel': 'isPartOf', 'obj': 'Madison County, Indiana'}]\n"
     ]
    },
    {
     "name": "stderr",
     "output_type": "stream",
     "text": [
      "Setting `pad_token_id` to `eos_token_id`:2 for open-end generation.\n"
     ]
    },
    {
     "name": "stdout",
     "output_type": "stream",
     "text": [
      "Test Output for ID ont_16_city_test_125: (Note: The output is in the format of the example output)\n",
      "Parsed Triples for ID ont_16_city_test_125: []\n"
     ]
    },
    {
     "name": "stderr",
     "output_type": "stream",
     "text": [
      "Setting `pad_token_id` to `eos_token_id`:2 for open-end generation.\n"
     ]
    },
    {
     "name": "stdout",
     "output_type": "stream",
     "text": [
      "Test Output for ID ont_16_city_test_126: largestCity(New Jersey, New York)\n",
      "Parsed Triples for ID ont_16_city_test_126: [{'sub': 'New Jersey', 'rel': 'largestCity', 'obj': 'New York'}]\n"
     ]
    },
    {
     "name": "stderr",
     "output_type": "stream",
     "text": [
      "Setting `pad_token_id` to `eos_token_id`:2 for open-end generation.\n"
     ]
    },
    {
     "name": "stdout",
     "output_type": "stream",
     "text": [
      "Test Output for ID ont_16_city_test_127: isPartOf(Arlington, Tarrant County, Texas)\n",
      "Parsed Triples for ID ont_16_city_test_127: [{'sub': 'Arlington', 'rel': 'isPartOf', 'obj': 'Tarrant County, Texas'}]\n"
     ]
    },
    {
     "name": "stderr",
     "output_type": "stream",
     "text": [
      "Setting `pad_token_id` to `eos_token_id`:2 for open-end generation.\n"
     ]
    },
    {
     "name": "stdout",
     "output_type": "stream",
     "text": [
      "Test Output for ID ont_16_city_test_128: isPartOf(Arlington, Texas, United States)\n",
      "Parsed Triples for ID ont_16_city_test_128: [{'sub': 'Arlington', 'rel': 'isPartOf', 'obj': 'Texas, United States'}]\n"
     ]
    },
    {
     "name": "stderr",
     "output_type": "stream",
     "text": [
      "Setting `pad_token_id` to `eos_token_id`:2 for open-end generation.\n"
     ]
    },
    {
     "name": "stdout",
     "output_type": "stream",
     "text": [
      "Test Output for ID ont_16_city_test_129: (Note: The country is not explicitly mentioned in the sentence, so it is not included in the output.)\n",
      "Parsed Triples for ID ont_16_city_test_129: []\n"
     ]
    },
    {
     "name": "stderr",
     "output_type": "stream",
     "text": [
      "Setting `pad_token_id` to `eos_token_id`:2 for open-end generation.\n"
     ]
    },
    {
     "name": "stdout",
     "output_type": "stream",
     "text": [
      "Test Output for ID ont_16_city_test_130: isPartOf(Arlington, Texas, Texas)\n",
      "Parsed Triples for ID ont_16_city_test_130: [{'sub': 'Arlington', 'rel': 'isPartOf', 'obj': 'Texas, Texas'}]\n"
     ]
    },
    {
     "name": "stderr",
     "output_type": "stream",
     "text": [
      "Setting `pad_token_id` to `eos_token_id`:2 for open-end generation.\n"
     ]
    },
    {
     "name": "stdout",
     "output_type": "stream",
     "text": [
      "Test Output for ID ont_16_city_test_131: isPartOf(Arlington, Texas, Texas)\n",
      "Parsed Triples for ID ont_16_city_test_131: [{'sub': 'Arlington', 'rel': 'isPartOf', 'obj': 'Texas, Texas'}]\n"
     ]
    },
    {
     "name": "stderr",
     "output_type": "stream",
     "text": [
      "Setting `pad_token_id` to `eos_token_id`:2 for open-end generation.\n"
     ]
    },
    {
     "name": "stdout",
     "output_type": "stream",
     "text": [
      "Test Output for ID ont_16_city_test_132: isPartOf(Arlington, Texas, Texas)\n",
      "Parsed Triples for ID ont_16_city_test_132: [{'sub': 'Arlington', 'rel': 'isPartOf', 'obj': 'Texas, Texas'}]\n"
     ]
    },
    {
     "name": "stderr",
     "output_type": "stream",
     "text": [
      "Setting `pad_token_id` to `eos_token_id`:2 for open-end generation.\n"
     ]
    },
    {
     "name": "stdout",
     "output_type": "stream",
     "text": [
      "Test Output for ID ont_16_city_test_133: isPartOf(Arlington, Texas, Texas)\n",
      "Parsed Triples for ID ont_16_city_test_133: [{'sub': 'Arlington', 'rel': 'isPartOf', 'obj': 'Texas, Texas'}]\n"
     ]
    },
    {
     "name": "stderr",
     "output_type": "stream",
     "text": [
      "Setting `pad_token_id` to `eos_token_id`:2 for open-end generation.\n"
     ]
    },
    {
     "name": "stdout",
     "output_type": "stream",
     "text": [
      "Test Output for ID ont_16_city_test_134: isPartOf(Abilene, Jones County, Texas)\n",
      "Parsed Triples for ID ont_16_city_test_134: [{'sub': 'Abilene', 'rel': 'isPartOf', 'obj': 'Jones County, Texas'}]\n"
     ]
    },
    {
     "name": "stderr",
     "output_type": "stream",
     "text": [
      "Setting `pad_token_id` to `eos_token_id`:2 for open-end generation.\n"
     ]
    },
    {
     "name": "stdout",
     "output_type": "stream",
     "text": [
      "Test Output for ID ont_16_city_test_135: (Note: The output is in the format: relation(subject, object, object2))\n",
      "Parsed Triples for ID ont_16_city_test_135: [{'sub': 'subject', 'rel': '(Note: The output is in the format: relation', 'obj': 'object, object2'}]\n"
     ]
    },
    {
     "name": "stderr",
     "output_type": "stream",
     "text": [
      "Setting `pad_token_id` to `eos_token_id`:2 for open-end generation.\n"
     ]
    },
    {
     "name": "stdout",
     "output_type": "stream",
     "text": [
      "Test Output for ID ont_16_city_test_136: (Note: The test sentence does not contain information about ethnic group, leader, government type, language, state, timezone, or population density, so the output will not include triples for those concepts.)\n",
      "Parsed Triples for ID ont_16_city_test_136: []\n"
     ]
    },
    {
     "name": "stderr",
     "output_type": "stream",
     "text": [
      "Setting `pad_token_id` to `eos_token_id`:2 for open-end generation.\n"
     ]
    },
    {
     "name": "stdout",
     "output_type": "stream",
     "text": [
      "Test Output for ID ont_16_city_test_137: (Note: The country is inferred as the U.S. from the sentence)\n",
      "Parsed Triples for ID ont_16_city_test_137: []\n"
     ]
    },
    {
     "name": "stderr",
     "output_type": "stream",
     "text": [
      "Setting `pad_token_id` to `eos_token_id`:2 for open-end generation.\n"
     ]
    },
    {
     "name": "stdout",
     "output_type": "stream",
     "text": [
      "Test Output for ID ont_16_city_test_138: isPartOf(Albany, Oregon, Linn County, Oregon)\n",
      "Parsed Triples for ID ont_16_city_test_138: [{'sub': 'Albany', 'rel': 'isPartOf', 'obj': 'Oregon, Linn County, Oregon'}]\n"
     ]
    },
    {
     "name": "stderr",
     "output_type": "stream",
     "text": [
      "Setting `pad_token_id` to `eos_token_id`:2 for open-end generation.\n"
     ]
    },
    {
     "name": "stdout",
     "output_type": "stream",
     "text": [
      "Test Output for ID ont_16_city_test_139: (Note: I'm assuming that \"Washington D.C.\" is a city, \"United States\" is a country, \"Albany\" is a city, \"Oregon\" is a state, and \"African Americans\" is an ethnic group.)\n",
      "Parsed Triples for ID ont_16_city_test_139: []\n"
     ]
    },
    {
     "name": "stderr",
     "output_type": "stream",
     "text": [
      "Setting `pad_token_id` to `eos_token_id`:2 for open-end generation.\n"
     ]
    },
    {
     "name": "stdout",
     "output_type": "stream",
     "text": [
      "Test Output for ID ont_16_city_test_140: (Note: The country, state, and timezone are not explicitly mentioned in the sentence, so they are not included in the output.)\n",
      "Parsed Triples for ID ont_16_city_test_140: []\n"
     ]
    },
    {
     "name": "stderr",
     "output_type": "stream",
     "text": [
      "Setting `pad_token_id` to `eos_token_id`:2 for open-end generation.\n"
     ]
    },
    {
     "name": "stdout",
     "output_type": "stream",
     "text": [
      "Test Output for ID ont_16_city_test_141: isPartOf(Albany, Benton County, Oregon)\n",
      "Parsed Triples for ID ont_16_city_test_141: [{'sub': 'Albany', 'rel': 'isPartOf', 'obj': 'Benton County, Oregon'}]\n"
     ]
    },
    {
     "name": "stderr",
     "output_type": "stream",
     "text": [
      "Setting `pad_token_id` to `eos_token_id`:2 for open-end generation.\n"
     ]
    },
    {
     "name": "stdout",
     "output_type": "stream",
     "text": [
      "Test Output for ID ont_16_city_test_142: (Note: The country is already inferred from the city being in the US, so it is not included in the output)\n",
      "Parsed Triples for ID ont_16_city_test_142: []\n"
     ]
    },
    {
     "name": "stderr",
     "output_type": "stream",
     "text": [
      "Setting `pad_token_id` to `eos_token_id`:2 for open-end generation.\n"
     ]
    },
    {
     "name": "stdout",
     "output_type": "stream",
     "text": [
      "Test Output for ID ont_16_city_test_143: isPartOf(Amarillo, Texas, United States)\n",
      "Parsed Triples for ID ont_16_city_test_143: [{'sub': 'Amarillo', 'rel': 'isPartOf', 'obj': 'Texas, United States'}]\n"
     ]
    },
    {
     "name": "stderr",
     "output_type": "stream",
     "text": [
      "Setting `pad_token_id` to `eos_token_id`:2 for open-end generation.\n"
     ]
    },
    {
     "name": "stdout",
     "output_type": "stream",
     "text": [
      "Test Output for ID ont_16_city_test_144: (Note: The country is the United States, and the ethnic group is Native Americans)\n",
      "Parsed Triples for ID ont_16_city_test_144: []\n"
     ]
    },
    {
     "name": "stderr",
     "output_type": "stream",
     "text": [
      "Setting `pad_token_id` to `eos_token_id`:2 for open-end generation.\n"
     ]
    },
    {
     "name": "stdout",
     "output_type": "stream",
     "text": [
      "Test Output for ID ont_16_city_test_145: (Note: The Demonym for New Jersey is \"New Jerseyan\" and the capital of the United States is Washington, D.C.)\n",
      "Parsed Triples for ID ont_16_city_test_145: []\n"
     ]
    },
    {
     "name": "stderr",
     "output_type": "stream",
     "text": [
      "Setting `pad_token_id` to `eos_token_id`:2 for open-end generation.\n"
     ]
    },
    {
     "name": "stdout",
     "output_type": "stream",
     "text": [
      "Test Output for ID ont_16_city_test_146: (Note: The ontology does not have a concept for the country of the United States, so we will use the concept of the state of Indiana instead.)\n",
      "Parsed Triples for ID ont_16_city_test_146: []\n"
     ]
    },
    {
     "name": "stderr",
     "output_type": "stream",
     "text": [
      "Setting `pad_token_id` to `eos_token_id`:2 for open-end generation.\n"
     ]
    },
    {
     "name": "stdout",
     "output_type": "stream",
     "text": [
      "Test Output for ID ont_16_city_test_147: isPartOf(Attica, Logan Township, Fountain County, Indiana, Indiana)\n",
      "Parsed Triples for ID ont_16_city_test_147: [{'sub': 'Attica', 'rel': 'isPartOf', 'obj': 'Logan Township, Fountain County, Indiana, Indiana'}]\n"
     ]
    },
    {
     "name": "stderr",
     "output_type": "stream",
     "text": [
      "Setting `pad_token_id` to `eos_token_id`:2 for open-end generation.\n"
     ]
    },
    {
     "name": "stdout",
     "output_type": "stream",
     "text": [
      "Test Output for ID ont_16_city_test_148: isPartOf(Attica, Indiana, Fountain County, Indiana, United States)\n",
      "Parsed Triples for ID ont_16_city_test_148: [{'sub': 'Attica', 'rel': 'isPartOf', 'obj': 'Indiana, Fountain County, Indiana, United States'}]\n"
     ]
    },
    {
     "name": "stderr",
     "output_type": "stream",
     "text": [
      "Setting `pad_token_id` to `eos_token_id`:2 for open-end generation.\n"
     ]
    },
    {
     "name": "stdout",
     "output_type": "stream",
     "text": [
      "Test Output for ID ont_16_city_test_149: (Note: The country is the United States, but it is not explicitly mentioned in the sentence)\n",
      "Parsed Triples for ID ont_16_city_test_149: []\n"
     ]
    },
    {
     "name": "stderr",
     "output_type": "stream",
     "text": [
      "Setting `pad_token_id` to `eos_token_id`:2 for open-end generation.\n"
     ]
    },
    {
     "name": "stdout",
     "output_type": "stream",
     "text": [
      "Test Output for ID ont_16_city_test_150: (Note: The output is in the format: relation(subject, object, object2))\n",
      "Parsed Triples for ID ont_16_city_test_150: [{'sub': 'subject', 'rel': '(Note: The output is in the format: relation', 'obj': 'object, object2'}]\n"
     ]
    },
    {
     "name": "stderr",
     "output_type": "stream",
     "text": [
      "Setting `pad_token_id` to `eos_token_id`:2 for open-end generation.\n"
     ]
    },
    {
     "name": "stdout",
     "output_type": "stream",
     "text": [
      "Test Output for ID ont_16_city_test_151: isPartOf(Albuquerque, New Mexico, United States)\n",
      "Parsed Triples for ID ont_16_city_test_151: [{'sub': 'Albuquerque', 'rel': 'isPartOf', 'obj': 'New Mexico, United States'}]\n"
     ]
    },
    {
     "name": "stderr",
     "output_type": "stream",
     "text": [
      "Setting `pad_token_id` to `eos_token_id`:2 for open-end generation.\n"
     ]
    },
    {
     "name": "stdout",
     "output_type": "stream",
     "text": [
      "Test Output for ID ont_16_city_test_152: (Note: The test sentence is a bit complex, so I've broken it down into two parts for easier understanding.)\n",
      "Parsed Triples for ID ont_16_city_test_152: []\n"
     ]
    },
    {
     "name": "stderr",
     "output_type": "stream",
     "text": [
      "Setting `pad_token_id` to `eos_token_id`:2 for open-end generation.\n"
     ]
    },
    {
     "name": "stdout",
     "output_type": "stream",
     "text": [
      "Test Output for ID ont_16_city_test_153: ethnicGroup(United States, African Americans)\n",
      "Parsed Triples for ID ont_16_city_test_153: [{'sub': 'United States', 'rel': 'ethnicGroup', 'obj': 'African Americans'}]\n"
     ]
    },
    {
     "name": "stderr",
     "output_type": "stream",
     "text": [
      "Setting `pad_token_id` to `eos_token_id`:2 for open-end generation.\n"
     ]
    },
    {
     "name": "stdout",
     "output_type": "stream",
     "text": [
      "Test Output for ID ont_16_city_test_154: (Note: The sentence is a bit complex, so I've broken it down into two parts for easier understanding.)\n",
      "Parsed Triples for ID ont_16_city_test_154: []\n"
     ]
    },
    {
     "name": "stderr",
     "output_type": "stream",
     "text": [
      "Setting `pad_token_id` to `eos_token_id`:2 for open-end generation.\n"
     ]
    },
    {
     "name": "stdout",
     "output_type": "stream",
     "text": [
      "Test Output for ID ont_16_city_test_155: (Note: Angola is a city in Indiana)\n",
      "Parsed Triples for ID ont_16_city_test_155: []\n"
     ]
    },
    {
     "name": "stderr",
     "output_type": "stream",
     "text": [
      "Setting `pad_token_id` to `eos_token_id`:2 for open-end generation.\n"
     ]
    },
    {
     "name": "stdout",
     "output_type": "stream",
     "text": [
      "Test Output for ID ont_16_city_test_156: (Note: Person is not explicitly mentioned in the ontology, but it is assumed that a person is the leader of the country)\n",
      "Parsed Triples for ID ont_16_city_test_156: []\n"
     ]
    },
    {
     "name": "stderr",
     "output_type": "stream",
     "text": [
      "Setting `pad_token_id` to `eos_token_id`:2 for open-end generation.\n"
     ]
    },
    {
     "name": "stdout",
     "output_type": "stream",
     "text": [
      "Test Output for ID ont_16_city_test_157: (Note: The country name is not explicitly mentioned in the sentence, but it can be inferred from the context.)\n",
      "Parsed Triples for ID ont_16_city_test_157: []\n"
     ]
    },
    {
     "name": "stderr",
     "output_type": "stream",
     "text": [
      "Setting `pad_token_id` to `eos_token_id`:2 for open-end generation.\n"
     ]
    },
    {
     "name": "stdout",
     "output_type": "stream",
     "text": [
      "Test Output for ID ont_16_city_test_158: (Note: The country is not explicitly mentioned in the sentence, but it is inferred from the state.)\n",
      "Parsed Triples for ID ont_16_city_test_158: []\n"
     ]
    },
    {
     "name": "stderr",
     "output_type": "stream",
     "text": [
      "Setting `pad_token_id` to `eos_token_id`:2 for open-end generation.\n"
     ]
    },
    {
     "name": "stdout",
     "output_type": "stream",
     "text": [
      "Test Output for ID ont_16_city_test_159: country(Oregon, United States)\n",
      "Parsed Triples for ID ont_16_city_test_159: [{'sub': 'Oregon', 'rel': 'country', 'obj': 'United States'}]\n"
     ]
    },
    {
     "name": "stderr",
     "output_type": "stream",
     "text": [
      "Setting `pad_token_id` to `eos_token_id`:2 for open-end generation.\n"
     ]
    },
    {
     "name": "stdout",
     "output_type": "stream",
     "text": [
      "Test Output for ID ont_16_city_test_160: country(Oregon, United States)\n",
      "Parsed Triples for ID ont_16_city_test_160: [{'sub': 'Oregon', 'rel': 'country', 'obj': 'United States'}]\n"
     ]
    },
    {
     "name": "stderr",
     "output_type": "stream",
     "text": [
      "Setting `pad_token_id` to `eos_token_id`:2 for open-end generation.\n"
     ]
    },
    {
     "name": "stdout",
     "output_type": "stream",
     "text": [
      "Test Output for ID ont_16_city_test_161: leader(Austin, City Manager)\n",
      "Parsed Triples for ID ont_16_city_test_161: [{'sub': 'Austin', 'rel': 'leader', 'obj': 'City Manager'}]\n"
     ]
    },
    {
     "name": "stderr",
     "output_type": "stream",
     "text": [
      "Setting `pad_token_id` to `eos_token_id`:2 for open-end generation.\n"
     ]
    },
    {
     "name": "stdout",
     "output_type": "stream",
     "text": [
      "Test Output for ID ont_16_city_test_162: (Note: I'm not sure about the location of Austin, Texas, but I'll assume it's a city.)\n",
      "Parsed Triples for ID ont_16_city_test_162: []\n"
     ]
    },
    {
     "name": "stderr",
     "output_type": "stream",
     "text": [
      "Setting `pad_token_id` to `eos_token_id`:2 for open-end generation.\n"
     ]
    },
    {
     "name": "stdout",
     "output_type": "stream",
     "text": [
      "Test Output for ID ont_16_city_test_163: (Note: The output is in the format of triple, where the first element is the subject, the second element is the relation, and the third element is the object)\n",
      "Parsed Triples for ID ont_16_city_test_163: []\n"
     ]
    },
    {
     "name": "stderr",
     "output_type": "stream",
     "text": [
      "Setting `pad_token_id` to `eos_token_id`:2 for open-end generation.\n"
     ]
    },
    {
     "name": "stdout",
     "output_type": "stream",
     "text": [
      "Test Output for ID ont_16_city_test_164: (Note: The ontology does not have a specific relation for 'contain' for ethnic groups, so we will use 'ethnicGroup' instead)\n",
      "Parsed Triples for ID ont_16_city_test_164: []\n"
     ]
    },
    {
     "name": "stderr",
     "output_type": "stream",
     "text": [
      "Setting `pad_token_id` to `eos_token_id`:2 for open-end generation.\n"
     ]
    },
    {
     "name": "stdout",
     "output_type": "stream",
     "text": [
      "Test Output for ID ont_16_city_test_165: country(Akron, Ohio)\n",
      "Parsed Triples for ID ont_16_city_test_165: [{'sub': 'Akron', 'rel': 'country', 'obj': 'Ohio'}]\n"
     ]
    },
    {
     "name": "stderr",
     "output_type": "stream",
     "text": [
      "Setting `pad_token_id` to `eos_token_id`:2 for open-end generation.\n"
     ]
    },
    {
     "name": "stdout",
     "output_type": "stream",
     "text": [
      "Test Output for ID ont_16_city_test_166: language(United States, English language)\n",
      "Parsed Triples for ID ont_16_city_test_166: [{'sub': 'United States', 'rel': 'language', 'obj': 'English language'}]\n"
     ]
    },
    {
     "name": "stderr",
     "output_type": "stream",
     "text": [
      "Setting `pad_token_id` to `eos_token_id`:2 for open-end generation.\n"
     ]
    },
    {
     "name": "stdout",
     "output_type": "stream",
     "text": [
      "Test Output for ID ont_16_city_test_167: isPartOf(Albuquerque, New Mexico, United States)\n",
      "Parsed Triples for ID ont_16_city_test_167: [{'sub': 'Albuquerque', 'rel': 'isPartOf', 'obj': 'New Mexico, United States'}]\n"
     ]
    },
    {
     "name": "stderr",
     "output_type": "stream",
     "text": [
      "Setting `pad_token_id` to `eos_token_id`:2 for open-end generation.\n"
     ]
    },
    {
     "name": "stdout",
     "output_type": "stream",
     "text": [
      "Test Output for ID ont_16_city_test_168: country(Albuquerque, New Mexico)\n",
      "Parsed Triples for ID ont_16_city_test_168: [{'sub': 'Albuquerque', 'rel': 'country', 'obj': 'New Mexico'}]\n"
     ]
    },
    {
     "name": "stderr",
     "output_type": "stream",
     "text": [
      "Setting `pad_token_id` to `eos_token_id`:2 for open-end generation.\n"
     ]
    },
    {
     "name": "stdout",
     "output_type": "stream",
     "text": [
      "Test Output for ID ont_16_city_test_169: (Note: The order of the triples is not important)\n",
      "Parsed Triples for ID ont_16_city_test_169: []\n"
     ]
    },
    {
     "name": "stderr",
     "output_type": "stream",
     "text": [
      "Setting `pad_token_id` to `eos_token_id`:2 for open-end generation.\n"
     ]
    },
    {
     "name": "stdout",
     "output_type": "stream",
     "text": [
      "Test Output for ID ont_16_city_test_170: (Note: The test sentence does not contain a city type, so the type relation is not included in the output.)\n",
      "Parsed Triples for ID ont_16_city_test_170: []\n"
     ]
    },
    {
     "name": "stderr",
     "output_type": "stream",
     "text": [
      "Setting `pad_token_id` to `eos_token_id`:2 for open-end generation.\n"
     ]
    },
    {
     "name": "stdout",
     "output_type": "stream",
     "text": [
      "Test Output for ID ont_16_city_test_171: leader(Albuquerque, United States House of Representatives)\n",
      "Parsed Triples for ID ont_16_city_test_171: [{'sub': 'Albuquerque', 'rel': 'leader', 'obj': 'United States House of Representatives'}]\n"
     ]
    },
    {
     "name": "stderr",
     "output_type": "stream",
     "text": [
      "Setting `pad_token_id` to `eos_token_id`:2 for open-end generation.\n"
     ]
    },
    {
     "name": "stdout",
     "output_type": "stream",
     "text": [
      "Test Output for ID ont_16_city_test_172: (Note: The sentence does not contain a specific city, but it does contain a city in the context, so we can infer the location of Auburn, Alabama)\n",
      "Parsed Triples for ID ont_16_city_test_172: []\n"
     ]
    },
    {
     "name": "stderr",
     "output_type": "stream",
     "text": [
      "Setting `pad_token_id` to `eos_token_id`:2 for open-end generation.\n"
     ]
    },
    {
     "name": "stdout",
     "output_type": "stream",
     "text": [
      "Test Output for ID ont_16_city_test_173: (Note: The capital city is not explicitly mentioned in the sentence, but it is known to be Washington D.C. from the context.)\n",
      "Parsed Triples for ID ont_16_city_test_173: []\n"
     ]
    },
    {
     "name": "stderr",
     "output_type": "stream",
     "text": [
      "Setting `pad_token_id` to `eos_token_id`:2 for open-end generation.\n"
     ]
    },
    {
     "name": "stdout",
     "output_type": "stream",
     "text": [
      "Test Output for ID ont_16_city_test_174: demonym(United States, Americans)\n",
      "Parsed Triples for ID ont_16_city_test_174: [{'sub': 'United States', 'rel': 'demonym', 'obj': 'Americans'}]\n"
     ]
    },
    {
     "name": "stderr",
     "output_type": "stream",
     "text": [
      "Setting `pad_token_id` to `eos_token_id`:2 for open-end generation.\n"
     ]
    },
    {
     "name": "stdout",
     "output_type": "stream",
     "text": [
      "Test Output for ID ont_16_city_test_175: isPartOf(Albuquerque, New Mexico, United States)\n",
      "Parsed Triples for ID ont_16_city_test_175: [{'sub': 'Albuquerque', 'rel': 'isPartOf', 'obj': 'New Mexico, United States'}]\n"
     ]
    },
    {
     "name": "stderr",
     "output_type": "stream",
     "text": [
      "Setting `pad_token_id` to `eos_token_id`:2 for open-end generation.\n"
     ]
    },
    {
     "name": "stdout",
     "output_type": "stream",
     "text": [
      "Test Output for ID ont_16_city_test_176: (Note: The test sentence does not contain a city, so the output will only contain the triples related to the country.)\n",
      "Parsed Triples for ID ont_16_city_test_176: []\n"
     ]
    },
    {
     "name": "stderr",
     "output_type": "stream",
     "text": [
      "Setting `pad_token_id` to `eos_token_id`:2 for open-end generation.\n"
     ]
    },
    {
     "name": "stdout",
     "output_type": "stream",
     "text": [
      "Test Output for ID ont_16_city_test_177: (Note: The city Akron is already known, so we don't need to repeat it in the triples)\n",
      "Parsed Triples for ID ont_16_city_test_177: []\n"
     ]
    },
    {
     "name": "stderr",
     "output_type": "stream",
     "text": [
      "Setting `pad_token_id` to `eos_token_id`:2 for open-end generation.\n"
     ]
    },
    {
     "name": "stdout",
     "output_type": "stream",
     "text": [
      "Test Output for ID ont_16_city_test_178: language(United States, English language)\n",
      "Parsed Triples for ID ont_16_city_test_178: [{'sub': 'United States', 'rel': 'language', 'obj': 'English language'}]\n"
     ]
    },
    {
     "name": "stderr",
     "output_type": "stream",
     "text": [
      "Setting `pad_token_id` to `eos_token_id`:2 for open-end generation.\n"
     ]
    },
    {
     "name": "stdout",
     "output_type": "stream",
     "text": [
      "Test Output for ID ont_16_city_test_179: (Note: The city of Albany is in the state of Oregon, but we don't have the state concept in the ontology, so we can't extract the isPartOf(Albany, Oregon) relation.)\n",
      "Parsed Triples for ID ont_16_city_test_179: [{'sub': 'Albany', 'rel': \"(Note: The city of Albany is in the state of Oregon, but we don't have the state concept in the ontology, so we can't extract the isPartOf\", 'obj': 'Oregon'}]\n"
     ]
    },
    {
     "name": "stderr",
     "output_type": "stream",
     "text": [
      "Setting `pad_token_id` to `eos_token_id`:2 for open-end generation.\n"
     ]
    },
    {
     "name": "stdout",
     "output_type": "stream",
     "text": [
      "Test Output for ID ont_16_city_test_180: isPartOf(Albany, Oregon, United States)\n",
      "Parsed Triples for ID ont_16_city_test_180: [{'sub': 'Albany', 'rel': 'isPartOf', 'obj': 'Oregon, United States'}]\n"
     ]
    },
    {
     "name": "stderr",
     "output_type": "stream",
     "text": [
      "Setting `pad_token_id` to `eos_token_id`:2 for open-end generation.\n"
     ]
    },
    {
     "name": "stdout",
     "output_type": "stream",
     "text": [
      "Test Output for ID ont_16_city_test_181: country(Akron, Ohio)\n",
      "Parsed Triples for ID ont_16_city_test_181: [{'sub': 'Akron', 'rel': 'country', 'obj': 'Ohio'}]\n"
     ]
    },
    {
     "name": "stderr",
     "output_type": "stream",
     "text": [
      "Setting `pad_token_id` to `eos_token_id`:2 for open-end generation.\n"
     ]
    },
    {
     "name": "stdout",
     "output_type": "stream",
     "text": [
      "Test Output for ID ont_16_city_test_182: isPartOf(Angola, Indiana, United States)\n",
      "Parsed Triples for ID ont_16_city_test_182: [{'sub': 'Angola', 'rel': 'isPartOf', 'obj': 'Indiana, United States'}]\n"
     ]
    },
    {
     "name": "stderr",
     "output_type": "stream",
     "text": [
      "Setting `pad_token_id` to `eos_token_id`:2 for open-end generation.\n"
     ]
    },
    {
     "name": "stdout",
     "output_type": "stream",
     "text": [
      "Test Output for ID ont_16_city_test_183: leader(Albuquerque, New Mexico, United States House of Representatives)\n",
      "Parsed Triples for ID ont_16_city_test_183: [{'sub': 'Albuquerque', 'rel': 'leader', 'obj': 'New Mexico, United States House of Representatives'}]\n"
     ]
    },
    {
     "name": "stderr",
     "output_type": "stream",
     "text": [
      "Setting `pad_token_id` to `eos_token_id`:2 for open-end generation.\n"
     ]
    },
    {
     "name": "stdout",
     "output_type": "stream",
     "text": [
      "Test Output for ID ont_16_city_test_184: (Note: I'm assuming that \"Austin, Texas\" is a shorthand for \"Austin\" as a city in Texas state)\n",
      "Parsed Triples for ID ont_16_city_test_184: []\n"
     ]
    },
    {
     "name": "stderr",
     "output_type": "stream",
     "text": [
      "Setting `pad_token_id` to `eos_token_id`:2 for open-end generation.\n"
     ]
    },
    {
     "name": "stdout",
     "output_type": "stream",
     "text": [
      "Test Output for ID ont_16_city_test_185: isPartOf(Austin, Texas, Texas)\n",
      "Parsed Triples for ID ont_16_city_test_185: [{'sub': 'Austin', 'rel': 'isPartOf', 'obj': 'Texas, Texas'}]\n"
     ]
    },
    {
     "name": "stderr",
     "output_type": "stream",
     "text": [
      "Setting `pad_token_id` to `eos_token_id`:2 for open-end generation.\n"
     ]
    },
    {
     "name": "stdout",
     "output_type": "stream",
     "text": [
      "Test Output for ID ont_16_city_test_186: isPartOf(Anaheim, California, California)\n",
      "Parsed Triples for ID ont_16_city_test_186: [{'sub': 'Anaheim', 'rel': 'isPartOf', 'obj': 'California, California'}]\n"
     ]
    },
    {
     "name": "stderr",
     "output_type": "stream",
     "text": [
      "Setting `pad_token_id` to `eos_token_id`:2 for open-end generation.\n"
     ]
    },
    {
     "name": "stdout",
     "output_type": "stream",
     "text": [
      "Test Output for ID ont_16_city_test_187: (Note: The output is in the format: relation(subject, object, object_type))\n",
      "Parsed Triples for ID ont_16_city_test_187: [{'sub': 'subject', 'rel': '(Note: The output is in the format: relation', 'obj': 'object, object_type'}]\n"
     ]
    },
    {
     "name": "stderr",
     "output_type": "stream",
     "text": [
      "Setting `pad_token_id` to `eos_token_id`:2 for open-end generation.\n"
     ]
    },
    {
     "name": "stdout",
     "output_type": "stream",
     "text": [
      "Test Output for ID ont_16_city_test_188: elevationAboveTheSeaLevel(Abilene, Texas, 524.0)\n",
      "Parsed Triples for ID ont_16_city_test_188: [{'sub': 'Abilene', 'rel': 'elevationAboveTheSeaLevel', 'obj': 'Texas, 524.0'}]\n"
     ]
    },
    {
     "name": "stderr",
     "output_type": "stream",
     "text": [
      "Setting `pad_token_id` to `eos_token_id`:2 for open-end generation.\n"
     ]
    },
    {
     "name": "stdout",
     "output_type": "stream",
     "text": [
      "Test Output for ID ont_16_city_test_189: (Note: The Demonym for the United States is \"American\" and the GovernmentType is \"Federal Republic\")\n",
      "Parsed Triples for ID ont_16_city_test_189: []\n"
     ]
    },
    {
     "name": "stderr",
     "output_type": "stream",
     "text": [
      "Setting `pad_token_id` to `eos_token_id`:2 for open-end generation.\n"
     ]
    },
    {
     "name": "stdout",
     "output_type": "stream",
     "text": [
      "Test Output for ID ont_16_city_test_190: isPartOf(Albany, Dougherty County, Georgia)\n",
      "Parsed Triples for ID ont_16_city_test_190: [{'sub': 'Albany', 'rel': 'isPartOf', 'obj': 'Dougherty County, Georgia'}]\n"
     ]
    },
    {
     "name": "stderr",
     "output_type": "stream",
     "text": [
      "Setting `pad_token_id` to `eos_token_id`:2 for open-end generation.\n"
     ]
    },
    {
     "name": "stdout",
     "output_type": "stream",
     "text": [
      "Test Output for ID ont_16_city_test_191: isPartOf(Albany, Oregon, Linn County, Oregon)\n",
      "Parsed Triples for ID ont_16_city_test_191: [{'sub': 'Albany', 'rel': 'isPartOf', 'obj': 'Oregon, Linn County, Oregon'}]\n"
     ]
    },
    {
     "name": "stderr",
     "output_type": "stream",
     "text": [
      "Setting `pad_token_id` to `eos_token_id`:2 for open-end generation.\n"
     ]
    },
    {
     "name": "stdout",
     "output_type": "stream",
     "text": [
      "Test Output for ID ont_16_city_test_192: leader(Albuquerque, New Mexico, Don Tripp)\n",
      "Parsed Triples for ID ont_16_city_test_192: [{'sub': 'Albuquerque', 'rel': 'leader', 'obj': 'New Mexico, Don Tripp'}]\n"
     ]
    },
    {
     "name": "stderr",
     "output_type": "stream",
     "text": [
      "Setting `pad_token_id` to `eos_token_id`:2 for open-end generation.\n"
     ]
    },
    {
     "name": "stdout",
     "output_type": "stream",
     "text": [
      "Test Output for ID ont_16_city_test_193: leaderTitle(Albuquerque, Albuquerque City Council)\n",
      "Parsed Triples for ID ont_16_city_test_193: [{'sub': 'Albuquerque', 'rel': 'leaderTitle', 'obj': 'Albuquerque City Council'}]\n"
     ]
    },
    {
     "name": "stderr",
     "output_type": "stream",
     "text": [
      "Setting `pad_token_id` to `eos_token_id`:2 for open-end generation.\n"
     ]
    },
    {
     "name": "stdout",
     "output_type": "stream",
     "text": [
      "Test Output for ID ont_16_city_test_194: (Note: The country is inferred as the U.S. from the sentence)\n",
      "Parsed Triples for ID ont_16_city_test_194: []\n"
     ]
    },
    {
     "name": "stderr",
     "output_type": "stream",
     "text": [
      "Setting `pad_token_id` to `eos_token_id`:2 for open-end generation.\n"
     ]
    },
    {
     "name": "stdout",
     "output_type": "stream",
     "text": [
      "Test Output for ID ont_16_city_test_195: (Note: I'm assuming that the sentence means that Amarillo is part of both Potter County and Randall County)\n",
      "Parsed Triples for ID ont_16_city_test_195: []\n"
     ]
    },
    {
     "name": "stderr",
     "output_type": "stream",
     "text": [
      "Setting `pad_token_id` to `eos_token_id`:2 for open-end generation.\n"
     ]
    },
    {
     "name": "stdout",
     "output_type": "stream",
     "text": [
      "Test Output for ID ont_16_city_test_196: (Note: The output is in the format: relation(subject, object, object_type))\n",
      "Parsed Triples for ID ont_16_city_test_196: [{'sub': 'subject', 'rel': '(Note: The output is in the format: relation', 'obj': 'object, object_type'}]\n"
     ]
    },
    {
     "name": "stderr",
     "output_type": "stream",
     "text": [
      "Setting `pad_token_id` to `eos_token_id`:2 for open-end generation.\n"
     ]
    },
    {
     "name": "stdout",
     "output_type": "stream",
     "text": [
      "Test Output for ID ont_16_city_test_197: ethnicGroup(Amarillo, Native Americans)\n",
      "Parsed Triples for ID ont_16_city_test_197: [{'sub': 'Amarillo', 'rel': 'ethnicGroup', 'obj': 'Native Americans'}]\n"
     ]
    },
    {
     "name": "stderr",
     "output_type": "stream",
     "text": [
      "Setting `pad_token_id` to `eos_token_id`:2 for open-end generation.\n"
     ]
    },
    {
     "name": "stdout",
     "output_type": "stream",
     "text": [
      "Test Output for ID ont_16_city_test_198: isPartOf(Orange County, California, Greater Los Angeles Area)\n",
      "Parsed Triples for ID ont_16_city_test_198: [{'sub': 'Orange County', 'rel': 'isPartOf', 'obj': 'California, Greater Los Angeles Area'}]\n"
     ]
    },
    {
     "name": "stderr",
     "output_type": "stream",
     "text": [
      "Setting `pad_token_id` to `eos_token_id`:2 for open-end generation.\n"
     ]
    },
    {
     "name": "stdout",
     "output_type": "stream",
     "text": [
      "Test Output for ID ont_16_city_test_199: (Note: The output is in the format: relation(subject, object, object2))\n",
      "Parsed Triples for ID ont_16_city_test_199: [{'sub': 'subject', 'rel': '(Note: The output is in the format: relation', 'obj': 'object, object2'}]\n"
     ]
    },
    {
     "name": "stderr",
     "output_type": "stream",
     "text": [
      "Setting `pad_token_id` to `eos_token_id`:2 for open-end generation.\n"
     ]
    },
    {
     "name": "stdout",
     "output_type": "stream",
     "text": [
      "Test Output for ID ont_16_city_test_200: isPartOf(Angola, Steuben County, Indiana)\n",
      "Parsed Triples for ID ont_16_city_test_200: [{'sub': 'Angola', 'rel': 'isPartOf', 'obj': 'Steuben County, Indiana'}]\n"
     ]
    },
    {
     "name": "stderr",
     "output_type": "stream",
     "text": [
      "Setting `pad_token_id` to `eos_token_id`:2 for open-end generation.\n"
     ]
    },
    {
     "name": "stdout",
     "output_type": "stream",
     "text": [
      "Test Output for ID ont_16_city_test_201: areaOfLand(Atlanta, 347.1 (square kilometres))\n",
      "Parsed Triples for ID ont_16_city_test_201: [{'sub': 'Atlanta', 'rel': 'areaOfLand', 'obj': '347.1 (square kilometres'}]\n"
     ]
    },
    {
     "name": "stderr",
     "output_type": "stream",
     "text": [
      "Setting `pad_token_id` to `eos_token_id`:2 for open-end generation.\n"
     ]
    },
    {
     "name": "stdout",
     "output_type": "stream",
     "text": [
      "Test Output for ID ont_16_city_test_202: (Note: The test sentence does not contain a specific relation for the triples, so I've used the location relation for all cities mentioned in the sentence.)\n",
      "Parsed Triples for ID ont_16_city_test_202: []\n"
     ]
    },
    {
     "name": "stderr",
     "output_type": "stream",
     "text": [
      "Setting `pad_token_id` to `eos_token_id`:2 for open-end generation.\n"
     ]
    },
    {
     "name": "stdout",
     "output_type": "stream",
     "text": [
      "Test Output for ID ont_16_city_test_203: (Note: Most of Atlanta is considered as a part of DeKalb County, so the city is part of both Fulton County and DeKalb County)\n",
      "Parsed Triples for ID ont_16_city_test_203: []\n"
     ]
    },
    {
     "name": "stderr",
     "output_type": "stream",
     "text": [
      "Setting `pad_token_id` to `eos_token_id`:2 for open-end generation.\n"
     ]
    },
    {
     "name": "stdout",
     "output_type": "stream",
     "text": [
      "Test Output for ID ont_16_city_test_204: isPartOf(Auburn, Lee County, Alabama)\n",
      "Parsed Triples for ID ont_16_city_test_204: [{'sub': 'Auburn', 'rel': 'isPartOf', 'obj': 'Lee County, Alabama'}]\n"
     ]
    },
    {
     "name": "stderr",
     "output_type": "stream",
     "text": [
      "Setting `pad_token_id` to `eos_token_id`:2 for open-end generation.\n"
     ]
    },
    {
     "name": "stdout",
     "output_type": "stream",
     "text": [
      "Test Output for ID ont_16_city_test_205: isPartOf(Auburn, Washington, Washington State, Washington)\n",
      "Parsed Triples for ID ont_16_city_test_205: [{'sub': 'Auburn', 'rel': 'isPartOf', 'obj': 'Washington, Washington State, Washington'}]\n"
     ]
    },
    {
     "name": "stderr",
     "output_type": "stream",
     "text": [
      "Setting `pad_token_id` to `eos_token_id`:2 for open-end generation.\n"
     ]
    },
    {
     "name": "stdout",
     "output_type": "stream",
     "text": [
      "Test Output for ID ont_16_city_test_206: (Note: The test sentence is a bit tricky because it mentions a city, Austin, which is also a country name. To avoid confusion, we will use the full name of the city, \"Austin, Texas\" in the triples.)\n",
      "Parsed Triples for ID ont_16_city_test_206: []\n"
     ]
    },
    {
     "name": "stderr",
     "output_type": "stream",
     "text": [
      "Setting `pad_token_id` to `eos_token_id`:2 for open-end generation.\n"
     ]
    },
    {
     "name": "stdout",
     "output_type": "stream",
     "text": [
      "Test Output for ID ont_16_city_test_207: isPartOf(Anderson, Indiana, Madison County)\n",
      "Parsed Triples for ID ont_16_city_test_207: [{'sub': 'Anderson', 'rel': 'isPartOf', 'obj': 'Indiana, Madison County'}]\n"
     ]
    },
    {
     "name": "stderr",
     "output_type": "stream",
     "text": [
      "Setting `pad_token_id` to `eos_token_id`:2 for open-end generation.\n"
     ]
    },
    {
     "name": "stdout",
     "output_type": "stream",
     "text": [
      "Test Output for ID ont_16_city_test_208: (Note: The test output is not exhaustive, but it should include the following triples: isPartOf(Alexandria, Indiana, Madison County, Indiana), country(Madison County, Indiana, United States), largestCity(Madison County, Anderson))\n",
      "Parsed Triples for ID ont_16_city_test_208: [{'sub': 'Alexandria', 'rel': '(Note: The test output is not exhaustive, but it should include the following triples: isPartOf', 'obj': 'Indiana, Madison County, Indiana'}, {'sub': 'Madison County', 'rel': ', country', 'obj': 'Indiana, United States'}, {'sub': 'Madison County', 'rel': ', largestCity', 'obj': 'Anderson'}]\n"
     ]
    },
    {
     "name": "stderr",
     "output_type": "stream",
     "text": [
      "Setting `pad_token_id` to `eos_token_id`:2 for open-end generation.\n"
     ]
    },
    {
     "name": "stdout",
     "output_type": "stream",
     "text": [
      "Test Output for ID ont_16_city_test_209: (Note: The Demonym, County, EthnicGroup, GovernmentType, Language, State, Timezone, and Utcoffset are not provided in the sentence, so they are not included in the output.)\n",
      "Parsed Triples for ID ont_16_city_test_209: []\n"
     ]
    },
    {
     "name": "stderr",
     "output_type": "stream",
     "text": [
      "Setting `pad_token_id` to `eos_token_id`:2 for open-end generation.\n"
     ]
    },
    {
     "name": "stdout",
     "output_type": "stream",
     "text": [
      "Test Output for ID ont_16_city_test_210: (Note: The country is not explicitly mentioned in the sentence, but it is implied as the country of Texas)\n",
      "Parsed Triples for ID ont_16_city_test_210: []\n"
     ]
    },
    {
     "name": "stderr",
     "output_type": "stream",
     "text": [
      "Setting `pad_token_id` to `eos_token_id`:2 for open-end generation.\n"
     ]
    },
    {
     "name": "stdout",
     "output_type": "stream",
     "text": [
      "Test Output for ID ont_16_city_test_211: isPartOf(Albany, Oregon, Oregon)\n",
      "Parsed Triples for ID ont_16_city_test_211: [{'sub': 'Albany', 'rel': 'isPartOf', 'obj': 'Oregon, Oregon'}]\n"
     ]
    },
    {
     "name": "stderr",
     "output_type": "stream",
     "text": [
      "Setting `pad_token_id` to `eos_token_id`:2 for open-end generation.\n"
     ]
    },
    {
     "name": "stdout",
     "output_type": "stream",
     "text": [
      "Test Output for ID ont_16_city_test_212: (Note: The ontology does not contain a relation for the capital of a county, so this relation cannot be extracted from the sentence.)\n",
      "Parsed Triples for ID ont_16_city_test_212: []\n"
     ]
    },
    {
     "name": "stderr",
     "output_type": "stream",
     "text": [
      "Setting `pad_token_id` to `eos_token_id`:2 for open-end generation.\n"
     ]
    },
    {
     "name": "stdout",
     "output_type": "stream",
     "text": [
      "Test Output for ID ont_16_city_test_213: isPartOf(Albuquerque, New Mexico, United States)\n",
      "Parsed Triples for ID ont_16_city_test_213: [{'sub': 'Albuquerque', 'rel': 'isPartOf', 'obj': 'New Mexico, United States'}]\n"
     ]
    },
    {
     "name": "stderr",
     "output_type": "stream",
     "text": [
      "Setting `pad_token_id` to `eos_token_id`:2 for open-end generation.\n"
     ]
    },
    {
     "name": "stdout",
     "output_type": "stream",
     "text": [
      "Test Output for ID ont_16_city_test_214: ethnicGroup(United States, Asian Americans)\n",
      "Parsed Triples for ID ont_16_city_test_214: [{'sub': 'United States', 'rel': 'ethnicGroup', 'obj': 'Asian Americans'}]\n"
     ]
    },
    {
     "name": "stderr",
     "output_type": "stream",
     "text": [
      "Setting `pad_token_id` to `eos_token_id`:2 for open-end generation.\n"
     ]
    },
    {
     "name": "stdout",
     "output_type": "stream",
     "text": [
      "Test Output for ID ont_16_city_test_215: (Note: In this case, there is no specific city mentioned, but we can still infer the triples based on the context.)\n",
      "Parsed Triples for ID ont_16_city_test_215: []\n"
     ]
    },
    {
     "name": "stderr",
     "output_type": "stream",
     "text": [
      "Setting `pad_token_id` to `eos_token_id`:2 for open-end generation.\n"
     ]
    },
    {
     "name": "stdout",
     "output_type": "stream",
     "text": [
      "Test Output for ID ont_16_city_test_216: (Note: The Demonym for Indiana is Hoosier)\n",
      "Parsed Triples for ID ont_16_city_test_216: []\n",
      "Test Output for ID ont_16_city_test_217: (Note: The test sentence has more information than the example sentence, so the output will have more triples.)\n",
      "Parsed Triples for ID ont_16_city_test_217: []\n",
      "Processed triples saved to dbpedia_webnig/Response/ont_16_city_llm_response.jsonl\n"
     ]
    }
   ],
   "source": [
    "# Replace 'your_input_filepath.jsonl' with your actual input file path\n",
    "# Replace 'your_output_filepath.jsonl' with your desired output file path\n",
    "main(JSONL_FILEPATH, output_filepath, num_prompts=217)"
   ]
  },
  {
   "cell_type": "code",
   "execution_count": null,
   "id": "f30c0e12-3788-4226-9cd3-f4a0eb58e1bc",
   "metadata": {},
   "outputs": [],
   "source": [
    "\n",
    "\n",
    "\n",
    "\n",
    "."
   ]
  },
  {
   "cell_type": "code",
   "execution_count": null,
   "id": "d430625c-2906-4abe-9b83-a2288ed6db5c",
   "metadata": {},
   "outputs": [],
   "source": [
    "RTC:dbpedia_webnig/Response/Mistral_Response/ont_1_university_llm_response.jsonl"
   ]
  },
  {
   "cell_type": "code",
   "execution_count": null,
   "id": "01e20c44-2aa6-41fc-9fce-7b489ec8d04a",
   "metadata": {},
   "outputs": [],
   "source": []
  },
  {
   "cell_type": "code",
   "execution_count": null,
   "id": "e7a7e62a-c256-4ecd-93b1-40cd853b1272",
   "metadata": {},
   "outputs": [],
   "source": []
  },
  {
   "cell_type": "code",
   "execution_count": null,
   "id": "d197b3b8-49a0-45d1-8bef-1b21df316e88",
   "metadata": {},
   "outputs": [],
   "source": []
  },
  {
   "cell_type": "code",
   "execution_count": null,
   "id": "30ad2522-8744-49c7-a1b6-c3bd27f811f0",
   "metadata": {},
   "outputs": [],
   "source": []
  },
  {
   "cell_type": "code",
   "execution_count": null,
   "id": "27ded707-8168-4457-8b61-4a7438fd05fb",
   "metadata": {},
   "outputs": [],
   "source": []
  },
  {
   "cell_type": "code",
   "execution_count": null,
   "id": "8e1987f4-08a6-4b10-8aeb-6a0817139010",
   "metadata": {},
   "outputs": [],
   "source": []
  },
  {
   "cell_type": "code",
   "execution_count": null,
   "id": "dfab8b27-a426-4958-bcdf-322876a9957f",
   "metadata": {},
   "outputs": [],
   "source": []
  },
  {
   "cell_type": "code",
   "execution_count": null,
   "id": "63cda307-de7a-4544-aa34-469a627c7d7d",
   "metadata": {},
   "outputs": [],
   "source": []
  },
  {
   "cell_type": "code",
   "execution_count": null,
   "id": "060b1226-81f3-4861-8dc9-222ab5b9e6a7",
   "metadata": {},
   "outputs": [],
   "source": []
  },
  {
   "cell_type": "code",
   "execution_count": null,
   "id": "134b8e70-6fd1-48ba-85e6-5d3dca2082d8",
   "metadata": {},
   "outputs": [],
   "source": []
  },
  {
   "cell_type": "code",
   "execution_count": null,
   "id": "7301d401-a3b8-43cc-b01e-055c67020bb1",
   "metadata": {},
   "outputs": [],
   "source": []
  },
  {
   "cell_type": "code",
   "execution_count": null,
   "id": "6d203eee-e54d-4ebe-a042-0e77e24a796d",
   "metadata": {},
   "outputs": [],
   "source": []
  },
  {
   "cell_type": "code",
   "execution_count": null,
   "id": "8f794fad-c2ce-47f9-a745-1b90c04d1fde",
   "metadata": {},
   "outputs": [],
   "source": []
  }
 ],
 "metadata": {
  "kernelspec": {
   "display_name": "Python 3 (ipykernel)",
   "language": "python",
   "name": "python3"
  },
  "language_info": {
   "codemirror_mode": {
    "name": "ipython",
    "version": 3
   },
   "file_extension": ".py",
   "mimetype": "text/x-python",
   "name": "python",
   "nbconvert_exporter": "python",
   "pygments_lexer": "ipython3",
   "version": "3.12.5"
  }
 },
 "nbformat": 4,
 "nbformat_minor": 5
}
